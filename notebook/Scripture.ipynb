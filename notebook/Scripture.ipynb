{
  "cells": [
    {
      "cell_type": "markdown",
      "metadata": {
        "id": "view-in-github",
        "colab_type": "text"
      },
      "source": [
        "<a href=\"https://colab.research.google.com/github/NyashaEysenck/bible-thematic-visualizer/blob/main/notebook/Scripture.ipynb\" target=\"_parent\"><img src=\"https://colab.research.google.com/assets/colab-badge.svg\" alt=\"Open In Colab\"/></a>"
      ]
    },
    {
      "cell_type": "code",
      "execution_count": null,
      "metadata": {
        "colab": {
          "base_uri": "https://localhost:8080/"
        },
        "id": "Kah-ZBQoCzQR",
        "outputId": "ad85ef3e-3eee-4072-ffb8-eb36beb18888"
      },
      "outputs": [
        {
          "name": "stdout",
          "output_type": "stream",
          "text": [
            "Collecting PyMuPDF\n",
            "  Downloading pymupdf-1.26.1-cp39-abi3-manylinux_2_28_x86_64.whl.metadata (3.4 kB)\n",
            "Downloading pymupdf-1.26.1-cp39-abi3-manylinux_2_28_x86_64.whl (24.1 MB)\n",
            "\u001b[2K   \u001b[90m━━━━━━━━━━━━━━━━━━━━━━━━━━━━━━━━━━━━━━━━\u001b[0m \u001b[32m24.1/24.1 MB\u001b[0m \u001b[31m21.6 MB/s\u001b[0m eta \u001b[36m0:00:00\u001b[0m\n",
            "\u001b[?25hInstalling collected packages: PyMuPDF\n",
            "Successfully installed PyMuPDF-1.26.1\n"
          ]
        }
      ],
      "source": [
        "pip install PyMuPDF"
      ]
    },
    {
      "cell_type": "code",
      "execution_count": null,
      "metadata": {
        "colab": {
          "base_uri": "https://localhost:8080/"
        },
        "id": "hJQ3HqTTThwK",
        "outputId": "b8a8d8e7-19d3-4a41-db92-ee27772f0dbf"
      },
      "outputs": [
        {
          "output_type": "stream",
          "name": "stdout",
          "text": [
            "Collecting pymongo\n",
            "  Downloading pymongo-4.13.1-cp311-cp311-manylinux_2_17_x86_64.manylinux2014_x86_64.whl.metadata (22 kB)\n",
            "Requirement already satisfied: google-generativeai in /usr/local/lib/python3.11/dist-packages (0.8.5)\n",
            "Collecting python-dotenv\n",
            "  Downloading python_dotenv-1.1.0-py3-none-any.whl.metadata (24 kB)\n",
            "Requirement already satisfied: tqdm in /usr/local/lib/python3.11/dist-packages (4.67.1)\n",
            "Collecting dnspython<3.0.0,>=1.16.0 (from pymongo)\n",
            "  Downloading dnspython-2.7.0-py3-none-any.whl.metadata (5.8 kB)\n",
            "Requirement already satisfied: google-ai-generativelanguage==0.6.15 in /usr/local/lib/python3.11/dist-packages (from google-generativeai) (0.6.15)\n",
            "Requirement already satisfied: google-api-core in /usr/local/lib/python3.11/dist-packages (from google-generativeai) (2.25.0)\n",
            "Requirement already satisfied: google-api-python-client in /usr/local/lib/python3.11/dist-packages (from google-generativeai) (2.171.0)\n",
            "Requirement already satisfied: google-auth>=2.15.0 in /usr/local/lib/python3.11/dist-packages (from google-generativeai) (2.38.0)\n",
            "Requirement already satisfied: protobuf in /usr/local/lib/python3.11/dist-packages (from google-generativeai) (5.29.5)\n",
            "Requirement already satisfied: pydantic in /usr/local/lib/python3.11/dist-packages (from google-generativeai) (2.11.5)\n",
            "Requirement already satisfied: typing-extensions in /usr/local/lib/python3.11/dist-packages (from google-generativeai) (4.14.0)\n",
            "Requirement already satisfied: proto-plus<2.0.0dev,>=1.22.3 in /usr/local/lib/python3.11/dist-packages (from google-ai-generativelanguage==0.6.15->google-generativeai) (1.26.1)\n",
            "Requirement already satisfied: googleapis-common-protos<2.0.0,>=1.56.2 in /usr/local/lib/python3.11/dist-packages (from google-api-core->google-generativeai) (1.70.0)\n",
            "Requirement already satisfied: requests<3.0.0,>=2.18.0 in /usr/local/lib/python3.11/dist-packages (from google-api-core->google-generativeai) (2.32.3)\n",
            "Requirement already satisfied: cachetools<6.0,>=2.0.0 in /usr/local/lib/python3.11/dist-packages (from google-auth>=2.15.0->google-generativeai) (5.5.2)\n",
            "Requirement already satisfied: pyasn1-modules>=0.2.1 in /usr/local/lib/python3.11/dist-packages (from google-auth>=2.15.0->google-generativeai) (0.4.2)\n",
            "Requirement already satisfied: rsa<5,>=3.1.4 in /usr/local/lib/python3.11/dist-packages (from google-auth>=2.15.0->google-generativeai) (4.9.1)\n",
            "Requirement already satisfied: httplib2<1.0.0,>=0.19.0 in /usr/local/lib/python3.11/dist-packages (from google-api-python-client->google-generativeai) (0.22.0)\n",
            "Requirement already satisfied: google-auth-httplib2<1.0.0,>=0.2.0 in /usr/local/lib/python3.11/dist-packages (from google-api-python-client->google-generativeai) (0.2.0)\n",
            "Requirement already satisfied: uritemplate<5,>=3.0.1 in /usr/local/lib/python3.11/dist-packages (from google-api-python-client->google-generativeai) (4.2.0)\n",
            "Requirement already satisfied: annotated-types>=0.6.0 in /usr/local/lib/python3.11/dist-packages (from pydantic->google-generativeai) (0.7.0)\n",
            "Requirement already satisfied: pydantic-core==2.33.2 in /usr/local/lib/python3.11/dist-packages (from pydantic->google-generativeai) (2.33.2)\n",
            "Requirement already satisfied: typing-inspection>=0.4.0 in /usr/local/lib/python3.11/dist-packages (from pydantic->google-generativeai) (0.4.1)\n",
            "Requirement already satisfied: grpcio<2.0.0,>=1.33.2 in /usr/local/lib/python3.11/dist-packages (from google-api-core[grpc]!=2.0.*,!=2.1.*,!=2.10.*,!=2.2.*,!=2.3.*,!=2.4.*,!=2.5.*,!=2.6.*,!=2.7.*,!=2.8.*,!=2.9.*,<3.0.0dev,>=1.34.1->google-ai-generativelanguage==0.6.15->google-generativeai) (1.72.1)\n",
            "Requirement already satisfied: grpcio-status<2.0.0,>=1.33.2 in /usr/local/lib/python3.11/dist-packages (from google-api-core[grpc]!=2.0.*,!=2.1.*,!=2.10.*,!=2.2.*,!=2.3.*,!=2.4.*,!=2.5.*,!=2.6.*,!=2.7.*,!=2.8.*,!=2.9.*,<3.0.0dev,>=1.34.1->google-ai-generativelanguage==0.6.15->google-generativeai) (1.71.0)\n",
            "Requirement already satisfied: pyparsing!=3.0.0,!=3.0.1,!=3.0.2,!=3.0.3,<4,>=2.4.2 in /usr/local/lib/python3.11/dist-packages (from httplib2<1.0.0,>=0.19.0->google-api-python-client->google-generativeai) (3.2.3)\n",
            "Requirement already satisfied: pyasn1<0.7.0,>=0.6.1 in /usr/local/lib/python3.11/dist-packages (from pyasn1-modules>=0.2.1->google-auth>=2.15.0->google-generativeai) (0.6.1)\n",
            "Requirement already satisfied: charset-normalizer<4,>=2 in /usr/local/lib/python3.11/dist-packages (from requests<3.0.0,>=2.18.0->google-api-core->google-generativeai) (3.4.2)\n",
            "Requirement already satisfied: idna<4,>=2.5 in /usr/local/lib/python3.11/dist-packages (from requests<3.0.0,>=2.18.0->google-api-core->google-generativeai) (3.10)\n",
            "Requirement already satisfied: urllib3<3,>=1.21.1 in /usr/local/lib/python3.11/dist-packages (from requests<3.0.0,>=2.18.0->google-api-core->google-generativeai) (2.4.0)\n",
            "Requirement already satisfied: certifi>=2017.4.17 in /usr/local/lib/python3.11/dist-packages (from requests<3.0.0,>=2.18.0->google-api-core->google-generativeai) (2025.4.26)\n",
            "Downloading pymongo-4.13.1-cp311-cp311-manylinux_2_17_x86_64.manylinux2014_x86_64.whl (1.4 MB)\n",
            "\u001b[2K   \u001b[90m━━━━━━━━━━━━━━━━━━━━━━━━━━━━━━━━━━━━━━━━\u001b[0m \u001b[32m1.4/1.4 MB\u001b[0m \u001b[31m19.1 MB/s\u001b[0m eta \u001b[36m0:00:00\u001b[0m\n",
            "\u001b[?25hDownloading python_dotenv-1.1.0-py3-none-any.whl (20 kB)\n",
            "Downloading dnspython-2.7.0-py3-none-any.whl (313 kB)\n",
            "\u001b[2K   \u001b[90m━━━━━━━━━━━━━━━━━━━━━━━━━━━━━━━━━━━━━━━━\u001b[0m \u001b[32m313.6/313.6 kB\u001b[0m \u001b[31m22.7 MB/s\u001b[0m eta \u001b[36m0:00:00\u001b[0m\n",
            "\u001b[?25hInstalling collected packages: python-dotenv, dnspython, pymongo\n",
            "Successfully installed dnspython-2.7.0 pymongo-4.13.1 python-dotenv-1.1.0\n"
          ]
        }
      ],
      "source": [
        "pip install pymongo google-generativeai python-dotenv tqdm"
      ]
    },
    {
      "cell_type": "code",
      "source": [
        "\n",
        "from pymongo import MongoClient\n",
        "\n",
        "collection = db[\"bible_esv\"]\n",
        "\n",
        "collection.update_many(\n",
        "    {},\n",
        "    { \"$rename\": {\n",
        "        \"Book\": \"book\",\n",
        "        \"Chapter\": \"chapter\",\n",
        "        \"Verse\": \"verse\",\n",
        "        \"Text\": \"text\"\n",
        "    }}\n",
        ")"
      ],
      "metadata": {
        "colab": {
          "base_uri": "https://localhost:8080/"
        },
        "id": "_bapZ5ePBF-E",
        "outputId": "73c6c5c2-5f88-43e4-df2e-d8884a269bed"
      },
      "execution_count": null,
      "outputs": [
        {
          "output_type": "execute_result",
          "data": {
            "text/plain": [
              "UpdateResult({'n': 31101, 'electionId': ObjectId('7fffffff0000000000000007'), 'opTime': {'ts': Timestamp(1750015000, 1269), 't': 7}, 'nModified': 31101, 'ok': 1.0, '$clusterTime': {'clusterTime': Timestamp(1750015000, 1269), 'signature': {'hash': b'\\xf75i\\x00\\t\\xbbAT}\\xe7\\r\\xf5=\\xe4\\xd6\\xbe\\xb5\\\\\\x12\\xc9', 'keyId': 7506533605594628101}}, 'operationTime': Timestamp(1750015000, 1269), 'updatedExisting': True}, acknowledged=True)"
            ]
          },
          "metadata": {},
          "execution_count": 6
        }
      ]
    },
    {
      "cell_type": "code",
      "source": [
        "from pymongo import MongoClient\n",
        "import google.generativeai as genai\n",
        "from tqdm import tqdm\n",
        "import re\n",
        "import json\n",
        "import ast"
      ],
      "metadata": {
        "id": "asFaI1TmCTOw"
      },
      "execution_count": null,
      "outputs": []
    },
    {
      "cell_type": "code",
      "source": [
        "from dotenv import load_dotenv\n",
        "import os\n",
        "\n",
        "load_dotenv()  # Load variables from .env file\n",
        "\n",
        "GOOGLE_API_KEY = os.getenv('GOOGLE_API_KEY')\n",
        "MONGO_URI = os.getenv('MONGO_URI')\n",
        "\n",
        "# Optional: Add validation\n",
        "if not MONGO_URI or not GOOGLE_API_KEY:\n",
        "    raise ValueError(\"Missing required environment variables\")\n",
        "\n",
        "genai.configure(api_key=GOOGLE_API_KEY)\n",
        "model = genai.GenerativeModel(\"gemini-2.0-flash\")\n",
        "\n",
        "# MongoDB Configuration\n",
        "\n",
        "DB_NAME = \"bible_rag_db\"\n",
        "client = MongoClient(MONGO_URI)\n",
        "db = client[DB_NAME]"
      ],
      "metadata": {
        "id": "PmU6dWEd24vf"
      },
      "execution_count": null,
      "outputs": []
    },
    {
      "cell_type": "code",
      "execution_count": 1,
      "metadata": {
        "colab": {
          "base_uri": "https://localhost:8080/",
          "height": 38
        },
        "id": "2MwWjM8dGWtK",
        "outputId": "b01bcf23-469c-4fd9-b43c-956598c711cd"
      },
      "outputs": [
        {
          "output_type": "display_data",
          "data": {
            "text/plain": [
              "<IPython.core.display.HTML object>"
            ],
            "text/html": [
              "\n",
              "     <input type=\"file\" id=\"files-e17d7b32-d56d-4e64-9398-398a45171ef6\" name=\"files[]\" multiple disabled\n",
              "        style=\"border:none\" />\n",
              "     <output id=\"result-e17d7b32-d56d-4e64-9398-398a45171ef6\">\n",
              "      Upload widget is only available when the cell has been executed in the\n",
              "      current browser session. Please rerun this cell to enable.\n",
              "      </output>\n",
              "      <script>// Copyright 2017 Google LLC\n",
              "//\n",
              "// Licensed under the Apache License, Version 2.0 (the \"License\");\n",
              "// you may not use this file except in compliance with the License.\n",
              "// You may obtain a copy of the License at\n",
              "//\n",
              "//      http://www.apache.org/licenses/LICENSE-2.0\n",
              "//\n",
              "// Unless required by applicable law or agreed to in writing, software\n",
              "// distributed under the License is distributed on an \"AS IS\" BASIS,\n",
              "// WITHOUT WARRANTIES OR CONDITIONS OF ANY KIND, either express or implied.\n",
              "// See the License for the specific language governing permissions and\n",
              "// limitations under the License.\n",
              "\n",
              "/**\n",
              " * @fileoverview Helpers for google.colab Python module.\n",
              " */\n",
              "(function(scope) {\n",
              "function span(text, styleAttributes = {}) {\n",
              "  const element = document.createElement('span');\n",
              "  element.textContent = text;\n",
              "  for (const key of Object.keys(styleAttributes)) {\n",
              "    element.style[key] = styleAttributes[key];\n",
              "  }\n",
              "  return element;\n",
              "}\n",
              "\n",
              "// Max number of bytes which will be uploaded at a time.\n",
              "const MAX_PAYLOAD_SIZE = 100 * 1024;\n",
              "\n",
              "function _uploadFiles(inputId, outputId) {\n",
              "  const steps = uploadFilesStep(inputId, outputId);\n",
              "  const outputElement = document.getElementById(outputId);\n",
              "  // Cache steps on the outputElement to make it available for the next call\n",
              "  // to uploadFilesContinue from Python.\n",
              "  outputElement.steps = steps;\n",
              "\n",
              "  return _uploadFilesContinue(outputId);\n",
              "}\n",
              "\n",
              "// This is roughly an async generator (not supported in the browser yet),\n",
              "// where there are multiple asynchronous steps and the Python side is going\n",
              "// to poll for completion of each step.\n",
              "// This uses a Promise to block the python side on completion of each step,\n",
              "// then passes the result of the previous step as the input to the next step.\n",
              "function _uploadFilesContinue(outputId) {\n",
              "  const outputElement = document.getElementById(outputId);\n",
              "  const steps = outputElement.steps;\n",
              "\n",
              "  const next = steps.next(outputElement.lastPromiseValue);\n",
              "  return Promise.resolve(next.value.promise).then((value) => {\n",
              "    // Cache the last promise value to make it available to the next\n",
              "    // step of the generator.\n",
              "    outputElement.lastPromiseValue = value;\n",
              "    return next.value.response;\n",
              "  });\n",
              "}\n",
              "\n",
              "/**\n",
              " * Generator function which is called between each async step of the upload\n",
              " * process.\n",
              " * @param {string} inputId Element ID of the input file picker element.\n",
              " * @param {string} outputId Element ID of the output display.\n",
              " * @return {!Iterable<!Object>} Iterable of next steps.\n",
              " */\n",
              "function* uploadFilesStep(inputId, outputId) {\n",
              "  const inputElement = document.getElementById(inputId);\n",
              "  inputElement.disabled = false;\n",
              "\n",
              "  const outputElement = document.getElementById(outputId);\n",
              "  outputElement.innerHTML = '';\n",
              "\n",
              "  const pickedPromise = new Promise((resolve) => {\n",
              "    inputElement.addEventListener('change', (e) => {\n",
              "      resolve(e.target.files);\n",
              "    });\n",
              "  });\n",
              "\n",
              "  const cancel = document.createElement('button');\n",
              "  inputElement.parentElement.appendChild(cancel);\n",
              "  cancel.textContent = 'Cancel upload';\n",
              "  const cancelPromise = new Promise((resolve) => {\n",
              "    cancel.onclick = () => {\n",
              "      resolve(null);\n",
              "    };\n",
              "  });\n",
              "\n",
              "  // Wait for the user to pick the files.\n",
              "  const files = yield {\n",
              "    promise: Promise.race([pickedPromise, cancelPromise]),\n",
              "    response: {\n",
              "      action: 'starting',\n",
              "    }\n",
              "  };\n",
              "\n",
              "  cancel.remove();\n",
              "\n",
              "  // Disable the input element since further picks are not allowed.\n",
              "  inputElement.disabled = true;\n",
              "\n",
              "  if (!files) {\n",
              "    return {\n",
              "      response: {\n",
              "        action: 'complete',\n",
              "      }\n",
              "    };\n",
              "  }\n",
              "\n",
              "  for (const file of files) {\n",
              "    const li = document.createElement('li');\n",
              "    li.append(span(file.name, {fontWeight: 'bold'}));\n",
              "    li.append(span(\n",
              "        `(${file.type || 'n/a'}) - ${file.size} bytes, ` +\n",
              "        `last modified: ${\n",
              "            file.lastModifiedDate ? file.lastModifiedDate.toLocaleDateString() :\n",
              "                                    'n/a'} - `));\n",
              "    const percent = span('0% done');\n",
              "    li.appendChild(percent);\n",
              "\n",
              "    outputElement.appendChild(li);\n",
              "\n",
              "    const fileDataPromise = new Promise((resolve) => {\n",
              "      const reader = new FileReader();\n",
              "      reader.onload = (e) => {\n",
              "        resolve(e.target.result);\n",
              "      };\n",
              "      reader.readAsArrayBuffer(file);\n",
              "    });\n",
              "    // Wait for the data to be ready.\n",
              "    let fileData = yield {\n",
              "      promise: fileDataPromise,\n",
              "      response: {\n",
              "        action: 'continue',\n",
              "      }\n",
              "    };\n",
              "\n",
              "    // Use a chunked sending to avoid message size limits. See b/62115660.\n",
              "    let position = 0;\n",
              "    do {\n",
              "      const length = Math.min(fileData.byteLength - position, MAX_PAYLOAD_SIZE);\n",
              "      const chunk = new Uint8Array(fileData, position, length);\n",
              "      position += length;\n",
              "\n",
              "      const base64 = btoa(String.fromCharCode.apply(null, chunk));\n",
              "      yield {\n",
              "        response: {\n",
              "          action: 'append',\n",
              "          file: file.name,\n",
              "          data: base64,\n",
              "        },\n",
              "      };\n",
              "\n",
              "      let percentDone = fileData.byteLength === 0 ?\n",
              "          100 :\n",
              "          Math.round((position / fileData.byteLength) * 100);\n",
              "      percent.textContent = `${percentDone}% done`;\n",
              "\n",
              "    } while (position < fileData.byteLength);\n",
              "  }\n",
              "\n",
              "  // All done.\n",
              "  yield {\n",
              "    response: {\n",
              "      action: 'complete',\n",
              "    }\n",
              "  };\n",
              "}\n",
              "\n",
              "scope.google = scope.google || {};\n",
              "scope.google.colab = scope.google.colab || {};\n",
              "scope.google.colab._files = {\n",
              "  _uploadFiles,\n",
              "  _uploadFilesContinue,\n",
              "};\n",
              "})(self);\n",
              "</script> "
            ]
          },
          "metadata": {}
        }
      ],
      "source": [
        "from google.colab import files\n",
        "uploaded = files.upload()"
      ]
    },
    {
      "cell_type": "markdown",
      "metadata": {
        "id": "AsPV9e9cbsn5"
      },
      "source": [
        "### Extracting Structured Text from a PDF and Saving as JSON\n",
        "\n",
        "This section processes a PDF file by extracting readable content within a specified page range, skipping structural or title-only pages, and organizing the data with metadata such as section, subsection, and chapter title. The output is a clean, structured JSON file suitable for downstream text analysis or application integration."
      ]
    },
    {
      "cell_type": "code",
      "execution_count": null,
      "metadata": {
        "colab": {
          "base_uri": "https://localhost:8080/"
        },
        "id": "SzqUdlnGEaw4",
        "outputId": "6159d23c-0846-4f51-aaa3-441156418770"
      },
      "outputs": [
        {
          "name": "stdout",
          "output_type": "stream",
          "text": [
            "Opening and processing 'unlockingthebible.pdf'...\n",
            "Targeting pages from 21 to 1318.\n",
            "Skipping page 35 due to insufficient content (less than 4 sentences' worth of text).\n",
            "Skipping page 142 due to insufficient content (less than 4 sentences' worth of text).\n",
            "Skipping page 164 due to insufficient content (less than 4 sentences' worth of text).\n",
            "Skipping page 214 due to insufficient content (less than 4 sentences' worth of text).\n",
            "Skipping page 276 due to insufficient content (less than 4 sentences' worth of text).\n",
            "Skipping page 318 due to insufficient content (less than 4 sentences' worth of text).\n",
            "Skipping page 419 due to insufficient content (less than 4 sentences' worth of text).\n",
            "Skipping page 420 due to insufficient content (less than 4 sentences' worth of text).\n",
            "Skipping page 453 due to insufficient content (less than 4 sentences' worth of text).\n",
            "Skipping page 465 due to insufficient content (less than 4 sentences' worth of text).\n",
            "Skipping page 479 due to insufficient content (less than 4 sentences' worth of text).\n",
            "Skipping page 576 due to insufficient content (less than 4 sentences' worth of text).\n",
            "Skipping page 614 due to insufficient content (less than 4 sentences' worth of text).\n",
            "Skipping page 654 due to insufficient content (less than 4 sentences' worth of text).\n",
            "Skipping page 670 due to insufficient content (less than 4 sentences' worth of text).\n",
            "Skipping page 704 due to insufficient content (less than 4 sentences' worth of text).\n",
            "Skipping page 902 due to insufficient content (less than 4 sentences' worth of text).\n",
            "Skipping page 920 due to insufficient content (less than 4 sentences' worth of text).\n",
            "Skipping page 1016 due to insufficient content (less than 4 sentences' worth of text).\n",
            "Skipping page 1139 due to insufficient content (less than 4 sentences' worth of text).\n",
            "Skipping page 1184 due to insufficient content (less than 4 sentences' worth of text).\n",
            "Skipping page 1222 due to insufficient content (less than 4 sentences' worth of text).\n",
            "Skipping page 1263 due to insufficient content (less than 4 sentences' worth of text).\n",
            "Writing data for 1254 pages to 'unlockingthebible_chunks.json'...\n",
            "Processing complete.\n"
          ]
        }
      ],
      "source": [
        "import fitz  # PyMuPDF\n",
        "import json\n",
        "import re\n",
        "\n",
        "def create_json_from_pdf(pdf_path, json_path, start_page, end_page):\n",
        "    \"\"\"\n",
        "    Reads a PDF, processes its content within a specific page range,\n",
        "    and exports the data as a JSON file, excluding section/subsection title pages\n",
        "    and pages with less than three lines of content.\n",
        "\n",
        "    Args:\n",
        "        pdf_path (str): The file path to the input PDF.\n",
        "        json_path (str): The file path for the output JSON file.\n",
        "        start_page (int): The page number to start processing from.\n",
        "        end_page (int): The page number to stop processing at.\n",
        "    \"\"\"\n",
        "    # These variables will keep track of the current context as we loop through pages\n",
        "    current_testament = \"Unknown\"\n",
        "    current_subsection = \"Unknown\"\n",
        "    current_chapter_title = \"Unknown\"\n",
        "\n",
        "    # This list will hold the data for each page\n",
        "    all_page_data = []\n",
        "\n",
        "    print(f\"Opening and processing '{pdf_path}'...\")\n",
        "    print(f\"Targeting pages from {start_page} to {end_page}.\")\n",
        "\n",
        "    # Use a 'with' statement for safe file handling\n",
        "    with fitz.open(pdf_path) as doc:\n",
        "        # Iterate through each page of the PDF\n",
        "        for page_num, page in enumerate(doc, 1):\n",
        "\n",
        "            # --- ADJUSTMENT 1: Process only the specified page range ---\n",
        "            if not (start_page <= page_num <= end_page):\n",
        "                continue  # Skip any page outside the desired range\n",
        "\n",
        "            # Extract all text from the current page\n",
        "            text = page.get_text(\"text\").strip()\n",
        "\n",
        "            # If a page is completely empty, skip it\n",
        "            if not text:\n",
        "                continue\n",
        "\n",
        "            # --- NEW ADJUSTMENT: Skip if content has less than three lines ---\n",
        "            # Split the text by newline characters and check the number of lines.\n",
        "            # If it's less than 3, it's considered too short for meaningful content.\n",
        "\n",
        "\n",
        "            # Count the number of sentences based on '.', '?', or '!' followed by a space or end of line\n",
        "            # Remove all whitespace characters (spaces, tabs, newlines)\n",
        "\n",
        "\n",
        "            # --- ADJUSTMENT 2: Detect structural pages and skip saving them ---\n",
        "\n",
        "            # 1. Check for Major Section (Testament) pages\n",
        "            if re.fullmatch(r\"I\\s*\\nOLD\\s+TESTAMENT\", text, re.IGNORECASE):\n",
        "                current_testament = \"The Old Testament\"\n",
        "                # This is a structural page, so we update the context and skip to the next page\n",
        "                continue\n",
        "            elif re.fullmatch(r\"II\\s*\\nNEW\\s+TESTAMENT\", text, re.IGNORECASE):\n",
        "                current_testament = \"The New Testament\"\n",
        "                # This is also a structural page, skip saving it\n",
        "                continue\n",
        "\n",
        "            # 2. Check for Subsection pages\n",
        "            lines = text.split('\\n')\n",
        "            # Heuristic: first line is all caps, not a chapter title, and other lines look like a list.\n",
        "            if len(lines) > 2 and lines[0].isupper() and re.search(r\"^\\d+\\.\", lines[2].strip()):\n",
        "                current_subsection = lines[0].strip()\n",
        "                current_chapter_title = \"Introduction to Subsection\"\n",
        "                # This is a subsection contents page, skip saving it\n",
        "                continue\n",
        "\n",
        "            # --- If the script reaches this point, it's a content page that should be saved ---\n",
        "\n",
        "            # 3. Check for the start of a specific chapter's content on the current page\n",
        "            # Example: \"7. OVERVIEW OF THE OLD\\n\\nTESTAMENT\"\n",
        "            chapter_match = re.match(r\"(?s)^\\s*(\\d+\\.?\\s+[A-Z0-9\\s,&]+?)\\n\", text)\n",
        "            if chapter_match:\n",
        "                # Extract and clean up the matched title\n",
        "                current_chapter_title = re.sub(r'\\s+', ' ', chapter_match.group(1)).strip()\n",
        "            text_no_spaces = ''.join(text.split())\n",
        "\n",
        "            if len(text_no_spaces) < 360:  # 4 average-length sentences ≈ 360 characters (without spaces)\n",
        "                print(f\"Skipping page {page_num} due to insufficient content (less than 4 sentences' worth of text).\")\n",
        "                continue  # Skip to the next page\n",
        "\n",
        "            # --- Create the JSON object for the current (content) page ---\n",
        "            page_chunk = {\n",
        "                \"page\": page_num,\n",
        "                \"section\": current_testament,\n",
        "                \"subsection\": current_subsection,\n",
        "                \"chapter_title\": current_chapter_title,\n",
        "                \"text\": text\n",
        "            }\n",
        "\n",
        "            all_page_data.append(page_chunk)\n",
        "\n",
        "    # --- Write the collected data to a JSON file ---\n",
        "    print(f\"Writing data for {len(all_page_data)} pages to '{json_path}'...\")\n",
        "    with open(json_path, 'w', encoding='utf-8') as f:\n",
        "        json.dump(all_page_data, f, indent=4, ensure_ascii=False)\n",
        "\n",
        "    print(\"Processing complete.\")\n",
        "\n",
        "\n",
        "# --- Main execution ---\n",
        "if __name__ == \"__main__\":\n",
        "    # Define the name of your PDF and the desired output JSON file\n",
        "    pdf_file = \"unlockingthebible.pdf\"\n",
        "    json_file = \"unlockingthebible_chunks.json\"\n",
        "\n",
        "    # Define the page range you want to process\n",
        "    START_PAGE_TO_PROCESS = 21\n",
        "    END_PAGE_TO_PROCESS = 1318\n",
        "\n",
        "    create_json_from_pdf(pdf_file, json_file, START_PAGE_TO_PROCESS, END_PAGE_TO_PROCESS)"
      ]
    },
    {
      "cell_type": "markdown",
      "metadata": {
        "id": "Qghi-pt8b8J2"
      },
      "source": [
        "### Embedding Text Chunks and Storing in MongoDB for Semantic Search\n",
        "\n",
        "This section loads structured JSON data, generates embeddings using Google's text embedding model, and stores the enriched documents in a MongoDB collection. It includes steps for connecting to the database, handling data integrity, and preparing the data for use in retrieval-augmented generation (RAG) or semantic search systems."
      ]
    },
    {
      "cell_type": "code",
      "execution_count": null,
      "metadata": {
        "colab": {
          "base_uri": "https://localhost:8080/",
          "height": 228
        },
        "id": "i2NXlc5OPB7B",
        "outputId": "88761682-82ae-47a7-ee75-5a672f869e8a"
      },
      "outputs": [
        {
          "name": "stdout",
          "output_type": "stream",
          "text": [
            "Connecting to MongoDB...\n",
            "MongoDB connection successful.\n",
            "Clearing existing documents in 'commentary_chunks' collection...\n",
            "Loading data from unlockingthebible_chunks.json...\n",
            "Successfully loaded 1254 chunks.\n",
            "Starting to process and embed chunks...\n"
          ]
        },
        {
          "name": "stderr",
          "output_type": "stream",
          "text": [
            "Processing Chunks: 100%|██████████| 1254/1254 [38:25<00:00,  1.84s/it]\n"
          ]
        },
        {
          "name": "stdout",
          "output_type": "stream",
          "text": [
            "\n",
            "Inserting 1254 documents into MongoDB...\n",
            "All documents have been successfully inserted.\n",
            "MongoDB connection closed.\n"
          ]
        }
      ],
      "source": [
        "\n",
        "import os\n",
        "import json\n",
        "import pymongo\n",
        "import google.generativeai as genai\n",
        "from dotenv import load_dotenv\n",
        "from tqdm import tqdm\n",
        "from google.colab import files\n",
        "\n",
        "\n",
        "DB_NAME = \"bible_rag_db\"\n",
        "COLLECTION_NAME = \"commentary_chunks\"\n",
        "\n",
        "# Google AI Configuration\n",
        "EMBEDDING_MODEL = \"models/text-embedding-004\" # The model for generating embeddings\n",
        "\n",
        "# Input JSON file\n",
        "INPUT_JSON_FILE = \"unlockingthebible_chunks.json\"\n",
        "\n",
        "# --- Main Script ---\n",
        "\n",
        "def connect_to_mongodb():\n",
        "    \"\"\"Establishes a connection to MongoDB and returns the collection object.\"\"\"\n",
        "    try:\n",
        "        print(\"Connecting to MongoDB...\")\n",
        "        client = pymongo.MongoClient(MONGO_URI)\n",
        "        # The ismaster command is cheap and does not require auth.\n",
        "        client.admin.command('ismaster')\n",
        "        print(\"MongoDB connection successful.\")\n",
        "        db = client[DB_NAME]\n",
        "        collection = db[COLLECTION_NAME]\n",
        "        return client, collection\n",
        "    except pymongo.errors.ConnectionFailure as e:\n",
        "        print(f\"Could not connect to MongoDB: {e}\")\n",
        "        raise\n",
        "\n",
        "def load_json_data(file_path):\n",
        "    \"\"\"Loads and returns data from a JSON file.\"\"\"\n",
        "    try:\n",
        "        with open(file_path, 'r', encoding='utf-8') as f:\n",
        "            print(f\"Loading data from {file_path}...\")\n",
        "            data = json.load(f)\n",
        "            print(f\"Successfully loaded {len(data)} chunks.\")\n",
        "            return data\n",
        "    except FileNotFoundError:\n",
        "        print(f\"Error: The file {file_path} was not found.\")\n",
        "        raise\n",
        "    except json.JSONDecodeError:\n",
        "        print(f\"Error: The file {file_path} is not a valid JSON file.\")\n",
        "        raise\n",
        "\n",
        "def generate_embedding(text):\n",
        "    \"\"\"Generates an embedding for the given text using Google AI.\"\"\"\n",
        "    try:\n",
        "        # The 'task_type' is crucial for retrieval/semantic search tasks\n",
        "        result = genai.embed_content(\n",
        "            model=EMBEDDING_MODEL,\n",
        "            content=text,\n",
        "            task_type=\"RETRIEVAL_DOCUMENT\"\n",
        "        )\n",
        "        return result['embedding']\n",
        "    except Exception as e:\n",
        "        print(f\"An error occurred during embedding generation: {e}\")\n",
        "        return None\n",
        "\n",
        "def main():\n",
        "    \"\"\"Main function to orchestrate the embedding and insertion process.\"\"\"\n",
        "    # Configure the Google AI client\n",
        "    genai.configure(api_key=GOOGLE_API_KEY)\n",
        "\n",
        "    mongo_client = None\n",
        "    try:\n",
        "        # 1. Connect to MongoDB\n",
        "        mongo_client, collection = connect_to_mongodb()\n",
        "\n",
        "        # Optional: Clear the collection to avoid duplicates on re-runs\n",
        "        # If you want to append data, comment out the next two lines.\n",
        "        print(f\"Clearing existing documents in '{COLLECTION_NAME}' collection...\")\n",
        "        collection.delete_many({})\n",
        "\n",
        "        # 2. Load the source data\n",
        "        chunks_data = load_json_data(INPUT_JSON_FILE)\n",
        "\n",
        "        # 3. Process each chunk and insert into MongoDB\n",
        "        print(\"Starting to process and embed chunks...\")\n",
        "        documents_to_insert = []\n",
        "        for chunk in tqdm(chunks_data, desc=\"Processing Chunks\"):\n",
        "            # Ensure the text is a non-empty string\n",
        "            text_to_embed = chunk.get(\"text\", \"\")\n",
        "            if chunk[\"page\"] < 21:\n",
        "                continue\n",
        "            if not isinstance(text_to_embed, str) or not text_to_embed.strip():\n",
        "                print(f\"Skipping chunk on page {chunk.get('page')} due to empty text.\")\n",
        "                continue\n",
        "\n",
        "            # 4. Generate the embedding\n",
        "            embedding = generate_embedding(text_to_embed)\n",
        "\n",
        "            if embedding:\n",
        "                # 5. Prepare the document for MongoDB insertion\n",
        "                # Note: 'subsection' is mapped to 'sub_section' as requested.\n",
        "                document = {\n",
        "                    \"section\": chunk.get(\"section\"),\n",
        "                    \"sub_section\": chunk.get(\"subsection\"), # Renaming the field\n",
        "                    \"chapter_title\": chunk.get(\"chapter_title\"),\n",
        "                    \"text\": text_to_embed,\n",
        "                    \"embedding\": embedding\n",
        "                }\n",
        "                documents_to_insert.append(document)\n",
        "\n",
        "        # 6. Insert all prepared documents in a single batch operation\n",
        "        if documents_to_insert:\n",
        "            print(f\"\\nInserting {len(documents_to_insert)} documents into MongoDB...\")\n",
        "            collection.insert_many(documents_to_insert)\n",
        "            print(\"All documents have been successfully inserted.\")\n",
        "        else:\n",
        "            print(\"No documents were generated to insert.\")\n",
        "\n",
        "    except Exception as e:\n",
        "        print(f\"\\nAn unexpected error occurred: {e}\")\n",
        "    finally:\n",
        "        # 7. Ensure the MongoDB connection is closed\n",
        "        if mongo_client:\n",
        "            mongo_client.close()\n",
        "            print(\"MongoDB connection closed.\")\n",
        "\n",
        "if __name__ == \"__main__\":\n",
        "    main()"
      ]
    },
    {
      "cell_type": "markdown",
      "metadata": {
        "id": "WQh0vAdHcJfa"
      },
      "source": [
        "### Normalizing Chapter Titles in MongoDB with Custom Overrides and Regex\n",
        "\n",
        "This section updates inconsistent or formatted chapter titles in the MongoDB collection. It applies predefined custom title overrides and uses regex to extract and standardize titles, ensuring uniformity across the dataset for improved readability and consistency in downstream applications."
      ]
    },
    {
      "cell_type": "code",
      "execution_count": null,
      "metadata": {
        "colab": {
          "base_uri": "https://localhost:8080/"
        },
        "id": "e8T53srst960",
        "outputId": "bc8fcbd3-7819-4f3f-aa62-17692e0baf61"
      },
      "outputs": [
        {
          "name": "stdout",
          "output_type": "stream",
          "text": [
            "Connecting to MongoDB...\n",
            "MongoDB connection successful.\n",
            "Updated: God Is Powerful → Genesis\n",
            "Updated: Idolatry → Deuteronomy\n",
            "Updated: Idolatry → Deuteronomy\n",
            "Updated: Idolatry → Deuteronomy\n",
            "Updated: Idolatry → Deuteronomy\n",
            "Updated: Idolatry → Deuteronomy\n",
            "Updated: Idolatry → Deuteronomy\n",
            "Updated: Idolatry → Deuteronomy\n",
            "Updated: Idolatry → Deuteronomy\n",
            "Updated: Idolatry → Deuteronomy\n",
            "Updated: Idolatry → Deuteronomy\n",
            "Updated: Idolatry → Deuteronomy\n",
            "Updated: Idolatry → Deuteronomy\n",
            "Updated: Idolatry → Deuteronomy\n",
            "Updated: Idolatry → Deuteronomy\n",
            "Updated: Idolatry → Deuteronomy\n",
            "Updated: Idolatry → Deuteronomy\n",
            "Updated: Idolatry → Deuteronomy\n",
            "Updated: Idolatry → Deuteronomy\n",
            "Updated: Old Testament Use → Matthew\n",
            "Updated: Old Testament Use → Matthew\n",
            "Updated: Old Testament Use → Matthew\n",
            "Updated: Old Testament Use → Matthew\n",
            "Updated: Old Testament Use → Matthew\n",
            "Updated: Old Testament Use → Matthew\n",
            "Updated: Old Testament Use → Matthew\n",
            "Updated: Old Testament Use → Matthew\n",
            "Updated: Old Testament Use → Matthew\n",
            "Updated: Old Testament Use → Matthew\n",
            "Updated: Old Testament Use → Matthew\n",
            "Updated: Old Testament Use → Matthew\n",
            "Updated: Old Testament Use → Matthew\n",
            "Updated: Old Testament Use → Matthew\n",
            "Updated: Old Testament Use → Matthew\n",
            "Updated: Old Testament Use → Matthew\n",
            "Updated: Paul → Acts\n",
            "Updated: Paul → Acts\n",
            "Updated: Paul → Acts\n",
            "Updated: Paul → Acts\n",
            "Updated: Paul → Acts\n",
            "Updated: Paul → Acts\n",
            "Updated: Paul → Acts\n",
            "Updated: Paul → Acts\n",
            "Updated: Paul → Acts\n",
            "Updated: Paul → Acts\n",
            "Updated: Paul → Acts\n",
            "Updated: Paul → Acts\n",
            "Updated: Paul → Acts\n",
            "Updated: Paul → Acts\n",
            "Updated: Paul → Acts\n",
            "Updated: His Age → 1, 2, And 3 John\n",
            "Updated: His Age → 1, 2, And 3 John\n",
            "Updated: His Age → 1, 2, And 3 John\n",
            "Updated: His Age → 1, 2, And 3 John\n",
            "Updated: His Age → 1, 2, And 3 John\n",
            "Updated: His Age → 1, 2, And 3 John\n",
            "Updated: His Age → 1, 2, And 3 John\n",
            "Updated: His Age → 1, 2, And 3 John\n",
            "Updated: His Age → 1, 2, And 3 John\n",
            "Updated: The Possibilities → 1, 2, And 3 John\n",
            "Updated: The Possibilities → 1, 2, And 3 John\n",
            "Updated: The Possibilities → 1, 2, And 3 John\n",
            "Updated: The Possibilities → 1, 2, And 3 John\n",
            "Updated: The Possibilities → 1, 2, And 3 John\n",
            "Updated: The Possibilities → 1, 2, And 3 John\n",
            "Updated: The Possibilities → 1, 2, And 3 John\n",
            "Updated: The Possibilities → 1, 2, And 3 John\n",
            "Updated: The Possibilities → 1, 2, And 3 John\n",
            "Updated: The Possibilities → 1, 2, And 3 John\n",
            "Updated: The Possibilities → 1, 2, And 3 John\n",
            "Updated: The Possibilities → 1, 2, And 3 John\n",
            "Updated: The Possibilities → 1, 2, And 3 John\n",
            "Updated: The Possibilities → 1, 2, And 3 John\n",
            "Updated: The Possibilities → 1, 2, And 3 John\n"
          ]
        }
      ],
      "source": [
        "\n",
        "from pymongo import MongoClient\n",
        "import re\n",
        "\n",
        "# Custom title overrides\n",
        "custom_titles = {\n",
        "    \"God Is Powerful\": \"Genesis\",\n",
        "    \"Idolatry\": \"Deuteronomy\",\n",
        "    \"Old Testament Use\": \"Matthew\",\n",
        "    \"Paul\": \"Acts\",\n",
        "    \"His Age\": \"1, 2, And 3 John\",\n",
        "    \"The Possibilities\": \"1, 2, And 3 John\"\n",
        "}\n",
        "\n",
        "mongo_client, collection = connect_to_mongodb()\n",
        "# Fetch all documents with a chapter_title\n",
        "documents = collection.find({\"chapter_title\": {\"$exists\": True}})\n",
        "\n",
        "for doc in documents:\n",
        "    original_title = doc[\"chapter_title\"]\n",
        "\n",
        "    # Check for custom overrides first\n",
        "    if original_title in custom_titles:\n",
        "        new_title = custom_titles[original_title]\n",
        "    else:\n",
        "        # Extract the title after number and dot (e.g., \"58. REVELATION\" -> \"Revelation\")\n",
        "        match = re.match(r\"^\\d+\\.\\s+(.*)\", original_title)\n",
        "        if match:\n",
        "            # Capitalize properly (title case)\n",
        "            new_title = match.group(1).title()\n",
        "        else:\n",
        "            continue  # Skip if it doesn't match the expected format\n",
        "\n",
        "    # Update in MongoDB if changed\n",
        "    if new_title != original_title:\n",
        "        collection.update_one(\n",
        "            {\"_id\": doc[\"_id\"]},\n",
        "            {\"$set\": {\"chapter_title\": new_title}}\n",
        "        )\n",
        "        print(f\"Updated: {original_title} → {new_title}\")"
      ]
    },
    {
      "cell_type": "code",
      "execution_count": null,
      "metadata": {
        "colab": {
          "base_uri": "https://localhost:8080/",
          "height": 749
        },
        "id": "BwBY0jgMEaaD",
        "outputId": "132d068a-ae20-48c3-a801-f00bc252cd19"
      },
      "outputs": [
        {
          "name": "stdout",
          "output_type": "stream",
          "text": [
            "models/gemini-1.0-pro-vision-latest\n",
            "models/gemini-pro-vision\n",
            "models/gemini-1.5-pro-latest\n",
            "models/gemini-1.5-pro-002\n",
            "models/gemini-1.5-pro\n",
            "models/gemini-1.5-flash-latest\n",
            "models/gemini-1.5-flash\n",
            "models/gemini-1.5-flash-002\n",
            "models/gemini-1.5-flash-8b\n",
            "models/gemini-1.5-flash-8b-001\n",
            "models/gemini-1.5-flash-8b-latest\n",
            "models/gemini-2.5-pro-exp-03-25\n",
            "models/gemini-2.5-pro-preview-03-25\n",
            "models/gemini-2.5-flash-preview-04-17\n",
            "models/gemini-2.5-flash-preview-05-20\n",
            "models/gemini-2.5-flash-preview-04-17-thinking\n",
            "models/gemini-2.5-pro-preview-05-06\n",
            "models/gemini-2.5-pro-preview-06-05\n",
            "models/gemini-2.0-flash-exp\n",
            "models/gemini-2.0-flash\n",
            "models/gemini-2.0-flash-001\n",
            "models/gemini-2.0-flash-exp-image-generation\n",
            "models/gemini-2.0-flash-lite-001\n",
            "models/gemini-2.0-flash-lite\n",
            "models/gemini-2.0-flash-preview-image-generation\n",
            "models/gemini-2.0-flash-lite-preview-02-05\n",
            "models/gemini-2.0-flash-lite-preview\n",
            "models/gemini-2.0-pro-exp\n",
            "models/gemini-2.0-pro-exp-02-05\n",
            "models/gemini-exp-1206\n",
            "models/gemini-2.0-flash-thinking-exp-01-21\n",
            "models/gemini-2.0-flash-thinking-exp\n",
            "models/gemini-2.0-flash-thinking-exp-1219\n",
            "models/gemini-2.5-flash-preview-tts\n",
            "models/gemini-2.5-pro-preview-tts\n",
            "models/learnlm-2.0-flash-experimental\n",
            "models/gemma-3-1b-it\n",
            "models/gemma-3-4b-it\n",
            "models/gemma-3-12b-it\n",
            "models/gemma-3-27b-it\n",
            "models/gemma-3n-e4b-it\n"
          ]
        }
      ],
      "source": [
        "\n",
        "import google.generativeai as genai\n",
        "\n",
        "def print_gemini_model_names():\n",
        "    \"\"\"Prints the names of the GenerativeModel models available.\"\"\"\n",
        "    try:\n",
        "        # List all available models\n",
        "        for m in genai.list_models():\n",
        "            # Check if the model supports content generation (is a GenerativeModel)\n",
        "            if \"generateContent\" in m.supported_generation_methods:\n",
        "                print(m.name)\n",
        "    except Exception as e:\n",
        "        print(f\"An error occurred: {e}\")\n",
        "\n",
        "if __name__ == \"__main__\":\n",
        "    # You might need to configure your API key here if not already set\n",
        "    # genai.configure(api_key=\"YOUR_API_KEY\")\n",
        "    print_gemini_model_names()"
      ]
    },
    {
      "cell_type": "markdown",
      "metadata": {
        "id": "sxYmTvRccX4l"
      },
      "source": [
        "### Extracting and Storing Bible Verse References from Theological Concepts\n",
        "\n",
        "This section captures user-input theological summaries, uses a Gemini prompt to extract exact Bible verse references and their distribution by book, parses the structured JSON response, and stores the enriched data into MongoDB for future querying or analysis."
      ]
    },
    {
      "cell_type": "code",
      "execution_count": null,
      "metadata": {
        "colab": {
          "base_uri": "https://localhost:8080/",
          "height": 124
        },
        "id": "Q004Ve6SHcAw",
        "outputId": "e59af13c-2cb4-421e-8937-f10737e32157"
      },
      "outputs": [
        {
          "name": "stdout",
          "output_type": "stream",
          "text": [
            "Enter theological concept title: Eternity\n",
            "Enter the theological summary (end with ENTER twice):\n",
            "We teach that after the closing of the Millennium, the temporary release of  Satan, and the judgment of unbelievers (2 Thess. 1:9; Rev. 20:7–15), the saved  will enter the eternal state of glory with God, after which the elements of this  earth are to be dissolved (2 Pet. 3:10) and replaced with a new earth wherein  only righteousness dwells (Eph. 5:5; Rev. 20:15; 21–22). Following this, the  heavenly city will come down out of heaven (Rev. 21:2) and will be the dwelling  place of the saints, where they will enjoy forever fellowship with God and one  another (John 17:3; Rev. 21–22). Our Lord Jesus Christ, having fulfilled his  redemptive mission, will then deliver up the kingdom to God the Father (1 Cor.  15:23–28) that in all spheres the triune God may reign forever and ever (1 Cor.  15:28).\n",
            "\n",
            "✔️ Inserted document with _id: 684c1f2bdc45f4c1ffcbf3bb\n"
          ]
        }
      ],
      "source": [
        "import re\n",
        "\n",
        "# ========= INPUT =========\n",
        "\n",
        "concept = input(\"Enter theological concept title: \").strip()\n",
        "print(\"Enter the theological summary (end with ENTER twice):\")\n",
        "lines = []\n",
        "while True:\n",
        "    line = input()\n",
        "    if line == \"\":\n",
        "        break\n",
        "    lines.append(line)\n",
        "summary_text = \"\\n\".join(lines)\n",
        "\n",
        "# ========= GEMINI PROMPT =========\n",
        "\n",
        "prompt = f\"\"\"\n",
        "From the following text, extract:\n",
        "\n",
        "1. A list of **exact Bible verses** mentioned (e.g., \"Genesis 1:1\", \"2 Timothy 3:16\").\n",
        "2. Then compute the **percentage of total verses** by book (e.g., \"Genesis\": 40.0).\n",
        "\n",
        "Return a JSON object like:\n",
        "{{\n",
        "  \"verses_mentioned\": [\"Genesis 1:1\", \"Exodus 31:17\", \"2 Timothy 3:16\"],\n",
        "  \"book_reference_stats\": {{\n",
        "    \"Genesis\": 33.3,\n",
        "    \"Exodus\": 33.3,\n",
        "    \"2 Timothy\": 33.3\n",
        "  }}\n",
        "}}\n",
        "\n",
        "Text:\n",
        "{summary_text}\n",
        "\"\"\"\n",
        "\n",
        "response = model.generate_content(prompt)\n",
        "\n",
        "# ========= PARSE GEMINI JSON SAFELY =========\n",
        "\n",
        "raw_text = response.text.strip()\n",
        "\n",
        "# Extract between triple backticks if present\n",
        "match = re.search(r\"```(?:json)?(.*?)```\", raw_text, re.DOTALL)\n",
        "if match:\n",
        "    cleaned = match.group(1).strip()\n",
        "else:\n",
        "    cleaned = raw_text\n",
        "\n",
        "# Fix single quotes to double quotes (assuming clean response)\n",
        "cleaned = cleaned.replace(\"'\", '\"')\n",
        "\n",
        "try:\n",
        "    result_json = json.loads(cleaned)\n",
        "    verses_mentioned = result_json.get(\"verses_mentioned\", [])\n",
        "    book_reference_stats = result_json.get(\"book_reference_stats\", {})\n",
        "except Exception as e:\n",
        "    print(\"❌ Error parsing Gemini response:\", e)\n",
        "    verses_mentioned = []\n",
        "    book_reference_stats = {}\n",
        "\n",
        "# ========= STORE IN MONGODB =========\n",
        "\n",
        "doc = {\n",
        "    \"concept\": concept,\n",
        "    \"summary\": summary_text,\n",
        "    \"verses_mentioned\": verses_mentioned,\n",
        "    \"book_reference_stats\": book_reference_stats\n",
        "}\n",
        "\n",
        "insert_result = collection.insert_one(doc)\n",
        "print(f\"✔️ Inserted document with _id: {insert_result.inserted_id}\")Bible"
      ]
    },
    {
      "cell_type": "markdown",
      "metadata": {
        "id": "le3sUOc_ch-z"
      },
      "source": [
        "### Initializing the Bible Books Collection in MongoDB\n",
        "\n",
        "This code sets up a `books` collection by defining metadata for all 66 books of the Bible. Each entry includes the book's name, testament (Old/New), category (e.g., Law, History, Gospel), and a unique ID. The collection is cleared before insertion to ensure a clean slate for consistent querying and data integrity."
      ]
    },
    {
      "cell_type": "code",
      "execution_count": null,
      "metadata": {
        "colab": {
          "base_uri": "https://localhost:8080/"
        },
        "id": "7KPWLlhxHjUv",
        "outputId": "05194e2e-8fbe-4f64-f284-67ce58d48e26"
      },
      "outputs": [
        {
          "name": "stdout",
          "output_type": "stream",
          "text": [
            "Inserted 66 books into the 'books' collection.\n"
          ]
        }
      ],
      "source": [
        "\n",
        "\n",
        "collection = db[\"books\"]\n",
        "\n",
        "# Define all 66 books with their metadata\n",
        "books = [\n",
        "    # Law (Pentateuch)\n",
        "    {\"id\": 1, \"name\": \"Genesis\", \"testament\": \"Old\", \"category\": \"Law\"},\n",
        "    {\"id\": 2, \"name\": \"Exodus\", \"testament\": \"Old\", \"category\": \"Law\"},\n",
        "    {\"id\": 3, \"name\": \"Leviticus\", \"testament\": \"Old\", \"category\": \"Law\"},\n",
        "    {\"id\": 4, \"name\": \"Numbers\", \"testament\": \"Old\", \"category\": \"Law\"},\n",
        "    {\"id\": 5, \"name\": \"Deuteronomy\", \"testament\": \"Old\", \"category\": \"Law\"},\n",
        "\n",
        "    # History\n",
        "    {\"id\": 6, \"name\": \"Joshua\", \"testament\": \"Old\", \"category\": \"History\"},\n",
        "    {\"id\": 7, \"name\": \"Judges\", \"testament\": \"Old\", \"category\": \"History\"},\n",
        "    {\"id\": 8, \"name\": \"Ruth\", \"testament\": \"Old\", \"category\": \"History\"},\n",
        "    {\"id\": 9, \"name\": \"1 Samuel\", \"testament\": \"Old\", \"category\": \"History\"},\n",
        "    {\"id\": 10, \"name\": \"2 Samuel\", \"testament\": \"Old\", \"category\": \"History\"},\n",
        "    {\"id\": 11, \"name\": \"1 Kings\", \"testament\": \"Old\", \"category\": \"History\"},\n",
        "    {\"id\": 12, \"name\": \"2 Kings\", \"testament\": \"Old\", \"category\": \"History\"},\n",
        "    {\"id\": 13, \"name\": \"1 Chronicles\", \"testament\": \"Old\", \"category\": \"History\"},\n",
        "    {\"id\": 14, \"name\": \"2 Chronicles\", \"testament\": \"Old\", \"category\": \"History\"},\n",
        "    {\"id\": 15, \"name\": \"Ezra\", \"testament\": \"Old\", \"category\": \"History\"},\n",
        "    {\"id\": 16, \"name\": \"Nehemiah\", \"testament\": \"Old\", \"category\": \"History\"},\n",
        "    {\"id\": 17, \"name\": \"Esther\", \"testament\": \"Old\", \"category\": \"History\"},\n",
        "\n",
        "    # Poetry/Wisdom\n",
        "    {\"id\": 18, \"name\": \"Job\", \"testament\": \"Old\", \"category\": \"Poetry\"},\n",
        "    {\"id\": 19, \"name\": \"Psalms\", \"testament\": \"Old\", \"category\": \"Poetry\"},\n",
        "    {\"id\": 20, \"name\": \"Proverbs\", \"testament\": \"Old\", \"category\": \"Poetry\"},\n",
        "    {\"id\": 21, \"name\": \"Ecclesiastes\", \"testament\": \"Old\", \"category\": \"Poetry\"},\n",
        "    {\"id\": 22, \"name\": \"Song of Solomon\", \"testament\": \"Old\", \"category\": \"Poetry\"},\n",
        "\n",
        "    # Major Prophets\n",
        "    {\"id\": 23, \"name\": \"Isaiah\", \"testament\": \"Old\", \"category\": \"Major Prophet\"},\n",
        "    {\"id\": 24, \"name\": \"Jeremiah\", \"testament\": \"Old\", \"category\": \"Major Prophet\"},\n",
        "    {\"id\": 25, \"name\": \"Lamentations\", \"testament\": \"Old\", \"category\": \"Major Prophet\"},\n",
        "    {\"id\": 26, \"name\": \"Ezekiel\", \"testament\": \"Old\", \"category\": \"Major Prophet\"},\n",
        "    {\"id\": 27, \"name\": \"Daniel\", \"testament\": \"Old\", \"category\": \"Major Prophet\"},\n",
        "\n",
        "    # Minor Prophets\n",
        "    {\"id\": 28, \"name\": \"Hosea\", \"testament\": \"Old\", \"category\": \"Minor Prophet\"},\n",
        "    {\"id\": 29, \"name\": \"Joel\", \"testament\": \"Old\", \"category\": \"Minor Prophet\"},\n",
        "    {\"id\": 30, \"name\": \"Amos\", \"testament\": \"Old\", \"category\": \"Minor Prophet\"},\n",
        "    {\"id\": 31, \"name\": \"Obadiah\", \"testament\": \"Old\", \"category\": \"Minor Prophet\"},\n",
        "    {\"id\": 32, \"name\": \"Jonah\", \"testament\": \"Old\", \"category\": \"Minor Prophet\"},\n",
        "    {\"id\": 33, \"name\": \"Micah\", \"testament\": \"Old\", \"category\": \"Minor Prophet\"},\n",
        "    {\"id\": 34, \"name\": \"Nahum\", \"testament\": \"Old\", \"category\": \"Minor Prophet\"},\n",
        "    {\"id\": 35, \"name\": \"Habakkuk\", \"testament\": \"Old\", \"category\": \"Minor Prophet\"},\n",
        "    {\"id\": 36, \"name\": \"Zephaniah\", \"testament\": \"Old\", \"category\": \"Minor Prophet\"},\n",
        "    {\"id\": 37, \"name\": \"Haggai\", \"testament\": \"Old\", \"category\": \"Minor Prophet\"},\n",
        "    {\"id\": 38, \"name\": \"Zechariah\", \"testament\": \"Old\", \"category\": \"Minor Prophet\"},\n",
        "    {\"id\": 39, \"name\": \"Malachi\", \"testament\": \"Old\", \"category\": \"Minor Prophet\"},\n",
        "\n",
        "    # Gospels\n",
        "    {\"id\": 40, \"name\": \"Matthew\", \"testament\": \"New\", \"category\": \"Gospel\"},\n",
        "    {\"id\": 41, \"name\": \"Mark\", \"testament\": \"New\", \"category\": \"Gospel\"},\n",
        "    {\"id\": 42, \"name\": \"Luke\", \"testament\": \"New\", \"category\": \"Gospel\"},\n",
        "    {\"id\": 43, \"name\": \"John\", \"testament\": \"New\", \"category\": \"Gospel\"},\n",
        "\n",
        "    # History (Acts)\n",
        "    {\"id\": 44, \"name\": \"Acts\", \"testament\": \"New\", \"category\": \"History\"},\n",
        "\n",
        "    # Pauline Epistles\n",
        "    {\"id\": 45, \"name\": \"Romans\", \"testament\": \"New\", \"category\": \"Pauline Epistle\"},\n",
        "    {\"id\": 46, \"name\": \"1 Corinthians\", \"testament\": \"New\", \"category\": \"Pauline Epistle\"},\n",
        "    {\"id\": 47, \"name\": \"2 Corinthians\", \"testament\": \"New\", \"category\": \"Pauline Epistle\"},\n",
        "    {\"id\": 48, \"name\": \"Galatians\", \"testament\": \"New\", \"category\": \"Pauline Epistle\"},\n",
        "    {\"id\": 49, \"name\": \"Ephesians\", \"testament\": \"New\", \"category\": \"Pauline Epistle\"},\n",
        "    {\"id\": 50, \"name\": \"Philippians\", \"testament\": \"New\", \"category\": \"Pauline Epistle\"},\n",
        "    {\"id\": 51, \"name\": \"Colossians\", \"testament\": \"New\", \"category\": \"Pauline Epistle\"},\n",
        "    {\"id\": 52, \"name\": \"1 Thessalonians\", \"testament\": \"New\", \"category\": \"Pauline Epistle\"},\n",
        "    {\"id\": 53, \"name\": \"2 Thessalonians\", \"testament\": \"New\", \"category\": \"Pauline Epistle\"},\n",
        "    {\"id\": 54, \"name\": \"1 Timothy\", \"testament\": \"New\", \"category\": \"Pauline Epistle\"},\n",
        "    {\"id\": 55, \"name\": \"2 Timothy\", \"testament\": \"New\", \"category\": \"Pauline Epistle\"},\n",
        "    {\"id\": 56, \"name\": \"Titus\", \"testament\": \"New\", \"category\": \"Pauline Epistle\"},\n",
        "    {\"id\": 57, \"name\": \"Philemon\", \"testament\": \"New\", \"category\": \"Pauline Epistle\"},\n",
        "\n",
        "    # General Epistles\n",
        "    {\"id\": 58, \"name\": \"Hebrews\", \"testament\": \"New\", \"category\": \"General Epistle\"},\n",
        "    {\"id\": 59, \"name\": \"James\", \"testament\": \"New\", \"category\": \"General Epistle\"},\n",
        "    {\"id\": 60, \"name\": \"1 Peter\", \"testament\": \"New\", \"category\": \"General Epistle\"},\n",
        "    {\"id\": 61, \"name\": \"2 Peter\", \"testament\": \"New\", \"category\": \"General Epistle\"},\n",
        "    {\"id\": 62, \"name\": \"1 John\", \"testament\": \"New\", \"category\": \"General Epistle\"},\n",
        "    {\"id\": 63, \"name\": \"2 John\", \"testament\": \"New\", \"category\": \"General Epistle\"},\n",
        "    {\"id\": 64, \"name\": \"3 John\", \"testament\": \"New\", \"category\": \"General Epistle\"},\n",
        "    {\"id\": 65, \"name\": \"Jude\", \"testament\": \"New\", \"category\": \"General Epistle\"},\n",
        "\n",
        "    # Prophecy\n",
        "    {\"id\": 66, \"name\": \"Revelation\", \"testament\": \"New\", \"category\": \"Prophecy\"},\n",
        "]\n",
        "\n",
        "# Clear collection before inserting (optional)\n",
        "collection.delete_many({})\n",
        "\n",
        "# Insert all books\n",
        "collection.insert_many(books)\n",
        "\n",
        "print(\"Inserted 66 books into the 'books' collection.\")"
      ]
    },
    {
      "cell_type": "markdown",
      "metadata": {
        "id": "is0G-hDeZraw"
      },
      "source": [
        "### Generating Theological Summaries for Bible Books Using Gemini AI\n",
        "\n",
        "This section retrieves each Bible book from MongoDB, compiles related commentary chunks, and sends a prompt to the Gemini 2.0 model to generate a structured JSON summary containing an overview, key scripture references, and theological context. The JSON response is cleaned, parsed, and then used to update the corresponding book records in MongoDB, enabling enhanced theological insights for future use."
      ]
    },
    {
      "cell_type": "code",
      "execution_count": null,
      "metadata": {
        "colab": {
          "base_uri": "https://localhost:8080/",
          "height": 1000
        },
        "id": "eseE6IHWSg1a",
        "outputId": "e84617cf-3192-46dd-f1af-c65a4872c2a9"
      },
      "outputs": [
        {
          "output_type": "stream",
          "name": "stderr",
          "text": [
            "\r0it [00:00, ?it/s]"
          ]
        },
        {
          "output_type": "stream",
          "name": "stdout",
          "text": [
            "\n",
            "📜 Raw Gemini response for Genesis:\n",
            "```json\n",
            "{\n",
            "  \"overview\": \"Genesis, meaning \\\"beginnings,\\\" is the foundational book of the Bible, narrating the origins of the universe, humanity, sin, and God's initial covenant relationships. It sets the stage for the entire biblical narrative by explaining why the world is the way it is and how God intends to redeem it. The book covers a vast period from creation to the time of Joseph, focusing particularly on God's interactions with key figures like Adam, Noah, Abraham, Isaac, Jacob, and Joseph and how these figures are vital to God's plan for humanity.\",\n",
            "  \"key_scriptures\": [\n",
            "    \"Genesis 1:1 - \\\"In the beginning God created the heavens and the earth\\\" establishes God as the eternal creator, rejecting atheistic and polytheistic views.\",\n",
            "    \"Genesis 3:15 - This verse contains the Protoevangelium, the first gospel, promising a future offspring of the woman (Jesus) who will ultimately defeat the serpent (Satan).\",\n",
            "    \"Genesis 12:1-3 - God's call to Abraham and the covenant promise to bless all nations through him is central to God's redemptive plan and the selection of Israel.\"\n",
            "  ],\n",
            "  \"theological_context\": \"Genesis establishes core doctrines such as creation, the fall, and God's covenant. It reveals God as personal, powerful, creative, orderly, and good. The book explains the origin of sin and its consequences, including death and separation from God, highlighting the need for redemption. Furthermore, it introduces the concept of God's covenant, demonstrating his faithfulness to his promises and his intentional choice of a people through whom he would work to bless all humanity, ultimately fulfilled through Jesus Christ.\"\n",
            "}\n",
            "```\n",
            "\n"
          ]
        },
        {
          "output_type": "stream",
          "name": "stderr",
          "text": [
            "\r1it [00:22, 22.83s/it]"
          ]
        },
        {
          "output_type": "stream",
          "name": "stdout",
          "text": [
            "✅ Updated: Genesis\n",
            "\n",
            "📜 Raw Gemini response for Exodus:\n",
            "```json\n",
            "{\n",
            "  \"overview\": \"Exodus recounts the Israelites' miraculous liberation from Egyptian slavery under the leadership of Moses. God demonstrates his power through a series of plagues, culminating in the Passover and the parting of the Red Sea. Following their escape, God establishes a covenant with Israel at Mount Sinai, giving them the Law, including the Ten Commandments, to govern their lives. The book details the construction of the Tabernacle, symbolizing God's presence among his people, and highlights the importance of gratitude and obedience in their relationship with him.\",\n",
            "  \"key_scriptures\": [\n",
            "    {\n",
            "      \"reference\": \"Exodus 3:14\",\n",
            "      \"description\": \"God reveals his name as 'Yahweh,' signifying his eternal and self-existent nature ('I AM WHO I AM'). This establishes a personal and intimate relationship between God and his people, emphasizing his unwavering presence and provision.\"\n",
            "    },\n",
            "    {\n",
            "      \"reference\": \"Exodus 12:13\",\n",
            "      \"description\": \"The Passover is instituted, where the blood of a lamb protects the Israelites from the final plague. This event symbolizes redemption through sacrifice and foreshadows Jesus Christ as the ultimate Passover Lamb.\"\n",
            "    },\n",
            "    {\n",
            "      \"reference\": \"Exodus 20:1-17\",\n",
            "      \"description\": \"God gives the Ten Commandments at Mount Sinai, providing a moral and ethical framework for the Israelites' lives. These commandments emphasize respect for God and others, establishing a foundation for a just and holy society.\"\n",
            "    }\n",
            "  ],\n",
            "  \"theological_context\": \"Exodus reveals God as both Creator and Redeemer, demonstrating his power over creation and his commitment to saving his people from oppression. The book introduces the concept of covenant, establishing a binding agreement between God and Israel based on promise and obedience. The Law emphasizes God's holiness and the need for righteousness, while the Tabernacle symbolizes his desire to dwell among his people. These themes of redemption, covenant, law, and divine presence are foundational to understanding God's character and his relationship with humanity throughout the Bible.\"\n",
            "}\n",
            "```\n",
            "\n"
          ]
        },
        {
          "output_type": "stream",
          "name": "stderr",
          "text": [
            "\r2it [00:31, 14.34s/it]"
          ]
        },
        {
          "output_type": "stream",
          "name": "stdout",
          "text": [
            "✅ Updated: Exodus\n",
            "\n",
            "📜 Raw Gemini response for Leviticus:\n",
            "```json\n",
            "{\n",
            "  \"overview\": \"Leviticus, though often skipped, is a crucial book within the Pentateuch focusing on holiness and the relationship between God and His people. It outlines detailed instructions for sacrifices, offerings, and ritual purity, emphasizing how the Israelites were to approach a holy God.  The book is divided into two halves, the first half describes our way to God – what we call justification – and the second half describes our walk with God – what is known as sanctification. These regulations were not just arbitrary rules but means of expressing gratitude, seeking atonement, and maintaining a distinct identity as God's chosen people. Understanding Leviticus provides insight into the Old Testament sacrificial system and God's desire for a set-apart people.\",\n",
            "  \"key_scriptures\": [\n",
            "    {\n",
            "      \"reference\": \"Leviticus 11-15\",\n",
            "      \"description\": \"These chapters detail laws regarding clean and unclean animals, skin diseases, and bodily discharges. They highlight the importance of physical purity as a reflection of spiritual holiness.\"\n",
            "    },\n",
            "    {\n",
            "      \"reference\": \"Leviticus 16\",\n",
            "      \"description\": \"This chapter describes the Day of Atonement (Yom Kippur), a crucial event where the high priest made atonement for the sins of the entire nation. It foreshadows the ultimate atonement made by Jesus Christ.\"\n",
            "    },\n",
            "    {\n",
            "      \"reference\": \"Leviticus 19:2\",\n",
            "      \"description\": \"This verse commands, \\\"Be holy, for I am holy,\\\" serving as a foundational principle for the entire book. It underscores God's expectation for His people to reflect His character in their behavior and lifestyle.\"\n",
            "    }\n",
            "  ],\n",
            "  \"theological_context\": \"Leviticus reveals God's holiness, humanity's sinfulness, the need for atonement, and the pursuit of godliness. It underscores that God is both just and merciful and that He has made a way for sinful humans to approach Him through sacrifice. The sacrificial system points to the ultimate sacrifice of Jesus Christ, who fulfilled the requirements of the law and became the perfect atonement for sin. While Christians are no longer bound by the specific rituals of Leviticus, the principles of holiness, purity, and gratitude remain relevant, calling believers to live lives that honor God in every aspect.\"\n",
            "}\n",
            "```\n",
            "\n"
          ]
        },
        {
          "output_type": "stream",
          "name": "stderr",
          "text": [
            "\r3it [00:39, 11.62s/it]"
          ]
        },
        {
          "output_type": "stream",
          "name": "stdout",
          "text": [
            "✅ Updated: Leviticus\n",
            "\n",
            "📜 Raw Gemini response for Numbers:\n",
            "```json\n",
            "{\n",
            "  \"overview\": \"The book of Numbers recounts the Israelites' journey from Mount Sinai to the plains of Moab, a journey that should have taken only eleven days but stretched into forty years due to their disobedience and lack of faith. It begins and ends with censuses of the people, highlighting a lost generation that failed to enter the Promised Land. The book mixes narrative and legislation, illustrating how the Israelites repeatedly broke God's laws despite his constant presence and provision. Ultimately, Numbers serves as a cautionary tale, demonstrating the consequences of rebellion and the importance of obedience and reverence towards God.\",\n",
            "  \"key_scriptures\": [\n",
            "    {\n",
            "      \"reference\": \"Numbers 6:24-26\",\n",
            "      \"description\": \"The Aaronic blessing, a mathematically perfect blessing of grace and peace, to be spoken over the people, showcasing the blessings of fellowship with God.\"\n",
            "    },\n",
            "    {\n",
            "      \"reference\": \"Numbers 13-14\",\n",
            "      \"description\": \"The story of the twelve spies sent to Canaan, where ten spread fear and doubt, leading to the Israelites' refusal to enter the Promised Land and subsequent 40-year wandering, highlighting the importance of faith in God's promises.\"\n",
            "    },\n",
            "    {\n",
            "      \"reference\": \"Numbers 21:4-9\",\n",
            "      \"description\": \"The account of the bronze serpent, where God provides a means of healing from snakebites for those who look upon it in faith, foreshadowing Christ's sacrifice and the salvation offered through him.\"\n",
            "    }\n",
            "  ],\n",
            "  \"theological_context\": \"Numbers emphasizes the holiness of God and the necessity of approaching Him with reverence and obedience. It demonstrates God's covenant faithfulness, both in blessing and in judgment, revealing His provision and protection alongside His righteous discipline for sin. The book highlights the themes of faith, obedience, and the consequences of unbelief, serving as a warning against grumbling and rebellion. It foreshadows Christ in several ways, including the bronze serpent and the manna, revealing aspects of His saving work.\"\n",
            "}\n",
            "```\n",
            "\n"
          ]
        },
        {
          "output_type": "stream",
          "name": "stderr",
          "text": [
            "\r4it [00:49, 10.95s/it]"
          ]
        },
        {
          "output_type": "stream",
          "name": "stdout",
          "text": [
            "✅ Updated: Numbers\n",
            "\n",
            "📜 Raw Gemini response for Deuteronomy:\n",
            "```json\n",
            "{\n",
            "  \"overview\": \"Deuteronomy, meaning \\\"second law,\\\" is the last book of the Pentateuch, recounting Moses's final speeches to the Israelites before entering the Promised Land. It serves as a renewal of the covenant, reiterating the Ten Commandments and expounding on the laws given at Sinai to a new generation. Moses emphasizes obedience to God's law as the key to blessing and prosperity in the land, warning against the dangers of idolatry and injustice. The book also looks forward to the future, appointing Joshua as Moses's successor.\",\n",
            "  \"key_scriptures\": [\n",
            "    \"Deuteronomy 5:6-21 - This section repeats the Ten Commandments, emphasizing their foundational importance for Israel's relationship with God and each other.\",\n",
            "    \"Deuteronomy 6:4-9 - This passage contains the Shema, a central declaration of faith, urging Israelites to love God with all their heart, soul, and strength, and to teach these commandments diligently to their children.\",\n",
            "    \"Deuteronomy 28 - This chapter outlines the blessings for obedience and the curses for disobedience, highlighting the consequences of Israel's choices regarding the covenant.\"\n",
            "  ],\n",
            "  \"theological_context\": \"Deuteronomy reinforces the covenantal relationship between God and Israel, emphasizing God's grace in delivering them from Egypt and His expectation of obedience to His law. It introduces the concept of conditional occupation of the Promised Land, where continued possession depends on faithfulness to the covenant. The book foreshadows the need for a greater prophet like Moses (Jesus), and stresses that God's law is not merely a set of rules, but a means of expressing love and loyalty to Him.\"\n",
            "}\n",
            "```\n",
            "\n"
          ]
        },
        {
          "output_type": "stream",
          "name": "stderr",
          "text": [
            "\r5it [00:59, 10.48s/it]"
          ]
        },
        {
          "output_type": "stream",
          "name": "stdout",
          "text": [
            "✅ Updated: Deuteronomy\n",
            "\n",
            "📜 Raw Gemini response for Joshua:\n",
            "```json\n",
            "{\n",
            "  \"overview\": \"The book of Joshua recounts Israel's conquest and division of the Promised Land under Joshua's leadership, following Moses' death. It details their entry into Canaan, miraculous victories like Jericho, and the allocation of land to the twelve tribes. The narrative emphasizes obedience to God's commands as crucial for success and highlights God's faithfulness in fulfilling his promises to Israel. Ultimately, the book is a prophetic history demonstrating God's active role in the world.\",\n",
            "  \"key_scriptures\": [\n",
            "    {\n",
            "      \"reference\": \"Joshua 1:9\",\n",
            "      \"description\": \"God's encouragement to Joshua to be strong and courageous, promising His presence and guaranteeing success if he obeys the law. This sets the tone for Joshua's leadership and the nation's conquest.\"\n",
            "    },\n",
            "    {\n",
            "      \"reference\": \"Joshua 6:20\",\n",
            "      \"description\": \"The fall of Jericho's walls after Israel's obedience to God's instructions, highlighting God's power and the importance of trusting in His divine intervention.\"\n",
            "    },\n",
            "    {\n",
            "      \"reference\": \"Joshua 24:15\",\n",
            "      \"description\": \"Joshua's challenge to the Israelites to choose whom they will serve, culminating in their declaration to serve the Lord, emphasizing the importance of covenant loyalty and devotion to God.\"\n",
            "    }\n",
            "  ],\n",
            "  \"theological_context\": \"Joshua reveals God's faithfulness to his covenant promises made to Abraham, Isaac, and Jacob, demonstrating his commitment to giving Israel the land. The book underscores the importance of obedience to God's law as the key to blessing and success. It also emphasizes God's sovereignty and active involvement in history, orchestrating events to fulfill his purposes. Further, it portrays the Promised Land not merely as a physical territory but also as a picture of the rest achieved through overcoming the enemies of faith.\"\n",
            "}\n",
            "```\n",
            "\n"
          ]
        },
        {
          "output_type": "stream",
          "name": "stderr",
          "text": [
            "\r6it [01:07,  9.83s/it]"
          ]
        },
        {
          "output_type": "stream",
          "name": "stdout",
          "text": [
            "✅ Updated: Joshua\n"
          ]
        },
        {
          "output_type": "stream",
          "name": "stderr",
          "text": [
            "\r7it [01:07,  6.69s/it]"
          ]
        },
        {
          "output_type": "stream",
          "name": "stdout",
          "text": [
            "⚠️ Skipping Judges - No commentary found.\n"
          ]
        },
        {
          "output_type": "stream",
          "name": "stderr",
          "text": [
            "\r8it [01:08,  4.64s/it]"
          ]
        },
        {
          "output_type": "stream",
          "name": "stdout",
          "text": [
            "⚠️ Skipping Ruth - No commentary found.\n"
          ]
        },
        {
          "output_type": "stream",
          "name": "stderr",
          "text": [
            "\r9it [01:08,  3.26s/it]"
          ]
        },
        {
          "output_type": "stream",
          "name": "stdout",
          "text": [
            "⚠️ Skipping 1 Samuel - No commentary found.\n"
          ]
        },
        {
          "output_type": "stream",
          "name": "stderr",
          "text": [
            "\r10it [01:08,  2.33s/it]"
          ]
        },
        {
          "output_type": "stream",
          "name": "stdout",
          "text": [
            "⚠️ Skipping 2 Samuel - No commentary found.\n"
          ]
        },
        {
          "output_type": "stream",
          "name": "stderr",
          "text": [
            "\r11it [01:08,  1.69s/it]"
          ]
        },
        {
          "output_type": "stream",
          "name": "stdout",
          "text": [
            "⚠️ Skipping 1 Kings - No commentary found.\n"
          ]
        },
        {
          "output_type": "stream",
          "name": "stderr",
          "text": [
            "\r12it [01:09,  1.25s/it]"
          ]
        },
        {
          "output_type": "stream",
          "name": "stdout",
          "text": [
            "⚠️ Skipping 2 Kings - No commentary found.\n"
          ]
        },
        {
          "output_type": "stream",
          "name": "stderr",
          "text": [
            "\r13it [01:09,  1.06it/s]"
          ]
        },
        {
          "output_type": "stream",
          "name": "stdout",
          "text": [
            "⚠️ Skipping 1 Chronicles - No commentary found.\n"
          ]
        },
        {
          "output_type": "stream",
          "name": "stderr",
          "text": [
            "\r14it [01:09,  1.37it/s]"
          ]
        },
        {
          "output_type": "stream",
          "name": "stdout",
          "text": [
            "⚠️ Skipping 2 Chronicles - No commentary found.\n"
          ]
        },
        {
          "output_type": "stream",
          "name": "stderr",
          "text": [
            "\r15it [01:09,  1.72it/s]"
          ]
        },
        {
          "output_type": "stream",
          "name": "stdout",
          "text": [
            "⚠️ Skipping Ezra - No commentary found.\n"
          ]
        },
        {
          "output_type": "stream",
          "name": "stderr",
          "text": [
            "\r16it [01:10,  2.10it/s]"
          ]
        },
        {
          "output_type": "stream",
          "name": "stdout",
          "text": [
            "⚠️ Skipping Nehemiah - No commentary found.\n",
            "\n",
            "📜 Raw Gemini response for Esther:\n",
            "```json\n",
            "{\n",
            "  \"overview\": \"The book of Esther tells the story of a Jewish woman who becomes queen of Persia and bravely intervenes to save her people from annihilation. Set during the Jewish exile, it recounts the events leading up to the institution of the Feast of Purim. While God's name is not explicitly mentioned, his providential hand is seen through a series of coincidences and the courage of Esther and Mordecai. The story highlights themes of courage, identity, and God's unseen protection of his people, even in the face of extreme adversity.\",\n",
            "  \"key_scriptures\": [\n",
            "    \"Esther 4:14 - Mordecai suggests that Esther has been placed in her royal position for 'such a time as this,' highlighting the theme of divine providence and Esther's responsibility.\",\n",
            "    \"Esther 7:10 - Haman is hanged on the very gallows he had prepared for Mordecai, illustrating the ironic reversal of fortune and divine justice.\",\n",
            "    \"Esther 1:20, 5:4, 5:13, 7:7 - These verses contain acrostics in the Hebrew text that spell out God's name (YHWH), subtly revealing God's presence and activity, despite the book's lack of direct references to him.\"\n",
            "  ],\n",
            "  \"theological_context\": \"Esther explores God's sovereignty and providential care for his chosen people, even when they are in exile and his presence seems hidden. The book emphasizes the importance of faithfulness to one's identity and the courage to stand against injustice. It implicitly affirms God's covenantal commitment to preserve the Jewish people, from whom salvation would come. Furthermore, it subtly displays that God can work through unlikely individuals and seemingly chance events to accomplish his purposes.\"\n",
            "}\n",
            "```\n",
            "\n"
          ]
        },
        {
          "output_type": "stream",
          "name": "stderr",
          "text": [
            "\r17it [01:15,  2.08s/it]"
          ]
        },
        {
          "output_type": "stream",
          "name": "stdout",
          "text": [
            "✅ Updated: Esther\n",
            "\n",
            "📜 Raw Gemini response for Job:\n",
            "```json\n",
            "{\n",
            "  \"overview\": \"The Book of Job explores the profound question of why good people suffer, even when they are righteous. It tells the story of Job, a blameless man who experiences immense tragedy and loss. The book consists of a dialogue between Job and his friends, who argue that his suffering must be a result of sin. Ultimately, God appears and reveals his power and wisdom, leading Job to repent and trust in God's sovereignty. The book suggests that there isn't always a direct correlation between sin and suffering and that God's ways are beyond human understanding.\",\n",
            "  \"key_scriptures\": [\n",
            "    {\n",
            "      \"reference\": \"Job 1:21\",\n",
            "      \"description\": \"This verse ('the Lord gave, and the Lord hath taken away; blessed be the name of the Lord') reflects Job's initial pious response to his losses, demonstrating his faith despite hardship.\"\n",
            "    },\n",
            "    {\n",
            "      \"reference\": \"Ezekiel 14:14\",\n",
            "      \"description\": \"Ezekiel lists Job with Noah and Daniel as examples of righteous men, affirming Job's historical reality and exceptional righteousness in the Old Testament.\"\n",
            "    },\n",
            "    {\n",
            "      \"reference\": \"James 5:11\",\n",
            "      \"description\": \"James uses Job's perseverance as an example for his readers in the New Testament, highlighting the value of steadfastness in the face of trials.\"\n",
            "    }\n",
            "  ],\n",
            "  \"theological_context\": \"The Book of Job grapples with theodicy, the attempt to reconcile the goodness and power of God with the existence of evil and suffering. It affirms the existence of one, all-powerful, good, and compassionate God who relates to his creation. However, Job's suffering challenges the simplistic view that righteousness is always rewarded and wickedness always punished in this life. The book acknowledges that God's ways are often mysterious and beyond human comprehension, and it ultimately calls for trust in God's wisdom and sovereignty even in the midst of unanswered questions. The book is also part of the wisdom literature in the Old Testament.\"\n",
            "}\n",
            "```\n",
            "\n"
          ]
        },
        {
          "output_type": "stream",
          "name": "stderr",
          "text": [
            "\r18it [01:23,  3.58s/it]"
          ]
        },
        {
          "output_type": "stream",
          "name": "stdout",
          "text": [
            "✅ Updated: Job\n",
            "\n",
            "📜 Raw Gemini response for Psalms:\n",
            "```json\n",
            "{\n",
            "  \"overview\": \"The Book of Psalms is a collection of hymns and prayers from ancient Israel, spanning nearly 1000 years of composition. It serves as both a hymnbook and prayer book, expressing a wide range of human emotions, from joy and praise to grief and lament. The psalms cover various themes, including Israel's history, creation, kingship, and the relationship between God and humanity. Divided into five books, the Psalms offer timeless expressions of worship and provide a window into the hearts of those seeking a deeper connection with God.\",\n",
            "  \"key_scriptures\": [\n",
            "    {\n",
            "      \"reference\": \"Psalm 22\",\n",
            "      \"description\": \"Reflects the suffering of Christ on the cross, particularly the feeling of abandonment, and is quoted by Jesus in the New Testament.\"\n",
            "    },\n",
            "    {\n",
            "      \"reference\": \"Psalm 23\",\n",
            "      \"description\": \"Portrays God as a caring shepherd, providing comfort, guidance, and provision for his followers, emphasizing his personal care and protection.\"\n",
            "    },\n",
            "    {\n",
            "      \"reference\": \"Psalm 110:1\",\n",
            "      \"description\": \"The most quoted verse in the New Testament, where God says to David's Lord to sit at His right hand until his enemies are made a footstool, highlighting the Messiah's exaltation.\"\n",
            "    }\n",
            "  ],\n",
            "  \"theological_context\": \"The Psalms emphasize both the transcendence and immanence of God, portraying him as both the Almighty Creator and a personal, relational being. They affirm God's attributes such as omnipotence, omniscience, and omnipresence, while also highlighting his actions of creation, redemption, and provision. The Psalms cover themes of covenant faithfulness, divine kingship, the importance of worship, and the hope for messianic deliverance. They also acknowledge human sinfulness and the need for repentance, ultimately leading to a passionate expression of praise and dependence on God.\"\n",
            "}\n",
            "```\n",
            "\n"
          ]
        },
        {
          "output_type": "stream",
          "name": "stderr",
          "text": [
            "\r19it [01:29,  4.52s/it]"
          ]
        },
        {
          "output_type": "stream",
          "name": "stdout",
          "text": [
            "✅ Updated: Psalms\n",
            "\n",
            "📜 Raw Gemini response for Proverbs:\n",
            "```json\n",
            "{\n",
            "  \"overview\": \"The book of Proverbs is a collection of wisdom sayings intended to guide individuals in practical living, covering a wide range of topics from personal conduct to family relationships. It emphasizes the importance of wisdom, understanding, and discretion in navigating daily life, contrasting them with the pitfalls of folly and wickedness. Proverbs describes life as it is actually lived and challenges readers to make the most of it. While seemingly secular, Proverbs ultimately roots all true wisdom in the fear of the Lord, presenting a path to a fulfilling and purposeful life.\",\n",
            "  \"key_scriptures\": [\n",
            "    {\n",
            "      \"reference\": \"Proverbs 1:7\",\n",
            "      \"description\": \"Declares that the fear of the Lord is the beginning of wisdom, setting the foundation for all understanding and discernment.\"\n",
            "    },\n",
            "    {\n",
            "      \"reference\": \"Proverbs 3:5-6\",\n",
            "      \"description\": \"Advises trusting in the Lord with all your heart and acknowledging Him in all ways, emphasizing reliance on God's guidance rather than one's own understanding.\"\n",
            "    },\n",
            "    {\n",
            "      \"reference\": \"Proverbs 31:10-31\",\n",
            "      \"description\": \"Describes the character of a virtuous woman, highlighting her wisdom, diligence, and contribution to the well-being of her family and community.\"\n",
            "    }\n",
            "  ],\n",
            "  \"theological_context\": \"The book of Proverbs operates within a theological framework where God is the source of all true wisdom. It emphasizes a practical theology, demonstrating how faith in God should impact daily decisions and relationships. Though themes of redemption are not explicit, Proverbs is aligned with the biblical theme of salvation, guiding believers toward the kind of life they are saved for. The book affirms that righteous living is a reflection of God's character and a testimony to His wisdom, challenging the sacred/secular divide and emphasizing that all aspects of life can be sacred when devoted to God.\"\n",
            "}\n",
            "```\n",
            "\n"
          ]
        },
        {
          "output_type": "stream",
          "name": "stderr",
          "text": [
            "\r20it [01:36,  5.16s/it]"
          ]
        },
        {
          "output_type": "stream",
          "name": "stdout",
          "text": [
            "✅ Updated: Proverbs\n",
            "\n",
            "📜 Raw Gemini response for Ecclesiastes:\n",
            "```json\n",
            "{\n",
            "  \"overview\": \"Ecclesiastes, attributed to King Solomon, is a philosophical exploration of life's meaning and purpose. The book grapples with themes of vanity, the fleeting nature of earthly pursuits, and the limitations of human wisdom. Through the voice of Qohelet (the Preacher), the book presents a sometimes pessimistic view of life 'under the sun,' questioning the ultimate value of work, pleasure, and knowledge. Despite its cynicism, Ecclesiastes ultimately points towards the importance of fearing God and keeping His commandments as the foundation for a meaningful existence.\",\n",
            "  \"key_scriptures\": [\n",
            "    \"Ecclesiastes 1:2 - 'Meaningless! Meaningless! … Everything is meaningless!' This opening statement sets the tone for the book, highlighting the perceived futility of earthly endeavors when viewed solely from a worldly perspective.\",\n",
            "    \"Ecclesiastes 3:11 - 'He has made everything beautiful in its time.' This verse offers a contrasting perspective, suggesting that God has a purpose for everything, even if it is not immediately apparent to us.\",\n",
            "    \"Ecclesiastes 12:13-14 - 'Fear God and obey his commandments, for this is the entire duty of man. For God will judge us for everything we do, including every hidden thing, good or bad.' This conclusion emphasizes the importance of reverence for God and obedience to His laws as the ultimate purpose and responsibility of humanity.\"\n",
            "  ],\n",
            "  \"theological_context\": \"Ecclesiastes explores themes of God's sovereignty, human responsibility, and the limits of earthly wisdom. While it acknowledges the futility of life viewed only 'under the sun,' it ultimately affirms the importance of a relationship with God. The book contrasts the temporary nature of earthly pleasures with the eternal perspective of God's judgment. It wrestles with predestination versus freewill. The final conclusion grounds the book within a broader wisdom tradition that emphasizes the fear of the Lord as the beginning of wisdom and obedience to His commandments as the path to a meaningful life.\"\n",
            "}\n",
            "```\n",
            "\n"
          ]
        },
        {
          "output_type": "stream",
          "name": "stderr",
          "text": [
            "\r21it [01:42,  5.40s/it]"
          ]
        },
        {
          "output_type": "stream",
          "name": "stdout",
          "text": [
            "✅ Updated: Ecclesiastes\n"
          ]
        },
        {
          "output_type": "stream",
          "name": "stderr",
          "text": [
            "\r22it [01:42,  3.85s/it]"
          ]
        },
        {
          "output_type": "stream",
          "name": "stdout",
          "text": [
            "⚠️ Skipping Song of Solomon - No commentary found.\n",
            "\n",
            "📜 Raw Gemini response for Isaiah:\n",
            "```json\n",
            "{\n",
            "  \"overview\": \"The book of Isaiah, often considered a miniature Bible, is divided into two main sections mirroring the Old and New Testaments. The first 39 chapters focus on judgment and warning to Judah and surrounding nations, while the latter 27 chapters offer comfort, hope, and the promise of a future Messiah. Isaiah prophesies about the coming Servant of the Lord, who will suffer for the sins of the people, and the ultimate restoration of Israel and the establishment of God's kingdom. The book's structure and themes provide a comprehensive view of God's plan for salvation, from judgment to redemption.\",\n",
            "  \"key_scriptures\": [\n",
            "    {\n",
            "      \"reference\": \"Isaiah 7:14\",\n",
            "      \"description\": \"A prophecy of the virgin birth of Immanuel, a sign of God's presence and deliverance.\"\n",
            "    },\n",
            "    {\n",
            "      \"reference\": \"Isaiah 9:6\",\n",
            "      \"description\": \"Describes the coming Messiah as a child born to be Wonderful Counselor, Mighty God, Everlasting Father, and Prince of Peace, highlighting his divine nature and future reign.\"\n",
            "    },\n",
            "    {\n",
            "      \"reference\": \"Isaiah 53:5\",\n",
            "      \"description\": \"Central verse describing the suffering Servant of the Lord, pierced for transgressions and crushed for iniquities, emphasizing his atoning sacrifice for the healing of humanity.\"\n",
            "    }\n",
            "  ],\n",
            "  \"theological_context\": \"Isaiah emphasizes the holiness of God, His sovereignty over all nations, and His faithfulness to His covenant with Israel. A key theme is the coming Messiah, who will be both a suffering servant and a reigning king, offering salvation and restoration. The book explores the consequences of sin, the need for repentance, and the promise of forgiveness through God's redemptive plan. Isaiah also foreshadows the role of the Holy Spirit in empowering God's servant and bringing about a new covenant.\"\n",
            "}\n",
            "```\n",
            "\n"
          ]
        },
        {
          "output_type": "stream",
          "name": "stderr",
          "text": [
            "\r23it [01:50,  5.08s/it]"
          ]
        },
        {
          "output_type": "stream",
          "name": "stdout",
          "text": [
            "✅ Updated: Isaiah\n"
          ]
        },
        {
          "output_type": "stream",
          "name": "stderr",
          "text": [
            "\r24it [01:50,  3.62s/it]"
          ]
        },
        {
          "output_type": "stream",
          "name": "stdout",
          "text": [
            "⚠️ Skipping Jeremiah - No commentary found.\n"
          ]
        },
        {
          "output_type": "stream",
          "name": "stderr",
          "text": [
            "\r25it [01:50,  2.61s/it]"
          ]
        },
        {
          "output_type": "stream",
          "name": "stdout",
          "text": [
            "⚠️ Skipping Lamentations - No commentary found.\n",
            "\n",
            "📜 Raw Gemini response for Ezekiel:\n",
            "```json\n",
            "{\n",
            "  \"overview\": \"The book of Ezekiel, though often overlooked due to its initial focus on judgment and complex imagery, is a critical prophetic work. Ezekiel prophesied to the Jewish exiles in Babylon, delivering messages of both impending doom for Jerusalem and eventual restoration. He uses vivid, apocalyptic language and symbolic actions to convey God's word. The book is structured in three parts: warnings of Jerusalem's destruction, prophecies against surrounding nations, and promises of Israel's return and a new temple.\",\n",
            "  \"key_scriptures\": [\n",
            "    {\n",
            "      \"reference\": \"Ezekiel 37:1-14\",\n",
            "      \"description\": \"The Valley of Dry Bones: Illustrates God's power to restore Israel from a state of spiritual death to new life, symbolizing national resurrection and renewal.\"\n",
            "    },\n",
            "    {\n",
            "      \"reference\": \"Ezekiel 34\",\n",
            "      \"description\": \"Good and Bad Shepherds: Contrasts the failings of Israel's leaders with God's promise to be the true shepherd of His people, foreshadowing the coming of a righteous ruler.\"\n",
            "    },\n",
            "    {\n",
            "      \"reference\": \"Ezekiel 40-48\",\n",
            "      \"description\": \"The New Temple: Provides a detailed vision of a restored temple and a renewed land, symbolizing God's presence with His people and the future hope of restoration and divine order, although interpretation of these chapters vary among scholars.\"\n",
            "    }\n",
            "  ],\n",
            "  \"theological_context\": \"Ezekiel highlights God's sovereignty and holiness, emphasizing His judgment against sin, especially idolatry, immorality, and ingratitude. A key theme is the vindication of God's name; both in judgment and restoration, God acts to demonstrate His power and faithfulness to both Israel and the nations, fulfilling covenant promises. Personal responsibility before God is stressed, challenging the notion that individuals are merely victims of their ancestors' sins. Despite the severity of God's judgment, the book ultimately points to a future of hope and restoration, reflecting God's enduring covenant love for His people.\"\n",
            "}\n",
            "```\n",
            "\n"
          ]
        },
        {
          "output_type": "stream",
          "name": "stderr",
          "text": [
            "\r26it [01:58,  4.13s/it]"
          ]
        },
        {
          "output_type": "stream",
          "name": "stdout",
          "text": [
            "✅ Updated: Ezekiel\n",
            "\n",
            "📜 Raw Gemini response for Daniel:\n",
            "```json\n",
            "{\n",
            "  \"overview\": \"The Book of Daniel is a unique blend of easily understood narratives and complex, symbolic prophecies. It recounts the experiences of Daniel and his companions in Babylonian exile, highlighting their faithfulness to God amidst cultural pressures and persecution. The book then transitions into prophetic visions, revealing God's sovereignty over earthly kingdoms and future events, some fulfilled and some still awaiting fulfillment. Daniel emphasizes God's power to intervene miraculously and to accurately predict the future.\",\n",
            "  \"key_scriptures\": [\n",
            "    {\n",
            "      \"reference\": \"Daniel 1:8\",\n",
            "      \"description\": \"Daniel's refusal to defile himself with the king's food demonstrates his commitment to God's law, highlighting the importance of obedience and integrity even in seemingly small matters.\"\n",
            "    },\n",
            "    {\n",
            "      \"reference\": \"Daniel 3:16-18\",\n",
            "      \"description\": \"Shadrach, Meshach, and Abednego's unwavering faith and refusal to worship Nebuchadnezzar's idol showcase courage and trust in God's deliverance, even in the face of certain death.\"\n",
            "    },\n",
            "    {\n",
            "      \"reference\": \"Daniel 9:24-27\",\n",
            "      \"description\": \"The prophecy of the seventy 'sevens' provides a timeline for the coming of the Messiah, demonstrating God's meticulous plan for salvation history and His ability to orchestrate events according to His purpose.\"\n",
            "    }\n",
            "  ],\n",
            "  \"theological_context\": \"The Book of Daniel underscores the sovereignty of God over all nations and kingdoms, demonstrating that He raises up and deposes rulers according to His will. It emphasizes the importance of faithfulness and obedience to God, even when facing persecution or cultural pressure. The book also highlights the reality of the supernatural, demonstrating God's power to intervene in human affairs through miracles and angelic visitations. Finally, Daniel serves as a testament to God's prophetic accuracy, revealing His knowledge of the future and His ability to bring His plans to pass.\"\n",
            "}\n",
            "```\n",
            "\n"
          ]
        },
        {
          "output_type": "stream",
          "name": "stderr",
          "text": [
            "\r27it [02:06,  5.12s/it]"
          ]
        },
        {
          "output_type": "stream",
          "name": "stdout",
          "text": [
            "✅ Updated: Daniel\n"
          ]
        },
        {
          "output_type": "stream",
          "name": "stderr",
          "text": [
            "\r28it [02:06,  3.66s/it]"
          ]
        },
        {
          "output_type": "stream",
          "name": "stdout",
          "text": [
            "⚠️ Skipping Hosea - No commentary found.\n",
            "\n",
            "📜 Raw Gemini response for Joel:\n",
            "```json\n",
            "{\n",
            "  \"overview\": \"The book of Joel is a prophetic warning to Israel, prompted by a devastating locust plague. Joel declares that this disaster is a sign of God's judgment and calls the people to repent. He warns that the 'Day of the Lord' is coming, bringing judgment not only upon the nations but also upon Israel itself. The book concludes with promises of restoration and spiritual renewal if the people turn back to God, including the outpouring of the Holy Spirit.\",\n",
            "  \"key_scriptures\": [\n",
            "    {\n",
            "      \"reference\": \"Joel 2:12-17\",\n",
            "      \"description\": \"A call to true repentance, emphasizing rending hearts instead of garments, highlighting the importance of genuine inward change.\"\n",
            "    },\n",
            "    {\n",
            "      \"reference\": \"Joel 2:28-29\",\n",
            "      \"description\": \"The promise of the outpouring of God's Spirit on all people, regardless of age, gender, or social status, signifying a new era of spiritual empowerment.\"\n",
            "    },\n",
            "    {\n",
            "      \"reference\": \"Joel 3:12-16\",\n",
            "      \"description\": \"Depicts the Valley of Decision (Kidron Valley), where God will judge the nations based on their treatment of His people, Israel.\"\n",
            "    }\n",
            "  ],\n",
            "  \"theological_context\": \"Joel addresses themes of divine judgment, repentance, and restoration within the context of God's covenant relationship with Israel. The book emphasizes the sovereignty of God over both nature and nations, using the locust plague as a tangible example of His power and warning. The Day of the Lord is a central theme, representing a time of both judgment and ultimate salvation. The promise of the Spirit's outpouring points to a future era of spiritual renewal and foreshadows the events of Pentecost, offering hope for both Israel and the nations.\"\n",
            "}\n",
            "```\n",
            "\n"
          ]
        },
        {
          "output_type": "stream",
          "name": "stderr",
          "text": [
            "\r29it [02:12,  4.36s/it]"
          ]
        },
        {
          "output_type": "stream",
          "name": "stdout",
          "text": [
            "✅ Updated: Joel\n"
          ]
        },
        {
          "output_type": "stream",
          "name": "stderr",
          "text": [
            "\r30it [02:12,  3.12s/it]"
          ]
        },
        {
          "output_type": "stream",
          "name": "stdout",
          "text": [
            "⚠️ Skipping Amos - No commentary found.\n",
            "\n",
            "📜 Raw Gemini response for Obadiah:\n",
            "```json\n",
            "{\n",
            "  \"overview\": \"Obadiah, the shortest book in the Old Testament, is a prophecy against Edom, a nation descended from Esau. Written around 845 BC, it foretells Edom's destruction due to their pride and their mistreatment of Israel. The prophecy also broadens to encompass the judgment of all nations, emphasizing God's sovereignty over them. Ultimately, Obadiah envisions Israel's restoration and possession of their promised land, including Edom's territory.\",\n",
            "  \"key_scriptures\": [\n",
            "    {\n",
            "      \"reference\": \"Obadiah 1:3-4\",\n",
            "      \"description\": \"Describes Edom's prideful arrogance and God's promise to bring them down from their seemingly impregnable fortress.\"\n",
            "    },\n",
            "    {\n",
            "      \"reference\": \"Obadiah 1:10-14\",\n",
            "      \"description\": \"Condemns Edom for their violence and lack of compassion towards Israel, particularly during times of distress.\"\n",
            "    },\n",
            "    {\n",
            "      \"reference\": \"Obadiah 1:15\",\n",
            "      \"description\": \"Announces the coming \\\"Day of the Lord\\\" and the principle of retribution: \\\"As you have done, so it will be done to you.\\\"\"\n",
            "    }\n",
            "  ],\n",
            "  \"theological_context\": \"The book of Obadiah highlights the doctrines of divine justice, God's sovereignty over nations, and the consequences of pride and mistreatment of God's people. It underscores the theme that God judges nations based on their actions, especially towards Israel. The prophecy reinforces the covenant promise to bless those who bless Israel and curse those who curse them, demonstrating God's unwavering commitment to His chosen people. Furthermore, it points to a future restoration and judgment that will affect all nations.\"\n",
            "}\n",
            "```\n",
            "\n"
          ]
        },
        {
          "output_type": "stream",
          "name": "stderr",
          "text": [
            "\r31it [02:17,  3.78s/it]"
          ]
        },
        {
          "output_type": "stream",
          "name": "stdout",
          "text": [
            "✅ Updated: Obadiah\n",
            "\n",
            "📜 Raw Gemini response for Jonah:\n",
            "```json\n",
            "{\n",
            "  \"overview\": \"The book of Jonah tells the story of a prophet who initially disobeys God's command to preach repentance to the city of Nineveh. He flees but is swallowed by a great fish, where he spends three days and nights before being vomited onto dry land. He then obeys God, and to Jonah's dismay, the entire city repents, leading God to spare them. The book explores themes of obedience, mercy, and God's compassion for all people, even enemies.\",\n",
            "  \"key_scriptures\": [\n",
            "    {\n",
            "      \"reference\": \"Jonah 1:3\",\n",
            "      \"description\": \"Jonah flees from God's presence and boards a ship to Tarshish, demonstrating his initial disobedience and attempt to avoid his divinely appointed mission to Nineveh.\"\n",
            "    },\n",
            "    {\n",
            "      \"reference\": \"Jonah 3:5-10\",\n",
            "      \"description\": \"The people of Nineveh, from the greatest to the least, repent after Jonah's preaching, highlighting the power of God's word and the potential for transformation, even in the most wicked of societies.\"\n",
            "    },\n",
            "    {\n",
            "      \"reference\": \"Jonah 4:2\",\n",
            "      \"description\": \"Jonah expresses his frustration with God's mercy, revealing his understanding of God's character as gracious and compassionate, which is the very reason he initially fled to Tarshish.\"\n",
            "    }\n",
            "  ],\n",
            "  \"theological_context\": \"The book of Jonah highlights God's universal love and his desire for all people to repent and be saved, challenging the notion that God's grace is limited to a specific nation. It demonstrates the tension between divine justice and mercy, showing God's willingness to forgive when people turn from their wickedness. It also points to the doctrine of God's sovereignty, demonstrating his power over nature and his ability to use even disobedient individuals to accomplish his purposes. The book also explores the nature of true repentance and the importance of obedience to God's call, even when it is difficult or goes against our own desires.\"\n",
            "}\n",
            "```\n",
            "\n"
          ]
        },
        {
          "output_type": "stream",
          "name": "stderr",
          "text": [
            "\r32it [02:23,  4.47s/it]"
          ]
        },
        {
          "output_type": "stream",
          "name": "stdout",
          "text": [
            "✅ Updated: Jonah\n",
            "\n",
            "📜 Raw Gemini response for Micah:\n",
            "```json\n",
            "{\n",
            "  \"overview\": \"The book of Micah, though from a 'minor' prophet, delivers a powerful message concerning social injustice, idolatry, and God's impending judgment on Judah and Israel. Micah, a contemporary of Isaiah but from a rural background, specifically addresses the corruption and exploitation of the poor by the wealthy elite. Despite warnings of destruction, Micah also prophecies about future restoration, the coming of a king from Bethlehem, and ultimate peace. The book is structured around themes of crime and punishment, peace and security, and justice and mercy.\",\n",
            "  \"key_scriptures\": [\n",
            "    {\n",
            "      \"reference\": \"Micah 5:2\",\n",
            "      \"description\": \"Prophesies that a ruler will come from Bethlehem, fulfilled by the birth of Jesus Christ.\"\n",
            "    },\n",
            "    {\n",
            "      \"reference\": \"Micah 6:8\",\n",
            "      \"description\": \"States that God requires people to 'act justly, love mercy and walk humbly with your God.'\"\n",
            "    },\n",
            "    {\n",
            "      \"reference\": \"Micah 7:18\",\n",
            "      \"description\": \"Asks 'Who is a pardoning God like you?', highlighting God's willingness to forgive.\"\n",
            "    }\n",
            "  ],\n",
            "  \"theological_context\": \"Micah reveals God's dual nature as both just and merciful, emphasizing that sin must be punished before it can be pardoned. He highlights the importance of social justice and ethical living as integral components of true worship, not merely ritualistic sacrifices. The book also underscores the messianic hope, foreshadowing Christ's future reign of peace and justice. These themes align with core doctrines of judgment, redemption, and the requirement for humility and righteousness in relating to God and others.\"\n",
            "}\n",
            "```\n",
            "\n"
          ]
        },
        {
          "output_type": "stream",
          "name": "stderr",
          "text": [
            "\r33it [02:29,  4.78s/it]"
          ]
        },
        {
          "output_type": "stream",
          "name": "stdout",
          "text": [
            "✅ Updated: Micah\n",
            "\n",
            "📜 Raw Gemini response for Nahum:\n",
            "```json\n",
            "{\n",
            "  \"overview\": \"The book of Nahum is a prophecy declaring the impending destruction of Nineveh, the capital of Assyria, about 150 years after Jonah's ministry. Unlike Jonah, Nahum's message offers no opportunity for repentance; God's judgment is final due to Assyria's persistent cruelty and inhumanity. This destruction serves as good news for Israel, who had suffered greatly under Assyrian rule. Nahum highlights God's control over history and His justice in punishing nations for their sins.\",\n",
            "  \"key_scriptures\": [\n",
            "    {\n",
            "      \"reference\": \"Nahum 1:2\",\n",
            "      \"description\": \"Describes God as a jealous and avenging God, emphasizing His wrath against those who defy Him. This reveals a side of God's character often overlooked.\"\n",
            "    },\n",
            "    {\n",
            "      \"reference\": \"Nahum 3:19\",\n",
            "      \"description\": \"States that 'There is no remedy for your wound; your injury is past healing.' showing that God's judgment on Nineveh is irreversible.\"\n",
            "    }\n",
            "  ],\n",
            "  \"theological_context\": \"Nahum affirms God's sovereignty over nations and history, demonstrating that He raises up and brings down empires according to His will. The book illustrates God's justice, judging nations based on their knowledge of right and wrong, particularly regarding crimes against humanity. A key theme is God's jealousy for His name, reputation, and people, leading Him to execute vengeance against those who defy Him. It also serves as a warning that God's patience has limits and that His wrath, once aroused, is unstoppable.\"\n",
            "}\n",
            "```\n",
            "\n"
          ]
        },
        {
          "output_type": "stream",
          "name": "stderr",
          "text": [
            "\r34it [02:34,  4.93s/it]"
          ]
        },
        {
          "output_type": "stream",
          "name": "stdout",
          "text": [
            "✅ Updated: Nahum\n",
            "\n",
            "📜 Raw Gemini response for Habakkuk:\n",
            "```json\n",
            "{\n",
            "  \"overview\": \"Habakkuk is a unique prophetic book where the prophet directly addresses God, questioning His justice in the face of Judah's wickedness and God's subsequent plan to use the even more wicked Babylonians as punishment. The book unfolds as a dialogue, with Habakkuk initially complaining about God's inaction and then challenging God's methods. God responds by assuring Habakkuk that the righteous will live by faith and that Babylon will eventually face judgment. Ultimately, Habakkuk's perspective shifts from complaint to praise, culminating in a song of trust in God's sovereignty and future protection.\",\n",
            "  \"key_scriptures\": [\n",
            "    {\n",
            "      \"reference\": \"Habakkuk 2:4\",\n",
            "      \"description\": \"\\\"The just shall live by faith.\\\" This verse, pivotal to the Reformation, emphasizes the importance of enduring faithfulness and continued belief in God for survival and salvation, particularly during times of judgment and hardship.\"\n",
            "    },\n",
            "    {\n",
            "      \"reference\": \"Habakkuk 1:13\",\n",
            "      \"description\": \"\\\"Your eyes are too pure to look on evil.\\\" This verse reflects Habakkuk's initial challenge to God's character, questioning how a holy God could use a more wicked nation (Babylon) to punish Judah. It highlights the tension between God's holiness and His sovereignty in using imperfect instruments for His purposes.\"\n",
            "    },\n",
            "    {\n",
            "      \"reference\": \"Habakkuk 3:17-18\",\n",
            "      \"description\": \"\\\"Though the fig-tree does not bud and there are no grapes on the vines … yet I will rejoice in the Lord, I will be joyful in God my Saviour.\\\" These verses demonstrate Habakkuk's final stance of unwavering faith and joyful trust in God's salvation, even amidst widespread devastation and hardship, highlighting the power of faith to overcome despair.\"\n",
            "    }\n",
            "  ],\n",
            "  \"theological_context\": \"Habakkuk grapples with the problem of theodicy, exploring God's justice, sovereignty, and holiness in light of human suffering and the existence of evil. The book emphasizes God's ultimate control over history, using nations as instruments of judgment while holding them accountable for their own wickedness. It underscores the importance of faith as enduring trust and faithfulness in God, particularly during times of trial, promising that the righteous will ultimately survive. Habakkuk reveals God's mercy is present even in times of wrath.\"\n",
            "}\n",
            "```\n",
            "\n"
          ]
        },
        {
          "output_type": "stream",
          "name": "stderr",
          "text": [
            "\r35it [02:41,  5.44s/it]"
          ]
        },
        {
          "output_type": "stream",
          "name": "stdout",
          "text": [
            "✅ Updated: Habakkuk\n",
            "\n",
            "📜 Raw Gemini response for Zephaniah:\n",
            "```json\n",
            "{\n",
            "  \"overview\": \"Zephaniah prophesied during a time of great moral and spiritual decline in Judah, particularly during the reigns of Manasseh and Amon. He warned of an impending \\\"Day of the Lord,\\\" a time of judgment against Judah and the surrounding nations for their idolatry and wickedness. The book calls for repentance to avert God's wrath and promises future restoration and blessing for a remnant of Israel and for the nations who turn to God. Ultimately, the message combines warnings of judgment with hope for future redemption and divine mercy.\",\n",
            "  \"key_scriptures\": [\n",
            "    {\n",
            "      \"reference\": \"Zephaniah 1:4-6\",\n",
            "      \"description\": \"Describes the apostasy of Judah, where people have abandoned the Lord and worship false gods, signaling the deserved judgment.\"\n",
            "    },\n",
            "    {\n",
            "      \"reference\": \"Zephaniah 2:3\",\n",
            "      \"description\": \"Encourages the humble to seek the Lord, righteousness, and humility, offering a possibility of being sheltered from the Day of the Lord's anger.\"\n",
            "    },\n",
            "    {\n",
            "      \"reference\": \"Zephaniah 3:17\",\n",
            "      \"description\": \"Depicts God's ultimate love and joy over his people, promising a time when God will rejoice over them with singing, demonstrating divine mercy.\"\n",
            "    }\n",
            "  ],\n",
            "  \"theological_context\": \"Zephaniah emphasizes God's sovereignty and justice, highlighting his role as the judge of all nations. A key theme is the \\\"Day of the Lord,\\\" a complex concept incorporating both judgment and eventual restoration. The book reveals God's holiness and his intolerance of sin, while simultaneously demonstrating his desire for repentance and his willingness to show mercy. God's covenant faithfulness is also displayed, as he promises to ultimately restore a remnant of Israel and extend his blessings to the nations.\"\n",
            "}\n",
            "```\n",
            "\n"
          ]
        },
        {
          "output_type": "stream",
          "name": "stderr",
          "text": [
            "\r36it [02:47,  5.55s/it]"
          ]
        },
        {
          "output_type": "stream",
          "name": "stdout",
          "text": [
            "✅ Updated: Zephaniah\n",
            "\n",
            "📜 Raw Gemini response for Haggai:\n",
            "```json\n",
            "{\n",
            "  \"overview\": \"The book of Haggai, a short but impactful post-exilic prophecy, centers on the rebuilding of the temple in Jerusalem. The prophet confronts the people's misplaced priorities, as they focused on their own comforts while neglecting God's house. Haggai's messages, delivered over a mere three months, encourage the people to prioritize God, promising blessings and future glory if they obey. The book emphasizes that material prosperity is tied to spiritual obedience and that God's presence is more important than the temple's grandeur.\",\n",
            "  \"key_scriptures\": [\n",
            "    {\n",
            "      \"reference\": \"Haggai 1:4\",\n",
            "      \"description\": \"God challenges the people for living in paneled houses while His house lies in ruins, highlighting their misplaced priorities.\"\n",
            "    },\n",
            "    {\n",
            "      \"reference\": \"Haggai 2:9\",\n",
            "      \"description\": \"God promises that the glory of the rebuilt temple will be greater than the former, indicating future blessings and peace.\"\n",
            "    },\n",
            "    {\n",
            "      \"reference\": \"Haggai 2:23\",\n",
            "      \"description\": \"God designates Zerubbabel as His signet ring, promising the re-establishment of the Davidic line and a future shaking of the nations.\"\n",
            "    }\n",
            "  ],\n",
            "  \"theological_context\": \"Haggai underscores the importance of covenant faithfulness and the direct correlation between obedience and blessing. The book highlights God's sovereignty over nations and His commitment to His promises, particularly regarding the Davidic line. It emphasizes that ritual acts of worship (rebuilding the temple) are meaningless without a corresponding change in the people's hearts and lives. The rebuilding becomes a symbol of spiritual renewal and a restoration of the relationship between God and His people, emphasizing putting God first in all aspects of life.\"\n",
            "}\n",
            "```\n",
            "\n"
          ]
        },
        {
          "output_type": "stream",
          "name": "stderr",
          "text": [
            "\r37it [02:53,  5.68s/it]"
          ]
        },
        {
          "output_type": "stream",
          "name": "stdout",
          "text": [
            "✅ Updated: Haggai\n",
            "\n",
            "📜 Raw Gemini response for Zechariah:\n",
            "```json\n",
            "{\n",
            "  \"overview\": \"The Book of Zechariah, contemporary with Haggai, is a complex prophetic work focusing on the rebuilding of the temple and future events. Unlike Haggai, Zechariah uses apocalyptic imagery and symbolism to convey messages about both the immediate future and the distant end times. The book highlights the transition of leadership from prophets and kings to priests, prefiguring the ultimate unification of these roles in Jesus Christ. The prophecies shift from present problems to future predictions, offering glimpses of national restoration, a peaceful king, and universal worship.\",\n",
            "  \"key_scriptures\": [\n",
            "    {\n",
            "      \"reference\": \"Zechariah 9:9-10\",\n",
            "      \"description\": \"Prophesies the coming of a peaceful king riding on a donkey, fulfilled by Jesus' triumphal entry into Jerusalem.\"\n",
            "    },\n",
            "    {\n",
            "      \"reference\": \"Zechariah 12:10\",\n",
            "      \"description\": \"Speaks of a time when the people of Jerusalem will look upon \\\"him whom they have pierced\\\" and mourn, referring to the future recognition of Jesus as the Messiah.\"\n",
            "    },\n",
            "    {\n",
            "      \"reference\": \"Zechariah 14:4\",\n",
            "      \"description\": \"Describes the Lord's feet standing on the Mount of Olives, triggering significant geophysical changes and signaling the second coming of Christ.\"\n",
            "    }\n",
            "  ],\n",
            "  \"theological_context\": \"Zechariah addresses themes of repentance, restoration, and the coming Messianic kingdom. It emphasizes God's faithfulness to his promises, both to judge and to redeem. The book reveals God's sovereignty over nations and history, demonstrating his control over both immediate and distant events. Zechariah underscores the importance of spiritual purity and obedience, contrasting superficial religious practices with genuine devotion. Ultimately, the book points towards the universal reign of God and the establishment of Jerusalem as the center of world worship, a vision fulfilled in the New Testament.\"\n",
            "}\n",
            "```\n",
            "\n"
          ]
        },
        {
          "output_type": "stream",
          "name": "stderr",
          "text": [
            "\r38it [03:00,  6.30s/it]"
          ]
        },
        {
          "output_type": "stream",
          "name": "stdout",
          "text": [
            "✅ Updated: Zechariah\n",
            "\n",
            "📜 Raw Gemini response for Malachi:\n",
            "```json\n",
            "{\n",
            "  \"overview\": \"Malachi, written a century after the return from Babylonian exile, addresses the spiritual apathy and moral decline of the Israelites. The people, disillusioned with their circumstances, have become lax in their religious practices, offering substandard sacrifices and engaging in social injustices like divorce and intermarriage. Malachi confronts their criticisms of God, reminding them of His faithfulness and calling them to repentance. The book concludes with a promise of future judgment and a call to remember the Law of Moses and anticipate the coming of Elijah, foreshadowing John the Baptist.\",\n",
            "  \"key_scriptures\": [\n",
            "    \"Malachi 1:2-3: God's declaration of love for Jacob (Israel) and hatred for Esau (Edom) serves as a reminder of God's past faithfulness to Israel compared to his judgment of Edom, calling them to gratitude.\",\n",
            "    \"Malachi 3:8-10: Accuses the people of robbing God by withholding tithes and offerings, promising blessing upon their return to faithful giving.\",\n",
            "    \"Malachi 4:5-6: Foretells the coming of Elijah before the great and dreadful day of the Lord, urging the people to reconcile and avert a curse, pointing toward John the Baptist's ministry.\"\n",
            "  ],\n",
            "  \"theological_context\": \"Malachi reinforces the covenantal relationship between God and Israel, emphasizing God's roles as Creator, King, and Judge. It highlights the importance of genuine worship over mere ritual, stressing the need for both inward faith and outward obedience to the Law. The book underscores God's justice, warning of impending judgment for unrepentant sin, but also affirming His mercy and offering a path to restoration through repentance. It also alludes to God's sovereignty over all nations, foreshadowing the inclusion of Gentiles in His redemptive plan.\"\n",
            "}\n",
            "```\n",
            "\n"
          ]
        },
        {
          "output_type": "stream",
          "name": "stderr",
          "text": [
            "\r39it [03:07,  6.37s/it]"
          ]
        },
        {
          "output_type": "stream",
          "name": "stdout",
          "text": [
            "✅ Updated: Malachi\n",
            "\n",
            "📜 Raw Gemini response for Matthew:\n",
            "```json\n",
            "{\n",
            "  \"overview\": \"Matthew's Gospel, likely written by the apostle and former tax collector, presents Jesus as the King of the Jews and the fulfillment of Old Testament prophecies, primarily aimed at Jewish converts. The Gospel emphasizes Jesus' Davidic lineage and highlights his teachings on discipleship within the kingdom of heaven. Matthew builds upon the framework of Mark's Gospel, adding unique elements such as the birth narrative, five major discourses, and a more detailed account of Jesus' death and resurrection, crafting a manual for Christian living. The book intends to bring both Jew and Christian together by providing continuity to the Old Testament and roots Jesus in Judaism.\",\n",
            "  \"key_scriptures\": [\n",
            "    \"Matthew 1:1-17: The genealogy of Jesus, emphasizing his Davidic ancestry and establishing his legal claim to be the son of David.\",\n",
            "    \"Matthew 5-7: The Sermon on the Mount, outlining the lifestyle of the kingdom and providing ethical guidelines for believers, contrasting the teachings of Jesus and law of Moses.\",\n",
            "    \"Matthew 28:19-20: The Great Commission, where Jesus commands his followers to make disciples of all nations, baptizing and teaching them to observe all that He has commanded, solidifying the purpose of making disciples to follow Jesus.\"\n",
            "  ],\n",
            "  \"theological_context\": \"Matthew presents core doctrines such as the kingship of Christ, emphasizing that Jesus is the promised Messiah and the rightful ruler of God's kingdom. The Gospel explores themes of fulfillment, showing how Jesus fulfills Old Testament prophecies and establishes a new covenant. It also addresses the nature of discipleship, highlighting the importance of both faith and righteousness in living out the teachings of Jesus. The tension between the present evil age and the inaugurated kingdom of heaven is also a major theme.\"\n",
            "}\n",
            "```\n",
            "\n"
          ]
        },
        {
          "output_type": "stream",
          "name": "stderr",
          "text": [
            "\r40it [03:14,  6.44s/it]"
          ]
        },
        {
          "output_type": "stream",
          "name": "stdout",
          "text": [
            "✅ Updated: Matthew\n",
            "\n",
            "📜 Raw Gemini response for Mark:\n",
            "```json\n",
            "{\n",
            "  \"overview\": \"Mark's Gospel, likely the first written, presents a vivid and action-packed portrayal of Jesus primarily for unbelievers. Attributed to John Mark, it draws heavily on the eyewitness testimony of the Apostle Peter. The Gospel emphasizes Jesus' miracles and actions over extensive discourses, highlighting His power and ministry. Mark builds up to the crucial point where Peter identifies Jesus as the Christ and then focuses on Jesus' journey to the cross, culminating in His death and resurrection.\",\n",
            "  \"key_scriptures\": [\n",
            "    \"Mark 8:29 - Peter identifies Jesus as the Christ, marking a turning point in the Gospel and revealing Jesus' true identity.\",\n",
            "    \"Mark 1:1 - The beginning of the gospel of Jesus Christ, the Son of God. This establishes the central claim of the book.\",\n",
            "    \"Mark 16:8 - The original ending where the women flee the empty tomb in fear, leaving the reader to contemplate the implications of the resurrection.\"\n",
            "  ],\n",
            "  \"theological_context\": \"Mark's Gospel underscores the divinity and humanity of Jesus Christ, emphasizing His role as the Messiah and Son of God. A major theme revolves around the work of Christ, focusing particularly on His sacrificial death on the cross as a central act of redemption. The Gospel presents a challenge to the reader to respond to Jesus with faith rather than fear, emphasizing the importance of belief in His person and work. It establishes Jesus as the fulfillment of Old Testament prophecy, demonstrating His power over disease, nature, and even death itself.\"\n",
            "}\n",
            "```\n",
            "\n"
          ]
        },
        {
          "output_type": "stream",
          "name": "stderr",
          "text": [
            "\r41it [03:19,  6.23s/it]"
          ]
        },
        {
          "output_type": "stream",
          "name": "stdout",
          "text": [
            "✅ Updated: Mark\n",
            "\n",
            "📜 Raw Gemini response for Luke:\n",
            "```json\n",
            "{\n",
            "  \"overview\": \"Luke's Gospel, while containing familiar parables and stories, offers a unique perspective on the life and ministry of Jesus, emphasizing his compassion for marginalized groups like Samaritans, Gentiles, outcasts, women, the poor, and sinners. Luke meticulously traces Jesus' lineage to Adam, highlighting the universal scope of salvation. The Gospel uniquely includes details about Jesus' birth from Mary's perspective and the role of the Holy Spirit in his life and ministry. Luke's narrative underscores Jesus' message of mercy, forgiveness, and reconciliation, presenting him as the savior for all humanity.\",\n",
            "  \"key_scriptures\": [\n",
            "    {\n",
            "      \"reference\": \"Luke 10:25-37\",\n",
            "      \"description\": \"The Parable of the Good Samaritan illustrates Jesus' teaching on loving one's neighbor, regardless of ethnic or social background, and exemplifies compassion in action.\"\n",
            "    },\n",
            "    {\n",
            "      \"reference\": \"Luke 15:11-32\",\n",
            "      \"description\": \"The Parable of the Prodigal Son (or rather, Prodigal Father and Two Lost Sons) reveals God's boundless love and forgiveness for repentant sinners and challenges self-righteousness.\"\n",
            "    },\n",
            "    {\n",
            "      \"reference\": \"Luke 4:18-19\",\n",
            "      \"description\": \"Jesus quotes Isaiah, declaring his mission to preach good news to the poor, proclaim freedom for the prisoners, recovery of sight for the blind, and to set the oppressed free, establishing the year of the Lord's favor.\"\n",
            "    }\n",
            "  ],\n",
            "  \"theological_context\": \"Luke emphasizes the universal nature of salvation, portraying Jesus as the savior for all people, regardless of their background or status. The Holy Spirit plays a prominent role, empowering Jesus and his followers for ministry. Prayer is highlighted as a vital aspect of Jesus' life and a necessity for discipleship. The Gospel underscores the importance of compassion, forgiveness, and reconciliation, inviting all to experience the joy and mercy found in Jesus.\"\n",
            "}\n",
            "```\n",
            "\n"
          ]
        },
        {
          "output_type": "stream",
          "name": "stderr",
          "text": [
            "\r42it [03:26,  6.38s/it]"
          ]
        },
        {
          "output_type": "stream",
          "name": "stdout",
          "text": [
            "✅ Updated: Luke\n",
            "\n",
            "📜 Raw Gemini response for John:\n",
            "```json\n",
            "{\n",
            "  \"overview\": \"The Gospel of John focuses on revealing the inner life and self-identity of Jesus, emphasizing who He was rather than simply what He did. It differs significantly from the synoptic Gospels through omissions like the birth narrative and temptations, and additions such as unique miracles and individual encounters. John uses the word 'signs' for miracles to highlight that they point to Jesus. The author, the apostle John, emphasizes the importance of ongoing belief in Jesus as the Christ, the Son of God, so that readers might have life in His name.\",\n",
            "  \"key_scriptures\": [\n",
            "    {\n",
            "      \"reference\": \"John 1:1\",\n",
            "      \"description\": \"Introduces Jesus as the Logos (Word), existing eternally with God and being God, emphasizing His divine nature and pre-existence before creation.\"\n",
            "    },\n",
            "    {\n",
            "      \"reference\": \"John 3:16\",\n",
            "      \"description\": \"Highlights God's love for the world demonstrated by sending His Son, Jesus, so that whoever believes in Him might have eternal life, emphasizing the importance of faith and salvation.\"\n",
            "    },\n",
            "    {\n",
            "      \"reference\": \"John 20:31\",\n",
            "      \"description\": \"States the purpose of the Gospel: to promote ongoing belief that Jesus is the Christ, the Son of God, and that through this continuing belief, readers might continue to have life in His name.\"\n",
            "    }\n",
            "  ],\n",
            "  \"theological_context\": \"John's Gospel emphasizes several key doctrines: the deity of Christ, demonstrated through witnesses, miracles, and His own claims; the importance of faith as a continuous act of trust and obedience; the concept of eternal life as both a present and future reality; and the role of the Holy Spirit as the 'Comforter' who empowers believers. It also corrects misconceptions circulating at the time, such as an overemphasis on John the Baptist and a diminished view of Jesus' humanity or divinity. By portraying Jesus as fully human and fully divine, John emphasizes that only through faith in Christ can people be saved from sin, death and wrath and have eternal life.\"\n",
            "}\n",
            "```\n",
            "\n"
          ]
        },
        {
          "output_type": "stream",
          "name": "stderr",
          "text": [
            "\r43it [03:34,  6.92s/it]"
          ]
        },
        {
          "output_type": "stream",
          "name": "stdout",
          "text": [
            "✅ Updated: John\n",
            "\n",
            "📜 Raw Gemini response for Acts:\n",
            "```json\n",
            "{\n",
            "  \"overview\": \"Acts is Luke's second volume, detailing the spread of Christianity from Jerusalem to Rome. Written as a defense brief for Paul, it highlights key events and the growth of the early church. Luke emphasizes the unity between Jewish and Gentile believers, showcasing how the gospel transcends cultural boundaries. The book functions both as a historical account and a model for church life and missionary activity, intending to inform and inspire believers.\",\n",
            "  \"key_scriptures\": [\n",
            "    {\n",
            "      \"reference\": \"Acts 1:8\",\n",
            "      \"description\": \"Jesus commissions the apostles to be his witnesses in Jerusalem, Judea, Samaria, and to the ends of the earth. This verse provides a geographical outline for the book's narrative, tracing the expansion of the gospel.\"\n",
            "    },\n",
            "    {\n",
            "      \"reference\": \"Acts 2:1-4\",\n",
            "      \"description\": \"The Day of Pentecost marks the outpouring of the Holy Spirit, empowering the disciples and resulting in the conversion of thousands. This event signifies the birth of the church and the reversal of the Tower of Babel, as people from various nations hear the gospel in their own languages.\"\n",
            "    },\n",
            "    {\n",
            "      \"reference\": \"Acts 10:44-48\",\n",
            "      \"description\": \"Peter's encounter with Cornelius demonstrates that God's grace extends to Gentiles, prompting a shift in understanding within the early church. The Holy Spirit falls upon non-Jews, signifying their inclusion in God's plan and breaking down cultural barriers.\"\n",
            "    }\n",
            "  ],\n",
            "  \"theological_context\": \"Acts reveals a Trinitarian theology, emphasizing the acts of God the Father, the name of Jesus the Son, and the power of the Holy Spirit. The book illustrates the kingdom of God expanding through the gospel message. The Holy Spirit empowers believers for witness and guides the church's direction. Central to the narrative is the inclusion of Gentiles into the faith, demonstrating God's universal love and challenging existing cultural and religious norms.\"\n",
            "}\n",
            "```\n",
            "\n"
          ]
        },
        {
          "output_type": "stream",
          "name": "stderr",
          "text": [
            "\r44it [03:41,  6.92s/it]"
          ]
        },
        {
          "output_type": "stream",
          "name": "stdout",
          "text": [
            "✅ Updated: Acts\n",
            "\n",
            "📜 Raw Gemini response for Romans:\n",
            "```json\n",
            "{\n",
            "  \"overview\": \"Romans is Paul's longest letter, written to a church he did not found, addressing tensions between Jewish and Gentile believers in Rome. It's not a systematic theology, but a practical guide to unity, using doctrine to address real-world issues. Paul emphasizes that both groups are sinners and justified by faith in Christ, dealing with issues like legalism, license, food laws, and Sabbath observance. The letter also explores God's ongoing plan for Israel.\",\n",
            "  \"key_scriptures\": [\n",
            "    \"Romans 1:16 - 'For I am not ashamed of the gospel, because it is the power of God that brings salvation to everyone who believes: first to the Jew, then to the Gentile.' This highlights Paul's central theme of salvation through faith for all people.\",\n",
            "    \"Romans 3:22 - 'This righteousness is given through faith in Jesus Christ to all who believe. There is no difference between Jew and Gentile.' This emphasizes the equality between Jews and Gentiles in receiving God's righteousness through faith.\",\n",
            "    \"Romans 9-11 - These chapters address the place of Israel in God's plan and reassure the Gentiles that God has not abandoned his chosen people, but intends to restore them one day.\"\n",
            "  ],\n",
            "  \"theological_context\": \"Romans explores key doctrines such as sin, justification, sanctification, and glorification, emphasizing that righteousness comes through faith, not works of the law. Justification by faith unites Jews and Gentiles, granting them equal standing before God, though not excusing a life of unrepentant sin. The letter also grapples with the mystery of God's sovereignty and human responsibility, especially in relation to Israel's past, present, and future. Paul connects the believer’s fate to God’s character, asserting his unfailing love for all mankind.\"\n",
            "}\n",
            "```\n",
            "\n"
          ]
        },
        {
          "output_type": "stream",
          "name": "stderr",
          "text": [
            "\r45it [03:47,  6.70s/it]"
          ]
        },
        {
          "output_type": "stream",
          "name": "stdout",
          "text": [
            "✅ Updated: Romans\n"
          ]
        },
        {
          "output_type": "stream",
          "name": "stderr",
          "text": [
            "\r46it [03:48,  4.76s/it]"
          ]
        },
        {
          "output_type": "stream",
          "name": "stdout",
          "text": [
            "⚠️ Skipping 1 Corinthians - No commentary found.\n"
          ]
        },
        {
          "output_type": "stream",
          "name": "stderr",
          "text": [
            "\r47it [03:48,  3.41s/it]"
          ]
        },
        {
          "output_type": "stream",
          "name": "stdout",
          "text": [
            "⚠️ Skipping 2 Corinthians - No commentary found.\n",
            "\n",
            "📜 Raw Gemini response for Galatians:\n",
            "```json\n",
            "{\n",
            "  \"overview\": \"Galatians is a passionate letter written by Paul to churches struggling with the influence of Judaizers who insisted on the necessity of following Jewish Law, particularly circumcision, for salvation. Paul vehemently argues that salvation is attained through faith in Jesus Christ alone, not through adherence to the Law. He defends his apostleship and the authenticity of his gospel, emphasizing the freedom Christians have in Christ from the bondage of legalism. The letter addresses the dangers of both legalism and license, advocating for a life guided by the Holy Spirit that manifests in the fruit of the Spirit.\",\n",
            "  \"key_scriptures\": [\n",
            "    {\n",
            "      \"reference\": \"Galatians 2:16\",\n",
            "      \"description\": \"Emphasizes that a person is justified by faith in Jesus Christ and not by works of the law.\"\n",
            "    },\n",
            "    {\n",
            "      \"reference\": \"Galatians 3:11\",\n",
            "      \"description\": \"States that no one is justified before God by the law, for \\\"The righteous shall live by faith.\\\"\"\n",
            "    },\n",
            "    {\n",
            "      \"reference\": \"Galatians 5:6\",\n",
            "      \"description\": \"Highlights that in Christ, neither circumcision nor uncircumcision matters, but rather faith working through love.\"\n",
            "    }\n",
            "  ],\n",
            "  \"theological_context\": \"Galatians strongly upholds the doctrine of justification by faith alone (sola fide), contrasting it with salvation by works, a central theme of the Reformation. It emphasizes the grace of God as the sole basis for salvation and the finished work of Christ on the cross as the means of redemption. The letter underscores the importance of Christian freedom from legalism, advocating for a life led by the Holy Spirit, which produces the fruit of the Spirit. It addresses the relationship between the Old Testament Law and the New Covenant, asserting that the Law's purpose was to reveal sin and prepare the way for Christ, but it is no longer binding on believers for salvation.\"\n",
            "}\n",
            "```\n",
            "\n"
          ]
        },
        {
          "output_type": "stream",
          "name": "stderr",
          "text": [
            "\r48it [03:57,  5.03s/it]"
          ]
        },
        {
          "output_type": "stream",
          "name": "stdout",
          "text": [
            "✅ Updated: Galatians\n",
            "\n",
            "📜 Raw Gemini response for Ephesians:\n",
            "```json\n",
            "{\n",
            "  \"overview\": \"Ephesians, a general letter likely written alongside Colossians, presents a summary of Christian belief and behavior, emphasizing our relationship with God through Christ and our relationships with one another in the Lord. It outlines how salvation comes to believers and how they should behave once saved, stressing that we are saved for good deeds, not by them. The letter is divided into two halves: the first focusing on our relationship to God, highlighting purpose and power, and the second on our relationships with others, emphasizing our walk and warfare. It presents the clearest presentation of Christian doctrine and duty, belief and behaviour, theology and ethics.\",\n",
            "  \"key_scriptures\": [\n",
            "    {\n",
            "      \"reference\": \"Ephesians 2:8-9\",\n",
            "      \"description\": \"While not explicitly quoted, this passage's concept is echoed throughout the commentary. It underscores the core message that salvation is by grace through faith, not by works, preventing boasting.\"\n",
            "    },\n",
            "    {\n",
            "      \"reference\": \"Ephesians 4:1-6\",\n",
            "      \"description\": \"This section emphasizes the importance of unity within the body of Christ, highlighting one body, one Spirit, one hope, one Lord, one faith, one baptism, and one God and Father.\"\n",
            "    },\n",
            "    {\n",
            "      \"reference\": \"Ephesians 6:10-18\",\n",
            "      \"description\": \"The call to put on the full armor of God is highlighted, underscoring the reality of spiritual warfare and the need to stand firm against spiritual forces.\"\n",
            "    }\n",
            "  ],\n",
            "  \"theological_context\": \"Ephesians delves into key doctrines such as salvation by grace through faith, the importance of unity within the Church, and the reality of spiritual warfare. It emphasizes God's purpose and power in salvation, predestination, and Jew/Gentile unity in Christ. The letter also stresses the importance of sanctification following justification, urging believers to walk in humility, love, and integrity. It touches on controversial subjects like predestination, presenting both Calvinistic and Arminian viewpoints, and concludes with the emphasis on truth and integrity.\"\n",
            "}\n",
            "```\n",
            "\n"
          ]
        },
        {
          "output_type": "stream",
          "name": "stderr",
          "text": [
            "\r49it [04:03,  5.30s/it]"
          ]
        },
        {
          "output_type": "stream",
          "name": "stdout",
          "text": [
            "✅ Updated: Ephesians\n",
            "\n",
            "📜 Raw Gemini response for Philippians:\n",
            "```json\n",
            "{\n",
            "  \"overview\": \"Paul's letter to the Philippians, written during his imprisonment in Rome, expresses his deep affection for the church he founded in Philippi. He thanks them for their financial and physical support, specifically mentioning Epaphroditus's service. The letter emphasizes themes of joy, koinonia (fellowship), and unity, urging believers to prioritize the interests of others. Paul encourages the Philippians to emulate Christ's humility and selflessness and to work out their faith in practical ways.\",\n",
            "  \"key_scriptures\": [\n",
            "    {\n",
            "      \"reference\": \"Philippians 1:6\",\n",
            "      \"description\": \"Expresses Paul's confidence that God, who began a good work in the Philippians, will continue to perfect it until the day of Jesus Christ.\"\n",
            "    },\n",
            "    {\n",
            "      \"reference\": \"Philippians 2:5-11\",\n",
            "      \"description\": \"Often called the \\\"Christ Hymn,\\\" this passage describes Christ's humility in becoming human and his subsequent exaltation by God, encouraging believers to adopt a similar mindset of selfless service.\"\n",
            "    },\n",
            "    {\n",
            "      \"reference\": \"Philippians 4:13\",\n",
            "      \"description\": \"\\\"I can do all things through Christ who strengthens me.\\\" Paul states his ability to endure any circumstance due to the strength Christ provides.\"\n",
            "    }\n",
            "  ],\n",
            "  \"theological_context\": \"The letter addresses several key doctrines, including the incarnation and humility of Christ, the importance of Christian fellowship and unity, and the nature of salvation as both a gift of God's grace and a process of ongoing growth. It touches on themes of suffering and joy, demonstrating that believers can experience joy even in difficult circumstances. The letter also deals with the concept of koinonia, emphasizing a deep, interconnected relationship between believers, and addresses ethical considerations for Christian living, urging believers to live out their faith in a way that reflects Christ's character.\"\n",
            "}\n",
            "```\n",
            "\n"
          ]
        },
        {
          "output_type": "stream",
          "name": "stderr",
          "text": [
            "\r50it [04:10,  5.84s/it]"
          ]
        },
        {
          "output_type": "stream",
          "name": "stdout",
          "text": [
            "✅ Updated: Philippians\n",
            "\n",
            "📜 Raw Gemini response for Colossians:\n",
            "```json\n",
            "{\n",
            "  \"overview\": \"Colossians is a letter written by Paul to address false teachings threatening the church in Colosse, a religiously diverse town. These teachings, a blend of various beliefs, diminished Christ's pre-eminence and promoted practices like calendar observance and abstinence. Paul emphasizes the supremacy of Christ as Creator and head of the Church, warning against syncretism and urging believers to remain rooted in Him. He connects faith to practical living, addressing relationships within the church and household to reflect a Christ-like character.\",\n",
            "  \"key_scriptures\": [\n",
            "    {\n",
            "      \"reference\": \"Colossians 1:15-20\",\n",
            "      \"description\": \"This passage highlights the pre-eminence of Christ as the image of the invisible God, the creator of all things, and the reconciler of all things to Himself.\"\n",
            "    },\n",
            "    {\n",
            "      \"reference\": \"Colossians 2:8-10\",\n",
            "      \"description\": \"Paul warns against being taken captive by empty philosophies and traditions, emphasizing that all the fullness of God dwells in Christ.\"\n",
            "    },\n",
            "    {\n",
            "      \"reference\": \"Colossians 3:12-17\",\n",
            "      \"description\": \"This section encourages believers to live out their faith in practical ways, displaying compassion, kindness, humility, gentleness, and patience in their relationships.\"\n",
            "    }\n",
            "  ],\n",
            "  \"theological_context\": \"Colossians addresses the doctrines of Christology, soteriology, and ecclesiology. It asserts the deity and supremacy of Christ against teachings that diminished His role. The letter emphasizes salvation through faith in Christ alone, rejecting the notion that rituals or asceticism can earn God's favor. It also highlights the nature of the Church as the body of Christ, with Christ as its sole head, emphasizing the importance of unity, love, and practical Christian living within the community.\"\n",
            "}\n",
            "```\n",
            "\n"
          ]
        },
        {
          "output_type": "stream",
          "name": "stderr",
          "text": [
            "\r51it [04:15,  5.80s/it]"
          ]
        },
        {
          "output_type": "stream",
          "name": "stdout",
          "text": [
            "✅ Updated: Colossians\n"
          ]
        },
        {
          "output_type": "stream",
          "name": "stderr",
          "text": [
            "\r52it [04:16,  4.13s/it]"
          ]
        },
        {
          "output_type": "stream",
          "name": "stdout",
          "text": [
            "⚠️ Skipping 1 Thessalonians - No commentary found.\n"
          ]
        },
        {
          "output_type": "stream",
          "name": "stderr",
          "text": [
            "\r53it [04:16,  2.96s/it]"
          ]
        },
        {
          "output_type": "stream",
          "name": "stdout",
          "text": [
            "⚠️ Skipping 2 Thessalonians - No commentary found.\n"
          ]
        },
        {
          "output_type": "stream",
          "name": "stderr",
          "text": [
            "\r54it [04:16,  2.15s/it]"
          ]
        },
        {
          "output_type": "stream",
          "name": "stdout",
          "text": [
            "⚠️ Skipping 1 Timothy - No commentary found.\n"
          ]
        },
        {
          "output_type": "stream",
          "name": "stderr",
          "text": [
            "\r55it [04:16,  1.57s/it]"
          ]
        },
        {
          "output_type": "stream",
          "name": "stdout",
          "text": [
            "⚠️ Skipping 2 Timothy - No commentary found.\n"
          ]
        },
        {
          "output_type": "stream",
          "name": "stderr",
          "text": [
            "\r56it [04:17,  1.17s/it]"
          ]
        },
        {
          "output_type": "stream",
          "name": "stdout",
          "text": [
            "⚠️ Skipping Titus - No commentary found.\n",
            "\n",
            "📜 Raw Gemini response for Philemon:\n",
            "```json\n",
            "{\n",
            "  \"overview\": \"Philemon is a short, personal letter from Paul to Philemon regarding Onesimus, a runaway slave who has become a Christian. Paul appeals to Philemon to receive Onesimus back not as a slave, but as a beloved brother in Christ. He even offers to repay any debts Onesimus may owe. The letter highlights themes of forgiveness, reconciliation, and the transformative power of Christian love in personal relationships, challenging existing social structures.\",\n",
            "  \"key_scriptures\": [\n",
            "    \"Philemon 1:16: Paul encourages Philemon to receive Onesimus back as \\\"more than a slave, a beloved brother,\\\" highlighting the new relationship possible in Christ.\",\n",
            "    \"Philemon 1:18-19: Paul offers to repay any debt Onesimus owes, demonstrating sacrificial love and willingness to bear the burden of another.\",\n",
            "    \"1 Timothy 1:10: Paul condemns slave trading\"\n",
            "  ],\n",
            "  \"theological_context\": \"Philemon illustrates the doctrines of grace, forgiveness, and reconciliation. It demonstrates how faith in Christ transforms social dynamics, urging believers to view one another as equals in Christ, transcending social hierarchies like slavery. Paul's actions mirror Christ's, emphasizing that salvation leads to changed behavior and loving, merciful relationships with others. The letter underscores the practical outworking of salvation, where believers extend the grace they have received to those around them.\"\n",
            "}\n",
            "```\n",
            "\n"
          ]
        },
        {
          "output_type": "stream",
          "name": "stderr",
          "text": [
            "\r57it [04:21,  2.30s/it]"
          ]
        },
        {
          "output_type": "stream",
          "name": "stdout",
          "text": [
            "✅ Updated: Philemon\n",
            "\n",
            "📜 Raw Gemini response for Hebrews:\n",
            "```json\n",
            "{\n",
            "  \"overview\": \"The book of Hebrews addresses Jewish believers facing persecution and the temptation to revert to Judaism. It argues for the superiority of Christ and the New Covenant over the Old Covenant, emphasizing that Jesus is better than angels, prophets, and the Levitical priesthood. The author warns against the dangers of abandoning faith and encourages readers to persevere, focusing on Jesus as the pioneer and perfecter of their faith. The letter blends exposition and exhortation, urging believers to hold fast to their hope in Christ.\",\n",
            "  \"key_scriptures\": [\n",
            "    \"Hebrews 1:1-3: God's ultimate revelation is through His Son, Jesus Christ, who is superior to the prophets. He is the heir of all things, the creator, and the sustainer of the universe and offers purification for sins.\",\n",
            "    \"Hebrews 4:11-13: The word of God is living and active, able to discern the thoughts and intentions of the heart, urging believers to strive to enter God's rest.\",\n",
            "    \"Hebrews 6:4-6: Warns of the impossibility of renewing to repentance those who have fallen away after experiencing the blessings of salvation, highlighting the severity of apostasy.\"\n",
            "  ],\n",
            "  \"theological_context\": \"Hebrews underscores the supremacy of Christ's sacrifice and High Priesthood, emphasizing that it fulfills and surpasses the Old Testament sacrificial system. A major theme is the contrast between the Old and New Covenants, with the New Covenant offering forgiveness, forgetfulness of sins, and direct access to God through Jesus. The book explores the doctrine of perseverance, warning believers against drifting away from their faith and highlighting the need for holiness and continued trust in Christ for final salvation. Hebrews balances divine sovereignty and human responsibility.\"\n",
            "}\n",
            "```\n",
            "\n"
          ]
        },
        {
          "output_type": "stream",
          "name": "stderr",
          "text": [
            "\r58it [04:30,  4.17s/it]"
          ]
        },
        {
          "output_type": "stream",
          "name": "stdout",
          "text": [
            "✅ Updated: Hebrews\n",
            "\n",
            "📜 Raw Gemini response for James:\n",
            "```json\n",
            "{\n",
            "  \"overview\": \"The book of James is a practical guide to Christian living, emphasizing the importance of actions that demonstrate genuine faith. It encourages believers to be \\\"doers of the word\\\" and not merely hearers, highlighting the necessity of living out one's faith in daily life. Written to Jewish believers scattered among the nations, the letter addresses issues such as wealth, the tongue, and the tension between being \\\"in the world but not of it.\\\" It is considered a book of Jewish wisdom literature akin to Proverbs.\",\n",
            "  \"key_scriptures\": [\n",
            "    {\n",
            "      \"reference\": \"James 1:22\",\n",
            "      \"description\": \"Challenges readers to be \\\"doers of the word, and not hearers only,\\\" emphasizing the importance of putting faith into action.\"\n",
            "    },\n",
            "    {\n",
            "      \"reference\": \"James 2:24\",\n",
            "      \"description\": \"States that \\\"a person is justified by what he does and not by faith alone,\\\" highlighting the relationship between faith and works.\"\n",
            "    },\n",
            "    {\n",
            "      \"reference\": \"James 3:5-6\",\n",
            "      \"description\": \"Warns about the power of the tongue, comparing it to a small rudder that can steer a large ship, or a small fire that can ignite a large forest.\"\n",
            "    }\n",
            "  ],\n",
            "  \"theological_context\": \"James emphasizes the practical outworking of salvation, showing that genuine faith is always accompanied by good works. While not negating the doctrine of justification by faith, James stresses that true faith is a living faith that transforms behavior. He warns against hypocrisy and encourages believers to live lives that are consistent with their profession of faith. Wisdom from God is emphasized as a necessity in order to handle trials and temptations and to live a life pleasing to Him.\"\n",
            "}\n",
            "```\n",
            "\n"
          ]
        },
        {
          "output_type": "stream",
          "name": "stderr",
          "text": [
            "\r59it [04:37,  5.09s/it]"
          ]
        },
        {
          "output_type": "stream",
          "name": "stdout",
          "text": [
            "✅ Updated: James\n"
          ]
        },
        {
          "output_type": "stream",
          "name": "stderr",
          "text": [
            "\r60it [04:37,  3.63s/it]"
          ]
        },
        {
          "output_type": "stream",
          "name": "stdout",
          "text": [
            "⚠️ Skipping 1 Peter - No commentary found.\n"
          ]
        },
        {
          "output_type": "stream",
          "name": "stderr",
          "text": [
            "\r61it [04:38,  2.62s/it]"
          ]
        },
        {
          "output_type": "stream",
          "name": "stdout",
          "text": [
            "⚠️ Skipping 2 Peter - No commentary found.\n"
          ]
        },
        {
          "output_type": "stream",
          "name": "stderr",
          "text": [
            "\r62it [04:38,  1.90s/it]"
          ]
        },
        {
          "output_type": "stream",
          "name": "stdout",
          "text": [
            "⚠️ Skipping 1 John - No commentary found.\n"
          ]
        },
        {
          "output_type": "stream",
          "name": "stderr",
          "text": [
            "\r63it [04:38,  1.40s/it]"
          ]
        },
        {
          "output_type": "stream",
          "name": "stdout",
          "text": [
            "⚠️ Skipping 2 John - No commentary found.\n"
          ]
        },
        {
          "output_type": "stream",
          "name": "stderr",
          "text": [
            "\r64it [04:38,  1.05s/it]"
          ]
        },
        {
          "output_type": "stream",
          "name": "stdout",
          "text": [
            "⚠️ Skipping 3 John - No commentary found.\n",
            "\n",
            "📜 Raw Gemini response for Jude:\n",
            "```json\n",
            "{\n",
            "  \"overview\": \"The book of Jude is a short, often overlooked, but important warning against false teachers who have infiltrated the church. Jude urges believers to contend for the true faith, which was delivered once for all to the saints, and to resist the corrupting influences of those who twist grace into license. He uses vivid imagery and historical examples to illustrate the judgment awaiting the ungodly. The letter also offers practical advice on how to care for those affected by false teaching, and how to remain steadfast in the love of God.\",\n",
            "  \"key_scriptures\": [\n",
            "    \"Jude 4: This verse identifies the false teachers as those who pervert God's grace into a license for immorality and deny Jesus Christ as Lord, highlighting the core issue of doctrinal corruption.\",\n",
            "    \"Jude 5-7: These verses use examples from the Old Testament (Israel in the wilderness, fallen angels, Sodom and Gomorrah) to illustrate God's judgment on those who rebel against Him and engage in sexual immorality.\",\n",
            "    \"Jude 20-21: This passage provides instruction on how believers should respond to the presence of false teachers; building themselves up in faith, praying in the Holy Spirit, and keeping themselves in the love of God, awaiting the mercy of Jesus Christ.\"\n",
            "  ],\n",
            "  \"theological_context\": \"Jude addresses the doctrines of grace, judgment, and the nature of true faith. It warns against antinomianism, the idea that grace allows for disregard of God's moral law, emphasizing that genuine faith produces obedience. The book affirms the reality of divine judgment on unrepentant sin and the importance of holding fast to orthodox Christian teaching. Jude highlights the Trinity by referencing the Father's love, the Spirit's guidance in prayer, and the Son's mercy leading to eternal life, all within the context of contending for the faith.\"\n",
            "}\n",
            "```\n",
            "\n"
          ]
        },
        {
          "output_type": "stream",
          "name": "stderr",
          "text": [
            "\r65it [04:45,  2.73s/it]"
          ]
        },
        {
          "output_type": "stream",
          "name": "stdout",
          "text": [
            "✅ Updated: Jude\n",
            "\n",
            "📜 Raw Gemini response for Revelation:\n",
            "```json\n",
            "{\n",
            "  \"overview\": \"The Book of Revelation is a unique and often debated book in the Bible, detailing a series of visions and prophecies concerning the end times.  It is a revelation of Jesus Christ, delivered through John, meant to encourage believers to endure hardship and remain faithful. The book depicts a cosmic struggle between good and evil, culminating in God's ultimate victory and the establishment of a new heaven and a new earth. It serves as both a warning against compromise and a source of hope for those facing persecution, promising reward for the faithful and judgment for the unrighteous.\",\n",
            "  \"key_scriptures\": [\n",
            "    {\n",
            "      \"reference\": \"Revelation 1:3\",\n",
            "      \"description\": \"Highlights the blessing attached to reading and heeding the words of Revelation, indicating the importance of understanding and applying its message.\"\n",
            "    },\n",
            "    {\n",
            "      \"reference\": \"Revelation 2:10\",\n",
            "      \"description\": \"Exhorts believers to remain faithful even unto death, promising a 'crown of life' to those who endure tribulation.\"\n",
            "    },\n",
            "    {\n",
            "      \"reference\": \"Revelation 22:18-19\",\n",
            "      \"description\": \"Warns against tampering with the text of Revelation, reinforcing the seriousness with which God views the facts and truths revealed within the book and the integrity of its message.\"\n",
            "    }\n",
            "  ],\n",
            "  \"theological_context\": \"Revelation explores major doctrines such as eschatology (the study of end times), the sovereignty of God, the deity of Christ, and the reality of spiritual warfare.  It emphasizes the importance of perseverance, offering rewards to those who overcome and warnings to those who compromise.  The book underscores the justice and righteousness of God, particularly in the final judgment, promising ultimate restoration and the establishment of God's kingdom. The concepts of reward, retribution, and restoration highlight God's plan to punish the wicked and reward the righteous.\"\n",
            "}\n",
            "```\n",
            "\n"
          ]
        },
        {
          "output_type": "stream",
          "name": "stderr",
          "text": [
            "66it [05:04,  4.62s/it]"
          ]
        },
        {
          "output_type": "stream",
          "name": "stdout",
          "text": [
            "✅ Updated: Revelation\n"
          ]
        },
        {
          "output_type": "stream",
          "name": "stderr",
          "text": [
            "\n"
          ]
        }
      ],
      "source": [
        "\n",
        "\n",
        "books_collection = db[\"books\"]\n",
        "commentary_collection = db[\"commentary_chunks\"]\n",
        "PROMPT_TEMPLATE = \"\"\"\n",
        "You are a biblical scholar and summarizer. Based on the following commentary for the book of {book_name}, do the following:\n",
        "\n",
        "1. Write a 3–5 sentence **overview** of the book.\n",
        "2. Identify and list 2 to 3 **key scripture references** with brief descriptions.\n",
        "3. Write a 3–5 sentence **theological context** explaining the major doctrines and themes.\n",
        "\n",
        "Commentary:\n",
        "\\\"\\\"\\\"\n",
        "{commentary_text}\n",
        "\\\"\\\"\\\"\n",
        "\n",
        "Return your response in a strict JSON format. The JSON object must contain the keys \"overview\", \"key_scriptures\", and \"theological_context\".\n",
        "Do not include any text, explanations, or markdown formatting outside of the JSON object itself.\n",
        "{{\n",
        "  \"overview\": \"...\",\n",
        "  \"key_scriptures\": [\n",
        "    \"Genesis 1:1 -- In the beginning, God created the heaven and the earth\",\n",
        "    \"...\"\n",
        "  ],\n",
        "  \"theological_context\": \"...\"\n",
        "}}\n",
        "\"\"\"\n",
        "\n",
        "# === Revised Helper Function to Fix and Parse Gemini Output ===\n",
        "def parse_gemini_json(raw_text: str):\n",
        "    \"\"\"\n",
        "    Extracts, cleans, and parses a JSON object from a raw string from a model.\n",
        "    Handles responses wrapped in markdown backticks and other common LLM artifacts.\n",
        "    \"\"\"\n",
        "    # 1. Extract JSON block from markdown ` ```json ... ``` or ` ``` ... ```\n",
        "    match = re.search(r\"```(?:json)?\\s*([\\s\\S]*?)\\s*```\", raw_text, re.DOTALL)\n",
        "\n",
        "    if match:\n",
        "        cleaned_text = match.group(1).strip()\n",
        "    else:\n",
        "        # 2. If no backticks, find the first '{' to the last '}'\n",
        "        # This handles cases where the model returns a raw JSON object without markdown.\n",
        "        start_index = raw_text.find('{')\n",
        "        end_index = raw_text.rfind('}')\n",
        "        if start_index == -1 or end_index == -1:\n",
        "            raise ValueError(\"🛑 No valid JSON object found in the response.\")\n",
        "        cleaned_text = raw_text[start_index : end_index + 1]\n",
        "\n",
        "    # 3. Clean up common formatting issues\n",
        "    # Replace slanted or \"smart\" quotes with standard double quotes\n",
        "    cleaned_text = cleaned_text.replace(\"“\", '\"').replace(\"”\", '\"')\n",
        "    # This replacement is left out as it can corrupt apostrophes (e.g., God's)\n",
        "    # cleaned_text = cleaned_text.replace(\"‘\", \"'\").replace(\"’\", \"'\")\n",
        "\n",
        "    # Remove trailing commas from lists (e.g., [1, 2, ]) and objects (e.g., {a:1,})\n",
        "    cleaned_text = re.sub(r\",\\s*\\]\", \"]\", cleaned_text)\n",
        "    cleaned_text = re.sub(r\",\\s*}\", \"}\", cleaned_text)\n",
        "\n",
        "    # 4. Attempt to parse the cleaned JSON\n",
        "    try:\n",
        "        return json.loads(cleaned_text)\n",
        "    except json.JSONDecodeError as e:\n",
        "        # If parsing fails, raise a detailed error for easier debugging\n",
        "        error_message = f\"🛑 JSON parsing failed after cleanup: {e}\"\n",
        "        # For debugging, you can uncomment the next line to see the failed text\n",
        "        # print(f\"--- Failed Text ---\\n{cleaned_text}\\n---------------------\")\n",
        "        raise ValueError(error_message) from e\n",
        "\n",
        "# === Main Process (User's original logic) ===\n",
        "for book in tqdm(books_collection.find()):\n",
        "    book_name = book[\"name\"]\n",
        "    book_name_lower = book_name.lower()\n",
        "\n",
        "    # Get all commentary chunks for this book (case-insensitive)\n",
        "    chunks = commentary_collection.find({\n",
        "        \"$expr\": { \"$eq\": [{ \"$toLower\": \"$chapter_title\" }, book_name_lower] }\n",
        "    })\n",
        "\n",
        "    all_text = \" \".join(chunk[\"text\"] for chunk in chunks)\n",
        "\n",
        "    if not all_text.strip():\n",
        "        print(f\"⚠️ Skipping {book_name} - No commentary found.\")\n",
        "        continue\n",
        "\n",
        "    # Format the prompt\n",
        "    prompt = PROMPT_TEMPLATE.format(\n",
        "        book_name=book_name,\n",
        "        commentary_text=all_text[:200000] # Make sure your model's context window supports this\n",
        "    )\n",
        "\n",
        "    try:\n",
        "        response = model.generate_content(prompt)\n",
        "        raw_text = response.text.strip()\n",
        "\n",
        "        print(f\"\\n📜 Raw Gemini response for {book_name}:\\n{raw_text}\\n\")\n",
        "\n",
        "        generated_fields = parse_gemini_json(raw_text)\n",
        "\n",
        "        # === Update MongoDB ===\n",
        "        books_collection.update_one(\n",
        "            {\"id\": book[\"id\"]},\n",
        "            {\"$set\": {\n",
        "                \"overview\": generated_fields[\"overview\"],\n",
        "                \"key_scriptures\": generated_fields[\"key_scriptures\"],\n",
        "                \"theological_context\": generated_fields[\"theological_context\"]\n",
        "            }}\n",
        "        )\n",
        "\n",
        "        print(f\"✅ Updated: {book_name}\")\n",
        "\n",
        "    except Exception as e:\n",
        "        print(f\"❌ An error occurred processing {book_name}: {e}\")\n",
        "        continue"
      ]
    },
    {
      "cell_type": "code",
      "source": [
        "books_collection = db[\"books\"]\n",
        "commentary_collection = db[\"commentary_chunks\"]\n",
        "\n",
        "\n",
        "# === Book Mapping for Combined Entries ===\n",
        "BOOK_MAPPING = {\n",
        "    \"Judges\": \"Judges and Ruth\",\n",
        "    \"Ruth\": \"Judges and Ruth\",\n",
        "    \"1 Samuel\": \"1 and 2 Samuel\",\n",
        "    \"2 Samuel\": \"1 and 2 Samuel\",\n",
        "    \"1 Kings\": \"1 and 2 Kings\",\n",
        "    \"2 Kings\": \"1 and 2 Kings\",\n",
        "    \"1 Chronicles\": \"1 and 2 Chronicles\",\n",
        "    \"2 Chronicles\": \"1 and 2 Chronicles\",\n",
        "    \"Amos\": \"Amos and Hosea\",\n",
        "    \"Hosea\": \"Amos and Hosea\",\n",
        "    \"Jeremiah\": \"Jeremiah and Lamentations\",\n",
        "    \"Lamentations\": \"Jeremiah and Lamentations\",\n",
        "    \"Ezra\": \"Ezra and Nehemiah\",\n",
        "    \"Nehemiah\": \"Ezra and Nehemiah\",\n",
        "    \"1 Thessalonians\": \"1 and 2 Thessalonians\",\n",
        "    \"2 Thessalonians\": \"1 and 2 Thessalonians\",\n",
        "    \"1 Corinthians\": \"1 and 2 Corinthians\",\n",
        "    \"2 Corinthians\": \"1 and 2 Corinthians\",\n",
        "    \"1 Timothy\": \"1 and 2 Timothy and Titus\",\n",
        "    \"2 Timothy\": \"1 and 2 Timothy and Titus\",\n",
        "    \"Titus\": \"1 and 2 Timothy and Titus\",\n",
        "    \"1 Peter\": \"1 and 2 Peter\",\n",
        "    \"2 Peter\": \"1 and 2 Peter\",\n",
        "     \"Song of Solomon\": \"Song of Songs\",\n",
        "    \"1 John\": \"1, 2, And 3 John\",\n",
        "    \"2 John\": \"1, 2, And 3 John\",\n",
        "    \"3 John\": \"1, 2, And 3 John\"\n",
        "}\n",
        "\n",
        "PROMPT_TEMPLATE = \"\"\"\n",
        "You are a biblical scholar and summarizer rooted in sound biblical theology and authority of scripture. Based on the following commentary for the book of {book_name}, do the following:\n",
        "\n",
        "1. Write a 3–5 sentence **overview** of the book.\n",
        "2. Identify and list 2 to 3 **key scripture references** with brief descriptions.\n",
        "3. Write a 3–5 sentence **theological context** explaining the major doctrines and themes.\n",
        "\n",
        "Commentary:\n",
        "\\\"\\\"\\\"\n",
        "{commentary_text}\n",
        "\\\"\\\"\\\"\n",
        "\n",
        "Return your response in a strict JSON format as shown below. The JSON object must contain the keys \"overview\", \"key_scriptures\", and \"theological_context\" and content in this below exact format.\n",
        "Do not include any text, explanations, or markdown formatting outside of the JSON object itself.\n",
        "{{\n",
        "  \"overview\": \"...\",\n",
        "  \"key_scriptures\": [\n",
        "    \"Genesis 1:1 -- In the beginning, God created the heaven and the earth\",\n",
        "    \"...\"\n",
        "  ],\n",
        "  \"theological_context\": \"...\"\n",
        "}}\n",
        "\"\"\"\n",
        "\n",
        "# === Revised Helper Function to Fix and Parse Gemini Output ===\n",
        "def parse_gemini_json(raw_text: str):\n",
        "    \"\"\"\n",
        "    Extracts, cleans, and parses a JSON object from a raw string from a model.\n",
        "    Handles responses wrapped in markdown backticks and other common LLM artifacts.\n",
        "    \"\"\"\n",
        "    # 1. Extract JSON block from markdown ```json ... ``` or ``` ... ```\n",
        "    match = re.search(r\"```(?:json)?\\s*([\\s\\S]*?)\\s*```\", raw_text, re.DOTALL)\n",
        "\n",
        "    if match:\n",
        "        cleaned_text = match.group(1).strip()\n",
        "    else:\n",
        "        # 2. If no backticks, find the first '{' to the last '}'\n",
        "        # This handles cases where the model returns a raw JSON object without markdown.\n",
        "        start_index = raw_text.find('{')\n",
        "        end_index = raw_text.rfind('}')\n",
        "        if start_index == -1 or end_index == -1:\n",
        "            raise ValueError(\"🛑 No valid JSON object found in the response.\")\n",
        "        cleaned_text = raw_text[start_index : end_index + 1]\n",
        "\n",
        "    # 3. Clean up common formatting issues\n",
        "    # Replace slanted or \"smart\" quotes with standard double quotes\n",
        "    cleaned_text = cleaned_text.replace(\"\"\", '\"').replace(\"\"\", '\"')\n",
        "    # This replacement is left out as it can corrupt apostrophes (e.g., God's)\n",
        "    # cleaned_text = cleaned_text.replace(\"'\", \"'\").replace(\"'\", \"'\")\n",
        "\n",
        "    # Remove trailing commas from lists (e.g., [1, 2, ]) and objects (e.g., {a:1,})\n",
        "    cleaned_text = re.sub(r\",\\s*\\]\", \"]\", cleaned_text)\n",
        "    cleaned_text = re.sub(r\",\\s*}\", \"}\", cleaned_text)\n",
        "\n",
        "    # 4. Attempt to parse the cleaned JSON\n",
        "    try:\n",
        "        return json.loads(cleaned_text)\n",
        "    except json.JSONDecodeError as e:\n",
        "        # If parsing fails, raise a detailed error for easier debugging\n",
        "        error_message = f\"🛑 JSON parsing failed after cleanup: {e}\"\n",
        "        # For debugging, you can uncomment the next line to see the failed text\n",
        "        # print(f\"--- Failed Text ---\\n{cleaned_text}\\n---------------------\")\n",
        "        raise ValueError(error_message) from e\n",
        "\n",
        "# === Main Process with Skip Logic ===\n",
        "for book in tqdm(books_collection.find()):\n",
        "    book_name = book[\"name\"]\n",
        "\n",
        "    # === ADJUSTMENT: CHECK IF FIELDS ALREADY EXIST ===\n",
        "    # If all required fields are already in the document, skip processing.\n",
        "    if ('overview' in book and 'key_scriptures' in book and 'theological_context' in book):\n",
        "        pass\n",
        "        #print(f\"⏩ Skipping {book_name}: Fields already exist.\")\n",
        "        #continue # Moves to the next book in the loop\n",
        "\n",
        "    # --- If fields don't exist, proceed with the original logic ---\n",
        "\n",
        "    # === USE MAPPING TO GET COMMENTARY TITLE ===\n",
        "    # Check if the book has a mapped combined title, otherwise use the book name\n",
        "    commentary_title = BOOK_MAPPING.get(book_name, book_name)\n",
        "    commentary_title_lower = commentary_title.lower()\n",
        "\n",
        "    # Get all commentary chunks for this book using the mapped title (case-insensitive)\n",
        "    chunks = commentary_collection.find({\n",
        "        \"$expr\": { \"$eq\": [{ \"$toLower\": \"$chapter_title\" }, commentary_title_lower] }\n",
        "    })\n",
        "\n",
        "    all_text = \" \".join(chunk[\"text\"] for chunk in chunks)\n",
        "\n",
        "    if not all_text.strip():\n",
        "        print(f\"⚠️ Skipping {book_name} - No commentary found for '{commentary_title}'.\")\n",
        "        continue\n",
        "\n",
        "    # Format the prompt\n",
        "    prompt = PROMPT_TEMPLATE.format(\n",
        "        book_name=book_name,\n",
        "        commentary_text=all_text # Make sure your model's context window supports this\n",
        "    )\n",
        "\n",
        "    try:\n",
        "        response = model.generate_content(prompt)\n",
        "        raw_text = response.text.strip()\n",
        "\n",
        "        print(f\"\\n📜 Raw Gemini response for {book_name} (using '{commentary_title}'):\\n{raw_text}\\n\")\n",
        "\n",
        "        generated_fields = parse_gemini_json(raw_text)\n",
        "\n",
        "        # === Update MongoDB ===\n",
        "        books_collection.update_one(\n",
        "            {\"_id\": book[\"_id\"]}, # Use the immutable _id for reliability\n",
        "            {\"$set\": {\n",
        "                \"overview\": generated_fields[\"overview\"],\n",
        "                \"key_scriptures\": generated_fields[\"key_scriptures\"],\n",
        "                \"theological_context\": generated_fields[\"theological_context\"]\n",
        "            }}\n",
        "        )\n",
        "\n",
        "        print(f\"✅ Updated: {book_name} (using commentary from '{commentary_title}')\")\n",
        "\n",
        "    except Exception as e:\n",
        "        print(f\"❌ An error occurred processing {book_name}: {e}\")\n",
        "        continue"
      ],
      "metadata": {
        "colab": {
          "base_uri": "https://localhost:8080/",
          "height": 1000
        },
        "id": "5mNHiQRT9CHf",
        "outputId": "72702594-418a-412b-dc5c-c369947ab5fc"
      },
      "execution_count": null,
      "outputs": [
        {
          "output_type": "stream",
          "name": "stderr",
          "text": [
            "\r0it [00:00, ?it/s]"
          ]
        },
        {
          "output_type": "stream",
          "name": "stdout",
          "text": [
            "\n",
            "📜 Raw Gemini response for Leviticus (using 'Leviticus'):\n",
            "```json\n",
            "{\n",
            "  \"overview\": \"Leviticus, named after the tribe of Levi, is a central book in the Pentateuch focusing on holiness and worship. It bridges the Exodus from Egypt with the journey to the Promised Land by detailing God's instructions for the tabernacle, sacrifices, and priestly duties. The book pivots around the Day of Atonement, with the first half describing the way to God (justification) and the second half describing the walk with God (sanctification). Leviticus emphasizes the need for God's people to live set-apart lives, reflecting His own holiness.\",\n",
            "  \"key_scriptures\": [\n",
            "    \"Leviticus 11:44 - 'Be holy, for I am holy.' -- This verse encapsulates the central theme of the book, highlighting God's call for His people to reflect His own character through their actions and lives.\",\n",
            "    \"Leviticus 16:16 - 'So he shall make atonement for the Most Holy Place, because of the uncleanness of the Israelites and because of their transgressions, including all their sins.' -- This verse illustrates the importance of atonement for sin and the cleansing required to maintain fellowship with God.\",\n",
            "    \"Leviticus 19:18 - 'You shall love your neighbor as yourself.' -- This commandment emphasizes the importance of social holiness and love for others as an extension of love for God.\"\n",
            "  ],\n",
            "  \"theological_context\": \"Leviticus reveals God's holiness, humanity's sinfulness, and the way of atonement through sacrifice. The sacrificial system foreshadows Christ's ultimate sacrifice for sin, fulfilling the requirements of the law and providing a way for humanity to be reconciled to God. The book underscores the importance of both justification (being made right with God) and sanctification (becoming more like God). Furthermore, Leviticus emphasizes that true worship involves not only ritual observance but also ethical living and love for neighbor, impacting every area of life.\"\n",
            "}\n",
            "```\n",
            "\n"
          ]
        },
        {
          "output_type": "stream",
          "name": "stderr",
          "text": [
            "\r1it [00:13, 13.83s/it]"
          ]
        },
        {
          "output_type": "stream",
          "name": "stdout",
          "text": [
            "✅ Updated: Leviticus (using commentary from 'Leviticus')\n",
            "\n",
            "📜 Raw Gemini response for Ruth (using 'Judges and Ruth'):\n",
            "```json\n",
            "{\n",
            "  \"overview\": \"The book of Ruth provides a refreshing contrast to the book of Judges, shifting from mass killings and moral decay to a story of loyalty, love, and redemption. It tells the story of Ruth, a Moabite woman, who demonstrates unwavering loyalty to her mother-in-law Naomi, ultimately leading her to Bethlehem. There she meets Boaz, a kinsman redeemer, and through his love and provision, Ruth becomes part of the lineage of King David and, ultimately, Jesus Christ. The book highlights God's providential hand in preparing a royal line and extending grace to Gentiles.\",\n",
            "  \"key_scriptures\": [\n",
            "    \"Ruth 1:16 -- Ruth's declaration of loyalty to Naomi, choosing her people and her God, demonstrates covenant love and commitment.\",\n",
            "    \"Ruth 4:13 -- Boaz redeems Ruth, marrying her and continuing the family line, illustrating the concept of a kinsman redeemer and foreshadowing Christ's redemption of believers.\",\n",
            "    \"Ruth 4:17 -- Ruth bears a son, Obed, who becomes the grandfather of King David, showcasing God's sovereign plan to establish a royal line through unexpected individuals.\"\n",
            "  ],\n",
            "  \"theological_context\": \"The book of Ruth emphasizes God's sovereignty in working through ordinary people and circumstances to fulfill His redemptive plan. It demonstrates the importance of loyalty, love, and obedience in the face of adversity, highlighting the themes of grace, redemption, and inclusion. It also foreshadows the coming of Christ, who would ultimately redeem all people and bring them into His family. The book displays God's kindness and favor towards Ruth, a Gentile woman, demonstrating God's heart for all people.\"\n",
            "}\n",
            "```\n",
            "\n"
          ]
        },
        {
          "output_type": "stream",
          "name": "stderr",
          "text": [
            "\r2it [00:20,  9.75s/it]"
          ]
        },
        {
          "output_type": "stream",
          "name": "stdout",
          "text": [
            "✅ Updated: Ruth (using commentary from 'Judges and Ruth')\n",
            "\n",
            "📜 Raw Gemini response for 1 Samuel (using '1 and 2 Samuel'):\n",
            "```json\n",
            "{\n",
            "  \"overview\": \"1 Samuel narrates Israel's transition from a theocratic society led by judges to a monarchy, focusing on the lives of Samuel, Saul, and David. It recounts Samuel's role as a prophet and judge, the rise and tragic fall of Saul as Israel's first king due to disobedience, and the anointing of David, who would eventually become Israel's greatest king. The book highlights themes of obedience, leadership, and God's sovereignty in shaping Israel's destiny. It underscores the consequences of rejecting God's will and the importance of a heart devoted to Him.\",\n",
            "  \"key_scriptures\": [\n",
            "    \"1 Samuel 3:10 -- God calls to Samuel. 'And the Lord came, and stood, and called as at other times, Samuel, Samuel. Then Samuel answered, Speak; for thy servant heareth.' This marks the beginning of Samuel's prophetic ministry and God's direct communication with him, highlighting Samuel's role as a conduit for God's word.\",\n",
            "    \"1 Samuel 15:22-23 -- Samuel confronts Saul. 'And Samuel said, Hath the Lord as great delight in burnt offerings and sacrifices, as in obeying the voice of the Lord? Behold, to obey is better than sacrifice, and to hearken than the fat of rams. For rebellion is as the sin of witchcraft, and stubbornness is as iniquity and idolatry. Because thou hast rejected the word of the Lord, he hath also rejected thee from being king.' This passage emphasizes the importance of obedience to God's commands above ritualistic practices and reveals the consequences of Saul's disobedience.\",\n",
            "    \"1 Samuel 16:7 -- God explains his choice of David. 'But the Lord said unto Samuel, Look not on his countenance, or on the height of his stature; because I have refused him: for the Lord seeth not as man seeth; for man looketh on the outward appearance, but the Lord looketh on the heart.' This verse demonstrates God's focus on inner character rather than outward appearance, highlighting David's heart for God as the reason for his selection as king.\"\n",
            "  ],\n",
            "  \"theological_context\": \"1 Samuel explores the doctrines of God's sovereignty, human free will, and the consequences of sin. It reveals God's active involvement in human history, shaping events and raising up leaders according to His purposes. The book underscores the theme of covenant, as God's promises to Abraham are carried forward and find expression in the establishment of the Davidic dynasty. Ultimately, 1 Samuel serves as a prelude to the coming of the Messiah, a descendant of David, who will fulfill God's kingdom promises.\"\n",
            "}\n",
            "```\n",
            "\n"
          ]
        },
        {
          "output_type": "stream",
          "name": "stderr",
          "text": [
            "\r3it [00:29,  9.35s/it]"
          ]
        },
        {
          "output_type": "stream",
          "name": "stdout",
          "text": [
            "✅ Updated: 1 Samuel (using commentary from '1 and 2 Samuel')\n",
            "\n",
            "📜 Raw Gemini response for Jeremiah (using 'Jeremiah and Lamentations'):\n",
            "```json\n",
            "{\n",
            "  \"overview\": \"Jeremiah, a prophet called before birth, ministered for 40 years, delivering God's message of judgment and hope to Judah. His prophecies, often delivered through dramatic acts, warned of impending disaster due to the people's idolatry, immorality, and injustice. While initially calling for repentance, Jeremiah later prophesied destruction by Babylon, followed by ultimate restoration and a new covenant. The book, though difficult and depressing, emphasizes the importance of inward spirituality over outward ritual and highlights God's dynamic relationship with His people.\",\n",
            "  \"key_scriptures\": [\n",
            "    \"Jeremiah 18:1-6 - The potter's house demonstrates God's sovereignty but also reveals how the people's unresponsiveness to God's intention will result in an undesired outcome. It is a lesson that repentance and change can alter God's course of action.\",\n",
            "    \"Jeremiah 31:31-34 - This passage introduces the New Covenant, where God's law is written on the heart, fostering an intimate knowledge of God and complete forgiveness of sins, indicating a new level of personal relationship.\",\n",
            "    \"Jeremiah 31:35-36 - This verse emphasizes the immutability of God's promise to Israel, using the permanence of the sun, moon, and stars as a guarantee that Israel will always exist as a nation.\"\n",
            "  ],\n",
            "  \"theological_context\": \"The book of Jeremiah addresses themes of covenant faithfulness, divine judgment, repentance, and restoration. It underscores the holiness of God and His intolerance of sin, while simultaneously revealing His enduring love and desire for His people to return to Him. A key doctrine is the coming New Covenant, foreshadowing the individual relationship with God through Christ, differing from the Mosaic covenant's collective nature. The book also grapples with God's sovereignty and human free will, showing a dynamic interplay where human choices affect divine plans.\"\n",
            "}\n",
            "```\n",
            "\n"
          ]
        },
        {
          "output_type": "stream",
          "name": "stderr",
          "text": [
            "\r4it [00:36,  8.45s/it]"
          ]
        },
        {
          "output_type": "stream",
          "name": "stdout",
          "text": [
            "✅ Updated: Jeremiah (using commentary from 'Jeremiah and Lamentations')\n",
            "\n",
            "📜 Raw Gemini response for Hosea (using 'Amos and Hosea'):\n",
            "```json\n",
            "{\n",
            "  \"overview\": \"The books of Hosea and Amos, written in the 8th century BC to the northern kingdom of Israel, address God's broken relationship with His people due to their unfaithfulness, idolatry, and social injustice. Hosea uses his own marriage to a promiscuous woman as a metaphor for God's covenant with Israel, emphasizing God's unwavering love and heartbreak over their betrayal. Amos, a herdsman turned prophet, delivers stern warnings of judgment if Israel does not repent of its social sins and return to God. Despite the impending judgment, both prophets offer a glimmer of hope for future restoration if they turn from their wicked ways.\",\n",
            "  \"key_scriptures\": [\n",
            "    \"Hosea 2:14-15 - God woos Israel back to himself, promising to restore their relationship and bless them once again if they will only repent and return to Him.\",\n",
            "    \"Hosea 6:6 - Emphasizes God's desire for genuine love and knowledge of Him rather than mere ritualistic sacrifices, highlighting the importance of a changed heart.\",\n",
            "    \"Amos 5:24 - Calls for justice to roll down like waters, and righteousness like an ever-flowing stream, stressing the importance of social justice and ethical living as expressions of true worship.\"\n",
            "  ],\n",
            "  \"theological_context\": \"Hosea and Amos highlight the doctrines of God's holiness, justice, love, and covenant faithfulness. They reveal God's intolerance of sin, especially idolatry and social injustice, and His commitment to uphold His covenant with Israel, even through discipline. The books emphasize the importance of repentance and obedience as necessary responses to God's grace and the seriousness of covenantal responsibility. God’s judgment is a consequence of broken covenant but it is also a call to repentance and an expression of His longing for reconciliation.\"\n",
            "}\n",
            "```\n",
            "\n"
          ]
        },
        {
          "output_type": "stream",
          "name": "stderr",
          "text": [
            "\r5it [00:44,  8.15s/it]"
          ]
        },
        {
          "output_type": "stream",
          "name": "stdout",
          "text": [
            "✅ Updated: Hosea (using commentary from 'Amos and Hosea')\n"
          ]
        },
        {
          "output_type": "stream",
          "name": "stderr",
          "text": [
            "ERROR:tornado.access:503 POST /v1beta/models/gemini-2.0-flash:generateContent?%24alt=json%3Benum-encoding%3Dint (127.0.0.1) 1948.87ms\n"
          ]
        },
        {
          "output_type": "stream",
          "name": "stdout",
          "text": [
            "\n",
            "📜 Raw Gemini response for Jonah (using 'Jonah'):\n",
            "```json\n",
            "{\n",
            "  \"overview\": \"The book of Jonah tells the story of a prophet who initially disobeys God's command to preach repentance to the city of Nineveh. After being swallowed by a great fish and miraculously surviving, Jonah reluctantly delivers God's message, leading to the city's repentance. Jonah is angered by God's compassion on Nineveh because of the potential threat to Israel. The book explores themes of obedience, divine mercy, and God's universal love, challenging the reader to consider God's compassion for all people.\",\n",
            "  \"key_scriptures\": [\n",
            "    \"Jonah 1:3 - Jonah flees from God's presence, highlighting the theme of disobedience and attempting to escape God's will.\",\n",
            "    \"Jonah 1:17 - God prepares a great fish to swallow Jonah, showcasing divine intervention and control over nature.\",\n",
            "    \"Jonah 3:5-10 - The Ninevites repent and God relents from destroying them, illustrating God's mercy and willingness to forgive those who turn from their wickedness.\"\n",
            "  ],\n",
            "  \"theological_context\": \"The book of Jonah reveals God's sovereignty over creation and His freedom to use even disobedient servants to accomplish His purposes. It demonstrates God's compassion extends to all nations, challenging the exclusivity often associated with Israel's relationship with God. The book underscores the importance of repentance and faith for salvation and the need for believers to embrace God's mercy towards others. The theme of resurrection is present in the book.\"\n",
            "}\n",
            "```\n",
            "\n"
          ]
        },
        {
          "output_type": "stream",
          "name": "stderr",
          "text": [
            "\r6it [00:52,  8.10s/it]"
          ]
        },
        {
          "output_type": "stream",
          "name": "stdout",
          "text": [
            "✅ Updated: Jonah (using commentary from 'Jonah')\n",
            "\n",
            "📜 Raw Gemini response for Nahum (using 'Nahum'):\n",
            "```json\n",
            "{\n",
            "  \"overview\": \"The book of Nahum is a prophecy concerning the impending destruction of Nineveh, the capital of Assyria. It serves as a warning of God's judgment against cruelty and inhumanity. Unlike Jonah, Nahum's prophecy offers no opportunity for repentance; God's wrath has reached its limit. The book provides both a proclamation and vivid description of Nineveh's downfall, offering comfort to Israel and demonstrating God's control over history.\",\n",
            "  \"key_scriptures\": [\n",
            "    \"Nahum 1:2 -- God is jealous, and the Lord avenges; the Lord avenges and is furious. The Lord takes vengeance on His adversaries, and He reserves wrath for His enemies.\",\n",
            "    \"Nahum 1:3 -- The Lord is slow to anger and great in power; the Lord will by no means clear the guilty.\",\n",
            "    \"Nahum 2:8 -- 'Though Nineveh was like a pool full of water, now her water is draining away.' This is a vivid depiction of the once-powerful city's resources being depleted.\"\n",
            "  ],\n",
            "  \"theological_context\": \"Nahum reveals God's attributes of jealousy, vengeance, and justice, highlighting that He will not tolerate persistent wickedness. It underscores the sovereignty of God over nations and history, demonstrating that He raises up and brings down empires according to His purposes. The book also affirms God's righteousness in judging sin, emphasizing that even those without explicit knowledge of His law are accountable to the moral standards they intuitively understand. Ultimately, Nahum's message reinforces the importance of fearing God and avoiding cruelty and corruption.\"\n",
            "}\n",
            "```\n",
            "\n"
          ]
        },
        {
          "output_type": "stream",
          "name": "stderr",
          "text": [
            "\r7it [00:57,  7.20s/it]"
          ]
        },
        {
          "output_type": "stream",
          "name": "stdout",
          "text": [
            "✅ Updated: Nahum (using commentary from 'Nahum')\n",
            "\n",
            "📜 Raw Gemini response for Habakkuk (using 'Habakkuk'):\n",
            "```json\n",
            "{\n",
            "  \"overview\": \"Habakkuk wrestles with God's plan to use the wicked Babylonians to judge Judah, questioning God's justice and holiness. He initially complains that God is doing too little to address Judah's sin and then too much by using a more wicked nation for judgment. God assures Habakkuk that the righteous will live by faith and that Babylon will also face judgment for their sins. The book concludes with Habakkuk's praise and trust in God's sovereignty, even amidst impending hardship, showing a transformation from doubt to faith.\",\n",
            "  \"key_scriptures\": [\n",
            "    \"Habakkuk 1:13 - 'Your eyes are too pure to look on evil' expresses Habakkuk's initial complaint about God's tolerance of sin and the apparent injustice of using a more wicked nation to punish Judah.\",\n",
            "    \"Habakkuk 2:4 - 'The just shall live by faith' is a central verse emphasizing that the righteous will find life and preservation through continued faithfulness to God, even in the face of suffering and judgment.\",\n",
            "    \"Habakkuk 3:17-18 - 'Though the fig tree does not blossom...yet I will rejoice in the Lord' exemplifies Habakkuk's ultimate trust and joy in God, even when faced with the complete devastation of his surroundings, highlighting a faith that transcends circumstances.\"\n",
            "  ],\n",
            "  \"theological_context\": \"The book addresses the problem of evil and God's justice in the face of suffering, affirming God's sovereignty and holiness while acknowledging human pain and questioning. It touches on the doctrines of judgment, both for God's people and for the wicked, and the importance of faith in God's promises. Habakkuk underscores God's ultimate control over history, using nations for His purposes while holding them accountable. A key theme is that true faith perseveres even when circumstances are dire, finding joy and strength in God alone.\"\n",
            "}\n",
            "```\n",
            "\n"
          ]
        },
        {
          "output_type": "stream",
          "name": "stderr",
          "text": [
            "\r8it [01:03,  6.85s/it]"
          ]
        },
        {
          "output_type": "stream",
          "name": "stdout",
          "text": [
            "✅ Updated: Habakkuk (using commentary from 'Habakkuk')\n",
            "\n",
            "📜 Raw Gemini response for Luke (using 'Luke'):\n",
            "```json\n",
            "{\n",
            "  \"overview\": \"Luke's Gospel, deeply humanitarian, uniquely portrays Jesus as the compassionate Savior for all, with a special focus on the marginalized and outcasts of society. It emphasizes the good news of salvation, the work of the Holy Spirit, and the importance of prayer and joy. Luke meticulously crafts his narrative to showcase Jesus' ministry to Samaritans, Gentiles, the poor, and women, highlighting the universal reach of God's love and redemption. This Gospel culminates in the ascension, bridging to the book of Acts and illustrating the expansion of the Christian faith.\",\n",
            "  \"key_scriptures\": [\n",
            "    \"Luke 1:35 - The Holy Spirit will come upon you, and the power of the Most High will overshadow you. This verse highlights the divine conception of Jesus and the role of the Holy Spirit in His birth.\",\n",
            "    \"Luke 4:18-19 - “The Spirit of the Lord is on me, because he has anointed me to proclaim good news to the poor. He has sent me to proclaim freedom for the prisoners and recovery of sight for the blind, to set the oppressed free, to proclaim the year of the Lord’s favor.”  This passage from Isaiah, quoted by Jesus, defines His mission to bring salvation to the marginalized.\",\n",
            "    \"Luke 15:11-32 - The Parable of the Prodigal Son. This parable powerfully illustrates God's boundless love and forgiveness, depicting the joy in heaven over the repentance and return of a lost sinner.\"\n",
            "  ],\n",
            "  \"theological_context\": \"Luke's Gospel emphasizes several key theological themes, including salvation as a present reality, accessible 'today' and 'now,' underscored by the frequent use of 'salvation' as a noun.  The work of the Holy Spirit is central, empowering Jesus and His followers for ministry and underscoring the supernatural dimension of faith.  Prayer is presented as essential for both Jesus and His disciples, providing guidance and strength, while the Kingdom of God is portrayed as universally inclusive, extending to all nations and social classes. These themes converge to present Jesus as the Savior of the world, offering redemption and new life to all who believe.\"\n",
            "}\n",
            "```\n",
            "\n"
          ]
        },
        {
          "output_type": "stream",
          "name": "stderr",
          "text": [
            "\r9it [01:11,  7.02s/it]"
          ]
        },
        {
          "output_type": "stream",
          "name": "stdout",
          "text": [
            "✅ Updated: Luke (using commentary from 'Luke')\n",
            "\n",
            "📜 Raw Gemini response for Acts (using 'Acts'):\n",
            "```json\n",
            "{\n",
            "  \"overview\": \"The book of Acts, written by Luke, chronicles the spread of Christianity from Jerusalem to Rome, highlighting key events and the work of the Holy Spirit through the apostles. It serves as a vital link between the Gospels and the Epistles, showcasing the growth and expansion of the early church amidst cultural pressures and internal challenges. Luke emphasizes the unity of Jewish and Gentile believers and provides a model for church life and missionary endeavors. Luke is writing to defend Paul on his trial, emphasizing the validity and spread of the faith.\",\n",
            "  \"key_scriptures\": [\n",
            "    \"Acts 1:8 -- This verse outlines the geographical expansion of the gospel, starting in Jerusalem, then to Judea and Samaria, and finally to the ends of the earth, reflecting the book's structure and purpose.\",\n",
            "    \"Acts 2:1-4 -- The Day of Pentecost marks the outpouring of the Holy Spirit, empowering the disciples for witness and reversing the effects of the Tower of Babel through the gift of tongues.\",\n",
            "    \"Acts 15: This entire chapter presents the Jerusalem Council, where the apostles decree that Gentile believers are not bound by the Mosaic Law, resolving a major conflict and paving the way for the church's expansion among the Gentiles.\"\n",
            "  ],\n",
            "  \"theological_context\": \"Acts is profoundly Trinitarian, demonstrating the acts of God through Jesus Christ by the Holy Spirit in the apostles. Major doctrines include the kingdom of God, the name of Jesus, and the power of the Holy Spirit. It highlights the importance of evangelism, discipleship, and the establishment of local churches led by elders. Acts presents a balanced view of church life, acknowledging both the blessings and difficulties, the normal and abnormal, providing a model for the church to emulate while recognizing its imperfections and learning from its mistakes.\"\n",
            "}\n",
            "```\n",
            "\n"
          ]
        },
        {
          "output_type": "stream",
          "name": "stderr",
          "text": [
            "\r10it [01:17,  6.89s/it]"
          ]
        },
        {
          "output_type": "stream",
          "name": "stdout",
          "text": [
            "✅ Updated: Acts (using commentary from 'Acts')\n",
            "\n",
            "📜 Raw Gemini response for Galatians (using 'Galatians'):\n",
            "```json\n",
            "{\n",
            "  \"overview\": \"Paul's letter to the Galatians is a passionate defense of the gospel of grace against legalism. He confronts the Galatian believers who were being swayed by Judaizers, who insisted on adherence to the Mosaic Law, including circumcision, for salvation. Paul fiercely argues that salvation is by faith in Jesus Christ alone, not by works of the law. The letter emphasizes Christian liberty and warns against both legalism and license, urging believers to walk in the Spirit and bear the fruit of the Spirit.\",\n",
            "  \"key_scriptures\": [\n",
            "    \"Galatians 2:16: \\\"yet we know that a person is not justified by works of the law but through faith in Jesus Christ, so we also have believed in Christ Jesus, in order to be justified by faith in Christ and not by works of the law, because by works of the law no one will be justified.\\\" This verse clearly states the central theme of justification by faith.\",\n",
            "    \"Galatians 3:11: \\\"Now it is evident that no one is justified before God by the law, for \\\"The righteous shall live by faith.\\\" This verse highlights that reliance on the law for righteousness is futile.\",\n",
            "    \"Galatians 5:1: \\\"For freedom Christ has set us free; stand firm therefore, and do not submit again to a yoke of slavery.\\\" This verse emphasizes that believers should not be slaves to legalism but stand firm in the liberty that Christ has obtained.\"\n",
            "  ],\n",
            "  \"theological_context\": \"Galatians addresses the core doctrines of justification, salvation, and grace. It defends the concept of salvation by grace through faith, contrasting it with salvation by works of the law. The letter also discusses the nature of Christian freedom, emphasizing that it is not a license to sin but freedom from the bondage of the law and the power of sin, empowered by the Holy Spirit. The letter underscores the fulfillment of God's promises in Christ, making adherence to the old covenant obsolete for believers.\"\n",
            "}\n",
            "```\n",
            "\n"
          ]
        },
        {
          "output_type": "stream",
          "name": "stderr",
          "text": [
            "\r11it [01:26,  7.46s/it]"
          ]
        },
        {
          "output_type": "stream",
          "name": "stdout",
          "text": [
            "✅ Updated: Galatians (using commentary from 'Galatians')\n"
          ]
        },
        {
          "output_type": "stream",
          "name": "stderr",
          "text": [
            "ERROR:tornado.access:503 POST /v1beta/models/gemini-2.0-flash:generateContent?%24alt=json%3Benum-encoding%3Dint (127.0.0.1) 2655.40ms\n",
            "ERROR:tornado.access:503 POST /v1beta/models/gemini-2.0-flash:generateContent?%24alt=json%3Benum-encoding%3Dint (127.0.0.1) 1771.13ms\n",
            "ERROR:tornado.access:503 POST /v1beta/models/gemini-2.0-flash:generateContent?%24alt=json%3Benum-encoding%3Dint (127.0.0.1) 1820.71ms\n",
            "ERROR:tornado.access:503 POST /v1beta/models/gemini-2.0-flash:generateContent?%24alt=json%3Benum-encoding%3Dint (127.0.0.1) 1619.89ms\n",
            "ERROR:tornado.access:503 POST /v1beta/models/gemini-2.0-flash:generateContent?%24alt=json%3Benum-encoding%3Dint (127.0.0.1) 1644.71ms\n",
            "ERROR:tornado.access:503 POST /v1beta/models/gemini-2.0-flash:generateContent?%24alt=json%3Benum-encoding%3Dint (127.0.0.1) 1670.50ms\n",
            "ERROR:tornado.access:503 POST /v1beta/models/gemini-2.0-flash:generateContent?%24alt=json%3Benum-encoding%3Dint (127.0.0.1) 1771.62ms\n",
            "ERROR:tornado.access:503 POST /v1beta/models/gemini-2.0-flash:generateContent?%24alt=json%3Benum-encoding%3Dint (127.0.0.1) 1948.28ms\n",
            "ERROR:tornado.access:503 POST /v1beta/models/gemini-2.0-flash:generateContent?%24alt=json%3Benum-encoding%3Dint (127.0.0.1) 1567.77ms\n",
            "ERROR:tornado.access:503 POST /v1beta/models/gemini-2.0-flash:generateContent?%24alt=json%3Benum-encoding%3Dint (127.0.0.1) 1999.31ms\n"
          ]
        },
        {
          "output_type": "stream",
          "name": "stdout",
          "text": [
            "\n",
            "📜 Raw Gemini response for 1 Peter (using '1 and 2 Peter'):\n",
            "```json\n",
            "{\n",
            "  \"overview\": \"1 Peter is a warm, human letter written by the apostle Peter to Christians in Asia Minor, encouraging them to endure suffering with a godly attitude. The letter reminds believers of their salvation, both individually and corporately as the people of God, and instructs them on how to conduct themselves in a hostile world. Peter emphasizes submission to authority and maintaining a Christlike spirit in the face of persecution, focusing on the importance of faith, hope, and love. Ultimately, the book serves as a guide for believers to follow Jesus' example and live as aliens and strangers in a world that is not their home.\",\n",
            "  \"key_scriptures\": [\n",
            "    \"1 Peter 1:3-5 - This passage speaks of the living hope believers have through the resurrection of Jesus Christ, an imperishable inheritance kept in heaven, providing joy amidst trials.\",\n",
            "    \"1 Peter 2:9-10 - This describes believers as a chosen race, a royal priesthood, a holy nation, and a people for God's own possession, highlighting their exalted position and purpose in the world.\",\n",
            "    \"1 Peter 4:12-14 - This encourages believers not to be surprised by fiery trials but to rejoice, as they share in Christ's sufferings, knowing that they will also share in his glory.\"\n",
            "  ],\n",
            "  \"theological_context\": \"1 Peter addresses the doctrines of salvation, sanctification, and eschatology within the context of suffering and persecution. The book emphasizes the believer's union with Christ in his suffering and glory, urging them to live holy lives as a testament to God's grace. It affirms the sovereignty of God in salvation and the believer's responsibility to live out their faith in obedience and submission to authority. A major theme is the reality of suffering as a normal part of the Christian life, but also emphasizes the promise of future hope and glory for those who remain faithful.\"\n",
            "}\n",
            "```\n",
            "\n"
          ]
        },
        {
          "output_type": "stream",
          "name": "stderr",
          "text": [
            "\r12it [02:10, 18.45s/it]"
          ]
        },
        {
          "output_type": "stream",
          "name": "stdout",
          "text": [
            "✅ Updated: 1 Peter (using commentary from '1 and 2 Peter')\n",
            "\n",
            "📜 Raw Gemini response for Genesis (using 'Genesis'):\n",
            "```json\n",
            "{\n",
            "  \"overview\": \"Genesis is the foundational book of the Bible, revealing God as the creator of the universe and humanity. It explains the origins of the world, humanity, sin, and God's initial covenant relationships. The book narrates the unfolding drama of redemption, setting the stage for the rest of Scripture by introducing key characters, themes, and God's plan to restore what was broken through sin. Genesis also highlights God's sovereign choice and covenant faithfulness despite human failure.\",\n",
            "  \"key_scriptures\": [\n",
            "    \"Genesis 1:1 – Declares God as the eternal Creator, existing before and responsible for the origin of the universe.\",\n",
            "    \"Genesis 3:15 – Presents the first promise of redemption, foreshadowing the ultimate defeat of evil through the seed of the woman.\",\n",
            "    \"Genesis 12:1-3 – Records God's covenant with Abraham, promising blessing to all nations through his lineage and establishing the foundation for God's chosen people.\"\n",
            "  ],\n",
            "  \"theological_context\": \"Genesis establishes core doctrines such as creation ex nihilo, the image of God in humanity, and the reality of sin and its consequences. It introduces the concept of covenant theology, highlighting God's initiative in establishing relationships with humanity based on grace. The book emphasizes God's sovereignty, holiness, justice, and mercy. The narratives of key figures like Abraham, Isaac, Jacob, and Joseph illustrate the themes of faith, obedience, and God's providential care in fulfilling his purposes despite human flaws.\"\n",
            "}\n",
            "```\n",
            "\n"
          ]
        },
        {
          "output_type": "stream",
          "name": "stderr",
          "text": [
            "\r13it [02:19, 15.58s/it]"
          ]
        },
        {
          "output_type": "stream",
          "name": "stdout",
          "text": [
            "✅ Updated: Genesis (using commentary from 'Genesis')\n",
            "\n",
            "📜 Raw Gemini response for Exodus (using 'Exodus'):\n",
            "```json\n",
            "{\n",
            "  \"overview\": \"Exodus recounts the epic liberation of the Israelites from Egyptian slavery under the leadership of Moses. Through divine intervention, including miraculous plagues and the parting of the Red Sea, God demonstrates his power and faithfulness. The narrative transitions from deliverance to covenant, as God establishes a relationship with Israel at Mount Sinai, giving them the Law and instructions for building the Tabernacle, signifying His presence among them. The book emphasizes God's grace in redemption and His expectation of gratitude expressed through obedience.\",\n",
            "  \"key_scriptures\": [\n",
            "    \"Exodus 3:14 -- God reveals His name to Moses as \\\"I AM WHO I AM\\\" (Yahweh), emphasizing His eternal existence and self-sufficiency and ability to meet the needs of His people.\",\n",
            "    \"Exodus 12:13 -- God commands the Israelites to apply the blood of a lamb to their doorposts, promising that the angel of death will \\\"pass over\\\" their homes, illustrating the concept of atonement and foreshadowing Christ's sacrifice.\",\n",
            "    \"Exodus 20:3-17 -- God delivers the Ten Commandments at Mount Sinai, providing the foundational moral and ethical principles for the covenant relationship between God and Israel and a guide for all people.\"\n",
            "  ],\n",
            "  \"theological_context\": \"Exodus reveals God as both Creator and Redeemer, demonstrating His sovereignty over creation and His commitment to His chosen people. The book highlights the doctrines of grace, redemption, and covenant theology, showcasing God's initiative in saving a people for Himself. The giving of the Law underscores the importance of obedience as a response to God's grace, while the Tabernacle symbolizes God's desire to dwell among His people, foreshadowing the incarnation of Christ and His presence with believers through the Holy Spirit.\"\n",
            "}\n",
            "```\n",
            "\n"
          ]
        },
        {
          "output_type": "stream",
          "name": "stderr",
          "text": [
            "\r14it [02:27, 13.31s/it]"
          ]
        },
        {
          "output_type": "stream",
          "name": "stdout",
          "text": [
            "✅ Updated: Exodus (using commentary from 'Exodus')\n"
          ]
        },
        {
          "output_type": "stream",
          "name": "stderr",
          "text": [
            "ERROR:tornado.access:503 POST /v1beta/models/gemini-2.0-flash:generateContent?%24alt=json%3Benum-encoding%3Dint (127.0.0.1) 1518.04ms\n",
            "ERROR:tornado.access:503 POST /v1beta/models/gemini-2.0-flash:generateContent?%24alt=json%3Benum-encoding%3Dint (127.0.0.1) 1620.10ms\n",
            "ERROR:tornado.access:503 POST /v1beta/models/gemini-2.0-flash:generateContent?%24alt=json%3Benum-encoding%3Dint (127.0.0.1) 2453.66ms\n",
            "ERROR:tornado.access:503 POST /v1beta/models/gemini-2.0-flash:generateContent?%24alt=json%3Benum-encoding%3Dint (127.0.0.1) 1593.89ms\n",
            "ERROR:tornado.access:503 POST /v1beta/models/gemini-2.0-flash:generateContent?%24alt=json%3Benum-encoding%3Dint (127.0.0.1) 1896.98ms\n",
            "ERROR:tornado.access:503 POST /v1beta/models/gemini-2.0-flash:generateContent?%24alt=json%3Benum-encoding%3Dint (127.0.0.1) 1695.79ms\n"
          ]
        },
        {
          "output_type": "stream",
          "name": "stdout",
          "text": [
            "\n",
            "📜 Raw Gemini response for Deuteronomy (using 'Deuteronomy'):\n",
            "```json\n",
            "{\n",
            "  \"overview\": \"Deuteronomy, the last book of the Pentateuch, serves as Moses's final address to the Israelites before entering the Promised Land. It reiterates and expounds upon the covenant established at Sinai, emphasizing obedience to God's law as the key to blessing and prosperity in the land. The book warns against idolatry and injustice, urging the new generation to learn from the failures of their parents and to remain faithful to the Lord. Deuteronomy also anticipates a future prophet like Moses (Jesus) and provides a framework of laws that will become the foundation for Israelite society and governance.\",\n",
            "  \"key_scriptures\": [\n",
            "    \"Deuteronomy 6:4-5 -- The Shema: 'Hear, O Israel: The Lord our God, the Lord is one. You shall love the Lord your God with all your heart and with all your soul and with all your might.' This passage summarizes the core of Israel's covenant relationship with God, emphasizing exclusive devotion and love.\",\n",
            "    \"Deuteronomy 28 -- Blessings and Curses: This chapter details the blessings that will come upon Israel for obedience and the curses that will result from disobedience, underscoring the conditional nature of their occupation of the land and God's just judgment.\",\n",
            "    \"Deuteronomy 30:19 -- 'I call heaven and earth to witness against you today, that I have set before you life and death, blessing and curse. Therefore choose life, that you and your offspring may live.' This verse encapsulates the central choice presented to Israel: to obey God and receive life or to disobey and face death, highlighting human responsibility and God's desire for their well-being.\"\n",
            "  ],\n",
            "  \"theological_context\": \"Deuteronomy emphasizes the doctrines of covenant, law, and promise. It highlights God's initiative in establishing a covenant with Israel, His gracious provision of the Law as a guide for righteous living, and His faithfulness to His promises contingent on their obedience. The book underscores God's holiness and justice, demonstrating that He will bless those who obey Him and judge those who rebel, therefore tying obedience to God as loyalty and true love. Finally, the idea of the “Promised Land” symbolizes God’s rest and blessing to those who are obedient to Him.\"\n",
            "}\n",
            "```\n",
            "\n"
          ]
        },
        {
          "output_type": "stream",
          "name": "stderr",
          "text": [
            "\r15it [02:55, 18.00s/it]"
          ]
        },
        {
          "output_type": "stream",
          "name": "stdout",
          "text": [
            "✅ Updated: Deuteronomy (using commentary from 'Deuteronomy')\n",
            "\n",
            "📜 Raw Gemini response for Judges (using 'Judges and Ruth'):\n",
            "```json\n",
            "{\n",
            "  \"overview\": \"The book of Judges recounts a dark period in Israel's history after Joshua's death, characterized by a cyclical pattern of disobedience, oppression, repentance, and deliverance through divinely appointed judges. These judges, though flawed, were empowered by the Spirit of the Lord to deliver Israel from their enemies. However, the book highlights a leadership vacuum and a growing moral and spiritual decline, revealing a desperate need for a righteous king. The recurring phrase, 'everyone did what was right in his own eyes,' encapsulates the anarchy and lack of spiritual discernment that plagued the nation.\",\n",
            "  \"key_scriptures\": [\n",
            "    \"Judges 2:11-19 -- This passage describes the cyclical pattern of Israel forsaking the Lord, serving other gods, experiencing oppression, and then crying out to God, who raises up judges to deliver them, only for the cycle to repeat after the judge's death.\",\n",
            "    \"Judges 6:34 -- 'But the Spirit of the Lord came upon Gideon.' This highlights the empowerment of the judges by the Holy Spirit to perform supernatural feats and deliver Israel, demonstrating divine strength working through weak individuals.\",\n",
            "    \"Judges 17:6 & 21:25 -- 'In those days there was no king in Israel. Everyone did what was right in his own eyes.' This refrain emphasizes the lack of central authority and the resulting moral and spiritual chaos that characterized the period of the judges.\"\n",
            "  ],\n",
            "  \"theological_context\": \"The book of Judges demonstrates God's faithfulness and justice in dealing with his covenant people. While highlighting Israel's repeated failure to remain faithful to the covenant, it also demonstrates God's patience and mercy in raising up deliverers in response to their cries. The book underscores the importance of obedience to God's law and the dangers of idolatry and moral compromise. Ultimately, Judges reveals the need for a righteous king who would lead the people in obedience and establish justice, setting the stage for the monarchy and pointing forward to Christ.\"\n",
            "}\n",
            "```\n",
            "\n"
          ]
        },
        {
          "output_type": "stream",
          "name": "stderr",
          "text": [
            "\r16it [03:04, 15.02s/it]"
          ]
        },
        {
          "output_type": "stream",
          "name": "stdout",
          "text": [
            "✅ Updated: Judges (using commentary from 'Judges and Ruth')\n",
            "\n",
            "📜 Raw Gemini response for 2 Chronicles (using '1 and 2 Chronicles'):\n",
            "```json\n",
            "{\n",
            "  \"overview\": \"2 Chronicles retells Israel's history, focusing on the southern kingdom of Judah and the Davidic line. Written from a priestly perspective after the exile, it aims to encourage returning exiles by highlighting God's faithfulness and the importance of temple worship. The book emphasizes the reigns of righteous kings and their devotion to restoring proper worship. Ultimately, it seeks to instill in the returning remnant a sense of identity, royalty, and religious purpose.\",\n",
            "  \"key_scriptures\": [\n",
            "    \"2 Chronicles 7:14 -- This verse, though often misapplied, speaks to God's promise to heal the land if His people humble themselves, pray, seek His face, and turn from their wicked ways. It highlights the conditional nature of God's blessing and the importance of repentance.\",\n",
            "    \"Various passages detailing the temple rebuilding efforts (e.g., 2 Chronicles 3-4) -- These passages emphasize the centrality of worship in the life of God's people and the significance of the temple as a place of God's presence.\",\n",
            "    \"Genealogies in 1 Chronicles 1-9 -- These genealogies emphasize the rootedness of God's people in their history and God's faithfulness to His covenant promises from Adam onward.\"\n",
            "  ],\n",
            "  \"theological_context\": \"2 Chronicles emphasizes the doctrines of God's sovereignty, covenant faithfulness, and the importance of temple worship. It underscores God's active involvement in history, particularly in fulfilling His promises to David. The book highlights the theme of repentance and restoration, demonstrating that even after exile, God offers forgiveness and renewal to those who seek Him. It also subtly points towards the future hope of a Davidic king who would truly establish God's kingdom.\"\n",
            "}\n",
            "```\n",
            "\n"
          ]
        },
        {
          "output_type": "stream",
          "name": "stderr",
          "text": [
            "\r17it [03:10, 12.38s/it]"
          ]
        },
        {
          "output_type": "stream",
          "name": "stdout",
          "text": [
            "✅ Updated: 2 Chronicles (using commentary from '1 and 2 Chronicles')\n",
            "\n",
            "📜 Raw Gemini response for Ezra (using 'Ezra and Nehemiah'):\n",
            "```json\n",
            "{\n",
            "  \"overview\": \"The book of Ezra recounts the return of Jewish exiles to Jerusalem after their captivity in Babylon, focusing on the rebuilding of the temple and the restoration of Jewish religious life. Led by Zerubbabel initially and later by Ezra, the returnees faced challenges, including opposition from surrounding peoples and their own lapses into sinful practices. The book emphasizes God's faithfulness in fulfilling his promise to restore his people after 70 years of exile, as prophesied by Jeremiah, and highlights the importance of adhering to God's law and covenant.\",\n",
            "  \"key_scriptures\": [\n",
            "    \"Jeremiah 29:10 - This verse highlights God's promise to bring the exiles back to Jerusalem after 70 years, demonstrating His covenant faithfulness.\",\n",
            "    \"Ezra 3:1-3 - Describes the rebuilding of the altar and the resumption of sacrifices upon their return, showing their commitment to re-establishing worship.\",\n",
            "    \"Ezra 9-10 - Ezra's prayer and the people's confession of sin due to intermarriage with foreigners demonstrates the need for repentance and obedience to God's commands for a holy nation.\"\n",
            "  ],\n",
            "  \"theological_context\": \"Ezra illustrates God's sovereignty over history and His faithfulness to His covenant promises, even amidst His people's unfaithfulness. It underscores the importance of temple worship, adherence to the Law, and maintaining a distinct identity as God's chosen people. The book also demonstrates the consequences of sin and the necessity of repentance and spiritual reform. Ezra highlights God's use of both believing leaders (Zerubbabel, Ezra) and foreign rulers (Cyrus, Artaxerxes) to accomplish His purposes, revealing His power to orchestrate events for the benefit of His people.\"\n",
            "}\n",
            "```\n",
            "\n"
          ]
        },
        {
          "output_type": "stream",
          "name": "stderr",
          "text": [
            "\r18it [03:16, 10.66s/it]"
          ]
        },
        {
          "output_type": "stream",
          "name": "stdout",
          "text": [
            "✅ Updated: Ezra (using commentary from 'Ezra and Nehemiah')\n",
            "\n",
            "📜 Raw Gemini response for Proverbs (using 'Proverbs'):\n",
            "```json\n",
            "{\n",
            "  \"overview\": \"The book of Proverbs is a collection of wise sayings and practical advice designed to guide individuals toward a life of wisdom, prudence, and understanding. Authored primarily by King Solomon, the proverbs cover a broad spectrum of life's aspects, offering insights into relationships, work, wealth, and moral conduct. The central theme revolves around the contrast between wisdom and folly, urging readers to choose the path of righteousness and avoid the pitfalls of foolishness. Ultimately, Proverbs aims to equip people with the knowledge and discernment necessary to live a fulfilling and God-honoring life, emphasizing the importance of fearing the Lord as the foundation of true wisdom.\",\n",
            "  \"key_scriptures\": [\n",
            "    \"Proverbs 1:7 - 'The fear of the Lord is the beginning of knowledge, but fools despise wisdom and instruction.' This verse establishes the foundational principle that reverence for God is the starting point for acquiring true wisdom.\",\n",
            "    \"Proverbs 3:5-6 - 'Trust in the Lord with all your heart and lean not on your own understanding; in all your ways submit to him, and he will make your paths straight.' This passage emphasizes the importance of relying on God's guidance rather than one's own limited understanding.\",\n",
            "    \"Proverbs 4:23 - 'Above all else, guard your heart, for everything you do flows from it.' This proverb highlights the significance of protecting one's inner thoughts and desires, as they ultimately shape one's actions and character.\"\n",
            "  ],\n",
            "  \"theological_context\": \"Proverbs is deeply rooted in the concept of God as the source of all wisdom and the ultimate authority in matters of morality and conduct. It underscores the doctrine of creation by affirming God's role as the All-Wise Creator who established the order of the universe. The book highlights the importance of living a righteous life in accordance with God's standards, emphasizing that true wisdom is not merely intellectual but also moral. While the book does not explicitly mention redemption, it aligns with the broader biblical theme of salvation by illustrating the kind of transformed life that results from embracing God's wisdom and turning away from folly, which ultimately aligns with God's salvific purposes.\"\n",
            "}\n",
            "```\n",
            "\n"
          ]
        },
        {
          "output_type": "stream",
          "name": "stderr",
          "text": [
            "\r19it [03:24,  9.59s/it]"
          ]
        },
        {
          "output_type": "stream",
          "name": "stdout",
          "text": [
            "✅ Updated: Proverbs (using commentary from 'Proverbs')\n"
          ]
        },
        {
          "output_type": "stream",
          "name": "stderr",
          "text": [
            "ERROR:tornado.access:503 POST /v1beta/models/gemini-2.0-flash:generateContent?%24alt=json%3Benum-encoding%3Dint (127.0.0.1) 1138.43ms\n",
            "ERROR:tornado.access:503 POST /v1beta/models/gemini-2.0-flash:generateContent?%24alt=json%3Benum-encoding%3Dint (127.0.0.1) 1239.23ms\n",
            "ERROR:tornado.access:503 POST /v1beta/models/gemini-2.0-flash:generateContent?%24alt=json%3Benum-encoding%3Dint (127.0.0.1) 1113.33ms\n",
            "ERROR:tornado.access:503 POST /v1beta/models/gemini-2.0-flash:generateContent?%24alt=json%3Benum-encoding%3Dint (127.0.0.1) 1165.17ms\n",
            "ERROR:tornado.access:503 POST /v1beta/models/gemini-2.0-flash:generateContent?%24alt=json%3Benum-encoding%3Dint (127.0.0.1) 1291.73ms\n",
            "ERROR:tornado.access:503 POST /v1beta/models/gemini-2.0-flash:generateContent?%24alt=json%3Benum-encoding%3Dint (127.0.0.1) 1391.06ms\n",
            "ERROR:tornado.access:503 POST /v1beta/models/gemini-2.0-flash:generateContent?%24alt=json%3Benum-encoding%3Dint (127.0.0.1) 1189.14ms\n",
            "ERROR:tornado.access:503 POST /v1beta/models/gemini-2.0-flash:generateContent?%24alt=json%3Benum-encoding%3Dint (127.0.0.1) 1113.87ms\n"
          ]
        },
        {
          "output_type": "stream",
          "name": "stdout",
          "text": [
            "\n",
            "📜 Raw Gemini response for Song of Solomon (using 'Song of Songs'):\n",
            "```json\n",
            "{\n",
            "  \"overview\": \"The Song of Songs affirms the beauty and purity of love between a man and a woman within the context of marriage. It rejects allegorical interpretations that obscure the literal meaning of the text, instead presenting it as an analogy for the relationship between God and His people. The book celebrates physical and emotional intimacy as gifts from God and highlights the importance of love as a central theme in the Bible. It emphasizes the personal and public dimensions of a believer's relationship with God.\",\n",
            "  \"key_scriptures\": [\n",
            "    \"Song of Songs 2:1 -- The woman identifies as a rose of Sharon and a lily of the valleys expressing humility.\",\n",
            "    \"Song of Songs 2:2 -- The man describes his beloved as a lily among thorns, highlighting her beauty and worth.\",\n",
            "    \"Song of Songs 2:4 -- She rejoices in his love, stating that he brought her into the banqueting hall and his banner over her is love.\"\n",
            "  ],\n",
            "  \"theological_context\": \"The Song of Songs illustrates the intimate relationship between God and humanity, mirroring the love between husband and wife. This theme resonates with the Old Testament depiction of God as a husband and Israel as his bride, particularly evident in Hosea's prophecy. The New Testament continues this analogy, portraying Jesus as the bridegroom and the church as his bride. The book ultimately underscores the importance of love as the essence of our relationship with God, urging believers to respond with a love that is both personal and publicly demonstrated.\"\n",
            "}\n",
            "```\n",
            "\n"
          ]
        },
        {
          "output_type": "stream",
          "name": "stderr",
          "text": [
            "\r20it [03:52, 15.15s/it]"
          ]
        },
        {
          "output_type": "stream",
          "name": "stdout",
          "text": [
            "✅ Updated: Song of Solomon (using commentary from 'Song of Songs')\n"
          ]
        },
        {
          "output_type": "stream",
          "name": "stderr",
          "text": [
            "ERROR:tornado.access:503 POST /v1beta/models/gemini-2.0-flash:generateContent?%24alt=json%3Benum-encoding%3Dint (127.0.0.1) 1721.99ms\n",
            "ERROR:tornado.access:503 POST /v1beta/models/gemini-2.0-flash:generateContent?%24alt=json%3Benum-encoding%3Dint (127.0.0.1) 1468.87ms\n",
            "ERROR:tornado.access:503 POST /v1beta/models/gemini-2.0-flash:generateContent?%24alt=json%3Benum-encoding%3Dint (127.0.0.1) 1315.07ms\n"
          ]
        },
        {
          "output_type": "stream",
          "name": "stdout",
          "text": [
            "\n",
            "📜 Raw Gemini response for Lamentations (using 'Jeremiah and Lamentations'):\n",
            "```json\n",
            "{\n",
            "  \"overview\": \"Jeremiah is a daunting, difficult, and depressing book due to its length, non-chronological order, and message of impending doom for Judah. Jeremiah's ministry spanned 40 years under several kings, warning of judgment for idolatry, immorality, and injustice. However, the book also contains hope for ultimate restoration and a new covenant with God. Jeremiah uniquely emphasized spiritual sincerity over ritual, preparing the people for a faith beyond the Temple.\",\n",
            "  \"key_scriptures\": [\n",
            "    \"Jeremiah 18:1-6 - The parable of the potter illustrates God's intention to mold His people beautifully, but their resistance leads to a less desirable outcome and eventual breaking if they harden their hearts.\",\n",
            "    \"Jeremiah 31:31-34 - Prophesies a new covenant where God will write His laws on people's hearts, granting direct knowledge of Him and complete forgiveness of sins.\",\n",
            "    \"Jeremiah 31:35-36 - God promises the perpetual existence of Israel, tying it to the fixed order of creation, guaranteeing an ultimate restoration.\"\n",
            "  ],\n",
            "  \"theological_context\": \"Jeremiah addresses the doctrines of covenant, judgment, and restoration. It highlights God's covenant faithfulness, even in judgment, demonstrating that disobedience has consequences. The book underscores the importance of individual responsibility before God, contrasting with a purely collective understanding of the covenant. Crucially, Jeremiah points to a future new covenant mediated through Christ, emphasizing inward transformation and forgiveness, laying groundwork for New Testament soteriology and ecclesiology.\"\n",
            "}\n",
            "```\n",
            "\n"
          ]
        },
        {
          "output_type": "stream",
          "name": "stderr",
          "text": [
            "\r21it [04:04, 14.18s/it]"
          ]
        },
        {
          "output_type": "stream",
          "name": "stdout",
          "text": [
            "✅ Updated: Lamentations (using commentary from 'Jeremiah and Lamentations')\n",
            "\n",
            "📜 Raw Gemini response for Ezekiel (using 'Ezekiel'):\n",
            "```json\n",
            "{\n",
            "  \"overview\": \"The Book of Ezekiel, though often neglected due to its initial themes of judgment and complex imagery, reveals God's sovereignty, holiness, and ultimate restoration. Ezekiel, a priest turned prophet in exile, delivers messages of impending doom upon Jerusalem and surrounding nations, interspersed with visions of God's glory and the reasons for judgment: idolatry, immorality, and ingratitude. The latter half of the book shifts to prophecies of hope, promising Israel's return from exile, the restoration of the temple, and God's eternal covenant. Ezekiel ultimately emphasizes God's faithfulness to His promises and His commitment to vindicating His name.\",\n",
            "  \"key_scriptures\": [\n",
            "    \"Ezekiel 1:1-28 -- Describes Ezekiel's vision of God's glory and throne, emphasizing God's omnipresence and sovereignty, even in exile.\",\n",
            "    \"Ezekiel 18:20 -- Highlights individual accountability for sin, refuting the proverb of inherited guilt, emphasizing personal responsibility before God.\",\n",
            "    \"Ezekiel 37:1-14 -- Presents the vision of the valley of dry bones, symbolizing the restoration of Israel and God's power to bring life from death, offering hope for the future.\"\n",
            "  ],\n",
            "  \"theological_context\": \"Ezekiel addresses key doctrines such as God's holiness and justice, demonstrated through judgment, and His mercy and faithfulness, shown in promises of restoration. The book emphasizes the covenant relationship between God and Israel, highlighting both Israel's failure to uphold their end and God's unwavering commitment to His promises. Ezekiel underscores the importance of individual responsibility and the reality of divine judgment. The book also touches on eschatology, with prophecies concerning the future restoration of Israel and the coming of God's kingdom, themes picked up in Revelation.\"\n",
            "}\n",
            "```\n",
            "\n"
          ]
        },
        {
          "output_type": "stream",
          "name": "stderr",
          "text": [
            "\r22it [04:11, 12.18s/it]"
          ]
        },
        {
          "output_type": "stream",
          "name": "stdout",
          "text": [
            "✅ Updated: Ezekiel (using commentary from 'Ezekiel')\n",
            "\n",
            "📜 Raw Gemini response for Daniel (using 'Daniel'):\n",
            "```json\n",
            "{\n",
            "  \"overview\": \"The Book of Daniel, set during the Babylonian exile, is divided into two distinct sections: stories of miracles and accounts of prophecy. The first part (chapters 1-6) highlights Daniel and his companions' faithfulness to God amidst trials, showcasing God's power through miraculous deliverances. The second part (chapters 7-12) contains Daniel's visions and prophecies concerning future kingdoms and the coming of the Messiah, emphasizing God's sovereignty over history and His ultimate plan for redemption. The book serves as an encouragement to God's people to stand firm in their faith, knowing God is in control and has revealed the future.\",\n",
            "  \"key_scriptures\": [\n",
            "    \"Daniel 2:44 -- This prophecy describes how God's kingdom will ultimately crush all earthly kingdoms and stand forever, highlighting God's sovereignty and ultimate triumph.\",\n",
            "    \"Daniel 3:17-18 -- Shadrach, Meshach, and Abednego display unwavering faith in God's power to deliver them from the fiery furnace, but even if He doesn't, they will not worship the idol.\",\n",
            "    \"Daniel 9:24-27 -- This passage predicts the timeline for the coming of the Messiah, revealing God's precise plan for salvation history and His faithfulness to His promises.\"\n",
            "  ],\n",
            "  \"theological_context\": \"Daniel emphasizes God's sovereignty over all nations and rulers, demonstrating His ability to raise up and depose kingdoms according to His will. It touches on the doctrine of eschatology, revealing future events surrounding the Messiah's coming and the establishment of God's kingdom. The book reveals the tension between divine sovereignty and human responsibility, urging believers to remain faithful and obedient even in the face of persecution. Daniel underscores the importance of trusting in God's promises and living a life of integrity, knowing that God will ultimately vindicate His people and establish His eternal reign.\"\n",
            "}\n",
            "```\n",
            "\n"
          ]
        },
        {
          "output_type": "stream",
          "name": "stderr",
          "text": [
            "\r23it [04:19, 10.93s/it]"
          ]
        },
        {
          "output_type": "stream",
          "name": "stdout",
          "text": [
            "✅ Updated: Daniel (using commentary from 'Daniel')\n",
            "\n",
            "📜 Raw Gemini response for Joel (using 'Joel'):\n",
            "```json\n",
            "{\n",
            "  \"overview\": \"Joel's prophecy addresses a devastating locust plague and the impending Day of the Lord, urging repentance and promising restoration. He warns both Israel and the nations of judgment while also proclaiming a future outpouring of God's Spirit and the ultimate vindication of God's people. The book emphasizes the need for genuine repentance, not just outward displays, to experience God's mercy and restoration. Ultimately, Joel's message is one of hope rooted in God's faithfulness and his promise to restore what has been lost.\",\n",
            "  \"key_scriptures\": [\n",
            "    \"Joel 2:12-13 -- This passage calls for true repentance, emphasizing rending hearts instead of garments, highlighting the importance of inward transformation.\",\n",
            "    \"Joel 2:28-29 -- This passage prophesies the outpouring of God's Spirit on all people, regardless of social status, signifying a new era of empowerment and prophecy.\",\n",
            "    \"Joel 3:16 -- Speaks of God's role in final judgment and the ultimate destination of the redeemed.\"\n",
            "  ],\n",
            "  \"theological_context\": \"Joel underscores the sovereignty of God, demonstrating His active involvement in both judgment and restoration. The Day of the Lord theme emphasizes God's ultimate authority and the coming time when He will fully establish His rule. The promise of the Spirit's outpouring connects to the broader biblical narrative of God's progressive revelation and the empowerment of believers for ministry. Also, it shows the importance of repentance as necessary for salvation.\"\n",
            "}\n",
            "```\n",
            "\n"
          ]
        },
        {
          "output_type": "stream",
          "name": "stderr",
          "text": [
            "\r24it [04:25,  9.50s/it]"
          ]
        },
        {
          "output_type": "stream",
          "name": "stdout",
          "text": [
            "✅ Updated: Joel (using commentary from 'Joel')\n",
            "\n",
            "📜 Raw Gemini response for Amos (using 'Amos and Hosea'):\n",
            "```json\n",
            "{\n",
            "  \"overview\": \"The books of Amos and Hosea, written in the 8th century BC, address the northern kingdom of Israel's social injustice, idolatry, and moral decay. Amos, a herdsman, fiercely proclaims God's impending judgment due to Israel's disregard for the covenant and mistreatment of the poor. Hosea, through his marriage to an unfaithful wife, poignantly illustrates God's unwavering love and heartbreak over Israel's spiritual adultery and calls for repentance before inevitable destruction and exile. Both prophets serve as God's 'last chance' messengers, revealing His justice and mercy before judgment falls.\",\n",
            "  \"key_scriptures\": [\n",
            "    \"Amos 3:2 - 'You only have I chosen of all the families of the earth; therefore I will punish you for all your sins.' This verse highlights Israel's special covenant relationship with God and the corresponding accountability for their disobedience.\",\n",
            "    \"Amos 5:24 - 'But let justice roll on like a river, righteousness like a never-failing stream!' This verse exemplifies Amos' call for social justice and righteous living as true expressions of faith.\",\n",
            "    \"Hosea 6:6 - 'For I desire mercy, not sacrifice, and acknowledgment of God rather than burnt offerings.' This verse emphasizes God's desire for genuine relationship and heartfelt obedience over empty religious rituals.\"\n",
            "  ],\n",
            "  \"theological_context\": \"These books emphasize God's holiness, justice, and covenant faithfulness. God's character demands that sin be judged, as seen in the impending exile, yet His mercy and love are also evident in His persistent appeals for repentance. A key doctrine presented is that outward religious practice without inner transformation and righteous living is insufficient. The books also prefigure the future inclusion of Gentiles into God's people, foreshadowing the New Covenant and the fulfillment of God's redemptive plan.\"\n",
            "}\n",
            "```\n",
            "\n"
          ]
        },
        {
          "output_type": "stream",
          "name": "stderr",
          "text": [
            "\r25it [04:33,  8.97s/it]"
          ]
        },
        {
          "output_type": "stream",
          "name": "stdout",
          "text": [
            "✅ Updated: Amos (using commentary from 'Amos and Hosea')\n",
            "\n",
            "📜 Raw Gemini response for Micah (using 'Micah'):\n",
            "```json\n",
            "{\n",
            "  \"overview\": \"Micah, a contemporary of Isaiah but from a rural background, prophesied during a time of moral and spiritual decay in both Israel and Judah. He passionately addressed the social injustices, idolatry, and immorality prevalent among God's people, particularly the exploitation of the poor by the wealthy. The book alternates between pronouncements of judgment for sin and promises of future hope and restoration under a Davidic king. Ultimately, Micah calls for justice, mercy, and humility as the true expressions of a relationship with God.\",\n",
            "  \"key_scriptures\": [\n",
            "    \"Micah 5:2 - This prophecy foretells that the future ruler of Israel will come from the small village of Bethlehem, a prophecy fulfilled by the birth of Jesus.\",\n",
            "    \"Micah 6:8 - This verse summarizes God's requirements for his people: to act justly, love mercy, and walk humbly with their God, emphasizing ethical living over ritualistic practices.\",\n",
            "    \"Micah 7:18 - This passage highlights God's forgiving nature, proclaiming that there is no other god like Him who pardons sin, demonstrating His mercy and compassion.\"\n",
            "  ],\n",
            "  \"theological_context\": \"Micah emphasizes the dual nature of God: both just in punishing sin and merciful in offering forgiveness. He shows that true faith is expressed through righteous living and care for the vulnerable, not merely through religious rituals. The book anticipates the coming Messiah, both in His first coming as a humble servant and in His second coming as a reigning King who will bring peace and justice to the earth. Micah's prophecy serves as a call for social action, urging believers to advocate for the poor and marginalized.\"\n",
            "}\n",
            "```\n",
            "\n"
          ]
        },
        {
          "output_type": "stream",
          "name": "stderr",
          "text": [
            "\r26it [04:39,  8.13s/it]"
          ]
        },
        {
          "output_type": "stream",
          "name": "stdout",
          "text": [
            "✅ Updated: Micah (using commentary from 'Micah')\n",
            "\n",
            "📜 Raw Gemini response for Zephaniah (using 'Zephaniah'):\n",
            "```json\n",
            "{\n",
            "  \"overview\": \"Zephaniah prophesies during the reign of King Josiah, warning Judah of impending judgment for their idolatry and moral corruption, mirroring the evils of the Canaanites they displaced. The book emphasizes the coming \\\"Day of the Lord,\\\" a time of reckoning for both Judah and the nations. However, amidst the warnings, Zephaniah offers hope of repentance and future restoration, promising a remnant will be gathered and experience God's mercy and international godliness. The prophet urges the people to seek meekness and righteousness to possibly deflect the coming judgement and experience the mercy of God.\",\n",
            "  \"key_scriptures\": [\n",
            "    \"Zephaniah 1:4-6 - Describes God's judgment on those who have turned away from Him and worship foreign gods, highlighting the deservedness of the coming wrath for abandoning true allegiance.\",\n",
            "    \"Zephaniah 2:3 - Calls for humility and seeking righteousness as a means of deflecting God's judgment, emphasizing the possibility of finding refuge in the Lord.\",\n",
            "    \"Zephaniah 3:9 - Foretells a future where people from all nations will call upon the name of the Lord, serving Him with one accord, showcasing God's inclusive mercy.\"\n",
            "  ],\n",
            "  \"theological_context\": \"Zephaniah underscores the doctrines of God's justice and holiness, demonstrating His intolerance of sin and idolatry, particularly when it pervades His chosen people. Simultaneously, it highlights God's mercy and grace, offering a path to repentance and restoration even in the face of impending judgment. The book reveals God's sovereignty over all nations, using them both to discipline His people and to execute His judgments. The overarching theme revolves around the \\\"Day of the Lord,\\\" encompassing both judgment and salvation, and reinforcing the need for a genuine, inward transformation rather than mere outward conformity.\"\n",
            "}\n",
            "```\n",
            "\n"
          ]
        },
        {
          "output_type": "stream",
          "name": "stderr",
          "text": [
            "\r27it [04:46,  7.63s/it]"
          ]
        },
        {
          "output_type": "stream",
          "name": "stdout",
          "text": [
            "✅ Updated: Zephaniah (using commentary from 'Zephaniah')\n",
            "\n",
            "📜 Raw Gemini response for 1 Corinthians (using '1 and 2 Corinthians'):\n",
            "```json\n",
            "{\n",
            "  \"overview\": \"1 Corinthians addresses numerous issues plaguing the early church in Corinth, a city steeped in pagan morality and Greek philosophy. Paul confronts divisions, immorality, idolatry, and misunderstandings regarding spiritual gifts and gender roles. He emphasizes the importance of unity around the cross and the resurrection, urging believers to live lives that reflect the transforming power of the gospel in a challenging cultural context. Ultimately, Paul calls the Corinthians to embrace love, holiness, and sound doctrine.\",\n",
            "  \"key_scriptures\": [\n",
            "    \"1 Corinthians 6:19-20 - Paul reminds believers that their bodies are temples of the Holy Spirit, bought with a price, urging them to glorify God in their bodies, combating the Greek notion that the body is separate from the soul and thus unimportant.\",\n",
            "    \"1 Corinthians 13:1-13 - This famous passage defines agape love as patient, kind, not envious, boastful, or proud, emphasizing its necessity for the proper use of spiritual gifts and the unity of the church.\",\n",
            "    \"1 Corinthians 15:3-4 - Paul emphasizes the foundational importance of the gospel: that Christ died for our sins according to the Scriptures, that he was buried, that he was raised on the third day according to the Scriptures, and that he appeared to many witnesses which is our only hope.\"\n",
            "  ],\n",
            "  \"theological_context\": \"1 Corinthians tackles core doctrines such as the nature of salvation, the indwelling of the Holy Spirit, the importance of the physical body in worship and morality, spiritual gifts, and the resurrection of the dead. Paul highlights the tension between grace and holiness, emphasizing that believers are called to live distinct lives in accordance with God's Word. The book underscores the importance of both sound doctrine and practical application, urging believers to examine their beliefs and behaviors in light of the gospel. It also defends the biblical distinctives of gender roles.\"\n",
            "}\n",
            "```\n",
            "\n"
          ]
        },
        {
          "output_type": "stream",
          "name": "stderr",
          "text": [
            "\r28it [04:53,  7.61s/it]"
          ]
        },
        {
          "output_type": "stream",
          "name": "stdout",
          "text": [
            "✅ Updated: 1 Corinthians (using commentary from '1 and 2 Corinthians')\n",
            "\n",
            "📜 Raw Gemini response for Ephesians (using 'Ephesians'):\n",
            "```json\n",
            "{\n",
            "  \"overview\": \"Ephesians, likely written alongside Colossians, is a general letter outlining Christian belief and behavior, emphasizing unity, truth, and integrity. The letter systematically presents salvation, focusing on God's purpose and power, and then shifts to the believer's response, emphasizing how they should behave. Ephesians stresses that salvation leads to good deeds, not the other way around. It encourages believers to walk in humility, unity, and maturity, and to engage in spiritual warfare.\",\n",
            "  \"key_scriptures\": [\n",
            "    \"Ephesians 1:4-5 – God chose us in Christ before the foundation of the world to be holy and blameless, predestining us for adoption to himself through Jesus Christ.\",\n",
            "    \"Ephesians 2:8-9 – For by grace you have been saved through faith. And this is not your own doing; it is the gift of God, not a result of works, so that no one may boast.\",\n",
            "    \"Ephesians 4:4-6 – There is one body and one Spirit, just as you were called to one hope when you were called; one Lord, one faith, one baptism; one God and Father of all, who is over all and through all and in all.\"\n",
            "  ],\n",
            "  \"theological_context\": \"Ephesians highlights key doctrines like predestination, grace, and the unity of believers in Christ. It emphasizes that salvation is a gift from God, received through faith, not earned by works, countering legalistic tendencies. While predestination is present, the letter also shows the believer's response and continuous faith is needed. The letter underscores the importance of both doctrine and duty, belief and behavior, with Christian conduct flowing from sound theology and right relationship with God.\"\n",
            "}\n",
            "```\n",
            "\n"
          ]
        },
        {
          "output_type": "stream",
          "name": "stderr",
          "text": [
            "\r29it [05:00,  7.29s/it]"
          ]
        },
        {
          "output_type": "stream",
          "name": "stdout",
          "text": [
            "✅ Updated: Ephesians (using commentary from 'Ephesians')\n",
            "\n",
            "📜 Raw Gemini response for 2 Thessalonians (using '1 and 2 Thessalonians'):\n",
            "```json\n",
            "{\n",
            "  \"overview\": \"Paul's letters to the Thessalonians, written shortly after his initial visit, address concerns about Christian living and the return of Christ. 1 Thessalonians is warm and encouraging, focusing on their faith, love, and hope, while 2 Thessalonians adopts a sharper tone to correct misunderstandings about the timing of Jesus's return and address issues of idleness. Both letters emphasize the importance of holiness, perseverance in persecution, and proper understanding of eschatology. Ultimately, Paul seeks to guide the Thessalonians toward maturity in Christ, urging them to live faithfully in light of the gospel and the hope of Christ's return.\",\n",
            "  \"key_scriptures\": [\n",
            "    \"1 Thessalonians 4:3 - Emphasizes God's will for believers' sanctification and avoidance of sexual immorality, stressing holiness as a core aspect of Christian living.\",\n",
            "    \"1 Thessalonians 5:16-18 - Urges believers to 'Rejoice always, pray without ceasing, give thanks in all circumstances,' highlighting the importance of a consistent joyful, prayerful, and thankful attitude in the Christian life.\",\n",
            "    \"2 Thessalonians 2:1-3 - Addresses confusion about the timing of Christ's return, clarifying that certain events, including the revealing of the 'man of lawlessness,' must occur first.\"\n",
            "  ],\n",
            "  \"theological_context\": \"The letters address key doctrines such as sanctification, the second coming of Christ, and the nature of Christian living. Paul emphasizes the importance of personal holiness and the believer's responsibility to live a life pleasing to God. The letters also deal with eschatology, particularly the timing and nature of Christ's return, combating both apathy and fanaticism by providing a balanced understanding of future events. The Trinity is reflected in that Paul emphasizes God’s role in sanctification, Jesus’ role as Lord and the Spirit’s role in prophecy.\"\n",
            "}\n",
            "```\n",
            "\n"
          ]
        },
        {
          "output_type": "stream",
          "name": "stderr",
          "text": [
            "\r30it [05:07,  7.13s/it]"
          ]
        },
        {
          "output_type": "stream",
          "name": "stdout",
          "text": [
            "✅ Updated: 2 Thessalonians (using commentary from '1 and 2 Thessalonians')\n",
            "\n",
            "📜 Raw Gemini response for 1 Timothy (using '1 and 2 Timothy and Titus'):\n",
            "```json\n",
            "{\n",
            "  \"overview\": \"1 Timothy is an apostolic epistle written by Paul to Timothy, his apostolic delegate, to address issues in the church at Ephesus. Paul instructs Timothy to confront false teachers and establish qualified elders and deacons. The letter emphasizes the importance of sound doctrine, godly living, and proper church leadership for the sake of the church's witness to the world. It also addresses practical matters such as the role of women and the care for widows.\",\n",
            "  \"key_scriptures\": [\n",
            "    \"1 Timothy 3:1-7 - Outlines the qualifications for elders, emphasizing character and leadership abilities within their own families as a model for leading the church.\",\n",
            "    \"1 Timothy 3:8-13 - Details the qualifications for deacons, highlighting their character, integrity, and service to the church.\",\n",
            "    \"1 Timothy 4:12 - Encourages Timothy to be an example in speech, conduct, love, faith, and purity, despite his youth.\"\n",
            "  ],\n",
            "  \"theological_context\": \"The letter emphasizes the doctrines of God's grace and salvation through Christ, as well as the importance of sound doctrine as a foundation for Christian living. It addresses the nature of the church as a household of God, emphasizing the need for order and proper leadership. Sanctification is presented as an ongoing process of ethical living and separation from evil, resulting in good deeds that adorn the gospel. The letter also touches on eschatology, urging perseverance in faith to obtain future salvation and eternal life.\"\n",
            "}\n",
            "```\n",
            "\n"
          ]
        },
        {
          "output_type": "stream",
          "name": "stderr",
          "text": [
            "\r31it [05:13,  6.86s/it]"
          ]
        },
        {
          "output_type": "stream",
          "name": "stdout",
          "text": [
            "✅ Updated: 1 Timothy (using commentary from '1 and 2 Timothy and Titus')\n",
            "\n",
            "📜 Raw Gemini response for Philemon (using 'Philemon'):\n",
            "```json\n",
            "{\n",
            "  \"overview\": \"Philemon is a short, personal letter from Paul to Philemon, a Christian slave owner, regarding Onesimus, a runaway slave who converted to Christianity under Paul's ministry. Paul advocates for Onesimus, urging Philemon to receive him back not as a slave but as a beloved brother in Christ. The letter exemplifies Christian forgiveness, reconciliation, and the transformative power of the gospel in personal relationships. It highlights how faith impacts social structures by emphasizing equality in Christ.\",\n",
            "  \"key_scriptures\": [\n",
            "    \"Philemon 1:16 - Paul asks Philemon to receive Onesimus back as \\\"more than a slave, but a beloved brother,\\\" reflecting the new relationship forged in Christ that transcends social status.\",\n",
            "    \"Philemon 1:18 - Paul offers to repay any debt Onesimus may owe, mirroring Christ's sacrificial atonement for our sins and embodying the concept of grace.\",\n",
            "    \"Philemon 1:6 - Paul references Philemon's faith as active and leading to a full knowledge of every good thing that is in Christ, emphasizing that faith should translate into tangible acts of love and generosity\"\n",
            "  ],\n",
            "  \"theological_context\": \"The letter of Philemon illustrates several key theological themes, including reconciliation, forgiveness, and the transformative power of the gospel. It showcases the doctrine of grace, as Paul implores Philemon to extend undeserved favor to Onesimus, mirroring God's grace toward believers. The book touches on the implications of salvation on social structures, promoting equality and brotherhood in Christ, ultimately pointing to the nature of justification and sanctification.\"\n",
            "}\n",
            "```\n",
            "\n"
          ]
        },
        {
          "output_type": "stream",
          "name": "stderr",
          "text": [
            "\r32it [05:18,  6.39s/it]"
          ]
        },
        {
          "output_type": "stream",
          "name": "stdout",
          "text": [
            "✅ Updated: Philemon (using commentary from 'Philemon')\n",
            "\n",
            "📜 Raw Gemini response for Hebrews (using 'Hebrews'):\n",
            "```json\n",
            "{\n",
            "  \"overview\": \"The book of Hebrews is a unique New Testament letter addressing Jewish believers facing the temptation to revert to Judaism amidst persecution. It emphasizes the supremacy of Jesus Christ over all aspects of the Old Covenant, including angels, prophets, and the Levitical priesthood. The author passionately urges readers to persevere in their faith, highlighting the superiority of the New Covenant established through Christ's sacrifice. Hebrews blends theological exposition with practical exhortation, warning against apostasy while encouraging steadfastness and maturity in Christ.\",\n",
            "  \"key_scriptures\": [\n",
            "    \"Hebrews 1:1-2 -- God, after speaking long ago to the fathers in the prophets in many portions and in many ways, in these last days has spoken to us in His Son, whom He appointed heir of all things, through whom also He made the world.\",\n",
            "    \"Hebrews 4:11-13 -- Therefore let us be diligent to enter that rest, so that no one will fall, through following the same example of disobedience. For the word of God is living and active and sharper than any two-edged sword, and piercing as far as the division of soul and spirit, of both joints and marrow, and able to judge the thoughts and intentions of the heart.\",\n",
            "    \"Hebrews 11:1 -- Now faith is the assurance of things hoped for, the conviction of things not seen. This chapter illustrates faith of Old Testament saints that looks forward to Christ.\"\n",
            "  ],\n",
            "  \"theological_context\": \"Hebrews underscores the doctrines of Christ's high priesthood, His once-for-all sacrifice, and the superiority of the New Covenant. It highlights the importance of perseverance in faith, warning against the dangers of apostasy and neglecting salvation. The book presents a balanced view of grace and works, emphasizing that while salvation is a gift, genuine faith manifests itself in a life of holiness. It reinforces God's holiness and the need for reverent worship, encouraging believers to fix their eyes on Jesus, the pioneer and perfecter of their faith.\"\n",
            "}\n",
            "```\n",
            "\n"
          ]
        },
        {
          "output_type": "stream",
          "name": "stderr",
          "text": [
            "\r33it [05:25,  6.69s/it]"
          ]
        },
        {
          "output_type": "stream",
          "name": "stdout",
          "text": [
            "✅ Updated: Hebrews (using commentary from 'Hebrews')\n",
            "\n",
            "📜 Raw Gemini response for 1 John (using '1, 2, And 3 John'):\n",
            "```json\n",
            "{\n",
            "  \"overview\": \"1 John is a general letter written to encourage believers of varying spiritual maturity, from new converts ('little children') to seasoned Christians ('fathers').  The apostle John addresses concerns about assurance of salvation, the pervasiveness of sin, and the dangers of false teaching that deny the true incarnation of Jesus Christ.  He emphasizes the importance of abiding in Christ, walking in the light, and loving one another as evidence of genuine faith. Ultimately, John wants his readers to be confident in their relationship with God and to live lives that reflect His character.\",\n",
            "  \"key_scriptures\": [\n",
            "    \"1 John 1:8-9 - Addresses the reality of sin in the life of believers and the provision of forgiveness through confession and the cleansing blood of Jesus.\",\n",
            "    \"1 John 2:22-23 - Highlights the importance of acknowledging Jesus as the Christ and condemns those who deny the Father and the Son, thus reinforcing the true confession of Christ.\",\n",
            "    \"1 John 4:7-8 - Emphasizes that love is from God, and everyone who loves has been born of God and knows God, because God is love itself.\"\n",
            "  ],\n",
            "  \"theological_context\": \"1 John confronts early Gnostic heresies that denied the true humanity of Jesus Christ and promoted a separation between the physical and spiritual realms.  The letter affirms the doctrines of the Incarnation, atonement for sin, and the necessity of obedience to God's commands.  Key themes include the nature of God as light and love, the importance of fellowship with God and other believers, and the tests of genuine faith: doctrinal orthodoxy, moral uprightness, and love for one another.  Assurance of salvation is found in possessing these characteristics, which are evidence of a transformed life indwelt by the Holy Spirit.\"\n",
            "}\n",
            "```\n",
            "\n"
          ]
        },
        {
          "output_type": "stream",
          "name": "stderr",
          "text": [
            "\r34it [05:32,  6.74s/it]"
          ]
        },
        {
          "output_type": "stream",
          "name": "stdout",
          "text": [
            "✅ Updated: 1 John (using commentary from '1, 2, And 3 John')\n",
            "\n",
            "📜 Raw Gemini response for Jude (using 'Jude'):\n",
            "```json\n",
            "{\n",
            "  \"overview\": \"The book of Jude is a powerful warning against false teachers who have infiltrated the church, twisting God's grace into license for immorality and denying Jesus Christ as the only Master and Lord. Jude urges believers to contend for the true faith, to build themselves up spiritually, and to show mercy and discernment in dealing with those who have been led astray. The letter uses vivid imagery and Old Testament examples to expose the character and destructive influence of these ungodly individuals. Ultimately, Jude expresses confidence in God's power to keep believers from stumbling and to present them faultless before His glorious presence.\",\n",
            "  \"key_scriptures\": [\n",
            "    \"Jude 1:3 -- Urges believers to contend earnestly for the faith which was once for all delivered to the saints, highlighting the importance of defending sound doctrine.\",\n",
            "    \"Jude 1:4 -- Condemns those who pervert grace into a license for immorality and deny Jesus Christ, emphasizing the threat of false teaching.\",\n",
            "    \"Jude 1:24-25 -- Affirms God's power to keep believers from stumbling and to present them faultless before His glory, offering assurance and hope.\"\n",
            "  ],\n",
            "  \"theological_context\": \"Jude addresses critical doctrines such as the nature of God's grace, the authority of Jesus Christ, and the reality of judgment. It confronts the dangers of antinomianism, the belief that grace frees believers from all moral obligations. The letter underscores the importance of perseverance in faith and highlights the need for discernment in the face of deceptive teachings. Jude emphasizes the sovereignty of God and His ability to preserve His people despite the presence of evil influences within the church. It presupposes knowledge of the Old Testament and intertestamental literature, particularly regarding the fall of angels and the judgment of Sodom and Gomorrah.\"\n",
            "}\n",
            "```\n",
            "\n"
          ]
        },
        {
          "output_type": "stream",
          "name": "stderr",
          "text": [
            "\r35it [05:39,  6.80s/it]"
          ]
        },
        {
          "output_type": "stream",
          "name": "stdout",
          "text": [
            "✅ Updated: Jude (using commentary from 'Jude')\n",
            "\n",
            "📜 Raw Gemini response for Revelation (using 'Revelation'):\n",
            "```json\n",
            "{\n",
            "  \"overview\": \"The Book of Revelation unveils God's ultimate plan for humanity, revealing the cosmic battle between good and evil culminating in Christ's return. It's a message of hope and warning, urging believers to remain faithful amidst persecution, knowing that God is sovereign and will ultimately triumph. The book portrays the final judgment, the defeat of Satan, and the establishment of a new heaven and earth, a realm of perfect righteousness and eternal peace. It encourages endurance and overcoming, emphasizing the importance of obedience and holiness in the face of immense pressures.\",\n",
            "  \"key_scriptures\": [\n",
            "    \"Revelation 1:1 – This verse highlights that the revelation comes from Jesus Christ, showcasing him as central to the narrative.\",\n",
            "    \"Revelation 1:3 – This verse emphasizes the blessing promised to those who read, hear, and keep the words of this prophecy, emphasizing its practical importance for believers.\",\n",
            "    \"Revelation 22:20 – This is the concluding verse highlighting Jesus' promise to return and the believer's anticipation of that event\"\n",
            "  ],\n",
            "  \"theological_context\": \"Revelation underscores the sovereignty of God, demonstrating His complete control over history and destiny. It highlights the deity of Christ, who is worthy of worship and shares equal glory with the Father. The book emphasizes the importance of perseverance and obedience, warning believers against compromise and urging them to remain faithful until the end. Revelation also reveals the ultimate triumph of God's kingdom, offering hope and assurance to believers facing persecution.\"\n",
            "}\n",
            "```\n",
            "\n"
          ]
        },
        {
          "output_type": "stream",
          "name": "stderr",
          "text": [
            "\r36it [05:48,  7.52s/it]"
          ]
        },
        {
          "output_type": "stream",
          "name": "stdout",
          "text": [
            "✅ Updated: Revelation (using commentary from 'Revelation')\n",
            "\n",
            "📜 Raw Gemini response for Numbers (using 'Numbers'):\n",
            "```json\n",
            "{\n",
            "  \"overview\": \"The book of Numbers recounts Israel's journey from Mount Sinai to the plains of Moab, chronicling their wilderness wanderings and God's faithfulness amidst their repeated disobedience. It begins and ends with a census of the people, highlighting a generation that failed to enter the Promised Land due to their lack of faith. The narrative alternates between accounts of their travels and the laws given to them, emphasizing the importance of carefulness, cleanliness, and costliness in their relationship with God. Ultimately, Numbers serves as a cautionary tale for later generations, illustrating the consequences of grumbling, rebellion, and a lack of reverence for God.\",\n",
            "  \"key_scriptures\": [\n",
            "    \"Numbers 13-14: This section recounts the story of the 12 spies sent to scout the land of Canaan, highlighting the contrasting reports of the majority who doubted God's ability to deliver them, and Joshua and Caleb who trusted in Him. This event becomes a hinge in the book, leading to 40 years of wandering in the wilderness.\",\n",
            "    \"Numbers 20: This chapter recounts Moses' disobedience in striking the rock instead of speaking to it, resulting in God's pronouncement that he would not enter the Promised Land. It is a poignant reminder of the importance of obedience and listening carefully to God's instructions.\",\n",
            "    \"Numbers 6:24-26: The Aaronic blessing, \\\"The Lord bless you and keep you…\\\", is a powerful expression of God's grace and peace offered to His people. Its mathematically perfect structure reinforces the divine inspiration of the words.\"\n",
            "  ],\n",
            "  \"theological_context\": \"Numbers reveals the dual nature of God: both His provision and protection alongside His justice and discipline. It underscores the importance of holiness and reverence in approaching God, emphasizing that He is to be feared and respected. The book foreshadows Christ in several ways, including the serpent lifted up in the wilderness, the manna from heaven, and the water from the rock. Despite Israel's failures, God remains faithful to His covenant promises, offering blessings and forgiveness through sacrifice and obedience.\"\n",
            "}\n",
            "```\n",
            "\n"
          ]
        },
        {
          "output_type": "stream",
          "name": "stderr",
          "text": [
            "\r37it [05:57,  7.72s/it]"
          ]
        },
        {
          "output_type": "stream",
          "name": "stdout",
          "text": [
            "✅ Updated: Numbers (using commentary from 'Numbers')\n",
            "\n",
            "📜 Raw Gemini response for Joshua (using 'Joshua'):\n",
            "```json\n",
            "{\n",
            "  \"overview\": \"The book of Joshua recounts Israel's entrance into and conquest of the Promised Land, fulfilling God's covenant promises to Abraham. Joshua, as the new leader succeeding Moses, leads the Israelites in obedience to God's commands, demonstrating both divine power and human cooperation in achieving victory. The book highlights themes of faith, obedience, and the fulfillment of God's promises, while also serving as a reminder of the consequences of disobedience and sin. It is a testament to God's faithfulness in keeping His word and establishing His people in their inheritance.\",\n",
            "  \"key_scriptures\": [\n",
            "    \"Joshua 1:9 -- God commands Joshua to be strong and courageous, promising His presence and guidance as he leads Israel into the Promised Land. This verse emphasizes the importance of faith and obedience in fulfilling God's purpose.\",\n",
            "    \"Joshua 6:20 -- The walls of Jericho fall after the Israelites followed God's instructions to march around the city for seven days and blow trumpets. It demonstrates God's power and the importance of obeying His commands, even when they seem illogical.\",\n",
            "    \"Joshua 24:15 -- Joshua challenges the people to choose whom they will serve, declaring his and his household's commitment to serving the Lord. This verse highlights the importance of making a conscious decision to follow God and remaining faithful to Him.\"\n",
            "  ],\n",
            "  \"theological_context\": \"The book of Joshua illustrates the doctrine of God's covenant faithfulness, as He fulfills His promises to give the land of Canaan to Abraham's descendants. It also demonstrates the importance of obedience to God's law and the consequences of disobedience, highlighting the holiness of God and the need for His people to live righteously. The conquest of Canaan foreshadows the spiritual battles Christians face, calling them to rely on God's power and remain faithful in the face of opposition, emphasizing that Christians are not just saved from something, they are also saved to something. Ultimately, the book underscores God's sovereignty and His active involvement in the lives of His people, working through both divine intervention and human cooperation to accomplish His purposes.\"\n",
            "}\n",
            "```\n",
            "\n"
          ]
        },
        {
          "output_type": "stream",
          "name": "stderr",
          "text": [
            "\r38it [06:04,  7.66s/it]"
          ]
        },
        {
          "output_type": "stream",
          "name": "stdout",
          "text": [
            "✅ Updated: Joshua (using commentary from 'Joshua')\n",
            "\n",
            "📜 Raw Gemini response for 2 Kings (using '1 and 2 Kings'):\n",
            "```json\n",
            "{\n",
            "  \"overview\": \"2 Kings continues the historical narrative of the divided kingdom of Israel, from Ahab to Zedekiah. It details the reigns of various kings, both in the northern kingdom of Israel and the southern kingdom of Judah, highlighting their faithfulness or unfaithfulness to God's covenant. The book emphasizes the consequences of disobedience, ultimately leading to the exile of both kingdoms. Despite judgment, God's promise to David remains a beacon of hope for the future restoration.\",\n",
            "  \"key_scriptures\": [\n",
            "    \"1 Kings 11:4 -- Describes Solomon's heart being turned away from God by his foreign wives, a key turning point leading to the kingdom's division.\",\n",
            "    \"2 Kings 17:18 -- Illustrates the judgment upon Israel for their idolatry and rejection of God's prophets, resulting in their exile by Assyria.\",\n",
            "    \"2 Kings 25:21 -- Depicts the final fall of Judah and the destruction of Jerusalem by Babylon, signifying the culmination of God's judgment for their persistent sin.\"\n",
            "  ],\n",
            "  \"theological_context\": \"2 Kings underscores the doctrines of divine sovereignty, covenant faithfulness, and the consequences of sin. It demonstrates God's active involvement in history, blessing obedience and punishing disobedience according to the covenant established with Israel. The book also points to the need for a true king from the line of David who will perfectly obey God and establish an everlasting kingdom. While judgment is a prominent theme, the enduring promise to David offers a glimmer of hope for future redemption and restoration through Christ.\"\n",
            "}\n",
            "```\n",
            "\n"
          ]
        },
        {
          "output_type": "stream",
          "name": "stderr",
          "text": [
            "\r39it [06:11,  7.43s/it]"
          ]
        },
        {
          "output_type": "stream",
          "name": "stdout",
          "text": [
            "✅ Updated: 2 Kings (using commentary from '1 and 2 Kings')\n",
            "\n",
            "📜 Raw Gemini response for Nehemiah (using 'Ezra and Nehemiah'):\n",
            "```json\n",
            "{\n",
            "  \"overview\": \"The book of Nehemiah recounts the third return of Jewish exiles from Babylon to Jerusalem, focusing on Nehemiah's leadership in rebuilding the city walls despite external opposition and internal strife. It highlights Nehemiah's prayerful dependence on God, his practical leadership, and his efforts to reform the people spiritually and socially. The narrative emphasizes the importance of obedience to God's law, the consequences of disobedience, and God's faithfulness to His covenant promises to restore His people. Nehemiah exemplifies a balanced character, combining prayerfulness, practicality, emotional depth, and social engagement.\",\n",
            "  \"key_scriptures\": [\n",
            "    \"Nehemiah 1:4-11 -- Nehemiah's prayer of confession and intercession for his people, demonstrating his burden for their sin and his dependence on God's mercy.\",\n",
            "    \"Nehemiah 4:14 -- Nehemiah's encouragement to the people to not fear their enemies, but to remember the Lord and fight for their families and homes, reflecting a reliance on God's protection.\",\n",
            "    \"Nehemiah 8:8 -- Describes Ezra reading and explaining the Law to the people, emphasizing the importance of understanding and applying God's Word which resulted in their confession and covenant renewal.\"\n",
            "  ],\n",
            "  \"theological_context\": \"Nehemiah illustrates God's covenant faithfulness in restoring Israel after exile, highlighting both divine initiative and human responsibility. The rebuilding of the walls symbolizes spiritual restoration and separation from the corrupting influences of surrounding nations. The emphasis on adherence to the Law reflects the need for holiness and obedience in maintaining a right relationship with God. The book underscores the themes of repentance, confession, and covenant renewal as essential elements of spiritual revival and national transformation, revealing God's ongoing work to establish His kingdom through His chosen people.\"\n",
            "}\n",
            "```\n",
            "\n"
          ]
        },
        {
          "output_type": "stream",
          "name": "stderr",
          "text": [
            "\r40it [06:18,  7.36s/it]"
          ]
        },
        {
          "output_type": "stream",
          "name": "stdout",
          "text": [
            "✅ Updated: Nehemiah (using commentary from 'Ezra and Nehemiah')\n",
            "\n",
            "📜 Raw Gemini response for Job (using 'Job'):\n",
            "```json\n",
            "{\n",
            "  \"overview\": \"The Book of Job explores the profound question of why good people suffer, presenting the story of a righteous man, Job, who experiences immense tragedy. It grapples with themes of justice, faith, and the nature of God, contrasting earthly suffering with God's divine plan. Through dialogues between Job and his friends, as well as God's eventual intervention, the book challenges simplistic cause-and-effect views of suffering and encourages trust in God's wisdom and sovereignty, even amidst inexplicable pain. Job emphasizes wrestling with questions while acknowledging God's ultimate authority and love.\",\n",
            "  \"key_scriptures\": [\n",
            "    \"Job 1:1 - Introduces Job as blameless, upright, fearing God, and shunning evil, setting the stage for the testing of his faith.\",\n",
            "    \"Job 1:21 - Job responds to his initial losses by declaring, 'The Lord gave, and the Lord has taken away; blessed be the name of the Lord,' demonstrating initial unwavering faith in God's sovereignty.\",\n",
            "    \"Job 42:5-6 - After God speaks, Job acknowledges his limited understanding and repents, stating, 'My ears had heard of you but now my eyes have seen you. Therefore I despise myself and repent in dust and ashes,' marking a turning point in his relationship with God.\"\n",
            "  ],\n",
            "  \"theological_context\": \"The Book of Job addresses the doctrines of God's sovereignty, goodness, and justice in light of human suffering. It confronts the problem of theodicy, questioning how a loving and all-powerful God can allow evil and pain to exist. The book affirms God as the Almighty Creator who is both transcendent and relates to his creatures. Although the friends emphasize retributive justice, the overall message supports that suffering is not always a direct punishment for sin, but a testing of faith and an invitation to deeper trust in God's wisdom even when His ways are incomprehensible.\"\n",
            "}\n",
            "```\n",
            "\n"
          ]
        },
        {
          "output_type": "stream",
          "name": "stderr",
          "text": [
            "\r41it [06:25,  7.08s/it]"
          ]
        },
        {
          "output_type": "stream",
          "name": "stdout",
          "text": [
            "✅ Updated: Job (using commentary from 'Job')\n",
            "\n",
            "📜 Raw Gemini response for Obadiah (using 'Obadiah'):\n",
            "```json\n",
            "{\n",
            "  \"overview\": \"Obadiah is a prophetic book focused on God's judgment against Edom for their hostility towards Israel. It highlights Edom's pride, cruelty, and participation in the destruction of Jerusalem. The book serves as a warning that God holds nations accountable for their treatment of His people. Ultimately, Obadiah prophesies Edom's complete destruction and Israel's future restoration and possession of their land.\",\n",
            "  \"key_scriptures\": [\n",
            "    \"Obadiah 1:10 - Condemns Edom's violence against Jacob (Israel), highlighting the familial bond they violated.\",\n",
            "    \"Obadiah 1:15 - Declares the Day of the Lord is near for all nations, emphasizing that Edom's treatment of Israel will be mirrored in their own judgment ('As you have done, so it will be done to you').\",\n",
            "    \"Genesis 12:3 - States God's promise to bless those who bless Abraham and curse those who curse him, establishing a principle of divine protection and judgment related to God's chosen people.\"\n",
            "  ],\n",
            "  \"theological_context\": \"Obadiah underscores the doctrines of divine sovereignty, justice, and the importance of covenant faithfulness. God's judgment is not arbitrary but is based on moral principles and the treatment of His people, both Israel and the Church. The book highlights the theme of God's unwavering commitment to His promises and His protection of those who are in covenant with Him. It warns against pride and emphasizes the consequences of rejecting God's chosen people, demonstrating that nations will be held accountable for their actions.\"\n",
            "}\n",
            "```\n",
            "\n"
          ]
        },
        {
          "output_type": "stream",
          "name": "stderr",
          "text": [
            "\r42it [06:30,  6.42s/it]"
          ]
        },
        {
          "output_type": "stream",
          "name": "stdout",
          "text": [
            "✅ Updated: Obadiah (using commentary from 'Obadiah')\n",
            "\n",
            "📜 Raw Gemini response for Haggai (using 'Haggai'):\n",
            "```json\n",
            "{\n",
            "  \"overview\": \"Haggai, a post-exilic prophet, delivered God's message to the returning Jewish exiles, urging them to prioritize rebuilding the temple. The book addresses their discouragement and economic hardship, connecting their circumstances to their neglect of God's house. Haggai challenges them to re-evaluate their priorities, promising blessing and future glory if they obey. Ultimately, Haggai points to a future restoration and the establishment of God's kingdom through a designated ruler.\",\n",
            "  \"key_scriptures\": [\n",
            "    \"Haggai 1:4 -- Challenges the people's priorities by contrasting their paneled houses with the desolate state of God's house, highlighting their misplaced focus.\",\n",
            "    \"Haggai 2:9 -- Promises that the glory of the rebuilt temple will be greater than the former, not in divine glory but in splendor and peace, fueled by the wealth of nations.\",\n",
            "    \"Haggai 2:23 -- Designates Zerubbabel as God's signet ring, signifying a future restoration of the Davidic line and the establishment of God's kingdom.\"\n",
            "  ],\n",
            "  \"theological_context\": \"Haggai emphasizes the importance of prioritizing God's presence and worship in the life of the community. The book underscores the doctrine of divine sovereignty, demonstrating God's control over both nature and nations. It reveals the principle of blessing contingent upon obedience and highlights the need for holiness in approaching God. Haggai affirms God's covenantal faithfulness to David by promising a future king from Zerubbabel's line, connecting to the larger messianic hope.\"\n",
            "}\n",
            "```\n",
            "\n"
          ]
        },
        {
          "output_type": "stream",
          "name": "stderr",
          "text": [
            "\r43it [06:35,  6.18s/it]"
          ]
        },
        {
          "output_type": "stream",
          "name": "stdout",
          "text": [
            "✅ Updated: Haggai (using commentary from 'Haggai')\n",
            "\n",
            "📜 Raw Gemini response for Malachi (using 'Malachi'):\n",
            "```json\n",
            "{\n",
            "  \"overview\": \"Malachi confronts the post-exilic Israelites regarding their religious apathy and moral decay, highlighting their half-hearted worship, marital unfaithfulness, and social injustices. The book emphasizes God's unchanging love and call for genuine repentance, urging them to return to faithful obedience and honor Him with their lives. Malachi warns of impending judgment but also promises future blessing and the coming of a messenger to prepare the way for the Lord, pointing forward to the coming of Christ.\",\n",
            "  \"key_scriptures\": [\n",
            "    \"Malachi 1:6-8 - Condemns the priests for offering defiled sacrifices, highlighting their contempt for God and disregard for His holiness.\",\n",
            "    \"Malachi 2:14-16 - Addresses the issue of heartless divorce and marital unfaithfulness, emphasizing God's hatred for divorce and His concern for covenant faithfulness.\",\n",
            "    \"Malachi 3:8-10 - Rebuke regarding the failure to tithe and offer, emphasizing that their lack of financial faithfulness is tantamount to robbing God; God promises blessing upon their return to faithfulness.\"\n",
            "  ],\n",
            "  \"theological_context\": \"Malachi underscores the doctrines of God's sovereignty, holiness, and justice, revealing Him as a God who demands genuine worship and righteous living. The book explores the themes of covenant faithfulness, repentance, and judgment, emphasizing the importance of obedience to God's law and the consequences of disobedience. It also highlights God's enduring love and mercy, offering a path to restoration through repentance and a promise of future blessing rooted in God's unchanging character and plan of redemption, ultimately fulfilled in Christ.\"\n",
            "}\n",
            "```\n",
            "\n"
          ]
        },
        {
          "output_type": "stream",
          "name": "stderr",
          "text": [
            "\r44it [06:41,  6.11s/it]"
          ]
        },
        {
          "output_type": "stream",
          "name": "stdout",
          "text": [
            "✅ Updated: Malachi (using commentary from 'Malachi')\n",
            "\n",
            "📜 Raw Gemini response for John (using 'John'):\n",
            "```json\n",
            "{\n",
            "  \"overview\": \"The Gospel of John uniquely explores the identity of Jesus Christ, emphasizing his divine nature and pre-existence. Unlike the synoptic gospels, John focuses less on Jesus's actions and parables, and more on his profound relationship with the Father. This gospel highlights Jesus's 'I am' statements, miracles as signs, and personal interactions to reveal his glory. Written as a reflection of Jesus's closest friend, the apostle John, this gospel seeks to deepen believers' faith, assuring them of eternal life through continued belief in Jesus as the Son of God.\",\n",
            "  \"key_scriptures\": [\n",
            "    \"John 1:1 -- Declares Jesus as the divine Logos, existing eternally with God and being God himself, emphasizing his pre-existence and deity.\",\n",
            "    \"John 1:14 -- The Logos becoming flesh demonstrates the incarnation of God in Jesus Christ, pitching his tent to dwell among humanity, fully God and fully man.\",\n",
            "    \"John 20:31 -- States the purpose of the Gospel: that readers may believe that Jesus is the Christ, the Son of God, and that by believing they may have life in his name, highlighting faith and life as central themes.\"\n",
            "  ],\n",
            "  \"theological_context\": \"John's Gospel emphasizes the doctrines of Christology, soteriology, and pneumatology. It presents Jesus as fully God and fully man, the only way to the Father, and the source of eternal life. Salvation is received through faith in Jesus, evidenced by ongoing belief, trust, and obedience. The Holy Spirit is introduced as the Paraclete, who continues Christ's work, empowering believers and revealing truth, forming the foundation for Trinitarian theology.\"\n",
            "}\n",
            "```\n",
            "\n"
          ]
        },
        {
          "output_type": "stream",
          "name": "stderr",
          "text": [
            "\r45it [06:48,  6.45s/it]"
          ]
        },
        {
          "output_type": "stream",
          "name": "stdout",
          "text": [
            "✅ Updated: John (using commentary from 'John')\n",
            "\n",
            "📜 Raw Gemini response for 2 Corinthians (using '1 and 2 Corinthians'):\n",
            "```json\n",
            "{\n",
            "  \"overview\": \"2 Corinthians is a deeply personal and somewhat disorganized letter from Paul to the Corinthian church, addressing criticisms against his ministry and defending his apostleship. It reveals Paul's struggles, his unwavering commitment to the gospel, and his profound love for the Corinthians despite their challenges to his authority. The letter also includes practical teaching on Christian giving and famine relief, showcasing Paul's pastoral heart and conviction regarding the correct use of money and the need for generosity among believers.\",\n",
            "  \"key_scriptures\": [\n",
            "    \"2 Corinthians 4:8-9: 'We are hard pressed on every side, but not crushed; perplexed, but not in despair; persecuted, but not abandoned; struck down, but not destroyed...' This passage exemplifies Paul's resilience and faith in the face of adversity, highlighting the power of God working through human weakness.\",\n",
            "    \"2 Corinthians 6:3-10: 'We put no stumbling-block in anyone’s path, so that our ministry will not be discredited...through glory and dishonor, bad report and good report...' Here, Paul outlines the characteristics of a true servant of God, marked by endurance, purity, love, and truthfulness, regardless of circumstances or public perception.\",\n",
            "    \"2 Corinthians 11:1-31: This entire section reveals Paul's passionate defense against false apostles, detailing his extensive sufferings and hardships endured for the sake of the gospel, demonstrating his commitment to the truth and his concern for the spiritual well-being of the Corinthians.\"\n",
            "  ],\n",
            "  \"theological_context\": \"The theological context of 2 Corinthians is rooted in the doctrines of grace, apostleship, and the nature of Christian living in a fallen world. It emphasizes the importance of authentic ministry characterized by humility, sacrifice, and unwavering commitment to the gospel message. A key theme is the tension between spiritual power and human weakness, demonstrating that God's strength is made perfect in frailty. Furthermore, the letter underscores the importance of genuine love (agape) in fostering unity and resolving conflicts within the church, particularly amidst cultural influences and divisions.\"\n",
            "}\n",
            "```\n",
            "\n"
          ]
        },
        {
          "output_type": "stream",
          "name": "stderr",
          "text": [
            "\r46it [06:56,  6.83s/it]"
          ]
        },
        {
          "output_type": "stream",
          "name": "stdout",
          "text": [
            "✅ Updated: 2 Corinthians (using commentary from '1 and 2 Corinthians')\n",
            "\n",
            "📜 Raw Gemini response for Colossians (using 'Colossians'):\n",
            "```json\n",
            "{\n",
            "  \"overview\": \"The book of Colossians, written by Paul from prison, addresses syncretism, a mixing of Christian faith with pagan beliefs and practices that threatened the Colossian church. Paul emphasizes the supremacy and sufficiency of Christ as the Creator, Redeemer, and the fullness of God, warning against deceptive philosophies and legalistic observances. He urges believers to focus on Christ, live a life of holiness, and cultivate love and harmony in their relationships. Ultimately, Colossians is a call to remain rooted in Christ and to reject any teaching that diminishes His centrality and completeness.\",\n",
            "  \"key_scriptures\": [\n",
            "    \"Colossians 1:15-20 -- Declares Christ's supremacy as the image of the invisible God, the creator of all things, and the reconciler of all creation to Himself.\",\n",
            "    \"Colossians 2:8 -- Warns against being taken captive by hollow and deceptive philosophy, which comes from human tradition rather than from Christ.\",\n",
            "    \"Colossians 3:1-4 -- Encourages believers to set their minds on things above, where Christ is, and to put to death earthly passions, seeking to live a life hidden with Christ in God.\"\n",
            "  ],\n",
            "  \"theological_context\": \"Colossians underscores the crucial doctrines of Christology and soteriology, asserting Christ's deity, preeminence, and all-sufficiency for salvation. It confronts the dangers of legalism and false teaching, emphasizing that justification and sanctification are found only in Christ, not in human works or rituals. The letter affirms the believer's union with Christ in His death, resurrection, and ascension, calling for a life transformed by grace and characterized by love, forgiveness, and a heavenly perspective. It also reveals the importance of the immanence and transcendence of God.\"\n",
            "}\n",
            "```\n",
            "\n"
          ]
        },
        {
          "output_type": "stream",
          "name": "stderr",
          "text": [
            "\r47it [07:02,  6.71s/it]"
          ]
        },
        {
          "output_type": "stream",
          "name": "stdout",
          "text": [
            "✅ Updated: Colossians (using commentary from 'Colossians')\n",
            "\n",
            "📜 Raw Gemini response for Titus (using '1 and 2 Timothy and Titus'):\n",
            "```json\n",
            "{\n",
            "  \"overview\": \"The book of Titus is an apostolic epistle where Paul delegates Titus to appoint elders in Crete and address issues of false teaching and poor behavior influencing the churches. Paul emphasizes the need for quality leadership and membership, focusing on character and sound doctrine. The letter provides practical guidance on how to transition churches from dependence on apostles to local leadership, ensuring the church positively reflects the gospel to the world. It serves as a guide for church membership training, showing how godly character adorns the gospel.\",\n",
            "  \"key_scriptures\": [\n",
            "    \"Titus 1:5 -- Paul left Titus in Crete to appoint elders in every town and complete the work of establishing the church with local leaders.\",\n",
            "    \"Titus 2:1-10 -- Paul instructs Titus on teaching sound doctrine that aligns with the different groups within the church: older men, older women, young women, young men, and bondservants.\",\n",
            "    \"Titus 3:5 -- God saved us through the washing of regeneration and renewal of the Holy Spirit, highlighting the importance of baptism and the Spirit in salvation.\"\n",
            "  ],\n",
            "  \"theological_context\": \"The letter to Titus emphasizes key doctrines such as salvation by grace, the importance of good works as evidence of genuine faith, and the necessity of sound doctrine for healthy church life. It underscores the role of the Holy Spirit in regeneration and sanctification. The book promotes a holistic view of salvation, encompassing past justification, present sanctification manifested in ethical living, and future glorification. It affirms God as both Judge and Savior and emphasizes the importance of living a life that adorns the gospel, making it attractive to unbelievers.\"\n",
            "}\n",
            "```\n",
            "\n"
          ]
        },
        {
          "output_type": "stream",
          "name": "stderr",
          "text": [
            "\r48it [07:09,  6.79s/it]"
          ]
        },
        {
          "output_type": "stream",
          "name": "stdout",
          "text": [
            "✅ Updated: Titus (using commentary from '1 and 2 Timothy and Titus')\n",
            "\n",
            "📜 Raw Gemini response for 2 Peter (using '1 and 2 Peter'):\n",
            "```json\n",
            "{\n",
            "  \"overview\": \"2 Peter, written shortly before Peter's death, addresses internal dangers within the church, namely false teachers and their destructive heresies. The letter emphasizes the importance of spiritual maturity and growth in knowledge of God to combat these false teachings. Peter urges believers to remember and build upon the foundational truths of their faith, living in anticipation of Christ's return and the promise of a new heaven and a new earth. He warns against apostasy and encourages moral living in light of God's judgment and the hope of eternal life.\",\n",
            "  \"key_scriptures\": [\n",
            "    \"2 Peter 1:5-8 - Encourages believers to add to their faith, virtue, knowledge, self-control, perseverance, godliness, brotherly kindness, and love, emphasizing spiritual growth and maturity.\",\n",
            "    \"2 Peter 2:1-3 - Warns of false teachers who will secretly introduce destructive heresies, denying the Lord and exploiting believers with deceptive words, highlighting the danger of internal corruption.\",\n",
            "    \"2 Peter 3:10-13 - Speaks of the Day of the Lord, when the heavens will be destroyed by fire, and encourages believers to live holy and godly lives as they look forward to the new heavens and new earth, emphasizing hope and moral conduct.\"\n",
            "  ],\n",
            "  \"theological_context\": \"2 Peter addresses the doctrines of salvation, eschatology, and the authority of Scripture. It reinforces the necessity of both individual and corporate dimensions of salvation, emphasizing faith, hope, and love as essential components. The letter defends the reality of Christ's second coming against scoffers, affirming God's patience and the eventual judgment and recreation of the cosmos. It also indirectly touches upon biblical inspiration, contrasting the genuine teachings of the apostles and prophets with the false teachings of those distorting the Gospel for selfish gain.\"\n",
            "}\n",
            "```\n",
            "\n"
          ]
        },
        {
          "output_type": "stream",
          "name": "stderr",
          "text": [
            "\r49it [07:17,  7.03s/it]"
          ]
        },
        {
          "output_type": "stream",
          "name": "stdout",
          "text": [
            "✅ Updated: 2 Peter (using commentary from '1 and 2 Peter')\n",
            "\n",
            "📜 Raw Gemini response for 3 John (using '1, 2, And 3 John'):\n",
            "```json\n",
            "{\n",
            "  \"overview\": \"3 John is a short, personal letter written by the Apostle John to Gaius, a beloved member of the church. John commends Gaius for his hospitality towards traveling Christian teachers and missionaries. He contrasts Gaius's behavior with that of Diotrephes, a leader who rejects these teachers and seeks to control the church. John encourages Gaius to continue his support of faithful ministers and promises to visit and address the issues caused by Diotrephes.\",\n",
            "  \"key_scriptures\": [\n",
            "    \"3 John 1:4 -- John expresses his greatest joy in hearing that his children walk in truth, highlighting the importance of living according to God's word.\",\n",
            "    \"3 John 1:11 -- John urges Gaius to imitate what is good, not evil, emphasizing that those who do good are of God, while those who do evil have not seen God, reinforcing the importance of righteous actions.\",\n",
            "    \"3 John 1:9-10 -- John addresses Diotrephes's negative behavior, which demonstrates the effects of those who do not abide in truth nor welcome brothers and sisters in the Lord. \"\n",
            "  ],\n",
            "  \"theological_context\": \"This letter emphasizes the importance of Christian hospitality and support for those spreading the gospel, revealing the tension between truth and love within the early church. It touches on the doctrine of fellowship, highlighting the need to welcome and support genuine believers while resisting those who promote false teaching or division. The letter also implicitly addresses the authority of apostolic leadership and the need for humility and service within the church. Ultimately, 3 John encourages believers to demonstrate their faith through practical acts of love and obedience, reflecting the character of God.\"\n",
            "}\n",
            "```\n",
            "\n"
          ]
        },
        {
          "output_type": "stream",
          "name": "stderr",
          "text": [
            "\r50it [07:24,  6.88s/it]"
          ]
        },
        {
          "output_type": "stream",
          "name": "stdout",
          "text": [
            "✅ Updated: 3 John (using commentary from '1, 2, And 3 John')\n",
            "\n",
            "📜 Raw Gemini response for 2 Samuel (using '1 and 2 Samuel'):\n",
            "```json\n",
            "{\n",
            "  \"overview\": \"2 Samuel chronicles David's reign, marking a pivotal era in Israel's history as it transitions into a settled nation and a sizeable empire. The book portrays David's life in directional terms: initially 'up' towards the pinnacle of power, followed by a tragic 'downward' descent marked by personal failings and national turmoil. Despite David's flaws, God establishes a covenant with him, promising an enduring lineage and kingdom. This covenant becomes central to Israel's messianic hope, ultimately fulfilled in Jesus Christ, the son of David.\",\n",
            "  \"key_scriptures\": [\n",
            "    \"2 Samuel 7:12-16 -- God's covenant with David promises an enduring kingdom and a descendant who will reign forever, foreshadowing the coming Messiah.\",\n",
            "    \"2 Samuel 11:1-17 -- David's adultery with Bathsheba and his orchestration of Uriah's death demonstrate the tragic consequences of sin, impacting both his personal life and the nation.\",\n",
            "    \"Psalm 51 -- David's heartfelt prayer of confession and repentance after being confronted by Nathan the prophet highlights the importance of acknowledging sin and seeking God's forgiveness.\"\n",
            "  ],\n",
            "  \"theological_context\": \"2 Samuel reveals God's sovereign involvement in history, both initiating events and responding to human actions. The book highlights the doctrines of covenant, sin, repentance, and divine justice and mercy. God's covenant with David demonstrates his faithfulness and commitment to his people, even amidst their failures. The book also emphasizes the importance of righteous leadership and the consequences of disobedience, while ultimately pointing towards God's redemptive plan through the promised Messiah from the line of David.\"\n",
            "}\n",
            "```\n",
            "\n"
          ]
        },
        {
          "output_type": "stream",
          "name": "stderr",
          "text": [
            "\r51it [07:30,  6.79s/it]"
          ]
        },
        {
          "output_type": "stream",
          "name": "stdout",
          "text": [
            "✅ Updated: 2 Samuel (using commentary from '1 and 2 Samuel')\n",
            "\n",
            "📜 Raw Gemini response for 1 Kings (using '1 and 2 Kings'):\n",
            "```json\n",
            "{\n",
            "  \"overview\": \"1 Kings chronicles the reigns of the kings of Israel, beginning with Solomon and ending with Ahab. It covers the transition from a united kingdom to a divided one, highlighting the consequences of both obedience and disobedience to God's laws. The book emphasizes the spiritual and moral qualities of the kings, judging them based on their worship practices and their adherence to justice and morality. Ultimately, 1 Kings serves as a prophetic history, demonstrating God's sovereignty over the rise and fall of nations and foreshadowing the exile due to the people's unfaithfulness.\",\n",
            "  \"key_scriptures\": [\n",
            "    \"1 Kings 3:9-14 - Solomon's request for wisdom and God's granting of not only wisdom but also wealth and honor serves as a key moment, illustrating the importance of seeking God's guidance in leadership.\",\n",
            "    \"1 Kings 8:22-53 - Solomon's prayer at the dedication of the temple highlights the importance of centralized worship and the promise of restoration upon repentance, laying the foundation for understanding the exile.\",\n",
            "    \"1 Kings 17-19 - The stories of Elijah demonstrate God's power and faithfulness in the face of idolatry, serving as a warning against syncretism and a call to return to true worship.\"\n",
            "  ],\n",
            "  \"theological_context\": \"1 Kings explores the doctrines of God's sovereignty, covenant faithfulness, and judgment. It emphasizes the importance of obedience to God's laws and the consequences of idolatry and moral decay. The book highlights the role of prophets as God's messengers, warning against sin and calling for repentance. It also foreshadows the need for a true and righteous king in the line of David who will fully embody God's will and restore the kingdom.\"\n",
            "}\n",
            "```\n",
            "\n"
          ]
        },
        {
          "output_type": "stream",
          "name": "stderr",
          "text": [
            "\r52it [07:37,  6.81s/it]"
          ]
        },
        {
          "output_type": "stream",
          "name": "stdout",
          "text": [
            "✅ Updated: 1 Kings (using commentary from '1 and 2 Kings')\n",
            "\n",
            "📜 Raw Gemini response for 1 Chronicles (using '1 and 2 Chronicles'):\n",
            "```json\n",
            "{\n",
            "  \"overview\": \"1 Chronicles presents a selective history of Israel, particularly focusing on the reign of David and the southern kingdom of Judah, with emphasis on the temple, worship, and the Davidic line. Written after the exile, it aimed to encourage the returning exiles by reminding them of their roots, their royal heritage, and their religious purpose as God's chosen people. The book highlights God's faithfulness and seeks to inspire hope for the restoration of the kingdom and the rebuilding of the temple, concentrating on the good things the kings did to encourage righteousness.\",\n",
            "  \"key_scriptures\": [\n",
            "    \"1 Chronicles 1-9 -- Genealogies tracing lineage back to Adam, emphasizing the continuity of God's people and their roots in history.\",\n",
            "    \"1 Chronicles 15-16 -- David's bringing the Ark to Jerusalem, highlighting the importance of worship and God's presence among His people.\",\n",
            "    \"1 Chronicles 28-29 -- David's preparations for the temple and Solomon's commission, emphasizing the centrality of the temple in Israel's life and worship.\"\n",
            "  ],\n",
            "  \"theological_context\": \"1 Chronicles emphasizes the doctrines of God's sovereignty, covenant faithfulness, and the importance of temple worship. It underscores the Davidic covenant and the messianic hope tied to the royal line. The book highlights themes of restoration, repentance, and the centrality of worship in the life of God's people, emphasizing the continuity of God's redemptive plan throughout history. It is a call to remember God's promises and to rebuild, both physically and spiritually, after a period of judgment.\"\n",
            "}\n",
            "```\n",
            "\n"
          ]
        },
        {
          "output_type": "stream",
          "name": "stderr",
          "text": [
            "\r53it [07:43,  6.58s/it]"
          ]
        },
        {
          "output_type": "stream",
          "name": "stdout",
          "text": [
            "✅ Updated: 1 Chronicles (using commentary from '1 and 2 Chronicles')\n",
            "\n",
            "📜 Raw Gemini response for Esther (using 'Esther'):\n",
            "```json\n",
            "{\n",
            "  \"overview\": \"The Book of Esther recounts the story of a Jewish woman, Esther, who becomes queen of Persia and, through courage and providence, saves her people from annihilation. Haman, an Agagite, plots to destroy the Jews, but Esther, with the help of her cousin Mordecai, exposes Haman's plot to King Xerxes. The Jews are then given the right to defend themselves, and their enemies are defeated. The book highlights themes of courage, identity, and God's hidden hand in preserving His people during exile.\",\n",
            "  \"key_scriptures\": [\n",
            "    \"Esther 4:14 -- Mordecai suggests that God had brought Esther to the kingdom for such a time as this to help her people, highlighting the concept of divine purpose and providential timing.\",\n",
            "    \"Esther 9:1 -- This scripture highlights the Jews victory over their adversaries because they were ready and they acted on it, emphasizing the theme of self-defense and the reversal of fortunes.\",\n",
            "    \"Esther 3:8 -- Haman described the Jews that they were different, with their own laws, their own customs, and their own religion. They were misfits and they really must go, showing a spirit of anti-Semitism\"\n",
            "  ],\n",
            "  \"theological_context\": \"While God is not explicitly mentioned, the book implicitly affirms His sovereignty and providence in orchestrating events to protect His chosen people. It demonstrates God's faithfulness to His covenant promises, even when His presence is not overtly visible. The story also touches on themes of good versus evil and the ongoing spiritual battle against those who seek to destroy God's people. Furthermore, it illustrates the importance of courage and obedience in the face of adversity, echoing the broader biblical narrative of God using ordinary people for extraordinary purposes.\"\n",
            "}\n",
            "```\n",
            "\n"
          ]
        },
        {
          "output_type": "stream",
          "name": "stderr",
          "text": [
            "\r54it [07:49,  6.41s/it]"
          ]
        },
        {
          "output_type": "stream",
          "name": "stdout",
          "text": [
            "✅ Updated: Esther (using commentary from 'Esther')\n",
            "\n",
            "📜 Raw Gemini response for Psalms (using 'Psalms'):\n",
            "```json\n",
            "{\n",
            "  \"overview\": \"The Book of Psalms, or 'Songs of Praise,' is a collection of Hebrew poetry expressing a wide range of human emotions from grief and anger to joy and hope. It serves as the hymnbook and prayer book of ancient Israel, compiled over centuries by various authors like David, Asaph, and the sons of Korah. The psalms explore personal and collective experiences, offering both private and public worship expressions. While showcasing the beauty and power of God, the psalms emphasize his transcendence and immanence.\",\n",
            "  \"key_scriptures\": [\n",
            "    \"Psalm 22:1 - 'My God, my God, why have you forsaken me?' - This verse is prophetically significant as Jesus quoted it on the cross, highlighting the theme of suffering and abandonment.\",\n",
            "    \"Psalm 23:1-6 - 'The Lord is my shepherd; I shall not want.' - This psalm illustrates God's caring provision and guidance, depicting Him as a shepherd who leads and protects His flock.\",\n",
            "    \"Psalm 51:1-19 - 'Have mercy on me, O God, according to your unfailing love...' - A psalm of penitence, demonstrating deep remorse for sin and seeking God's forgiveness and restoration, reflecting the importance of confession and reconciliation.\"\n",
            "  ],\n",
            "  \"theological_context\": \"The Psalms explore key doctrines, including God's sovereignty as King, His role as Creator and Redeemer, and the promise of a Messiah. They emphasize the importance of both individual and communal worship, highlighting the need for honesty in prayer and the expression of a full range of emotions before God. The Psalms showcase God's attributes, such as omnipotence, omniscience, and omnipresence, while also revealing His actions of creation, redemption, and judgment. They ultimately lead to doxology, where truth about God inspires passionate praise.\"\n",
            "}\n",
            "```\n",
            "\n"
          ]
        },
        {
          "output_type": "stream",
          "name": "stderr",
          "text": [
            "\r55it [07:57,  6.73s/it]"
          ]
        },
        {
          "output_type": "stream",
          "name": "stdout",
          "text": [
            "✅ Updated: Psalms (using commentary from 'Psalms')\n",
            "\n",
            "📜 Raw Gemini response for Ecclesiastes (using 'Ecclesiastes'):\n",
            "```json\n",
            "{\n",
            "  \"overview\": \"Ecclesiastes is a philosophical exploration of life's meaning, written by King Solomon in his later years, grappling with disillusionment and the apparent futility of worldly pursuits. The book examines various paths to happiness, from pleasure and wealth to wisdom and labor, finding them all ultimately unsatisfying 'under the sun'. It acknowledges the limitations of human understanding and the inevitability of death. While pessimistic at times, Ecclesiastes ultimately points to the importance of fearing God and obeying His commandments as the true purpose of life.\",\n",
            "  \"key_scriptures\": [\n",
            "    \"Ecclesiastes 1:2 - 'Meaningless! Meaningless! ... Everything is meaningless!' This verse encapsulates the initial despair and sense of futility that permeates much of the book as Solomon reflects on his life and worldly pursuits.\",\n",
            "    \"Ecclesiastes 3:1 - 'There is a time for everything, and a season for every activity under the heavens.' This well-known passage acknowledges God's sovereignty and the divinely appointed order of life's events, providing a contrasting perspective to the book's pessimism.\",\n",
            "    \"Ecclesiastes 12:13-14 - 'Fear God and obey his commandments, for this is the entire duty of man. For God will judge us for everything we do, including every hidden thing, good or bad.' This concluding statement offers a clear directive for finding meaning and purpose through reverence for God and adherence to His moral law.\"\n",
            "  ],\n",
            "  \"theological_context\": \"Ecclesiastes explores the themes of creation, the fall, and divine judgment, albeit often through a lens of human frustration and limited perspective. While not explicitly detailing the doctrines of grace or redemption, the book implicitly acknowledges humanity's fallen state and its inability to find lasting satisfaction apart from God. The call to 'fear God' aligns with the wisdom tradition's emphasis on reverence for God as the foundation of true knowledge and righteous living. The reminder of future judgment underscores the importance of accountability and the ultimate triumph of God's justice, pointing towards a need for reconciliation and salvation beyond the scope of earthly existence.\"\n",
            "}\n",
            "```\n",
            "\n"
          ]
        },
        {
          "output_type": "stream",
          "name": "stderr",
          "text": [
            "\r56it [08:03,  6.62s/it]"
          ]
        },
        {
          "output_type": "stream",
          "name": "stdout",
          "text": [
            "✅ Updated: Ecclesiastes (using commentary from 'Ecclesiastes')\n",
            "\n",
            "📜 Raw Gemini response for Isaiah (using 'Isaiah'):\n",
            "```json\n",
            "{\n",
            "  \"overview\": \"Isaiah is a comprehensive book addressing Judah's disobedience, God's discipline through foreign powers, and the promise of future restoration and redemption. It highlights the people's ritualistic worship devoid of genuine devotion, leading to divine judgment and exile. However, Isaiah also prophesies a remnant's return, the coming of a Davidic king bringing peace, and the ultimate reign of a unique king. The book emphasizes God's faithfulness to His covenant, even amidst disobedience, and anticipates a future filled with rejoicing and God's manifest glory.\",\n",
            "  \"key_scriptures\": [\n",
            "    \"Isaiah 7:14 (AV) – 'A virgin shall conceive, and bear a son, and shall call his name Immanuel.' This prophecy foreshadows the miraculous birth of Jesus Christ, signifying God's presence with His people.\",\n",
            "    \"Isaiah 9:6 (AV) – 'For unto us a child is born, unto us a son is given: and the government shall be upon his shoulder: and his name shall be called Wonderful, Counseller, The mighty God, The everlasting Father, The Prince of Peace.' This verse speaks of the coming Messiah's divine nature and future reign.\",\n",
            "    \"Isaiah 53:5 – 'He was pierced for our transgressions, he was crushed for our iniquities; the punishment that brought us peace was upon him, and by his wounds we are healed.' This pivotal verse describes the suffering servant, prefiguring Christ's atoning sacrifice for humanity's sins.\"\n",
            "  ],\n",
            "  \"theological_context\": \"Isaiah emphasizes the holiness of God, His sovereignty over history, and His role as Redeemer and Savior. The book underscores the importance of genuine worship and obedience, contrasting it with empty ritualism. Major themes include God's judgment against sin, His covenant faithfulness, and the hope of salvation through the coming Messiah, who will ultimately establish God's kingdom on earth. Isaiah also reveals God's concern for all nations, foretelling an international gathering in a new heaven and earth.\"\n",
            "}\n",
            "```\n",
            "\n"
          ]
        },
        {
          "output_type": "stream",
          "name": "stderr",
          "text": [
            "\r57it [08:10,  6.73s/it]"
          ]
        },
        {
          "output_type": "stream",
          "name": "stdout",
          "text": [
            "✅ Updated: Isaiah (using commentary from 'Isaiah')\n",
            "\n",
            "📜 Raw Gemini response for Zechariah (using 'Zechariah'):\n",
            "```json\n",
            "{\n",
            "  \"overview\": \"The Book of Zechariah, a contemporary of Haggai, urges the rebuilding of the temple while also looking far into the future, blending immediate and distant prophecies.  It is characterized by apocalyptic imagery and symbolic visions. Zechariah addresses the present problems of the returning exiles and offers encouragement, while also predicting future events surrounding the Messiah, Jerusalem, and the nations. The book highlights the transition from prophets to priests as spiritual leaders and anticipates a time when God will fulfill His promises to Israel and the world.\",\n",
            "  \"key_scriptures\": [\n",
            "    \"Zechariah 3:1-5 - This passage depicts the cleansing of Joshua the high priest, symbolizing God's grace in removing sin and restoring leadership, foreshadowing the cleansing available through Christ.\",\n",
            "    \"Zechariah 4:6 - 'Not by might nor by power, but by my Spirit,’ says the Lord Almighty.' This emphasizes reliance on God's Spirit for accomplishing His purposes, not human strength or ability, which contrasts with the crusades. \",\n",
            "    \"Zechariah 9:9 - This prophesies the coming of a peaceful king riding on a donkey, which Jesus fulfilled, but was tragically misunderstood by the people at the time of His first coming.\",\n",
            "\t\"Zechariah 12:10 - 'They will look on me, the one they have pierced, and they will mourn for him as one mourns for an only child...' This speaks of future Jewish repentance and recognition of Jesus as the Messiah, linking directly to the book of Revelation\"\n",
            "  ],\n",
            "  \"theological_context\": \"Zechariah addresses key themes of repentance, restoration, and the coming Messiah. It emphasizes God's sovereignty over history and His commitment to fulfilling His covenant promises to Israel.  The book anticipates a future day of judgment and salvation, with Jerusalem as the focal point of God's redemptive plan. Zechariah reveals the need for spiritual cleansing and the importance of relying on God's Spirit, ultimately pointing towards the person and work of Jesus Christ as the fulfillment of God's prophetic word, during the feast of Tabernacles.\"\n",
            "}\n",
            "```\n",
            "\n"
          ]
        },
        {
          "output_type": "stream",
          "name": "stderr",
          "text": [
            "\r58it [08:17,  6.89s/it]"
          ]
        },
        {
          "output_type": "stream",
          "name": "stdout",
          "text": [
            "✅ Updated: Zechariah (using commentary from 'Zechariah')\n",
            "\n",
            "📜 Raw Gemini response for Matthew (using 'Matthew'):\n",
            "```json\n",
            "{\n",
            "  \"overview\": \"Matthew presents Jesus as the King of the Jews and the fulfillment of Old Testament prophecy, particularly geared towards a Jewish audience while also including Gentiles. The Gospel serves as a manual for discipleship, teaching new converts how to live in the kingdom of heaven on earth. It emphasizes Jesus' teaching through five sermons and highlights the balance between believing and doing, stressing righteousness and obedience. Matthew uniquely addresses the theme of the church and the kingdom, providing guidance for both the universal and local aspects.\",\n",
            "  \"key_scriptures\": [\n",
            "    \"Matthew 1:1 - Genealogy of Jesus Christ, highlighting Jesus' Davidic descent to appeal to a Jewish audience, thus fulfilling prophecy of the Messiah\",\n",
            "    \"Matthew 5-7 - The Sermon on the Mount, providing the standard for kingdom living. Jesus’ teaching is not advice to non-believers on how to live but describes how believers are to live, now that they are in the kingdom.\",\n",
            "    \"Matthew 28:19-20 - The Great Commission, where Jesus commands his followers to make disciples of all nations. It provides the basis for understanding Matthew's aim: to help disciples by teaching them what Jesus commanded.\"\n",
            "  ],\n",
            "  \"theological_context\": \"Matthew emphasizes the kingdom of heaven, highlighting the present and future dimensions of God's reign. It stresses the importance of righteousness and obedience as essential aspects of discipleship, and that we are saved for righteousness not by it. The Gospel underscores the need for faith and continuous trust in Jesus and his word, and warns disciples against complacency and the reality of judgement. It balances the divine initiative with human responsibility, demonstrating that our works follow from belief.\"\n",
            "}\n",
            "```\n",
            "\n"
          ]
        },
        {
          "output_type": "stream",
          "name": "stderr",
          "text": [
            "\r59it [08:24,  6.85s/it]"
          ]
        },
        {
          "output_type": "stream",
          "name": "stdout",
          "text": [
            "✅ Updated: Matthew (using commentary from 'Matthew')\n",
            "\n",
            "📜 Raw Gemini response for Mark (using 'Mark'):\n",
            "```json\n",
            "{\n",
            "  \"overview\": \"Mark's Gospel, likely the first written, is a vivid and action-packed account of Jesus' ministry, emphasizing His deeds and miracles over His teachings, reflecting Peter's perspective. It highlights Jesus' gradual revelation of Himself as the Messiah and culminates in His crucifixion and resurrection, focusing on the importance of faith over fear in response to Jesus' supernatural power. The Gospel uniquely emphasizes the human and divine aspects of Jesus' death, revealing his identity and mission.\",\n",
            "  \"key_scriptures\": [\n",
            "    \"Mark 8:29 -- Peter identifies Jesus as the Christ, marking a pivotal moment where Jesus begins to openly discuss His impending suffering and death.\",\n",
            "    \"Mark 10:45 -- Jesus says he came not to be served but to serve, and to give his life as a ransom for many, revealing the purpose of his incarnation and death.\",\n",
            "    \"Mark 16:8 -- The original ending of Mark's Gospel leaves the reader with the women's fear at the empty tomb, challenging them to respond in faith.\"\n",
            "  ],\n",
            "  \"theological_context\": \"Mark presents Jesus as both fully human and fully divine, demonstrated through His miracles, His suffering, and ultimately, His resurrection. A key theological theme is the Messianic Secret, where Jesus often conceals his identity to avoid premature political expectations and to reveal himself in God's timing. The Gospel highlights the doctrine of atonement, emphasizing that Jesus' death was a ransom for many, securing salvation for believers. Mark underscores the importance of discipleship, calling followers to deny themselves, take up their cross, and follow Jesus in faith, overcoming fear.\"\n",
            "}\n",
            "```\n",
            "\n"
          ]
        },
        {
          "output_type": "stream",
          "name": "stderr",
          "text": [
            "\r60it [08:30,  6.59s/it]"
          ]
        },
        {
          "output_type": "stream",
          "name": "stdout",
          "text": [
            "✅ Updated: Mark (using commentary from 'Mark')\n",
            "\n",
            "📜 Raw Gemini response for Romans (using 'Romans'):\n",
            "```json\n",
            "{\n",
            "  \"overview\": \"Romans is Paul's longest and most comprehensive letter, written to a church he had not yet visited in Rome. It functions as a detailed explanation of the gospel he preached. The letter addresses issues of sin, justification, sanctification, and God's righteousness, while also focusing on the relationship between Jewish and Gentile believers. It is a complex but practical letter, emphasizing the unity of believers and how to live out their faith in a diverse society.\",\n",
            "  \"key_scriptures\": [\n",
            "    \"Romans 1:16 - 'For I am not ashamed of the gospel, because it is the power of God that brings salvation to everyone who believes: first to the Jew, then to the Gentile.' This verse highlights Paul's boldness in proclaiming the gospel and its universal availability.\",\n",
            "    \"Romans 3:22 - 'This righteousness is given through faith in Jesus Christ to all who believe. There is no difference between Jew and Gentile.' This key verse emphasizes that justification is obtained through faith in Christ, regardless of ethnic background.\",\n",
            "    \"Romans 8:1 - 'Therefore, there is now no condemnation for those who are in Christ Jesus.' This verse reveals the transformative freedom from condemnation that believers have through union with Jesus.\"\n",
            "  ],\n",
            "  \"theological_context\": \"Romans delves into the core doctrines of justification by faith, sanctification, and glorification, emphasizing the righteousness of God as both imputed and imparted. The letter wrestles with themes of God's sovereignty and human responsibility, particularly in relation to Israel's past, present, and future. Sin, law, grace, and the work of the Holy Spirit are also significant theological threads woven throughout the book. Ultimately, Romans offers a robust understanding of salvation and its implications for both individual believers and the Church as a whole.\"\n",
            "}\n",
            "```\n",
            "\n"
          ]
        },
        {
          "output_type": "stream",
          "name": "stderr",
          "text": [
            "\r61it [08:36,  6.39s/it]"
          ]
        },
        {
          "output_type": "stream",
          "name": "stdout",
          "text": [
            "✅ Updated: Romans (using commentary from 'Romans')\n",
            "\n",
            "📜 Raw Gemini response for Philippians (using 'Philippians'):\n",
            "```json\n",
            "{\n",
            "  \"overview\": \"Philippians, written by Paul during his imprisonment in Rome, is a letter of deep affection and gratitude to the church in Philippi, his first church plant in Europe. The letter focuses on the profound relationship between Paul and the Philippians, expressing joy, thanksgiving, and encouragement despite his difficult circumstances. Paul addresses some minor disunity within the church, emphasizing the importance of unity, humility, and selfless service modeled after Christ. Ultimately, Philippians is a testament to the joy and contentment found in Christ, regardless of external circumstances, and an encouragement to live out the gospel faithfully.\",\n",
            "  \"key_scriptures\": [\n",
            "    \"Philippians 1:21 - 'For to me, to live is Christ, and to die is gain.' This verse encapsulates Paul's unwavering focus on Christ as the center of his life and his perspective on death as a positive transition.\",\n",
            "    \"Philippians 2:5-8 - 'Have this mind among yourselves, which is yours in Christ Jesus, who, though he was in the form of God, did not count equality with God a thing to be grasped, but emptied himself, by taking the form of a servant, being born in the likeness of men. And being found in human form, he humbled himself by becoming obedient to the point of death, even death on a cross.' This passage highlights Christ's humility and self-sacrifice, serving as a model for believers.\",\n",
            "    \"Philippians 4:6-7 - 'Do not be anxious about anything, but in everything by prayer and supplication with thanksgiving let your requests be made known to God. And the peace of God, which surpasses all understanding, will guard your hearts and your minds in Christ Jesus.' This scripture offers assurance of God's peace amidst anxiety through prayer and a focus on gratitude.\"\n",
            "  ],\n",
            "  \"theological_context\": \"Philippians emphasizes the doctrines of Christology, soteriology, and ecclesiology. The letter affirms Christ's deity and humanity, his self-emptying (kenosis) for the sake of redemption, and his subsequent exaltation. Salvation is presented as both a gift of God and a process of working out one's faith in obedience and righteousness. The church is portrayed as a community of believers bound together by koinonia (fellowship) and characterized by unity, humility, and a shared commitment to the gospel, requiring believers to focus on Christ-like living.\"\n",
            "}\n",
            "```\n",
            "\n"
          ]
        },
        {
          "output_type": "stream",
          "name": "stderr",
          "text": [
            "\r62it [08:43,  6.49s/it]"
          ]
        },
        {
          "output_type": "stream",
          "name": "stdout",
          "text": [
            "✅ Updated: Philippians (using commentary from 'Philippians')\n"
          ]
        },
        {
          "output_type": "stream",
          "name": "stderr",
          "text": [
            "ERROR:tornado.access:503 POST /v1beta/models/gemini-2.0-flash:generateContent?%24alt=json%3Benum-encoding%3Dint (127.0.0.1) 1417.53ms\n"
          ]
        },
        {
          "output_type": "stream",
          "name": "stdout",
          "text": [
            "\n",
            "📜 Raw Gemini response for 1 Thessalonians (using '1 and 2 Thessalonians'):\n",
            "```json\n",
            "{\n",
            "  \"overview\": \"Paul's letters to the Thessalonians address the young church's concerns about persecution, living a holy life, and understanding the return of Christ. 1 Thessalonians is a warm, encouraging letter focused on their growth in faith, love, and hope, while 2 Thessalonians is more direct, correcting misunderstandings about the timing of Christ's return and addressing issues of idleness and disruptive behavior. Both letters emphasize the importance of perseverance in faith, maintaining a strong work ethic, and living in anticipation of Jesus's second coming, with a focus on personal holiness.\",\n",
            "  \"key_scriptures\": [\n",
            "    \"1 Thessalonians 4:3-8 - Emphasizes God's will for believers to be holy, abstaining from sexual immorality, and living lives that honor God.\",\n",
            "    \"1 Thessalonians 5:16-18 - Encourages believers to be joyful always, pray continually, and give thanks in all circumstances, highlighting key aspects of Christian living.\",\n",
            "    \"2 Thessalonians 2:1-3 - Addresses the confusion about the timing of Christ's return and warns against false teachings, stating that certain events, like the appearance of the \\\"man of lawlessness,\\\" must occur first.\"\n",
            "  ],\n",
            "  \"theological_context\": \"The letters to the Thessalonians explore key doctrines such as sanctification, the Second Coming, and the Trinity. Paul underscores the importance of holiness as God's will for believers, urging them to live lives that reflect their faith. He also emphasizes the hope of Christ's return, clarifying misunderstandings about its timing and urging believers to live faithfully in light of this expectation. He connects these themes by reminding the Thessalonians that their conversion involved turning from idols to serve the living God and to wait for his Son from heaven.\"\n",
            "}\n",
            "```\n",
            "\n"
          ]
        },
        {
          "output_type": "stream",
          "name": "stderr",
          "text": [
            "\r63it [08:58,  9.11s/it]"
          ]
        },
        {
          "output_type": "stream",
          "name": "stdout",
          "text": [
            "✅ Updated: 1 Thessalonians (using commentary from '1 and 2 Thessalonians')\n",
            "\n",
            "📜 Raw Gemini response for 2 Timothy (using '1 and 2 Timothy and Titus'):\n",
            "```json\n",
            "{\n",
            "  \"overview\": \"2 Timothy is Paul's 'last will and testament' to his young apprentice, Timothy, written during Paul's second imprisonment in Rome. Recognizing his life is drawing to a close, Paul urges Timothy to remain steadfast in proclaiming the gospel and combating false teaching within the church. The letter emphasizes the importance of sound doctrine, godly leadership, and personal faithfulness in the face of persecution. Paul encourages Timothy to persevere in his ministry, entrusting him with the responsibility of safeguarding the truth and appointing faithful leaders.\",\n",
            "  \"key_scriptures\": [\n",
            "    \"2 Timothy 1:7 -- Reminds Timothy that God has given him a spirit of power, love, and self-control, encouraging him to overcome timidity and embrace his calling.\",\n",
            "    \"2 Timothy 2:2 -- Instructs Timothy to entrust the teachings he has received to reliable people who will also be qualified to teach others, highlighting the importance of discipleship and the passing on of sound doctrine.\",\n",
            "    \"2 Timothy 4:2 -- Charges Timothy to preach the Word, to be prepared in season and out of season, to correct, rebuke, and encourage—with great patience and careful instruction, emphasizing the urgency and comprehensive nature of his pastoral duty.\"\n",
            "  ],\n",
            "  \"theological_context\": \"The letter reinforces the doctrines of salvation, justification, and sanctification. It highlights the nature of God (eternal, immortal, invisible), the role of Jesus as both Judge and Savior, and the work of the Holy Spirit in empowering believers. Central themes include the authority and inspiration of Scripture, the importance of sound doctrine as a guard against heresy, the qualifications and responsibilities of church leaders (elders and deacons), and the believer's call to persevere in faith and good works, resulting in glorification and eternal life. Salvation is presented as a past, present, and future reality, emphasizing the ethical transformation and continuing faithfulness required of believers.\"\n",
            "}\n",
            "```\n",
            "\n"
          ]
        },
        {
          "output_type": "stream",
          "name": "stderr",
          "text": [
            "\r64it [09:05,  8.53s/it]"
          ]
        },
        {
          "output_type": "stream",
          "name": "stdout",
          "text": [
            "✅ Updated: 2 Timothy (using commentary from '1 and 2 Timothy and Titus')\n",
            "\n",
            "📜 Raw Gemini response for James (using 'James'):\n",
            "```json\n",
            "{\n",
            "  \"overview\": \"The book of James is a practical guide to Christian living, emphasizing the importance of actions that demonstrate genuine faith. Written to Jewish believers scattered among the nations, it addresses issues of wealth, speech, and worldliness. It challenges readers to be 'doers of the word' and not merely hearers, highlighting that true faith is always accompanied by works. While some have seen a conflict with Paul's teachings on justification by faith, James provides a complementary perspective, emphasizing the necessity of living out one's faith in tangible ways.\",\n",
            "  \"key_scriptures\": [\n",
            "    \"James 1:2 - 'Count it all joy, my brothers, when you face trials of various kinds' This verse highlights the paradoxical nature of Christian living, where trials can lead to spiritual growth.\",\n",
            "    \"James 2:24 - 'You see that a person is justified by what he does and not by faith alone.' This verse emphasizes that genuine faith is demonstrated through actions.\",\n",
            "    \"James 3:5 - 'So also the tongue is a small member, yet it boasts of great things. How great a forest is set ablaze by such a small fire!' This verse stresses the importance of taming the tongue and controlling one's speech.\"\n",
            "  ],\n",
            "  \"theological_context\": \"The book of James navigates the relationship between faith and works, emphasizing that true faith is never passive but always active. It underscores the importance of practical obedience and moral integrity as evidence of genuine conversion. While not explicitly detailing the doctrines of grace as Paul does, it assumes them, focusing instead on the ethical implications of salvation. The themes of wisdom, humility, and social justice are prominent, reflecting the teachings of Jesus, particularly the Sermon on the Mount, providing a balanced view of Christian discipleship.\"\n",
            "}\n",
            "```\n",
            "\n"
          ]
        },
        {
          "output_type": "stream",
          "name": "stderr",
          "text": [
            "\r65it [09:12,  8.05s/it]"
          ]
        },
        {
          "output_type": "stream",
          "name": "stdout",
          "text": [
            "✅ Updated: James (using commentary from 'James')\n",
            "\n",
            "📜 Raw Gemini response for 2 John (using '1, 2, And 3 John'):\n",
            "```json\n",
            "{\n",
            "  \"overview\": \"2 John is a short, personal letter likely written around AD 90 by the Apostle John to a 'chosen lady and her children,' possibly a local church. John emphasizes the importance of walking in both truth and love, warning against extending hospitality to those who deny the true incarnation of Jesus Christ. He urges discernment to protect the church from heresy and maintain fellowship with God. This letter balances the need for loving hospitality with the necessity of upholding sound doctrine.\",\n",
            "  \"key_scriptures\": [\n",
            "    \"2 John 4 -- John rejoices to find some of the 'children' walking in truth, emphasizing the importance of obedience to God's commands.\",\n",
            "    \"2 John 7 -- This verse warns against deceivers who deny that Jesus Christ has come in the flesh, highlighting the crucial doctrine of the Incarnation.\",\n",
            "    \"2 John 9-11 -- These verses caution against receiving or greeting those who do not abide in the doctrine of Christ, underscoring the need for discernment and protecting the church from false teaching.\"\n",
            "  ],\n",
            "  \"theological_context\": \"The letter addresses the tension between love and truth, particularly in the context of hospitality. It underscores the importance of the Incarnation, the belief that Jesus Christ is fully God and fully man, as a foundational doctrine. The letter also touches on the themes of obedience, discernment, and the dangers of heresy, emphasizing the need for believers to both love one another and guard the truth of the gospel. Ultimately, it is a warning to test teachers.\"\n",
            "}\n",
            "```\n",
            "\n"
          ]
        },
        {
          "output_type": "stream",
          "name": "stderr",
          "text": [
            "66it [09:19,  8.47s/it]"
          ]
        },
        {
          "output_type": "stream",
          "name": "stdout",
          "text": [
            "✅ Updated: 2 John (using commentary from '1, 2, And 3 John')\n"
          ]
        },
        {
          "output_type": "stream",
          "name": "stderr",
          "text": [
            "\n"
          ]
        }
      ]
    },
    {
      "cell_type": "code",
      "source": [
        "# === Book Mapping for Combined Entries ===\n",
        "BOOK_MAPPING = {\n",
        "\n",
        "    \"Song of Solomon\": \"Song of Songs\",\n",
        "    \"1 John\": \"1, 2, And 3 John\",\n",
        "    \"2 John\": \"1, 2, And 3 John\",\n",
        "    \"3 John\": \"1, 2, And 3 John\"\n",
        "}\n",
        "\n",
        "PROMPT_TEMPLATE = \"\"\"\n",
        "You are a biblical scholar and summarizer rooted in strong commitment to biblical authority and Scripture’s central role. Based on the following commentary for the book of {book_name}, do the following:\n",
        "\n",
        "1.  Write a 3–5 sentence **overview** of the book.\n",
        "2.  Identify and list 2 to 3 **key scripture references** with brief descriptions.\n",
        "3.  Write a 3–5 sentence **theological context** explaining the major doctrines and themes.\n",
        "\n",
        "Commentary:\n",
        "\\\"\\\"\\\"\n",
        "{commentary_text}\n",
        "\\\"\\\"\\\"\n",
        "\n",
        "Return your response in a strict JSON format. The JSON object must contain the keys \"overview\", \"key_scriptures\", and \"theological_context\".\n",
        "Do not include any text, explanations, or markdown formatting outside of the JSON object itself.\n",
        "{{\n",
        "  \"overview\": \"...\",\n",
        "  \"key_scriptures\": [\n",
        "    \"...\",\n",
        "    \"...\"\n",
        "  ],\n",
        "  \"theological_context\": \"...\"\n",
        "}}\n",
        "\"\"\"\n",
        "\n",
        "# === Revised Helper Function to Fix and Parse Gemini Output ===\n",
        "def parse_gemini_json(raw_text: str):\n",
        "    \"\"\"\n",
        "    Extracts, cleans, and parses a JSON object from a raw string from a model.\n",
        "    Handles responses wrapped in markdown backticks and other common LLM artifacts.\n",
        "    \"\"\"\n",
        "    # 1. Extract JSON block from markdown ```json ... ``` or ``` ... ```\n",
        "    match = re.search(r\"```(?:json)?\\s*([\\s\\S]*?)\\s*```\", raw_text, re.DOTALL)\n",
        "\n",
        "    if match:\n",
        "        cleaned_text = match.group(1).strip()\n",
        "    else:\n",
        "        # 2. If no backticks, find the first '{' to the last '}'\n",
        "        # This handles cases where the model returns a raw JSON object without markdown.\n",
        "        start_index = raw_text.find('{')\n",
        "        end_index = raw_text.rfind('}')\n",
        "        if start_index == -1 or end_index == -1:\n",
        "            raise ValueError(\"🛑 No valid JSON object found in the response.\")\n",
        "        cleaned_text = raw_text[start_index : end_index + 1]\n",
        "\n",
        "    # 3. Clean up common formatting issues\n",
        "    # Replace slanted or \"smart\" quotes with standard double quotes\n",
        "    cleaned_text = cleaned_text.replace(\"\"\", '\"').replace(\"\"\", '\"')\n",
        "    # This replacement is left out as it can corrupt apostrophes (e.g., God's)\n",
        "    # cleaned_text = cleaned_text.replace(\"'\", \"'\").replace(\"'\", \"'\")\n",
        "\n",
        "    # Remove trailing commas from lists (e.g., [1, 2, ]) and objects (e.g., {a:1,})\n",
        "    cleaned_text = re.sub(r\",\\s*\\]\", \"]\", cleaned_text)\n",
        "    cleaned_text = re.sub(r\",\\s*}\", \"}\", cleaned_text)\n",
        "\n",
        "    # 4. Attempt to parse the cleaned JSON\n",
        "    try:\n",
        "        return json.loads(cleaned_text)\n",
        "    except json.JSONDecodeError as e:\n",
        "        # If parsing fails, raise a detailed error for easier debugging\n",
        "        error_message = f\"🛑 JSON parsing failed after cleanup: {e}\"\n",
        "        # For debugging, you can uncomment the next line to see the failed text\n",
        "        # print(f\"--- Failed Text ---\\n{cleaned_text}\\n---------------------\")\n",
        "        raise ValueError(error_message) from e\n",
        "\n",
        "# === Main Process with Skip Logic ===\n",
        "for book in tqdm(books_collection.find()):\n",
        "    book_name = book[\"name\"]\n",
        "\n",
        "    # === ADJUSTMENT: CHECK IF FIELDS ALREADY EXIST ===\n",
        "    # If all required fields are already in the document, skip processing.\n",
        "    if ('overview' in book and 'key_scriptures' in book and 'theological_context' in book):\n",
        "        print(f\"⏩ Skipping {book_name}: Fields already exist.\")\n",
        "        continue # Moves to the next book in the loop\n",
        "\n",
        "    # --- If fields don't exist, proceed with the original logic ---\n",
        "\n",
        "    # === USE MAPPING TO GET COMMENTARY TITLE ===\n",
        "    # Check if the book has a mapped combined title, otherwise use the book name\n",
        "    commentary_title = BOOK_MAPPING.get(book_name, book_name)\n",
        "    commentary_title_lower = commentary_title.lower()\n",
        "\n",
        "    # Get all commentary chunks for this book using the mapped title (case-insensitive)\n",
        "    chunks = commentary_collection.find({\n",
        "        \"$expr\": { \"$eq\": [{ \"$toLower\": \"$chapter_title\" }, commentary_title_lower] }\n",
        "    })\n",
        "\n",
        "    all_text = \" \".join(chunk[\"text\"] for chunk in chunks)\n",
        "\n",
        "    if not all_text.strip():\n",
        "        print(f\"⚠️ Skipping {book_name} - No commentary found for '{commentary_title}'.\")\n",
        "        continue\n",
        "\n",
        "    # Format the prompt\n",
        "    prompt = PROMPT_TEMPLATE.format(\n",
        "        book_name=book_name,\n",
        "        commentary_text=all_text[:200000] # Make sure your model's context window supports this\n",
        "    )\n",
        "\n",
        "    try:\n",
        "        response = model.generate_content(prompt)\n",
        "        raw_text = response.text.strip()\n",
        "\n",
        "        print(f\"\\n📜 Raw Gemini response for {book_name} (using '{commentary_title}'):\\n{raw_text}\\n\")\n",
        "\n",
        "        generated_fields = parse_gemini_json(raw_text)\n",
        "\n",
        "        # === Update MongoDB ===\n",
        "        books_collection.update_one(\n",
        "            {\"_id\": book[\"_id\"]}, # Use the immutable _id for reliability\n",
        "            {\"$set\": {\n",
        "                \"overview\": generated_fields[\"overview\"],\n",
        "                \"key_scriptures\": generated_fields[\"key_scriptures\"],\n",
        "                \"theological_context\": generated_fields[\"theological_context\"]\n",
        "            }}\n",
        "        )\n",
        "\n",
        "        print(f\"✅ Updated: {book_name} (using commentary from '{commentary_title}')\")\n",
        "\n",
        "    except Exception as e:\n",
        "        print(f\"❌ An error occurred processing {book_name}: {e}\")\n",
        "        continue"
      ],
      "metadata": {
        "colab": {
          "base_uri": "https://localhost:8080/",
          "height": 1000
        },
        "id": "7FknzyWfnE5v",
        "outputId": "4602d9c6-e15d-439a-b801-3d3c77c0a68b"
      },
      "execution_count": null,
      "outputs": [
        {
          "output_type": "stream",
          "name": "stderr",
          "text": [
            "1it [00:00,  1.06it/s]"
          ]
        },
        {
          "output_type": "stream",
          "name": "stdout",
          "text": [
            "⏩ Skipping Genesis: Fields already exist.\n",
            "⏩ Skipping Exodus: Fields already exist.\n",
            "⏩ Skipping Leviticus: Fields already exist.\n",
            "⏩ Skipping Numbers: Fields already exist.\n",
            "⏩ Skipping Deuteronomy: Fields already exist.\n",
            "⏩ Skipping Joshua: Fields already exist.\n",
            "⏩ Skipping Judges: Fields already exist.\n",
            "⏩ Skipping Ruth: Fields already exist.\n",
            "⏩ Skipping 1 Samuel: Fields already exist.\n",
            "⏩ Skipping 2 Samuel: Fields already exist.\n",
            "⏩ Skipping 1 Kings: Fields already exist.\n",
            "⏩ Skipping 2 Kings: Fields already exist.\n",
            "⏩ Skipping 1 Chronicles: Fields already exist.\n",
            "⏩ Skipping 2 Chronicles: Fields already exist.\n",
            "⏩ Skipping Ezra: Fields already exist.\n",
            "⏩ Skipping Nehemiah: Fields already exist.\n",
            "⏩ Skipping Esther: Fields already exist.\n",
            "⏩ Skipping Job: Fields already exist.\n",
            "⏩ Skipping Psalms: Fields already exist.\n",
            "⏩ Skipping Proverbs: Fields already exist.\n",
            "⏩ Skipping Ecclesiastes: Fields already exist.\n",
            "⏩ Skipping Song of Solomon: Fields already exist.\n",
            "⏩ Skipping Isaiah: Fields already exist.\n",
            "⏩ Skipping Jeremiah: Fields already exist.\n",
            "⏩ Skipping Lamentations: Fields already exist.\n",
            "⏩ Skipping Ezekiel: Fields already exist.\n",
            "⏩ Skipping Daniel: Fields already exist.\n",
            "⏩ Skipping Hosea: Fields already exist.\n",
            "⏩ Skipping Joel: Fields already exist.\n",
            "⏩ Skipping Amos: Fields already exist.\n",
            "⏩ Skipping Obadiah: Fields already exist.\n",
            "⏩ Skipping Jonah: Fields already exist.\n",
            "⏩ Skipping Micah: Fields already exist.\n",
            "⏩ Skipping Nahum: Fields already exist.\n",
            "⏩ Skipping Habakkuk: Fields already exist.\n",
            "⏩ Skipping Zephaniah: Fields already exist.\n",
            "⏩ Skipping Haggai: Fields already exist.\n",
            "⏩ Skipping Zechariah: Fields already exist.\n",
            "⏩ Skipping Malachi: Fields already exist.\n",
            "⏩ Skipping Matthew: Fields already exist.\n",
            "⏩ Skipping Mark: Fields already exist.\n",
            "⏩ Skipping Luke: Fields already exist.\n",
            "⏩ Skipping John: Fields already exist.\n",
            "⏩ Skipping Acts: Fields already exist.\n",
            "⏩ Skipping Romans: Fields already exist.\n",
            "⏩ Skipping 1 Corinthians: Fields already exist.\n",
            "⏩ Skipping 2 Corinthians: Fields already exist.\n",
            "⏩ Skipping Galatians: Fields already exist.\n",
            "⏩ Skipping Ephesians: Fields already exist.\n",
            "⏩ Skipping Philippians: Fields already exist.\n",
            "⏩ Skipping Colossians: Fields already exist.\n",
            "⏩ Skipping 1 Thessalonians: Fields already exist.\n",
            "⏩ Skipping 2 Thessalonians: Fields already exist.\n",
            "⏩ Skipping 1 Timothy: Fields already exist.\n",
            "⏩ Skipping 2 Timothy: Fields already exist.\n",
            "⏩ Skipping Titus: Fields already exist.\n",
            "⏩ Skipping Philemon: Fields already exist.\n",
            "⏩ Skipping Hebrews: Fields already exist.\n",
            "⏩ Skipping James: Fields already exist.\n",
            "⏩ Skipping 1 Peter: Fields already exist.\n",
            "⏩ Skipping 2 Peter: Fields already exist.\n",
            "\n",
            "📜 Raw Gemini response for 1 John (using '1, 2, And 3 John'):\n",
            "```json\n",
            "{\n",
            "  \"overview\": \"1 John is a general letter written by the Apostle John, likely in his old age, to address specific concerns within the church regarding false teaching and assurance of salvation. John emphasizes the importance of living a life characterized by love, obedience, and discernment, contrasting the way of God with the way of the world. He urges believers to examine themselves to ensure they possess genuine faith and encourages them to abide in Christ, walk in the light, and love one another. The letter presents a series of tests by which believers can know that they are truly in fellowship with God, and warns against the heresies of the day.\",\n",
            "  \"key_scriptures\": [\n",
            "    {\n",
            "      \"reference\": \"1 John 1:9\",\n",
            "      \"description\": \"This verse underscores the importance of confession of sins for maintaining fellowship with God, emphasizing that God's forgiveness is continuous for those who confess and seek cleansing.\"\n",
            "    },\n",
            "    {\n",
            "      \"reference\": \"1 John 4:8\",\n",
            "      \"description\": \"This verse establishes a profound truth about God's very nature, declaring that 'God is love,' which reveals the relational and self-giving character of the triune God.\"\n",
            "    },\n",
            "    {\n",
            "      \"reference\": \"1 John 5:13\",\n",
            "      \"description\": \"This verse highlights the purpose of John's writing which is to give believers assurance of their eternal life through faith in Jesus Christ.\"\n",
            "    }\n",
            "  ],\n",
            "  \"theological_context\": \"1 John addresses key theological themes such as the incarnation of Jesus Christ as fully God and fully man, countering early Gnostic heresies that denied the reality of Jesus' physical existence. The letter emphasizes the doctrines of sin, forgiveness, and the importance of obedience and righteous living as evidence of genuine faith. It highlights the nature of God as both light (holy and pure) and love, stressing the necessity of believers to walk in both truth and love. The book also touches upon the doctrine of assurance, offering practical tests to help believers examine their faith and know that they have eternal life.\"\n",
            "}\n",
            "```\n",
            "\n"
          ]
        },
        {
          "output_type": "stream",
          "name": "stderr",
          "text": [
            "\r62it [00:10,  5.95it/s]"
          ]
        },
        {
          "output_type": "stream",
          "name": "stdout",
          "text": [
            "✅ Updated: 1 John (using commentary from '1, 2, And 3 John')\n",
            "\n",
            "📜 Raw Gemini response for 2 John (using '1, 2, And 3 John'):\n",
            "```json\n",
            "{\n",
            "  \"overview\": \"2 John is a brief, personal letter from the Apostle John to a specific woman (possibly named Kyria) and her children. John commends them for walking in truth and warns against showing hospitality to those who deny that Jesus Christ came in the flesh, a Gnostic heresy. He emphasizes the importance of both love and truth, urging discernment and adherence to the foundational teachings of Christ. The letter serves as a practical guide for maintaining sound doctrine and protecting the church from false teachers.\",\n",
            "  \"key_scriptures\": [\n",
            "    {\n",
            "      \"reference\": \"2 John 1:7\",\n",
            "      \"description\": \"Warns against those who deny Jesus Christ came in the flesh. This highlights the importance of the incarnation and refutes Docetism, a heresy prevalent at the time.\"\n",
            "    },\n",
            "    {\n",
            "      \"reference\": \"2 John 1:9\",\n",
            "      \"description\": \"States that anyone who does not abide in the teaching of Christ does not have God, emphasizing the need for doctrinal purity and adherence to the apostolic teaching.\"\n",
            "    },\n",
            "    {\n",
            "      \"reference\": \"2 John 1:10-11\",\n",
            "      \"description\": \"Instructs believers not to receive false teachers into their homes or offer them any greeting, emphasizing the seriousness of protecting the church from heretical influences and the responsibility to guard the truth.\"\n",
            "    }\n",
            "  ],\n",
            "  \"theological_context\": \"2 John addresses the crucial themes of truth, love, and discernment within the early church setting. It underscores the vital doctrine of the incarnation—Jesus Christ’s full humanity and deity—in opposition to Gnostic teachings that denigrated the physical realm. The letter emphasizes the inseparability of love and truth, demonstrating that genuine Christian love necessitates upholding sound doctrine and protecting the church from heresy. Ultimately, 2 John calls believers to walk in obedience to God's commandments and to maintain a firm commitment to the teachings of Christ, resisting the influence of false teachers and preserving the integrity of the faith.\"\n",
            "}\n",
            "```\n",
            "\n"
          ]
        },
        {
          "output_type": "stream",
          "name": "stderr",
          "text": [
            "\r63it [00:19,  2.77it/s]"
          ]
        },
        {
          "output_type": "stream",
          "name": "stdout",
          "text": [
            "✅ Updated: 2 John (using commentary from '1, 2, And 3 John')\n",
            "\n",
            "📜 Raw Gemini response for 3 John (using '1, 2, And 3 John'):\n",
            "```json\n",
            "{\n",
            "  \"overview\": \"3 John is a short, personal letter from the Apostle John to Gaius, commending him for his hospitality towards traveling Christian teachers and missionaries. The letter also serves as a warning against the disruptive behavior of Diotrephes, who opposes John's authority and refuses to welcome fellow believers. John encourages Gaius to continue in his good works and promises to visit him soon. The central theme revolves around the importance of Christian fellowship and supporting those who spread the Gospel.\",\n",
            "  \"key_scriptures\": [\n",
            "    {\n",
            "      \"reference\": \"3 John 1:4\",\n",
            "      \"description\": \"John expresses his joy in hearing that his spiritual children are walking in truth, highlighting the importance of living according to God's Word.\"\n",
            "    },\n",
            "    {\n",
            "      \"reference\": \"3 John 1:11\",\n",
            "      \"description\": \"John urges Gaius to imitate good rather than evil, reinforcing the call to righteous living and discernment.\"\n",
            "    }\n",
            "  ],\n",
            "  \"theological_context\": \"3 John underscores the vital doctrines of Christian love, fellowship, and hospitality within the early church. The letter emphasizes the importance of welcoming and supporting those who are spreading the truth of the Gospel. It implicitly addresses the emerging issue of church leadership and the potential for abuse of authority, while affirming the apostle's role in guiding believers. The letter touches on the concept of Christian character, where actions are a reflection of one's faith and commitment to Christ's teachings.\"\n",
            "}\n",
            "```\n",
            "\n"
          ]
        },
        {
          "output_type": "stream",
          "name": "stderr",
          "text": [
            "66it [00:26,  2.54it/s]"
          ]
        },
        {
          "output_type": "stream",
          "name": "stdout",
          "text": [
            "✅ Updated: 3 John (using commentary from '1, 2, And 3 John')\n",
            "⏩ Skipping Jude: Fields already exist.\n",
            "⏩ Skipping Revelation: Fields already exist.\n"
          ]
        },
        {
          "output_type": "stream",
          "name": "stderr",
          "text": [
            "\n"
          ]
        }
      ]
    },
    {
      "cell_type": "markdown",
      "source": [
        "### Enhancing Theological Concepts with Descriptions and Visual Themes\n",
        "\n",
        "This section processes theological concepts from MongoDB by generating a concise one-sentence summary and selecting thematic colors using Gemini AI. Each concept is normalized into a kebab-case ID, then enriched with a description and two hex color values (primary and accent). The structured outputs are parsed and stored back in MongoDB, supporting better display and categorization of theological data."
      ],
      "metadata": {
        "id": "iXpbXLH1CBS8"
      }
    },
    {
      "cell_type": "code",
      "source": [
        "\n",
        "theology_collection = db[\"theology\"]\n",
        "\n",
        "\n",
        "# ========== NORMALIZE ID FUNCTION ==========\n",
        "def kebab_case(text):\n",
        "    text = text.lower()\n",
        "    text = re.sub(r\"[^\\w\\s-]\", \"\", text)  # Remove punctuation\n",
        "    text = re.sub(r\"\\s+\", \"-\", text.strip())  # Replace spaces with hyphens\n",
        "    return text\n",
        "\n",
        "# === Revised Helper Function to Fix and Parse Gemini Output ===\n",
        "def parse_gemini_json(raw_text: str):\n",
        "    \"\"\"\n",
        "    Extracts, cleans, and parses a JSON object from a raw string from a model.\n",
        "    Handles responses wrapped in markdown backticks and other common LLM artifacts.\n",
        "    \"\"\"\n",
        "    # 1. Extract JSON block from markdown ```json ... ``` or ``` ... ```\n",
        "    match = re.search(r\"```(?:json)?\\s*([\\s\\S]*?)\\s*```\", raw_text, re.DOTALL)\n",
        "\n",
        "    if match:\n",
        "        cleaned_text = match.group(1).strip()\n",
        "    else:\n",
        "        # 2. If no backticks, find the first '{' to the last '}'\n",
        "        # This handles cases where the model returns a raw JSON object without markdown.\n",
        "        start_index = raw_text.find('{')\n",
        "        end_index = raw_text.rfind('}')\n",
        "        if start_index == -1 or end_index == -1:\n",
        "            raise ValueError(\"🛑 No valid JSON object found in the response.\")\n",
        "        cleaned_text = raw_text[start_index : end_index + 1]\n",
        "\n",
        "    # 3. Clean up common formatting issues\n",
        "    # Replace slanted or \"smart\" quotes with standard double quotes\n",
        "    cleaned_text = cleaned_text.replace(\"\"\", '\"').replace(\"\"\", '\"')\n",
        "    # This replacement is left out as it can corrupt apostrophes (e.g., God's)\n",
        "    # cleaned_text = cleaned_text.replace(\"'\", \"'\").replace(\"'\", \"'\")\n",
        "\n",
        "    # Remove trailing commas from lists (e.g., [1, 2, ]) and objects (e.g., {a:1,})\n",
        "    cleaned_text = re.sub(r\",\\s*\\]\", \"]\", cleaned_text)\n",
        "    cleaned_text = re.sub(r\",\\s*}\", \"}\", cleaned_text)\n",
        "\n",
        "    # 4. Attempt to parse the cleaned JSON\n",
        "    try:\n",
        "        return json.loads(cleaned_text)\n",
        "    except json.JSONDecodeError as e:\n",
        "        # If parsing fails, raise a detailed error for easier debugging\n",
        "        error_message = f\"🛑 JSON parsing failed after cleanup: {e}\"\n",
        "        # For debugging, you can uncomment the next line to see the failed text\n",
        "        # print(f\"--- Failed Text ---\\n{cleaned_text}\\n---------------------\")\n",
        "        raise ValueError(error_message) from e\n",
        "\n",
        "# ========== DESCRIPTION PROMPT (UPDATED) ==========\n",
        "DESCRIPTION_PROMPT = \"\"\"\n",
        "You are a theologian and summarizer rooted in Strong commitment to biblical authority and Scripture's central role. Given the following theological concept and its explanation, write a single-sentence description that captures the essence of \"{concept}\".\n",
        "\n",
        "Concept: {concept}\n",
        "\n",
        "Summary:\n",
        "\\\"\\\"\\\"\n",
        "{summary_text}\n",
        "\\\"\\\"\\\"\n",
        "\n",
        "Respond with just one sentence that describes what \"{concept}\" is.\n",
        "\"\"\"\n",
        "\n",
        "# ========== COLOR PROMPT ==========\n",
        "COLOR_PROMPT = \"\"\"\n",
        "You are a creative designer. Based on the theological concept \"{concept}\" and this summary:\n",
        "\n",
        "\\\"\\\"\\\"\n",
        "{summary_text}\n",
        "\\\"\\\"\\\"\n",
        "\n",
        "Suggest two appropriate hex colors:\n",
        "1. A main primary color for the concept (calm, bold, or thematic).\n",
        "2. A related accent color (for emphasis or highlights).\n",
        "\n",
        "Return your response in this JSON format:\n",
        "{{\n",
        "  \"color\": \"#hexvalue\",\n",
        "  \"arcColor\": \"#hexvalue\"\n",
        "}}\n",
        "\"\"\"\n",
        "\n",
        "# ========== MAIN LOOP ==========\n",
        "for doc in tqdm(theology_collection.find()):\n",
        "    concept = doc.get(\"concept\", \"\").strip()\n",
        "    summary_text = doc.get(\"summary\", \"\").strip()\n",
        "\n",
        "    if not concept or not summary_text:\n",
        "        print(f\"⚠️ Skipping document with missing concept or summary.\")\n",
        "        continue\n",
        "\n",
        "    concept_id = kebab_case(concept)\n",
        "\n",
        "    # ---------- 1. Generate One-Sentence Description ----------\n",
        "    try:\n",
        "        desc_prompt = DESCRIPTION_PROMPT.format(concept=concept, summary_text=summary_text)\n",
        "        desc_response = model.generate_content(desc_prompt)\n",
        "        desc_raw = desc_response.text.strip()\n",
        "        print(f\"\\n📜 Description response for {concept}:\\n{desc_raw}\")\n",
        "\n",
        "        # Clean and extract first sentence\n",
        "        desc_cleaned = desc_raw.replace('\"', '').replace(\"'\", \"\").strip()\n",
        "        description = desc_cleaned.split(\".\")[0].strip() + \".\"\n",
        "\n",
        "    except Exception as e:\n",
        "        print(f\"❌ Error generating description for {concept}: {e}\")\n",
        "        continue\n",
        "\n",
        "    # ---------- 2. Generate Colors ----------\n",
        "    try:\n",
        "        color_prompt = COLOR_PROMPT.format(concept=concept, summary_text=summary_text)\n",
        "        color_response = model.generate_content(color_prompt)\n",
        "        color_raw = color_response.text.strip()\n",
        "        print(f\"\\n🎨 Color response for {concept}:\\n{color_raw}\")\n",
        "\n",
        "        # ======== Parse Gemini JSON Safely =========\n",
        "        color_data = parse_gemini_json(color_raw)\n",
        "        color = color_data.get(\"color\", \"#3b82f6\")\n",
        "        arcColor = color_data.get(\"arcColor\", \"#fbbf24\")\n",
        "\n",
        "    except Exception as e:\n",
        "        print(f\"❌ Error generating colors for {concept}: {e}\")\n",
        "        color = \"#3b82f6\"\n",
        "        arcColor = \"#fbbf24\"\n",
        "\n",
        "    # ---------- 3. Update MongoDB ----------\n",
        "    theology_collection.update_one(\n",
        "        {\"_id\": doc[\"_id\"]},\n",
        "        {\"$set\": {\n",
        "            \"id\": concept_id,\n",
        "            \"description\": description,\n",
        "            \"color\": color,\n",
        "            \"arcColor\": arcColor\n",
        "        }}\n",
        "    )\n",
        "    print(f\"✅ Updated: {concept} → {concept_id}\")"
      ],
      "metadata": {
        "colab": {
          "base_uri": "https://localhost:8080/",
          "height": 1000
        },
        "id": "by_I7jE7E2Ll",
        "outputId": "5fafacc6-d69d-49d1-950e-cd7d410fdf54"
      },
      "execution_count": null,
      "outputs": [
        {
          "output_type": "stream",
          "name": "stderr",
          "text": [
            "\r0it [00:00, ?it/s]"
          ]
        },
        {
          "output_type": "stream",
          "name": "stdout",
          "text": [
            "\n",
            "📜 Description response for The Holy Scriptures:\n",
            "The Holy Scriptures are the sixty-six books of the Bible, God's inerrant, infallible, and verbally inspired written revelation to humanity, objectively and propositionally true, and the sole, authoritative rule for faith and practice, to be interpreted literally, grammatically, and historically.\n",
            "\n",
            "🎨 Color response for The Holy Scriptures:\n",
            "```json\n",
            "{\n",
            "  \"color\": \"#2B3A67\",\n",
            "  \"arcColor\": \"#F2D78D\"\n",
            "}\n",
            "```\n"
          ]
        },
        {
          "output_type": "stream",
          "name": "stderr",
          "text": [
            "\r1it [00:05,  5.80s/it]"
          ]
        },
        {
          "output_type": "stream",
          "name": "stdout",
          "text": [
            "✅ Updated: The Holy Scriptures → the-holy-scriptures\n",
            "\n",
            "📜 Description response for God:\n",
            "God is the one infinite, all-knowing Spirit, perfect in all attributes, eternally existing as three co-equal Persons—Father, Son, and Holy Spirit—deserving all worship and obedience, as revealed in Scripture.\n",
            "\n",
            "🎨 Color response for God:\n",
            "```json\n",
            "{\n",
            "  \"color\": \"#3B5998\",\n",
            "  \"arcColor\": \"#FDB827\"\n",
            "}\n",
            "```\n"
          ]
        },
        {
          "output_type": "stream",
          "name": "stderr",
          "text": [
            "\r2it [00:10,  4.93s/it]"
          ]
        },
        {
          "output_type": "stream",
          "name": "stdout",
          "text": [
            "✅ Updated: God → god\n",
            "\n",
            "📜 Description response for God The Father:\n",
            "God the Father, the first person of the Trinity, is the sovereign Creator, sustainer, and ruler of all things, who decreed all things for His glory and graciously adopts believers as His spiritual children through faith in Jesus Christ.\n",
            "\n",
            "🎨 Color response for God The Father:\n",
            "```json\n",
            "{\n",
            "  \"color\": \"#29ABE2\",\n",
            "  \"arcColor\": \"#F9D71C\"\n",
            "}\n",
            "```\n"
          ]
        },
        {
          "output_type": "stream",
          "name": "stderr",
          "text": [
            "\r3it [00:14,  4.70s/it]"
          ]
        },
        {
          "output_type": "stream",
          "name": "stdout",
          "text": [
            "✅ Updated: God The Father → god-the-father\n",
            "\n",
            "📜 Description response for God The Son:\n",
            "God the Son, coequal and coeternal with the Father, is the incarnate Word, fully God and fully man, who willingly offered Himself as a sacrifice for our redemption, was resurrected, and will return to judge the world and establish His eternal kingdom.\n",
            "\n",
            "🎨 Color response for God The Son:\n",
            "```json\n",
            "{\n",
            "  \"color\": \"#1E3A8A\",\n",
            "  \"arcColor\": \"#FCD34D\"\n",
            "}\n",
            "```\n"
          ]
        },
        {
          "output_type": "stream",
          "name": "stderr",
          "text": [
            "\r4it [00:20,  5.30s/it]"
          ]
        },
        {
          "output_type": "stream",
          "name": "stdout",
          "text": [
            "✅ Updated: God The Son → god-the-son\n",
            "\n",
            "📜 Description response for God the Holy Spirit:\n",
            "God the Holy Spirit is the eternal, divine person, coequal with the Father and the Son, who executes God's will in creation, revelation, salvation, and the empowering of believers, ultimately glorifying Christ.\n",
            "\n",
            "🎨 Color response for God the Holy Spirit:\n",
            "```json\n",
            "{\n",
            "  \"color\": \"#66A5AD\",\n",
            "  \"arcColor\": \"#F2D7EE\"\n",
            "}\n",
            "```\n"
          ]
        },
        {
          "output_type": "stream",
          "name": "stderr",
          "text": [
            "\r5it [00:24,  4.89s/it]"
          ]
        },
        {
          "output_type": "stream",
          "name": "stdout",
          "text": [
            "✅ Updated: God the Holy Spirit → god-the-holy-spirit\n",
            "\n",
            "📜 Description response for Man:\n",
            "Created in God's image for fellowship and glorifying Him, man, through Adam's sin, fell into corruption and death, becoming utterly dependent on God's grace for redemption.\n",
            "\n",
            "🎨 Color response for Man:\n",
            "```json\n",
            "{\n",
            "  \"color\": \"#6A89CC\",\n",
            "  \"arcColor\": \"#D4A373\"\n",
            "}\n",
            "```\n"
          ]
        },
        {
          "output_type": "stream",
          "name": "stderr",
          "text": [
            "\r6it [00:28,  4.29s/it]"
          ]
        },
        {
          "output_type": "stream",
          "name": "stdout",
          "text": [
            "✅ Updated: Man → man\n",
            "\n",
            "📜 Description response for Salvation:\n",
            "Salvation is God's gracious gift, rooted in Christ's redemptive sacrifice and shed blood, offered apart from human merit and received through faith.\n",
            "\n",
            "🎨 Color response for Salvation:\n",
            "```json\n",
            "{\n",
            "  \"color\": \"#2E86AB\",\n",
            "  \"arcColor\": \"#F2D7EE\"\n",
            "}\n",
            "```\n"
          ]
        },
        {
          "output_type": "stream",
          "name": "stderr",
          "text": [
            "\r7it [00:30,  3.77s/it]"
          ]
        },
        {
          "output_type": "stream",
          "name": "stdout",
          "text": [
            "✅ Updated: Salvation → salvation\n",
            "\n",
            "📜 Description response for Election:\n",
            "Election is God's gracious, pre-ordained choice in Christ, before the world's creation, to sovereignly regenerate, save, and sanctify a people for Himself, while upholding human responsibility and reflecting His perfect character.\n",
            "\n",
            "🎨 Color response for Election:\n",
            "```json\n",
            "{\n",
            "  \"color\": \"#2B579A\",\n",
            "  \"arcColor\": \"#F0E68C\"\n",
            "}\n",
            "```\n"
          ]
        },
        {
          "output_type": "stream",
          "name": "stderr",
          "text": [
            "\r8it [00:34,  3.77s/it]"
          ]
        },
        {
          "output_type": "stream",
          "name": "stdout",
          "text": [
            "✅ Updated: Election → election\n",
            "\n",
            "📜 Description response for Regeneration:\n",
            "Regeneration is the instantaneous, supernatural work of the Holy Spirit imparting divine life to a repentant sinner who responds in faith to God's Word, resulting in a transformed life evidenced by righteous living and increasing conformity to Christ's image, ultimately culminating in glorification.\n",
            "\n",
            "🎨 Color response for Regeneration:\n",
            "```json\n",
            "{\n",
            "  \"color\": \"#8FBC8F\",\n",
            "  \"arcColor\": \"#F0E68C\"\n",
            "}\n",
            "```\n"
          ]
        },
        {
          "output_type": "stream",
          "name": "stderr",
          "text": [
            "\r9it [00:37,  3.59s/it]"
          ]
        },
        {
          "output_type": "stream",
          "name": "stdout",
          "text": [
            "✅ Updated: Regeneration → regeneration\n",
            "\n",
            "📜 Description response for Justification:\n",
            "Justification is God's gracious act of declaring repentant sinners righteous through faith in Christ, imputing His righteousness to them while bearing their sins.\n",
            "\n",
            "🎨 Color response for Justification:\n",
            "```json\n",
            "{\n",
            "  \"color\": \"#4682B4\",\n",
            "  \"arcColor\": \"#F0E68C\"\n",
            "}\n",
            "```\n"
          ]
        },
        {
          "output_type": "stream",
          "name": "stderr",
          "text": [
            "\r10it [00:40,  3.37s/it]"
          ]
        },
        {
          "output_type": "stream",
          "name": "stdout",
          "text": [
            "✅ Updated: Justification → justification\n",
            "\n",
            "📜 Description response for Sanctification:\n",
            "Sanctification, grounded in justification, is both a positional setting apart unto God, making believers saints, and a progressive, Spirit-led transformation into Christ's likeness through obedience, a lifelong battle against the flesh where complete sinless perfection is unattainable in this life.\n",
            "\n",
            "🎨 Color response for Sanctification:\n",
            "```json\n",
            "{\n",
            "  \"color\": \"#3B7EA5\",\n",
            "  \"arcColor\": \"#F2D7EE\"\n",
            "}\n",
            "```\n"
          ]
        },
        {
          "output_type": "stream",
          "name": "stderr",
          "text": [
            "\r11it [00:43,  3.29s/it]"
          ]
        },
        {
          "output_type": "stream",
          "name": "stdout",
          "text": [
            "✅ Updated: Sanctification → sanctification\n",
            "\n",
            "📜 Description response for Security:\n",
            "Security is the biblically grounded assurance that those truly redeemed are eternally kept by God's power in Christ, a truth that encourages joyful confidence and responsible living, not license for sin.\n",
            "\n",
            "🎨 Color response for Security:\n",
            "```json\n",
            "{\n",
            "  \"color\": \"#2E86AB\",\n",
            "  \"arcColor\": \"#F0E68C\"\n",
            "}\n",
            "```\n"
          ]
        },
        {
          "output_type": "stream",
          "name": "stderr",
          "text": [
            "\r12it [00:46,  3.07s/it]"
          ]
        },
        {
          "output_type": "stream",
          "name": "stdout",
          "text": [
            "✅ Updated: Security → security\n",
            "\n",
            "📜 Description response for Separation:\n",
            "Separation, grounded in gratitude for God's grace and obedience to His commands, is the believer's biblically mandated practice of abstaining from sin, apostasy, and worldliness to demonstrate love for God and pursue holiness in Christ.\n",
            "\n",
            "🎨 Color response for Separation:\n",
            "```json\n",
            "{\n",
            "  \"color\": \"#2E4053\",\n",
            "  \"arcColor\": \"#F4D03F\"\n",
            "}\n",
            "```\n"
          ]
        },
        {
          "output_type": "stream",
          "name": "stderr",
          "text": [
            "\r13it [00:49,  3.04s/it]"
          ]
        },
        {
          "output_type": "stream",
          "name": "stdout",
          "text": [
            "✅ Updated: Separation → separation\n",
            "\n",
            "📜 Description response for The Church:\n",
            "The Church, as revealed in Scripture, is the unified spiritual body of all born-again believers from Pentecost to the rapture, indwelt by the Holy Spirit, with Christ as its head, existing both universally and in local assemblies for the purposes of worship, edification, fellowship, and gospel proclamation, under the authority of Scripture and biblically qualified leaders.\n",
            "\n",
            "🎨 Color response for The Church:\n",
            "```json\n",
            "{\n",
            "  \"color\": \"#2E86AB\",\n",
            "  \"arcColor\": \"#F9D923\"\n",
            "}\n",
            "```\n"
          ]
        },
        {
          "output_type": "stream",
          "name": "stderr",
          "text": [
            "\r14it [00:52,  3.23s/it]"
          ]
        },
        {
          "output_type": "stream",
          "name": "stdout",
          "text": [
            "✅ Updated: The Church → the-church\n"
          ]
        },
        {
          "output_type": "stream",
          "name": "stderr",
          "text": [
            "\r15it [00:53,  2.47s/it]WARNING:tornado.access:429 POST /v1beta/models/gemini-2.0-flash:generateContent?%24alt=json%3Benum-encoding%3Dint (127.0.0.1) 710.40ms\n"
          ]
        },
        {
          "output_type": "stream",
          "name": "stdout",
          "text": [
            "❌ Error generating description for Holy Angels: 429 POST https://generativelanguage.googleapis.com/v1beta/models/gemini-2.0-flash:generateContent?%24alt=json%3Benum-encoding%3Dint: You exceeded your current quota, please check your plan and billing details. For more information on this error, head to: https://ai.google.dev/gemini-api/docs/rate-limits.\n"
          ]
        },
        {
          "output_type": "stream",
          "name": "stderr",
          "text": [
            "\r16it [00:54,  1.98s/it]WARNING:tornado.access:429 POST /v1beta/models/gemini-2.0-flash:generateContent?%24alt=json%3Benum-encoding%3Dint (127.0.0.1) 840.46ms\n"
          ]
        },
        {
          "output_type": "stream",
          "name": "stdout",
          "text": [
            "❌ Error generating description for Fallen Angels: 429 POST https://generativelanguage.googleapis.com/v1beta/models/gemini-2.0-flash:generateContent?%24alt=json%3Benum-encoding%3Dint: You exceeded your current quota, please check your plan and billing details. For more information on this error, head to: https://ai.google.dev/gemini-api/docs/rate-limits.\n"
          ]
        },
        {
          "output_type": "stream",
          "name": "stderr",
          "text": [
            "\r17it [00:55,  1.60s/it]WARNING:tornado.access:429 POST /v1beta/models/gemini-2.0-flash:generateContent?%24alt=json%3Benum-encoding%3Dint (127.0.0.1) 714.28ms\n"
          ]
        },
        {
          "output_type": "stream",
          "name": "stdout",
          "text": [
            "❌ Error generating description for Death: 429 POST https://generativelanguage.googleapis.com/v1beta/models/gemini-2.0-flash:generateContent?%24alt=json%3Benum-encoding%3Dint: You exceeded your current quota, please check your plan and billing details. For more information on this error, head to: https://ai.google.dev/gemini-api/docs/rate-limits.\n"
          ]
        },
        {
          "output_type": "stream",
          "name": "stderr",
          "text": [
            "WARNING:tornado.access:429 POST /v1beta/models/gemini-2.0-flash:generateContent?%24alt=json%3Benum-encoding%3Dint (127.0.0.1) 759.41ms\n",
            "\r18it [00:55,  1.35s/it]"
          ]
        },
        {
          "output_type": "stream",
          "name": "stdout",
          "text": [
            "❌ Error generating description for The Rapture of the Church: 429 POST https://generativelanguage.googleapis.com/v1beta/models/gemini-2.0-flash:generateContent?%24alt=json%3Benum-encoding%3Dint: You exceeded your current quota, please check your plan and billing details. For more information on this error, head to: https://ai.google.dev/gemini-api/docs/rate-limits.\n"
          ]
        },
        {
          "output_type": "stream",
          "name": "stderr",
          "text": [
            "WARNING:tornado.access:429 POST /v1beta/models/gemini-2.0-flash:generateContent?%24alt=json%3Benum-encoding%3Dint (127.0.0.1) 810.66ms\n",
            "\r19it [00:56,  1.19s/it]"
          ]
        },
        {
          "output_type": "stream",
          "name": "stdout",
          "text": [
            "❌ Error generating description for The Tribulation Period: 429 POST https://generativelanguage.googleapis.com/v1beta/models/gemini-2.0-flash:generateContent?%24alt=json%3Benum-encoding%3Dint: You exceeded your current quota, please check your plan and billing details. For more information on this error, head to: https://ai.google.dev/gemini-api/docs/rate-limits.\n"
          ]
        },
        {
          "output_type": "stream",
          "name": "stderr",
          "text": [
            "WARNING:tornado.access:429 POST /v1beta/models/gemini-2.0-flash:generateContent?%24alt=json%3Benum-encoding%3Dint (127.0.0.1) 760.43ms\n",
            "\r20it [00:57,  1.06s/it]"
          ]
        },
        {
          "output_type": "stream",
          "name": "stdout",
          "text": [
            "❌ Error generating description for The Second Coming and the Millennial Reign: 429 POST https://generativelanguage.googleapis.com/v1beta/models/gemini-2.0-flash:generateContent?%24alt=json%3Benum-encoding%3Dint: You exceeded your current quota, please check your plan and billing details. For more information on this error, head to: https://ai.google.dev/gemini-api/docs/rate-limits.\n"
          ]
        },
        {
          "output_type": "stream",
          "name": "stderr",
          "text": [
            "WARNING:tornado.access:429 POST /v1beta/models/gemini-2.0-flash:generateContent?%24alt=json%3Benum-encoding%3Dint (127.0.0.1) 836.35ms\n",
            "\r21it [00:58,  1.00it/s]"
          ]
        },
        {
          "output_type": "stream",
          "name": "stdout",
          "text": [
            "❌ Error generating description for The Judgment of the Lost: 429 POST https://generativelanguage.googleapis.com/v1beta/models/gemini-2.0-flash:generateContent?%24alt=json%3Benum-encoding%3Dint: You exceeded your current quota, please check your plan and billing details. For more information on this error, head to: https://ai.google.dev/gemini-api/docs/rate-limits.\n"
          ]
        },
        {
          "output_type": "stream",
          "name": "stderr",
          "text": [
            "WARNING:tornado.access:429 POST /v1beta/models/gemini-2.0-flash:generateContent?%24alt=json%3Benum-encoding%3Dint (127.0.0.1) 734.77ms\n",
            "22it [00:59,  2.69s/it]"
          ]
        },
        {
          "output_type": "stream",
          "name": "stdout",
          "text": [
            "❌ Error generating description for Eternity: 429 POST https://generativelanguage.googleapis.com/v1beta/models/gemini-2.0-flash:generateContent?%24alt=json%3Benum-encoding%3Dint: You exceeded your current quota, please check your plan and billing details. For more information on this error, head to: https://ai.google.dev/gemini-api/docs/rate-limits.\n"
          ]
        },
        {
          "output_type": "stream",
          "name": "stderr",
          "text": [
            "\n"
          ]
        }
      ]
    },
    {
      "cell_type": "code",
      "source": [
        "\n",
        "theology_collection = db[\"theology\"]\n",
        "\n",
        "\n",
        "# ========== NORMALIZE ID FUNCTION ==========\n",
        "def kebab_case(text):\n",
        "    text = text.lower()\n",
        "    text = re.sub(r\"[^\\w\\s-]\", \"\", text)  # Remove punctuation\n",
        "    text = re.sub(r\"\\s+\", \"-\", text.strip())  # Replace spaces with hyphens\n",
        "    return text\n",
        "\n",
        "# === Revised Helper Function to Fix and Parse Gemini Output ===\n",
        "def parse_gemini_json(raw_text: str):\n",
        "    \"\"\"\n",
        "    Extracts, cleans, and parses a JSON object from a raw string from a model.\n",
        "    Handles responses wrapped in markdown backticks and other common LLM artifacts.\n",
        "    \"\"\"\n",
        "    # 1. Extract JSON block from markdown ```json ... ``` or ``` ... ```\n",
        "    match = re.search(r\"```(?:json)?\\s*([\\s\\S]*?)\\s*```\", raw_text, re.DOTALL)\n",
        "\n",
        "    if match:\n",
        "        cleaned_text = match.group(1).strip()\n",
        "    else:\n",
        "        # 2. If no backticks, find the first '{' to the last '}'\n",
        "        # This handles cases where the model returns a raw JSON object without markdown.\n",
        "        start_index = raw_text.find('{')\n",
        "        end_index = raw_text.rfind('}')\n",
        "        if start_index == -1 or end_index == -1:\n",
        "            raise ValueError(\"🛑 No valid JSON object found in the response.\")\n",
        "        cleaned_text = raw_text[start_index : end_index + 1]\n",
        "\n",
        "    # 3. Clean up common formatting issues\n",
        "    # Replace slanted or \"smart\" quotes with standard double quotes\n",
        "    cleaned_text = cleaned_text.replace(\"\"\", '\"').replace(\"\"\", '\"')\n",
        "    # This replacement is left out as it can corrupt apostrophes (e.g., God's)\n",
        "    # cleaned_text = cleaned_text.replace(\"'\", \"'\").replace(\"'\", \"'\")\n",
        "\n",
        "    # Remove trailing commas from lists (e.g., [1, 2, ]) and objects (e.g., {a:1,})\n",
        "    cleaned_text = re.sub(r\",\\s*\\]\", \"]\", cleaned_text)\n",
        "    cleaned_text = re.sub(r\",\\s*}\", \"}\", cleaned_text)\n",
        "\n",
        "    # 4. Attempt to parse the cleaned JSON\n",
        "    try:\n",
        "        return json.loads(cleaned_text)\n",
        "    except json.JSONDecodeError as e:\n",
        "        # If parsing fails, raise a detailed error for easier debugging\n",
        "        error_message = f\"🛑 JSON parsing failed after cleanup: {e}\"\n",
        "        # For debugging, you can uncomment the next line to see the failed text\n",
        "        # print(f\"--- Failed Text ---\\n{cleaned_text}\\n---------------------\")\n",
        "        raise ValueError(error_message) from e\n",
        "\n",
        "# ========== DESCRIPTION PROMPT (UPDATED) ==========\n",
        "DESCRIPTION_PROMPT = \"\"\"\n",
        "You are a theologian and summarizer rooted in Strong commitment to biblical authority and Scripture's central role. Given the following theological concept and its explanation, write a single-sentence description that captures the essence of \"{concept}\".\n",
        "\n",
        "Concept: {concept}\n",
        "\n",
        "Summary:\n",
        "\\\"\\\"\\\"\n",
        "{summary_text}\n",
        "\\\"\\\"\\\"\n",
        "\n",
        "Respond with just one sentence that describes what \"{concept}\" is.\n",
        "\"\"\"\n",
        "\n",
        "# ========== COLOR PROMPT ==========\n",
        "COLOR_PROMPT = \"\"\"\n",
        "You are a creative designer. Based on the theological concept \"{concept}\" and this summary:\n",
        "\n",
        "\\\"\\\"\\\"\n",
        "{summary_text}\n",
        "\\\"\\\"\\\"\n",
        "\n",
        "Suggest two appropriate hex colors:\n",
        "1. A main primary color for the concept (calm, bold, or thematic).\n",
        "2. A related accent color (for emphasis or highlights).\n",
        "\n",
        "Return your response in this JSON format:\n",
        "{{\n",
        "  \"color\": \"#hexvalue\",\n",
        "  \"arcColor\": \"#hexvalue\"\n",
        "}}\n",
        "\"\"\"\n",
        "\n",
        "# ========== MAIN LOOP ==========\n",
        "for doc in tqdm(theology_collection.find()):\n",
        "    concept = doc.get(\"concept\", \"\").strip()\n",
        "    summary_text = doc.get(\"summary\", \"\").strip()\n",
        "\n",
        "    if not concept or not summary_text:\n",
        "        print(f\"⚠️ Skipping document with missing concept or summary.\")\n",
        "        continue\n",
        "\n",
        "    concept_id = kebab_case(concept)\n",
        "\n",
        "    # ---------- Check if document already has all required fields ----------\n",
        "    if (doc.get(\"id\") and doc.get(\"description\") and\n",
        "        doc.get(\"color\") and doc.get(\"arcColor\")):\n",
        "        print(f\"⏭️ Skipping {concept} - already has all fields\")\n",
        "        continue\n",
        "\n",
        "    # ---------- 1. Generate One-Sentence Description ----------\n",
        "    try:\n",
        "        desc_prompt = DESCRIPTION_PROMPT.format(concept=concept, summary_text=summary_text)\n",
        "        desc_response = model.generate_content(desc_prompt)\n",
        "        desc_raw = desc_response.text.strip()\n",
        "        print(f\"\\n📜 Description response for {concept}:\\n{desc_raw}\")\n",
        "\n",
        "        # Clean and extract first sentence\n",
        "        desc_cleaned = desc_raw.replace('\"', '').replace(\"'\", \"\").strip()\n",
        "        description = desc_cleaned.split(\".\")[0].strip() + \".\"\n",
        "\n",
        "    except Exception as e:\n",
        "        print(f\"❌ Error generating description for {concept}: {e}\")\n",
        "        continue\n",
        "\n",
        "    # ---------- 2. Generate Colors ----------\n",
        "    try:\n",
        "        color_prompt = COLOR_PROMPT.format(concept=concept, summary_text=summary_text)\n",
        "        color_response = model.generate_content(color_prompt)\n",
        "        color_raw = color_response.text.strip()\n",
        "        print(f\"\\n🎨 Color response for {concept}:\\n{color_raw}\")\n",
        "\n",
        "        # ======== Parse Gemini JSON Safely =========\n",
        "        color_data = parse_gemini_json(color_raw)\n",
        "        color = color_data.get(\"color\", \"#3b82f6\")\n",
        "        arcColor = color_data.get(\"arcColor\", \"#fbbf24\")\n",
        "\n",
        "    except Exception as e:\n",
        "        print(f\"❌ Error generating colors for {concept}: {e}\")\n",
        "        color = \"#3b82f6\"\n",
        "        arcColor = \"#fbbf24\"\n",
        "\n",
        "    # ---------- 3. Update MongoDB ----------\n",
        "    theology_collection.update_one(\n",
        "        {\"_id\": doc[\"_id\"]},\n",
        "        {\"$set\": {\n",
        "            \"id\": concept_id,\n",
        "            \"description\": description,\n",
        "            \"color\": color,\n",
        "            \"arcColor\": arcColor\n",
        "        }}\n",
        "    )\n",
        "    print(f\"✅ Updated: {concept} → {concept_id}\")"
      ],
      "metadata": {
        "colab": {
          "base_uri": "https://localhost:8080/",
          "height": 627
        },
        "id": "uh5qgHYZFW64",
        "outputId": "9c604cca-88fc-425a-8915-fa5c6ddb8c6f"
      },
      "execution_count": null,
      "outputs": [
        {
          "output_type": "stream",
          "name": "stderr",
          "text": [
            "1it [00:00,  1.42it/s]"
          ]
        },
        {
          "output_type": "stream",
          "name": "stdout",
          "text": [
            "⏭️ Skipping The Holy Scriptures - already has all fields\n",
            "⏭️ Skipping God - already has all fields\n",
            "⏭️ Skipping God The Father - already has all fields\n",
            "⏭️ Skipping God The Son - already has all fields\n",
            "⏭️ Skipping God the Holy Spirit - already has all fields\n",
            "⏭️ Skipping Man - already has all fields\n",
            "⏭️ Skipping Salvation - already has all fields\n",
            "⏭️ Skipping Election - already has all fields\n",
            "⏭️ Skipping Regeneration - already has all fields\n",
            "⏭️ Skipping Justification - already has all fields\n",
            "⏭️ Skipping Sanctification - already has all fields\n",
            "⏭️ Skipping Security - already has all fields\n",
            "⏭️ Skipping Separation - already has all fields\n",
            "⏭️ Skipping The Church - already has all fields\n",
            "⏭️ Skipping Holy Angels - already has all fields\n",
            "⏭️ Skipping Fallen Angels - already has all fields\n",
            "⏭️ Skipping Death - already has all fields\n",
            "⏭️ Skipping The Rapture of the Church - already has all fields\n",
            "⏭️ Skipping The Tribulation Period - already has all fields\n",
            "⏭️ Skipping The Second Coming and the Millennial Reign - already has all fields\n",
            "⏭️ Skipping The Judgment of the Lost - already has all fields\n",
            "\n",
            "📜 Description response for Eternity:\n",
            "Eternity, as revealed in Scripture, is the unending state of perfect fellowship with the Triune God in a new heaven and earth, characterized by righteousness and the saints' everlasting dwelling in the heavenly city after Christ's redemptive work is complete and the Father reigns supreme.\n",
            "\n",
            "🎨 Color response for Eternity:\n",
            "```json\n",
            "{\n",
            "  \"color\": \"#A0CED9\",\n",
            "  \"arcColor\": \"#F2D7EE\"\n",
            "}\n",
            "```\n"
          ]
        },
        {
          "output_type": "stream",
          "name": "stderr",
          "text": [
            "22it [00:07,  3.06it/s]"
          ]
        },
        {
          "output_type": "stream",
          "name": "stdout",
          "text": [
            "✅ Updated: Eternity → eternity\n"
          ]
        },
        {
          "output_type": "stream",
          "name": "stderr",
          "text": [
            "\n"
          ]
        }
      ]
    },
    {
      "cell_type": "markdown",
      "source": [
        "### Standardizing Book Names in Reference Statistics\n",
        "\n",
        "This section ensures consistency in Bible book references by mapping abbreviations (e.g., *Gen.*) to their full canonical names (e.g., *Genesis*). It scans all theology documents, applies the `book_alias_map` to normalize keys in the `book_reference_stats` field, merges duplicates, and updates the database only if changes are detected."
      ],
      "metadata": {
        "id": "VTB_Pr0NB5Na"
      }
    },
    {
      "cell_type": "code",
      "source": [
        "\n",
        "\n",
        "collection = db[\"theology\"]\n",
        "\n",
        "# Abbreviation to canonical name mapping\n",
        "book_alias_map = {\n",
        "    'Gen.': 'Genesis',\n",
        "    'Ex.': 'Exodus',\n",
        "    'Lev.': 'Leviticus',\n",
        "    'Num.': 'Numbers',\n",
        "    'Deut.': 'Deuteronomy',\n",
        "    'Josh.': 'Joshua',\n",
        "    'Judg.': 'Judges',\n",
        "    '1 Sam.': '1 Samuel',\n",
        "    '2 Sam.': '2 Samuel',\n",
        "    '1 Kings': '1 Kings',\n",
        "    '2 Kings': '2 Kings',\n",
        "    '1 Chron.': '1 Chronicles',\n",
        "    '2 Chron.': '2 Chronicles',\n",
        "    'Ezra': 'Ezra',\n",
        "    'Neh.': 'Nehemiah',\n",
        "    'Est.': 'Esther',\n",
        "    'Job': 'Job',\n",
        "    'Ps.': 'Psalms',\n",
        "    'Psalm': 'Psalms',\n",
        "    'Psalms': 'Psalms',\n",
        "    'Prov.': 'Proverbs',\n",
        "    'Eccl.': 'Ecclesiastes',\n",
        "    'Song of Sol.': 'Song of Solomon',\n",
        "    'Isa.': 'Isaiah',\n",
        "    'Jer.': 'Jeremiah',\n",
        "    'Lam.': 'Lamentations',\n",
        "    'Ezek.': 'Ezekiel',\n",
        "    'Dan.': 'Daniel',\n",
        "    'Hos.': 'Hosea',\n",
        "    'Joel': 'Joel',\n",
        "    'Amos': 'Amos',\n",
        "    'Obad.': 'Obadiah',\n",
        "    'Jonah': 'Jonah',\n",
        "    'Mic.': 'Micah',\n",
        "    'Nah.': 'Nahum',\n",
        "    'Hab.': 'Habakkuk',\n",
        "    'Zech.': 'Zechariah',\n",
        "    'Zeph.': 'Zephaniah',\n",
        "    'Hag.': 'Haggai',\n",
        "    'Mal.': 'Malachi',\n",
        "    'Matt.': 'Matthew',\n",
        "    'Mark': 'Mark',\n",
        "    'Luke': 'Luke',\n",
        "    'John': 'John',\n",
        "    'Acts': 'Acts',\n",
        "    'Rom.': 'Romans',\n",
        "    '1 Cor.': '1 Corinthians',\n",
        "    '2 Cor.': '2 Corinthians',\n",
        "    'Gal.': 'Galatians',\n",
        "    'Eph.': 'Ephesians',\n",
        "    'Phil.': 'Philippians',\n",
        "    'Col.': 'Colossians',\n",
        "    '1 Thess.': '1 Thessalonians',\n",
        "    '2 Thess.': '2 Thessalonians',\n",
        "    '1 Tim.': '1 Timothy',\n",
        "    '2 Tim.': '2 Timothy',\n",
        "    'Titus': 'Titus',\n",
        "    'Philem.': 'Philemon',\n",
        "    'Heb.': 'Hebrews',\n",
        "    'James': 'James',\n",
        "    '1 Pet.': '1 Peter',\n",
        "    '2 Pet.': '2 Peter',\n",
        "    '1 John': '1 John',\n",
        "    '2 John': '2 John',\n",
        "    '3 John': '3 John',\n",
        "    'Jude': 'Jude',\n",
        "    'Rev.': 'Revelation'\n",
        "}\n",
        "\n",
        "# Go through each document in the collection\n",
        "for doc in collection.find({}, {\"book_reference_stats\": 1}):\n",
        "    original = doc.get(\"book_reference_stats\", {})\n",
        "    updated = {}\n",
        "\n",
        "    changed = False\n",
        "    for key, value in original.items():\n",
        "        # Map to canonical name\n",
        "        new_key = book_alias_map.get(key, key)\n",
        "        if new_key in updated:\n",
        "            updated[new_key] += value  # Combine stats if duplicate canonical name\n",
        "        else:\n",
        "            updated[new_key] = value\n",
        "        if new_key != key:\n",
        "            changed = True\n",
        "\n",
        "    # If changes occurred, update the document\n",
        "    if changed:\n",
        "        collection.update_one(\n",
        "            {\"_id\": doc[\"_id\"]},\n",
        "            {\"$set\": {\"book_reference_stats\": updated}}\n",
        "        )\n",
        "        print(f\"Updated document {doc['_id']} with standardized book names.\")\n",
        "print(\"✅ All applicable documents have been updated.\")"
      ],
      "metadata": {
        "colab": {
          "base_uri": "https://localhost:8080/"
        },
        "id": "i-oBHU5rA7C-",
        "outputId": "0d2b48cc-6f84-4a5f-ed0a-aafc1c48d6ca"
      },
      "execution_count": null,
      "outputs": [
        {
          "output_type": "stream",
          "name": "stdout",
          "text": [
            "Updated document 684c15ecdc45f4c1ffcbf3a7 with standardized book names.\n",
            "Updated document 684c1613dc45f4c1ffcbf3a8 with standardized book names.\n",
            "Updated document 684c1662dc45f4c1ffcbf3a9 with standardized book names.\n",
            "Updated document 684c16f5dc45f4c1ffcbf3ac with standardized book names.\n",
            "Updated document 684c1755dc45f4c1ffcbf3ae with standardized book names.\n",
            "Updated document 684c1798dc45f4c1ffcbf3b0 with standardized book names.\n",
            "Updated document 684c1d15dc45f4c1ffcbf3b9 with standardized book names.\n",
            "✅ All applicable documents have been updated.\n"
          ]
        }
      ]
    },
    {
      "cell_type": "code",
      "source": [
        "\n",
        "collection = db[\"theology\"]\n",
        "\n",
        "# Initialize a set to collect unique keys\n",
        "unique_books = set()\n",
        "\n",
        "# Iterate through all documents\n",
        "for doc in collection.find({}, {\"book_reference_stats\": 1}):\n",
        "    if \"book_reference_stats\" in doc:\n",
        "        unique_books.update(doc[\"book_reference_stats\"].keys())\n",
        "\n",
        "# Convert to sorted list and print\n",
        "unique_books = sorted(unique_books)\n",
        "print(unique_books)"
      ],
      "metadata": {
        "colab": {
          "base_uri": "https://localhost:8080/"
        },
        "id": "wXwaiACa_n4G",
        "outputId": "bfb50a51-3636-4cfa-b5b1-b8ca47d86185"
      },
      "execution_count": null,
      "outputs": [
        {
          "output_type": "stream",
          "name": "stdout",
          "text": [
            "['1 Chronicles', '1 Corinthians', '1 John', '1 Peter', '1 Thessalonians', '1 Timothy', '2 Corinthians', '2 John', '2 Peter', '2 Thessalonians', '2 Timothy', 'Acts', 'Colossians', 'Daniel', 'Deuteronomy', 'Ephesians', 'Exodus', 'Ezekiel', 'Galatians', 'Genesis', 'Habakkuk', 'Hebrews', 'Isaiah', 'James', 'Jeremiah', 'John', 'Jude', 'Luke', 'Matthew', 'Micah', 'Philippians', 'Psalms', 'Revelation', 'Romans', 'Titus', 'Zechariah']\n"
          ]
        }
      ]
    },
    {
      "cell_type": "markdown",
      "source": [
        "### Linking Theological Concepts to Biblical Books and Events\n",
        "\n",
        "This section enriches each theological concept by identifying related biblical books and assigning prominence based on reference frequency. It then uses Gemini to generate key biblical events linked to each concept. The script matches book names from a separate collection, maps prominence scores (1–5), fetches 2–4 major events, and stores the structured `connections` data—including book ID, prominence, and events—back into MongoDB."
      ],
      "metadata": {
        "id": "jEP_NJeBM_yd"
      }
    },
    {
      "cell_type": "code",
      "source": [
        "\n",
        "theology_collection = db[\"theology\"]\n",
        "books_collection = db[\"books\"]\n",
        "import time\n",
        "import re\n",
        "import json\n",
        "from tqdm import tqdm\n",
        "\n",
        "\n",
        "# ========== PROMPT FOR EVENTS ==========\n",
        "EVENT_PROMPT = \"\"\"\n",
        "You are a biblical scholar rooted in strong commitment to biblical authority and Scripture's central role. Based on the following theological concept, its summary, and the specific biblical book, identify 2–4 biblical events or milestones from that book that are strongly associated with this concept. These events should correspond to what the Bible says in that specific book or what the concept implies within that book's context.\n",
        "Just state the event no explanation or description should be added.\n",
        "\n",
        "Concept: \"{concept}\"\n",
        "Biblical Book: \"{book_name}\"\n",
        "\n",
        "Summary:\n",
        "\\\"\\\"\\\"\n",
        "{summary}\n",
        "\\\"\\\"\\\"\n",
        "\n",
        "Return your answer in this JSON format as in this example:\n",
        "{{\n",
        "  \"events\": [\n",
        "    \"The Giving of the Law at Mount Sinai\",\n",
        "    \"Event 2\",\n",
        "    \"...\"\n",
        "  ]\n",
        "}}\n",
        "\"\"\"\n",
        "\n",
        "# ========== ENHANCED JSON PARSER ==========\n",
        "def parse_gemini_json(raw_text: str):\n",
        "    \"\"\"\n",
        "    Extracts, cleans, and parses a JSON object from a raw string from a model.\n",
        "    Handles responses wrapped in markdown backticks and other common LLM artifacts.\n",
        "    \"\"\"\n",
        "    # 1. Extract JSON block from markdown ```json ... ``` or ``` ... ```\n",
        "    match = re.search(r\"```(?:json)?\\s*([\\s\\S]*?)\\s*```\", raw_text, re.DOTALL)\n",
        "\n",
        "    if match:\n",
        "        cleaned_text = match.group(1).strip()\n",
        "    else:\n",
        "        # 2. If no backticks, find the first '{' to the last '}'\n",
        "        # This handles cases where the model returns a raw JSON object without markdown.\n",
        "        start_index = raw_text.find('{')\n",
        "        end_index = raw_text.rfind('}')\n",
        "        if start_index == -1 or end_index == -1:\n",
        "            raise ValueError(\"🛑 No valid JSON object found in the response.\")\n",
        "        cleaned_text = raw_text[start_index : end_index + 1]\n",
        "\n",
        "    # 3. Clean up common formatting issues\n",
        "    # Replace slanted or \"smart\" quotes with standard double quotes\n",
        "    cleaned_text = cleaned_text.replace(\"\"\", '\"').replace(\"\"\", '\"')\n",
        "    # This replacement is left out as it can corrupt apostrophes (e.g., God's)\n",
        "    # cleaned_text = cleaned_text.replace(\"'\", \"'\").replace(\"'\", \"'\")\n",
        "\n",
        "    # Remove trailing commas from lists (e.g., [1, 2, ]) and objects (e.g., {a:1,})\n",
        "    cleaned_text = re.sub(r\",\\s*\\]\", \"]\", cleaned_text)\n",
        "    cleaned_text = re.sub(r\",\\s*}\", \"}\", cleaned_text)\n",
        "\n",
        "    # 4. Attempt to parse the cleaned JSON\n",
        "    try:\n",
        "        return json.loads(cleaned_text)\n",
        "    except json.JSONDecodeError as e:\n",
        "        # If parsing fails, raise a detailed error for easier debugging\n",
        "        error_message = f\"🛑 JSON parsing failed after cleanup: {e}\"\n",
        "        # For debugging, you can uncomment the next line to see the failed text\n",
        "        # print(f\"--- Failed Text ---\\n{cleaned_text}\\n---------------------\")\n",
        "        raise ValueError(error_message) from e\n",
        "\n",
        "# ========== PERCENTAGE → PROMINENCE CONVERSION ==========\n",
        "def percent_to_prominence(percent):\n",
        "    return max(1, min(5, round(percent / 20)))  # ensures values between 1 and 5\n",
        "\n",
        "# ========== MAIN PROCESS ==========\n",
        "for doc in tqdm(theology_collection.find()):\n",
        "    concept = doc.get(\"concept\", \"\").strip()\n",
        "    summary = doc.get(\"summary\", \"\").strip()\n",
        "    ref_stats = doc.get(\"book_reference_stats\", {})\n",
        "\n",
        "    if not concept or not summary or not ref_stats:\n",
        "        print(f\"⚠️ Skipping {concept or 'unnamed'} due to missing data.\")\n",
        "        continue\n",
        "\n",
        "    # === 1. Build Book Connections with Book-Specific Events ===\n",
        "    connections = []\n",
        "    for book_name, percent in ref_stats.items():\n",
        "        book = books_collection.find_one({ \"name\": {\"$regex\": f\"^{re.escape(book_name)}$\", \"$options\": \"i\"} })\n",
        "        if not book:\n",
        "            print(f\"⚠️ Book not found: {book_name}\")\n",
        "            continue\n",
        "\n",
        "        book_id = book[\"id\"]\n",
        "        prominence = percent_to_prominence(percent)\n",
        "\n",
        "        # === 2. Generate Book-Specific Events with Retry Logic ===\n",
        "        events = []\n",
        "        max_retries = 5\n",
        "        base_delay = 60  # Start with 60 seconds\n",
        "\n",
        "        for attempt in range(max_retries):\n",
        "            try:\n",
        "                prompt = EVENT_PROMPT.format(concept=concept, book_name=book_name, summary=summary)\n",
        "                response = model.generate_content(prompt)\n",
        "                print(f\"\\n📜 Gemini event response for {concept} in {book_name}:\\n{response.text.strip()}\")\n",
        "\n",
        "                parsed = parse_gemini_json(response.text)\n",
        "                events = parsed.get(\"events\", [])\n",
        "                break  # Success, exit retry loop\n",
        "\n",
        "            except Exception as e:\n",
        "                error_str = str(e)\n",
        "                if \"429\" in error_str or \"quota\" in error_str.lower() or \"rate\" in error_str.lower():\n",
        "                    # Rate limit or quota error - retry with exponential backoff\n",
        "                    delay = base_delay * (2 ** attempt)  # Exponential backoff\n",
        "                    print(f\"⏳ Rate limit hit for {concept} in {book_name}. Attempt {attempt + 1}/{max_retries}. Waiting {delay} seconds...\")\n",
        "                    time.sleep(delay)\n",
        "\n",
        "                    if attempt == max_retries - 1:\n",
        "                        print(f\"❌ Max retries reached for {concept} in {book_name}. Skipping this book.\")\n",
        "                        events = []\n",
        "                else:\n",
        "                    # Other error - don't retry\n",
        "                    print(f\"❌ Error generating events for {concept} in {book_name}: {e}\")\n",
        "                    events = []\n",
        "                    break\n",
        "\n",
        "        connections.append({\n",
        "            \"bookId\": book_id,\n",
        "            \"prominence\": prominence,\n",
        "            \"events\": events\n",
        "        })\n",
        "\n",
        "    if not connections:\n",
        "        print(f\"⚠️ No valid books found for {concept}\")\n",
        "        continue\n",
        "\n",
        "    # === 3. Update Theology Document ===\n",
        "    theology_collection.update_one(\n",
        "        {\"_id\": doc[\"_id\"]},\n",
        "        {\"$set\": {\"connections\": connections}}\n",
        "    )\n",
        "\n",
        "    print(f\"✅ Updated connections for: {concept}\")\n",
        "    print(f\"   📚 Processed {len(connections)} books with book-specific events\")"
      ],
      "metadata": {
        "colab": {
          "base_uri": "https://localhost:8080/",
          "height": 1000
        },
        "id": "YKn1wSE8M--K",
        "outputId": "bbfd8437-c240-48d0-f00e-7402edf23b06"
      },
      "execution_count": null,
      "outputs": [
        {
          "output_type": "stream",
          "name": "stderr",
          "text": [
            "\r0it [00:00, ?it/s]"
          ]
        },
        {
          "output_type": "stream",
          "name": "stdout",
          "text": [
            "\n",
            "📜 Gemini event response for The Holy Scriptures in 1 Corinthians:\n",
            "```json\n",
            "{\n",
            "  \"events\": [\n",
            "    \"Paul's appeal to the Corinthian's understanding of the gospel he preached\",\n",
            "    \"Paul's emphasis on the spiritual gifts given to the church\",\n",
            "    \"Paul's teaching on the resurrection of Christ and its implications\",\n",
            "    \"Paul's correction of various disorders within the Corinthian church\"\n",
            "  ]\n",
            "}\n",
            "```\n",
            "\n",
            "📜 Gemini event response for The Holy Scriptures in 2 Peter:\n",
            "```json\n",
            "{\n",
            "  \"events\": [\n",
            "    \"Peter's eyewitness account of the Transfiguration\",\n",
            "    \"Prophecy coming from God\",\n",
            "    \"Warning against false teachers distorting Scripture\"\n",
            "  ]\n",
            "}\n",
            "```\n",
            "\n",
            "📜 Gemini event response for The Holy Scriptures in 1 Thessalonians:\n",
            "```json\n",
            "{\n",
            "  \"events\": [\n",
            "    \"Paul's preaching received as the word of God.\",\n",
            "    \"Exhortation to remember the teachings and traditions received.\",\n",
            "    \"Instruction concerning sexual purity.\",\n",
            "    \"Encouragement and instruction regarding brotherly love and orderly living.\"\n",
            "  ]\n",
            "}\n",
            "```\n",
            "\n",
            "📜 Gemini event response for The Holy Scriptures in 2 Timothy:\n",
            "```json\n",
            "{\n",
            "  \"events\": [\n",
            "    \"Paul's charge to Timothy to guard the deposit.\",\n",
            "    \"Paul's exhortation to Timothy to continue in what he has learned.\",\n",
            "    \"The description of Scripture as God-breathed (theopneustos).\",\n",
            "    \"The equipping power of Scripture for teaching, rebuking, correcting, and training in righteousness.\"\n",
            "  ]\n",
            "}\n",
            "```\n",
            "\n",
            "📜 Gemini event response for The Holy Scriptures in Genesis:\n",
            "```json\n",
            "{\n",
            "  \"events\": [\n",
            "    \"The Creation account in six days\",\n",
            "    \"God's covenant with Noah after the flood\",\n",
            "    \"God's command to Abraham to sacrifice Isaac\",\n",
            "    \"God's promise to Abraham of numerous descendants\"\n",
            "  ]\n",
            "}\n",
            "```\n",
            "\n",
            "📜 Gemini event response for The Holy Scriptures in Exodus:\n",
            "```json\n",
            "{\n",
            "  \"events\": [\n",
            "    \"The Ten Commandments written on stone tablets\",\n",
            "    \"God's instructions for the Tabernacle\",\n",
            "    \"God speaking to Moses from the burning bush\"\n",
            "  ]\n",
            "}\n",
            "```\n",
            "\n",
            "📜 Gemini event response for The Holy Scriptures in Matthew:\n",
            "```json\n",
            "{\n",
            "  \"events\": [\n",
            "    \"The temptation of Jesus in the wilderness\",\n",
            "    \"Jesus' Sermon on the Mount\",\n",
            "    \"Jesus' declaration that not one iota will pass from the Law until all is accomplished\",\n",
            "    \"Jesus fulfilling the Old Testament prophecies\"\n",
            "  ]\n",
            "}\n",
            "```\n",
            "\n",
            "📜 Gemini event response for The Holy Scriptures in John:\n",
            "```json\n",
            "{\n",
            "  \"events\": [\n",
            "    \"John's Prologue: The Word Made Flesh\",\n",
            "    \"Jesus' Claim to be One with the Father (divinity)\",\n",
            "    \"Jesus' Promise of the Holy Spirit as a Guide to Truth\",\n",
            "    \"Jesus' High Priestly Prayer for His Disciples and Future Believers\"\n",
            "  ]\n",
            "}\n",
            "```\n",
            "\n",
            "📜 Gemini event response for The Holy Scriptures in Hebrews:\n",
            "```json\n",
            "{\n",
            "  \"events\": [\n",
            "    \"The Faith of Abraham\",\n",
            "    \"The Day of Atonement\",\n",
            "    \"The Sabbath Rest\",\n",
            "    \"The Superiority of Christ's Covenant\"\n",
            "  ]\n",
            "}\n",
            "```\n",
            "\n",
            "📜 Gemini event response for The Holy Scriptures in 1 John:\n",
            "```json\n",
            "{\n",
            "  \"events\": [\n",
            "    \"God is Light and in Him there is no darkness at all.\",\n",
            "    \"Jesus Christ came in the flesh.\",\n",
            "    \"God is love.\",\n",
            "    \"The anointing from the Holy One teaches all things.\"\n",
            "  ]\n",
            "}\n",
            "```\n"
          ]
        },
        {
          "output_type": "stream",
          "name": "stderr",
          "text": [
            "\r1it [00:21, 21.80s/it]"
          ]
        },
        {
          "output_type": "stream",
          "name": "stdout",
          "text": [
            "✅ Updated connections for: The Holy Scriptures\n",
            "   📚 Processed 10 books with book-specific events\n",
            "\n",
            "📜 Gemini event response for God in Deuteronomy:\n",
            "```json\n",
            "{\n",
            "  \"events\": [\n",
            "    \"The Giving of the Law at Mount Horeb\",\n",
            "    \"The Shema: \\\"Hear, O Israel: The Lord our God, the Lord is one.\\\"\",\n",
            "    \"Moses' final blessing on the tribes of Israel\"\n",
            "  ]\n",
            "}\n",
            "```\n",
            "\n",
            "📜 Gemini event response for God in Isaiah:\n",
            "```json\n",
            "{\n",
            "  \"events\": [\n",
            "    \"Isaiah's Vision of God in the Temple (Isaiah 6)\",\n",
            "    \"The prophecy of the Messiah as Immanuel (Isaiah 7:14)\",\n",
            "    \"God's sovereignty over nations, including Cyrus (Isaiah 45)\",\n",
            "    \"The Suffering Servant (Isaiah 53)\"\n",
            "  ]\n",
            "}\n",
            "```\n",
            "\n",
            "📜 Gemini event response for God in John:\n",
            "```json\n",
            "{\n",
            "  \"events\": [\n",
            "    \"The Word becoming flesh (Jesus)\",\n",
            "    \"Jesus's claim to be one with the Father\",\n",
            "    \"Jesus's promise of the Holy Spirit\"\n",
            "  ]\n",
            "}\n",
            "```\n",
            "\n",
            "📜 Gemini event response for God in Matthew:\n",
            "```json\n",
            "{\n",
            "  \"events\": [\n",
            "    \"The Baptism of Jesus\",\n",
            "    \"The Transfiguration\",\n",
            "    \"The Great Commission\",\n",
            "    \"Jesus' claim to be the Son of God\"\n",
            "  ]\n",
            "}\n",
            "```\n",
            "\n",
            "📜 Gemini event response for God in 2 Corinthians:\n",
            "```json\n",
            "{\n",
            "  \"events\": [\n",
            "    \"Paul's Apostleship by God's Will\",\n",
            "    \"God's Comfort in Affliction\",\n",
            "    \"The Ministry of Reconciliation Through Christ\",\n",
            "    \"God's Power Displayed in Weakness\"\n",
            "  ]\n",
            "}\n",
            "```\n",
            "\n",
            "📜 Gemini event response for God in 1 Corinthians:\n",
            "```json\n",
            "{\n",
            "  \"events\": [\n",
            "    \"Paul's appeal to God's wisdom versus human wisdom\",\n",
            "    \"The affirmation of Jesus Christ as Lord\",\n",
            "    \"The role of the Holy Spirit in spiritual gifts\",\n",
            "    \"The doctrine of the Trinity implied in the benediction\"\n",
            "  ]\n",
            "}\n",
            "```\n"
          ]
        },
        {
          "output_type": "stream",
          "name": "stderr",
          "text": [
            "\r2it [00:31, 14.94s/it]"
          ]
        },
        {
          "output_type": "stream",
          "name": "stdout",
          "text": [
            "✅ Updated connections for: God\n",
            "   📚 Processed 6 books with book-specific events\n",
            "\n",
            "📜 Gemini event response for God The Father in Genesis:\n",
            "```json\n",
            "{\n",
            "  \"events\": [\n",
            "    \"The Creation of the Heavens and the Earth\",\n",
            "    \"God's Covenant with Noah after the Flood\",\n",
            "    \"God's Covenant with Abraham\",\n",
            "    \"God Testing Abraham's Faith with Isaac\"\n",
            "  ]\n",
            "}\n",
            "```\n",
            "\n",
            "📜 Gemini event response for God The Father in Ephesians:\n",
            "```json\n",
            "{\n",
            "  \"events\": [\n",
            "    \"Predestination and adoption as sons through Jesus Christ\",\n",
            "    \"Creation of all things through Jesus Christ\",\n",
            "    \"The Father's good pleasure and will in all things\"\n",
            "  ]\n",
            "}\n",
            "```\n"
          ]
        },
        {
          "output_type": "stream",
          "name": "stderr",
          "text": [
            "WARNING:tornado.access:429 POST /v1beta/models/gemini-2.0-flash:generateContent?%24alt=json%3Benum-encoding%3Dint (127.0.0.1) 661.37ms\n"
          ]
        },
        {
          "output_type": "stream",
          "name": "stdout",
          "text": [
            "⏳ Rate limit hit for God The Father in John. Attempt 1/5. Waiting 60 seconds...\n",
            "\n",
            "📜 Gemini event response for God The Father in John:\n",
            "```json\n",
            "{\n",
            "  \"events\": [\n",
            "    \"Jesus' Baptism\",\n",
            "    \"Jesus' frequent references to 'My Father'\",\n",
            "    \"Jesus' prayer in the Garden of Gethsemane\",\n",
            "    \"Jesus' statement 'I and the Father are one'\"\n",
            "  ]\n",
            "}\n",
            "```\n",
            "\n",
            "📜 Gemini event response for God The Father in Romans:\n",
            "```json\n",
            "{\n",
            "  \"events\": [\n",
            "    \"God sending His Son, Jesus Christ\",\n",
            "    \"Justification by Faith\",\n",
            "    \"Adoption as Sons\",\n",
            "    \"God's Sovereignty in Election\"\n",
            "  ]\n",
            "}\n",
            "```\n",
            "\n",
            "📜 Gemini event response for God The Father in Galatians:\n",
            "```json\n",
            "{\n",
            "  \"events\": [\n",
            "    \"Sending forth His Son, Jesus Christ\",\n",
            "    \"Redemption from the Law through Adoption\",\n",
            "    \"Sending the Spirit of His Son into our hearts\"\n",
            "  ]\n",
            "}\n",
            "```\n",
            "\n",
            "📜 Gemini event response for God The Father in Hebrews:\n",
            "```json\n",
            "{\n",
            "  \"events\": [\n",
            "    \"God's rest on the seventh day.\",\n",
            "    \"Jesus as the Son surpassing the prophets.\",\n",
            "    \"God disciplining his children.\",\n",
            "    \"The promise of a Sabbath rest for God's people.\"\n",
            "  ]\n",
            "}\n",
            "```\n",
            "\n",
            "📜 Gemini event response for God The Father in 1 Peter:\n",
            "```json\n",
            "{\n",
            "  \"events\": [\n",
            "    \"Chosen according to the foreknowledge of God the Father\",\n",
            "    \"Obedience to Jesus Christ and sprinkling by his blood\",\n",
            "    \"God's impartial judgment\",\n",
            "    \"Living as obedient children\"\n",
            "  ]\n",
            "}\n",
            "```\n",
            "\n",
            "📜 Gemini event response for God The Father in Psalms:\n",
            "```json\n",
            "{\n",
            "  \"events\": [\n",
            "    \"God's Kingship over all creation (Psalm 29:10)\",\n",
            "    \"God's steadfast love and mercy (Psalm 103:11)\",\n",
            "    \"God's providential care for the righteous (Psalm 37:25)\",\n",
            "    \"God as refuge and strength in times of trouble (Psalm 46:1)\"\n",
            "  ]\n",
            "}\n",
            "```\n",
            "\n",
            "📜 Gemini event response for God The Father in 1 Corinthians:\n",
            "```json\n",
            "{\n",
            "  \"events\": [\n",
            "    \"God's designation as the one from whom all things come.\",\n",
            "    \"The acknowledgment that there is one God, the Father, from whom are all things.\",\n",
            "    \"The call to unity, appealing to the one God.\"\n",
            "  ]\n",
            "}\n",
            "```\n",
            "\n",
            "📜 Gemini event response for God The Father in 1 Chronicles:\n",
            "```json\n",
            "{\n",
            "  \"events\": [\n",
            "    \"David's selection as king\",\n",
            "    \"David's preparations for the Temple\",\n",
            "    \"David's prayer of praise and thanksgiving (1 Chronicles 29)\",\n",
            "    \"Solomon's enthronement\"\n",
            "  ]\n",
            "}\n",
            "```\n",
            "\n",
            "📜 Gemini event response for God The Father in Habakkuk:\n",
            "```json\n",
            "{\n",
            "  \"events\": [\n",
            "    \"Habakkuk's initial complaint about injustice.\",\n",
            "    \"God's response that He will use the Chaldeans.\",\n",
            "    \"Habakkuk's second complaint about God using a more wicked nation.\",\n",
            "    \"God's final answer and Habakkuk's prayer/song of trust.\"\n",
            "  ]\n",
            "}\n",
            "```\n"
          ]
        },
        {
          "output_type": "stream",
          "name": "stderr",
          "text": [
            "\r3it [01:54, 45.77s/it]"
          ]
        },
        {
          "output_type": "stream",
          "name": "stdout",
          "text": [
            "✅ Updated connections for: God The Father\n",
            "   📚 Processed 11 books with book-specific events\n",
            "\n",
            "📜 Gemini event response for God The Son in John:\n",
            "```json\n",
            "{\n",
            "  \"events\": [\n",
            "    \"The Word becoming flesh (Incarnation)\",\n",
            "    \"Jesus's claim to be one with the Father\",\n",
            "    \"Jesus's resurrection from the dead\",\n",
            "    \"Jesus's declaration \\\"I AM\\\"\"\n",
            "  ]\n",
            "}\n",
            "```\n",
            "\n",
            "📜 Gemini event response for God The Son in Colossians:\n",
            "```json\n",
            "{\n",
            "  \"events\": [\n",
            "    \"Christ is the image of the invisible God, the firstborn of all creation\",\n",
            "    \"All things were created through him and for him\",\n",
            "    \"He is before all things, and in him all things hold together\",\n",
            "    \"He is the head of the body, the church\"\n",
            "  ]\n",
            "}\n",
            "```\n",
            "\n",
            "📜 Gemini event response for God The Son in Hebrews:\n",
            "```json\n",
            "{\n",
            "  \"events\": [\n",
            "    \"Christ's Superiority Over Angels\",\n",
            "    \"Christ's Superiority Over Aaron's Priesthood\",\n",
            "    \"Christ's Sacrifice as the Perfect Atonement\",\n",
            "    \"Christ's Session at the Right Hand of God\"\n",
            "  ]\n",
            "}\n",
            "```\n",
            "\n",
            "📜 Gemini event response for God The Son in Philippians:\n",
            "```json\n",
            "{\n",
            "  \"events\": [\n",
            "    \"Christ's humility and obedience leading to His exaltation\",\n",
            "    \"Believers' transformation into Christ's likeness\",\n",
            "    \"Joy in suffering for Christ\",\n",
            "    \"The expectation of Christ's return\"\n",
            "  ]\n",
            "}\n",
            "```\n",
            "\n",
            "📜 Gemini event response for God The Son in Micah:\n",
            "```json\n",
            "{\n",
            "  \"events\": [\n",
            "    \"The prophecy of a ruler coming from Bethlehem\",\n",
            "    \"God's promise to remove sin and restore the remnant\",\n",
            "    \"Judgment against injustice and idolatry\"\n",
            "  ]\n",
            "}\n",
            "```\n",
            "\n",
            "📜 Gemini event response for God The Son in Isaiah:\n",
            "```json\n",
            "{\n",
            "  \"events\": [\n",
            "    \"The sign of Immanuel (Isaiah 7:14)\",\n",
            "    \"The prophecy of the Child who will be called Wonderful Counselor, Mighty God, Everlasting Father, Prince of Peace (Isaiah 9:6)\",\n",
            "    \"The suffering servant (Isaiah 53)\",\n",
            "    \"The establishment of David's throne forever (Isaiah 9:7)\"\n",
            "  ]\n",
            "}\n",
            "```\n",
            "\n",
            "📜 Gemini event response for God The Son in Matthew:\n",
            "```json\n",
            "{\n",
            "  \"events\": [\n",
            "    \"The Virgin Birth\",\n",
            "    \"Jesus Walking on Water\",\n",
            "    \"The Transfiguration\",\n",
            "    \"The Resurrection\"\n",
            "  ]\n",
            "}\n",
            "```\n",
            "\n",
            "📜 Gemini event response for God The Son in Luke:\n",
            "```json\n",
            "{\n",
            "  \"events\": [\n",
            "    \"The Annunciation to Mary\",\n",
            "    \"Jesus' teaching in the Temple at age 12\",\n",
            "    \"The Transfiguration\",\n",
            "    \"The Ascension\"\n",
            "  ]\n",
            "}\n",
            "```\n",
            "\n",
            "📜 Gemini event response for God The Son in Psalms:\n",
            "```json\n",
            "{\n",
            "  \"events\": [\n",
            "    \"The Lordship and Kingship of the Messiah\",\n",
            "    \"The Suffering and Vindication of the Righteous One\",\n",
            "    \"The Son's Eternal Existence and Authority\",\n",
            "    \"The Resurrection and Ascension Predicted\"\n",
            "  ]\n",
            "}\n",
            "```\n",
            "\n",
            "📜 Gemini event response for God The Son in 1 Peter:\n",
            "```json\n",
            "{\n",
            "  \"events\": [\n",
            "    \"Christ's precious blood as a lamb without blemish or spot\",\n",
            "    \"Suffering as Christ suffered\",\n",
            "    \"Christ's Resurrection\"\n",
            "  ]\n",
            "}\n",
            "```\n",
            "\n",
            "📜 Gemini event response for God The Son in Romans:\n",
            "```json\n",
            "{\n",
            "  \"events\": [\n",
            "    \"Christ's death as a propitiation for sins\",\n",
            "    \"Justification by faith\",\n",
            "    \"Union with Christ in death and resurrection\",\n",
            "    \"Christ's intercession for believers\"\n",
            "  ]\n",
            "}\n",
            "```\n",
            "\n",
            "📜 Gemini event response for God The Son in 2 Corinthians:\n",
            "```json\n",
            "{\n",
            "  \"events\": [\n",
            "    \"Paul's thorn in the flesh and God's grace being sufficient.\",\n",
            "    \"Reconciliation through Christ.\",\n",
            "    \"The offering of Christ surpassing the Old Covenant.\"\n",
            "  ]\n",
            "}\n",
            "```\n",
            "\n",
            "📜 Gemini event response for God The Son in Acts:\n",
            "```json\n",
            "{\n",
            "  \"events\": [\n",
            "    \"The Ascension\",\n",
            "    \"The Day of Pentecost\",\n",
            "    \"Stephen's Vision of Jesus at God's Right Hand\"\n",
            "  ]\n",
            "}\n",
            "```\n",
            "\n",
            "📜 Gemini event response for God The Son in 1 John:\n",
            "```json\n",
            "{\n",
            "  \"events\": [\n",
            "    \"Jesus Christ as the Word of Life.\",\n",
            "    \"Atonement for sins.\",\n",
            "    \"Jesus Christ as Advocate with the Father.\"\n",
            "  ]\n",
            "}\n",
            "```\n",
            "\n",
            "📜 Gemini event response for God The Son in 1 Corinthians:\n",
            "```json\n",
            "{\n",
            "  \"events\": [\n",
            "    \"Christ the power and wisdom of God\",\n",
            "    \"Christ crucified\",\n",
            "    \"The Lord's Supper\",\n",
            "    \"Christ's Resurrection\"\n",
            "  ]\n",
            "}\n",
            "```\n",
            "\n",
            "📜 Gemini event response for God The Son in 1 Thessalonians:\n",
            "```json\n",
            "{\n",
            "  \"events\": [\n",
            "    \"Jesus's death and resurrection being the basis for salvation\",\n",
            "    \"The future return of Christ to gather believers\",\n",
            "    \"The resurrection of believers as a result of Jesus's resurrection\"\n",
            "  ]\n",
            "}\n",
            "```\n",
            "\n",
            "📜 Gemini event response for God The Son in Revelation:\n",
            "```json\n",
            "{\n",
            "  \"events\": [\n",
            "    \"Jesus as the Lamb who was slain\",\n",
            "    \"Jesus as the rider on the white horse\",\n",
            "    \"Jesus as the King of kings and Lord of lords\",\n",
            "    \"Jesus judging the dead\"\n",
            "  ]\n",
            "}\n",
            "```\n",
            "\n",
            "📜 Gemini event response for God The Son in 1 Timothy:\n",
            "```json\n",
            "{\n",
            "  \"events\": [\n",
            "    \"Christ Jesus came into the world to save sinners\",\n",
            "    \"Christ Jesus as the one mediator between God and men\",\n",
            "    \"The appearing of our Savior Christ Jesus, who abolished death\",\n",
            "    \"Holding faith and a good conscience\"\n",
            "  ]\n",
            "}\n",
            "```\n",
            "\n",
            "📜 Gemini event response for God The Son in Ephesians:\n",
            "```json\n",
            "{\n",
            "  \"events\": [\n",
            "    \"Christ as Head of the Church\",\n",
            "    \"Redemption through Christ's Blood\",\n",
            "    \"Christ's role in creation\",\n",
            "    \"The unifying of all things in Christ\"\n",
            "  ]\n",
            "}\n",
            "```\n",
            "\n",
            "📜 Gemini event response for God The Son in Ezekiel:\n",
            "```json\n",
            "{\n",
            "  \"events\": [\n",
            "    \"Visions of the Divine Glory (Ezekiel 1)\",\n",
            "    \"The Valley of Dry Bones (Ezekiel 37)\",\n",
            "    \"The Prince in the New Temple (Ezekiel 40-48)\"\n",
            "  ]\n",
            "}\n",
            "```\n"
          ]
        },
        {
          "output_type": "stream",
          "name": "stderr",
          "text": [
            "\r4it [02:32, 42.74s/it]"
          ]
        },
        {
          "output_type": "stream",
          "name": "stdout",
          "text": [
            "✅ Updated connections for: God The Son\n",
            "   📚 Processed 20 books with book-specific events\n",
            "\n",
            "📜 Gemini event response for God the Holy Spirit in 1 Corinthians:\n",
            "```json\n",
            "{\n",
            "  \"events\": [\n",
            "    \"Spiritual gifts given to believers\",\n",
            "    \"The body of Christ as a temple of the Holy Spirit\",\n",
            "    \"The Spirit's role in understanding spiritual truths\",\n",
            "    \"Baptism into one body by the Spirit\"\n",
            "  ]\n",
            "}\n",
            "```\n",
            "\n",
            "📜 Gemini event response for God the Holy Spirit in Ephesians:\n",
            "```json\n",
            "{\n",
            "  \"events\": [\n",
            "    \"Sealing with the Holy Spirit (Eph. 1:13)\",\n",
            "    \"Being filled with the Spirit (Eph. 5:18)\",\n",
            "    \"The Spirit's unifying work in the Church (Eph. 4:3-4)\",\n",
            "    \"Spiritual Gifts for building up the Church (Eph. 4:11-12)\"\n",
            "  ]\n",
            "}\n",
            "```\n"
          ]
        },
        {
          "output_type": "stream",
          "name": "stderr",
          "text": [
            "WARNING:tornado.access:429 POST /v1beta/models/gemini-2.0-flash:generateContent?%24alt=json%3Benum-encoding%3Dint (127.0.0.1) 837.93ms\n"
          ]
        },
        {
          "output_type": "stream",
          "name": "stdout",
          "text": [
            "⏳ Rate limit hit for God the Holy Spirit in Hebrews. Attempt 1/5. Waiting 60 seconds...\n",
            "\n",
            "📜 Gemini event response for God the Holy Spirit in Hebrews:\n",
            "```json\n",
            "{\n",
            "  \"events\": [\n",
            "    \"The New Covenant's Inauguration\",\n",
            "    \"The Believer's Sanctification\",\n",
            "    \"The Offering of Christ through the Eternal Spirit\",\n",
            "    \"The Testimony of the Holy Spirit as Witness\"\n",
            "  ]\n",
            "}\n",
            "```\n",
            "\n",
            "📜 Gemini event response for God the Holy Spirit in Psalms:\n",
            "```json\n",
            "{\n",
            "  \"events\": [\n",
            "    \"Inspiration for Prophecy and Guidance\",\n",
            "    \"Divine Presence and Comfort in Distress\",\n",
            "    \"Empowerment for Righteous Living\"\n",
            "  ]\n",
            "}\n",
            "```\n",
            "\n",
            "📜 Gemini event response for God the Holy Spirit in Isaiah:\n",
            "```json\n",
            "{\n",
            "  \"events\": [\n",
            "    \"The Spirit of the Lord resting on the Messiah (Isaiah 11:2)\",\n",
            "    \"The Spirit of the Lord empowering the Servant to bring justice (Isaiah 42:1)\",\n",
            "    \"The Spirit of the Lord anointing the prophet to preach good news (Isaiah 61:1)\",\n",
            "    \"God putting His Spirit within His people, enabling them to follow His decrees (Isaiah 59:21)\"\n",
            "  ]\n",
            "}\n",
            "```\n",
            "\n",
            "📜 Gemini event response for God the Holy Spirit in Romans:\n",
            "```json\n",
            "{\n",
            "  \"events\": [\n",
            "    \"Justification by faith through grace\",\n",
            "    \"Sanctification of believers\",\n",
            "    \"Indwelling of the Holy Spirit\",\n",
            "    \"The believer's transformation\"\n",
            "  ]\n",
            "}\n",
            "```\n",
            "\n",
            "📜 Gemini event response for God the Holy Spirit in John:\n",
            "```json\n",
            "{\n",
            "  \"events\": [\n",
            "    \"Jesus' promise of the Holy Spirit as the Advocate (Paraclete)\",\n",
            "    \"The Spirit's role in convicting the world of sin, righteousness, and judgment\",\n",
            "    \"The Spirit guiding believers into all truth\",\n",
            "    \"The Spirit glorifying Jesus\"\n",
            "  ]\n",
            "}\n",
            "```\n",
            "\n",
            "📜 Gemini event response for God the Holy Spirit in Matthew:\n",
            "```json\n",
            "{\n",
            "  \"events\": [\n",
            "    \"The conception of Jesus\",\n",
            "    \"John the Baptist's prophecy of baptism by the Holy Spirit and fire\",\n",
            "    \"Jesus's temptation in the wilderness\",\n",
            "    \"Jesus casting out demons by the Spirit of God\"\n",
            "  ]\n",
            "}\n",
            "```\n",
            "\n",
            "📜 Gemini event response for God the Holy Spirit in Acts:\n",
            "```json\n",
            "{\n",
            "  \"events\": [\n",
            "    \"The Day of Pentecost\",\n",
            "    \"Peter's Address to Cornelius' Household\",\n",
            "    \"Paul's Missionary Journeys Guided by the Spirit\",\n",
            "    \"The Jerusalem Council's Decision\"\n",
            "  ]\n",
            "}\n",
            "```\n",
            "\n",
            "📜 Gemini event response for God the Holy Spirit in 2 Corinthians:\n",
            "```json\n",
            "{\n",
            "  \"events\": [\n",
            "    \"Paul's Ministry Characterized by Power and Demonstration of the Spirit\",\n",
            "    \"Believers Being Transformed into the Image of Christ\",\n",
            "    \"The Anointing That Believers Have Received\",\n",
            "    \"Ministers of a New Covenant Enabled by the Spirit\"\n",
            "  ]\n",
            "}\n",
            "```\n",
            "\n",
            "📜 Gemini event response for God the Holy Spirit in Jeremiah:\n",
            "```json\n",
            "{\n",
            "  \"events\": [\n",
            "    \"Jeremiah's call and commission to be a prophet\",\n",
            "    \"The promise of a New Covenant\",\n",
            "    \"False prophets speaking lies and visions\"\n",
            "  ]\n",
            "}\n",
            "```\n",
            "\n",
            "📜 Gemini event response for God the Holy Spirit in Genesis:\n",
            "```json\n",
            "{\n",
            "  \"events\": [\n",
            "    \"The Spirit hovering over the waters\",\n",
            "    \"God breathing the breath of life into Adam\",\n",
            "    \"God striving with man\"\n",
            "  ]\n",
            "}\n",
            "```\n",
            "\n",
            "📜 Gemini event response for God the Holy Spirit in 2 Peter:\n",
            "```json\n",
            "{\n",
            "  \"events\": [\n",
            "    \"Prophecy Inspired by the Holy Spirit\",\n",
            "    \"Eyewitnesses of His Majesty\"\n",
            "  ]\n",
            "}\n",
            "```\n",
            "\n",
            "📜 Gemini event response for God the Holy Spirit in 1 John:\n",
            "```json\n",
            "{\n",
            "  \"events\": [\n",
            "    \"Anointing to know the truth\",\n",
            "    \"Abiding anointing\",\n",
            "    \"Truth as from God\"\n",
            "  ]\n",
            "}\n",
            "```\n"
          ]
        },
        {
          "output_type": "stream",
          "name": "stderr",
          "text": [
            "\r5it [04:10, 62.60s/it]"
          ]
        },
        {
          "output_type": "stream",
          "name": "stdout",
          "text": [
            "✅ Updated connections for: God the Holy Spirit\n",
            "   📚 Processed 14 books with book-specific events\n",
            "\n",
            "📜 Gemini event response for Man in Genesis:\n",
            "```json\n",
            "{\n",
            "  \"events\": [\n",
            "    \"The Creation of Adam\",\n",
            "    \"The Creation of Eve\",\n",
            "    \"The Fall\",\n",
            "    \"Cain's murder of Abel\"\n",
            "  ]\n",
            "}\n",
            "```\n",
            "\n",
            "📜 Gemini event response for Man in James:\n",
            "```json\n",
            "{\n",
            "  \"events\": [\n",
            "    \"The Tongue as an Unruly Evil\",\n",
            "    \"Faith Without Works is Dead\",\n",
            "    \"Partiality Forbidden\"\n",
            "  ]\n",
            "}\n",
            "```\n",
            "\n",
            "📜 Gemini event response for Man in Isaiah:\n",
            "```json\n",
            "{\n",
            "  \"events\": [\n",
            "    \"Israel's repeated idolatry and rebellion\",\n",
            "    \"The call to repentance and return to God\",\n",
            "    \"The promise of a remnant being restored\"\n",
            "  ]\n",
            "}\n",
            "```\n",
            "\n",
            "📜 Gemini event response for Man in Colossians:\n",
            "```json\n",
            "{\n",
            "  \"events\": [\n",
            "    \"Christ is the image of the invisible God.\",\n",
            "    \"Christ created all things.\",\n",
            "    \"Christ is the head of the body, the church.\",\n",
            "    \"Putting on the new self, which is being renewed in knowledge in the image of its Creator.\"\n",
            "  ]\n",
            "}\n",
            "```\n",
            "\n",
            "📜 Gemini event response for Man in Revelation:\n",
            "```json\n",
            "{\n",
            "  \"events\": [\n",
            "    \"The Tribulation and its judgments on unbelieving humanity\",\n",
            "    \"The Sealing of the 144,000\",\n",
            "    \"The Great Multitude worshiping God and the Lamb\",\n",
            "    \"The judgment of the dead before the great white throne\"\n",
            "  ]\n",
            "}\n",
            "```\n",
            "\n",
            "📜 Gemini event response for Man in John:\n",
            "```json\n",
            "{\n",
            "  \"events\": [\n",
            "    \"The Word Becoming Flesh\",\n",
            "    \"Jesus' Encounters with Nicodemus\",\n",
            "    \"Jesus' Death on the Cross\",\n",
            "    \"The Resurrection of Jesus\"\n",
            "  ]\n",
            "}\n",
            "```\n",
            "\n",
            "📜 Gemini event response for Man in Romans:\n",
            "```json\n",
            "{\n",
            "  \"events\": [\n",
            "    \"All have sinned and fall short of the glory of God\",\n",
            "    \"Death through Adam, Life through Christ\",\n",
            "    \"Justification by faith apart from works of the law\"\n",
            "  ]\n",
            "}\n",
            "```\n",
            "\n",
            "📜 Gemini event response for Man in 1 Corinthians:\n",
            "```json\n",
            "{\n",
            "  \"events\": [\n",
            "    \"Divisions in the Corinthian church\",\n",
            "    \"Sexual Immorality and Church Discipline\",\n",
            "    \"Lawsuits Among Believers\",\n",
            "    \"Marriage and Singleness\"\n",
            "  ]\n",
            "}\n",
            "```\n",
            "\n",
            "📜 Gemini event response for Man in Ephesians:\n",
            "```json\n",
            "{\n",
            "  \"events\": [\n",
            "    \"Dead in trespasses and sins\",\n",
            "    \"Made alive with Christ\",\n",
            "    \"Created in Christ Jesus for good works\",\n",
            "    \"New self, created to be like God in true righteousness and holiness\"\n",
            "  ]\n",
            "}\n",
            "```\n",
            "\n",
            "📜 Gemini event response for Man in 1 Timothy:\n",
            "```json\n",
            "{\n",
            "  \"events\": [\n",
            "    \"The need for sound doctrine to combat false teachings.\",\n",
            "    \"The importance of prayer and intercession for all men.\",\n",
            "    \"The qualifications for elders and deacons, highlighting moral character and leadership abilities.\",\n",
            "    \"Instructions for women in the church, addressing their conduct and role.\"\n",
            "  ]\n",
            "}\n",
            "```\n",
            "\n",
            "📜 Gemini event response for Man in 1 John:\n",
            "```json\n",
            "{\n",
            "  \"events\": [\n",
            "    \"Confessing Jesus as the Christ come in the flesh\",\n",
            "    \"Loving one another\",\n",
            "    \"Overcoming the world\",\n",
            "    \"Abiding in Christ\"\n",
            "  ]\n",
            "}\n",
            "```\n",
            "\n",
            "📜 Gemini event response for Man in Psalms:\n",
            "```json\n",
            "{\n",
            "  \"events\": [\n",
            "    \"Confession of sin and plea for forgiveness\",\n",
            "    \"Praise for God's steadfast love and mercy despite human failings\",\n",
            "    \"Lament over the brevity of life and reliance on God\",\n",
            "    \"Acknowledgement of God as Creator and Sovereign\"\n",
            "  ]\n",
            "}\n",
            "```\n",
            "\n",
            "📜 Gemini event response for Man in Jeremiah:\n",
            "```json\n",
            "{\n",
            "  \"events\": [\n",
            "    \"Jeremiah's call and commission\",\n",
            "    \"Judah's idolatry and covenant breaking\",\n",
            "    \"Jeremiah's lamentations over the destruction of Jerusalem\",\n",
            "    \"The exile of Judah to Babylon\"\n",
            "  ]\n",
            "}\n",
            "```\n"
          ]
        },
        {
          "output_type": "stream",
          "name": "stderr",
          "text": [
            "\r6it [04:34, 49.42s/it]"
          ]
        },
        {
          "output_type": "stream",
          "name": "stdout",
          "text": [
            "✅ Updated connections for: Man\n",
            "   📚 Processed 13 books with book-specific events\n",
            "\n",
            "📜 Gemini event response for Salvation in John:\n",
            "```json\n",
            "{\n",
            "  \"events\": [\n",
            "    \"Jesus' declaration, “I am the way, and the truth, and the life. No one comes to the Father except through me.”\",\n",
            "    \"Jesus's death on the cross.\",\n",
            "    \"Jesus's resurrection from the dead.\",\n",
            "    \"Believing in Jesus as the Messiah and Son of God.\"\n",
            "  ]\n",
            "}\n",
            "```\n"
          ]
        },
        {
          "output_type": "stream",
          "name": "stderr",
          "text": [
            "WARNING:tornado.access:429 POST /v1beta/models/gemini-2.0-flash:generateContent?%24alt=json%3Benum-encoding%3Dint (127.0.0.1) 659.40ms\n"
          ]
        },
        {
          "output_type": "stream",
          "name": "stdout",
          "text": [
            "⏳ Rate limit hit for Salvation in Ephesians. Attempt 1/5. Waiting 60 seconds...\n",
            "\n",
            "📜 Gemini event response for Salvation in Ephesians:\n",
            "```json\n",
            "{\n",
            "  \"events\": [\n",
            "    \"Chosen before the foundation of the world\",\n",
            "    \"Redemption through Christ's blood\",\n",
            "    \"Sealed with the Holy Spirit\",\n",
            "    \"Raised with Christ\"\n",
            "  ]\n",
            "}\n",
            "```\n",
            "\n",
            "📜 Gemini event response for Salvation in 1 Peter:\n",
            "```json\n",
            "{\n",
            "  \"events\": [\n",
            "    \"Chosen according to the foreknowledge of God the Father, through the sanctifying work of the Spirit, to be obedient to Jesus Christ and sprinkled with his blood\",\n",
            "    \"Born again to a living hope through the resurrection of Jesus Christ from the dead\",\n",
            "    \"Received an inheritance that can never perish, spoil or fade\"\n",
            "  ]\n",
            "}\n",
            "```\n"
          ]
        },
        {
          "output_type": "stream",
          "name": "stderr",
          "text": [
            "\r7it [05:57, 60.50s/it]"
          ]
        },
        {
          "output_type": "stream",
          "name": "stdout",
          "text": [
            "✅ Updated connections for: Salvation\n",
            "   📚 Processed 3 books with book-specific events\n",
            "\n",
            "📜 Gemini event response for Election in Romans:\n",
            "```json\n",
            "{\n",
            "  \"events\": [\n",
            "    \"God's choice of Israel\",\n",
            "    \"God hardening Pharaoh's heart\",\n",
            "    \"Salvation is not based on works but on faith.\",\n",
            "    \"God's mercy on whom he will have mercy.\"\n",
            "  ]\n",
            "}\n",
            "```\n",
            "\n",
            "📜 Gemini event response for Election in Ephesians:\n",
            "```json\n",
            "{\n",
            "  \"events\": [\n",
            "    \"Chosen before the foundation of the world in Christ.\",\n",
            "    \"Predestined to adoption as sons through Jesus Christ.\",\n",
            "    \"Redemption through His blood and forgiveness of sins.\",\n",
            "    \"Sealed with the Holy Spirit of promise.\"\n",
            "  ]\n",
            "}\n",
            "```\n",
            "\n",
            "📜 Gemini event response for Election in 2 Thessalonians:\n",
            "```json\n",
            "{\n",
            "  \"events\": [\n",
            "    \"God sending strong delusion to those who refuse to love the truth\",\n",
            "    \"God choosing believers for salvation through sanctification by the Spirit and belief in the truth\",\n",
            "    \"God calling believers into the obtaining of glory through Jesus Christ\"\n",
            "  ]\n",
            "}\n",
            "```\n",
            "\n",
            "📜 Gemini event response for Election in 2 Timothy:\n",
            "```json\n",
            "{\n",
            "  \"events\": [\n",
            "    \"Paul's Apostleship\",\n",
            "    \"Timothy's genuine faith passed down through generations\",\n",
            "    \"Paul's suffering for the sake of the gospel\",\n",
            "    \"The endurance of believers for the sake of the elect\"\n",
            "  ]\n",
            "}\n",
            "```\n",
            "\n",
            "📜 Gemini event response for Election in 1 Peter:\n",
            "```json\n",
            "{\n",
            "  \"events\": [\n",
            "    \"Chosen according to the foreknowledge of God the Father (1:2)\",\n",
            "    \"A living hope through the resurrection of Jesus Christ from the dead (1:3)\",\n",
            "    \"Born again, not of perishable seed, but of imperishable (1:23)\",\n",
            "    \"A chosen people, a royal priesthood, a holy nation, God’s special possession (2:9)\"\n",
            "  ]\n",
            "}\n",
            "```\n",
            "\n",
            "📜 Gemini event response for Election in Ezekiel:\n",
            "```json\n",
            "{\n",
            "  \"events\": [\n",
            "    \"The Vision of the Valley of Dry Bones\",\n",
            "    \"The Promise of a New Heart and Spirit\",\n",
            "    \"The Restoration of Israel to the Land\",\n",
            "    \"God's Judgement on the Nations Surrounding Israel\"\n",
            "  ]\n",
            "}\n",
            "```\n",
            "\n",
            "📜 Gemini event response for Election in John:\n",
            "```json\n",
            "{\n",
            "  \"events\": [\n",
            "    \"Jesus Declares “All That the Father Gives Me Will Come to Me” (John 6:37)\",\n",
            "    \"Jesus States \"No One Can Come to Me Unless the Father Who Sent Me Draws Him” (John 6:44)\",\n",
            "    \"Jesus Prays for His Disciples (John 17)\",\n",
            "    \"Jesus' assertion that some do not believe because they are not of His sheep (John 10:26)\"\n",
            "  ]\n",
            "}\n",
            "```\n",
            "❌ Error generating events for Election in John: 🛑 JSON parsing failed after cleanup: Expecting ',' delimiter: line 4 column 20 (char 116)\n",
            "\n",
            "📜 Gemini event response for Election in Revelation:\n",
            "```json\n",
            "{\n",
            "  \"events\": [\n",
            "    \"The Sealing of the 144,000\",\n",
            "    \"The White Robed Multitude\",\n",
            "    \"The Lamb's Book of Life\",\n",
            "    \"The New Jerusalem Descending\"\n",
            "  ]\n",
            "}\n",
            "```\n",
            "\n",
            "📜 Gemini event response for Election in Acts:\n",
            "```json\n",
            "{\n",
            "  \"events\": [\n",
            "    \"The selection of Matthias to replace Judas\",\n",
            "    \"The conversion of Saul/Paul\",\n",
            "    \"Gentiles hearing and accepting the gospel\",\n",
            "    \"Lydia's heart being opened by the Lord\"\n",
            "  ]\n",
            "}\n",
            "```\n",
            "\n",
            "📜 Gemini event response for Election in James:\n",
            "```json\n",
            "{\n",
            "  \"events\": [\n",
            "    \"The implanted word received with meekness (James 1:21)\",\n",
            "    \"Love for Rich and Poor (James 2:1-7)\",\n",
            "    \"Faith Working with Works (James 2:14-26)\",\n",
            "    \"Drawing Near to God (James 4:8)\"\n",
            "  ]\n",
            "}\n",
            "```\n",
            "\n",
            "📜 Gemini event response for Election in Titus:\n",
            "```json\n",
            "{\n",
            "  \"events\": [\n",
            "    \"Titus' ministry in Crete\",\n",
            "    \"The believers' salvation not by works but by God's mercy\",\n",
            "    \"The washing of regeneration and renewal by the Holy Spirit\",\n",
            "    \"The promise of eternal life based on God's faithfulness\"\n",
            "  ]\n",
            "}\n",
            "```\n",
            "\n",
            "📜 Gemini event response for Election in Matthew:\n",
            "```json\n",
            "{\n",
            "  \"events\": [\n",
            "    \"The Wise Men seeking Jesus\",\n",
            "    \"Peter's Confession of Christ\",\n",
            "    \"Jesus's teaching in parables concealing truth from some\",\n",
            "    \"The Great Commission\"\n",
            "  ]\n",
            "}\n",
            "```\n"
          ]
        },
        {
          "output_type": "stream",
          "name": "stderr",
          "text": [
            "\r8it [06:20, 48.48s/it]"
          ]
        },
        {
          "output_type": "stream",
          "name": "stdout",
          "text": [
            "✅ Updated connections for: Election\n",
            "   📚 Processed 12 books with book-specific events\n",
            "\n",
            "📜 Gemini event response for Regeneration in John:\n",
            "```json\n",
            "{\n",
            "  \"events\": [\n",
            "    \"Jesus' conversation with Nicodemus\",\n",
            "    \"The healing of the man born blind\",\n",
            "    \"Lazarus being raised from the dead\"\n",
            "  ]\n",
            "}\n",
            "```\n",
            "\n",
            "📜 Gemini event response for Regeneration in Titus:\n",
            "```json\n",
            "{\n",
            "  \"events\": [\n",
            "    \"The washing of regeneration\",\n",
            "    \"Renewal by the Holy Spirit\",\n",
            "    \"Heirs according to the hope of eternal life\"\n",
            "  ]\n",
            "}\n",
            "```\n",
            "\n",
            "📜 Gemini event response for Regeneration in 1 Corinthians:\n",
            "```json\n",
            "{\n",
            "  \"events\": [\n",
            "    \"Washing, Sanctification, and Justification in the Name of the Lord Jesus\",\n",
            "    \"The Temple of God and Indwelling of the Spirit\",\n",
            "    \"New Creation Implications for Sexual Immorality\",\n",
            "    \"Living as Those Purchased with a Price\"\n",
            "  ]\n",
            "}\n",
            "```\n",
            "\n",
            "📜 Gemini event response for Regeneration in Ephesians:\n",
            "```json\n",
            "{\n",
            "  \"events\": [\n",
            "    \"Being made alive together with Christ.\",\n",
            "    \"Salvation by grace through faith.\",\n",
            "    \"Being created in Christ Jesus for good works.\",\n",
            "    \"Putting on the new self.\"\n",
            "  ]\n",
            "}\n",
            "```\n",
            "\n",
            "📜 Gemini event response for Regeneration in Philippians:\n",
            "```json\n",
            "{\n",
            "  \"events\": [\n",
            "    \"Paul's prayer for the Philippians' love to abound more and more (Philippians 1:9)\",\n",
            "    \"Paul's exhortation to work out their salvation with fear and trembling (Philippians 2:12)\",\n",
            "    \"Paul's pressing on toward the goal for the prize of the upward call of God in Christ Jesus (Philippians 3:14)\",\n",
            "    \"Exhortation to think on excellent and praiseworthy things (Philippians 4:8)\"\n",
            "  ]\n",
            "}\n",
            "```\n",
            "\n",
            "📜 Gemini event response for Regeneration in Colossians:\n",
            "```json\n",
            "{\n",
            "  \"events\": [\n",
            "    \"Putting off the old self\",\n",
            "    \"Putting on the new self\",\n",
            "    \"Seeking things that are above\"\n",
            "  ]\n",
            "}\n",
            "```\n",
            "\n",
            "📜 Gemini event response for Regeneration in 2 Peter:\n",
            "```json\n",
            "{\n",
            "  \"events\": [\n",
            "    \"Partaking in the divine nature\",\n",
            "    \"Escaping the corruption in the world caused by evil desires\",\n",
            "    \"Growing in grace and knowledge of Jesus Christ\",\n",
            "    \"Making one's calling and election sure\"\n",
            "  ]\n",
            "}\n",
            "```\n",
            "\n",
            "📜 Gemini event response for Regeneration in 2 Corinthians:\n",
            "```json\n",
            "{\n",
            "  \"events\": [\n",
            "    \"Paul's description of believers as a 'new creation' in Christ (2 Corinthians 5:17)\",\n",
            "    \"The transforming ministry of the Spirit reflected in believers (2 Corinthians 3:18)\",\n",
            "    \"The offering collected for the saints in Jerusalem (Chapters 8 and 9)\",\n",
            "    \"Paul's defense against accusations of being 'unspiritual'\"\n",
            "  ]\n",
            "}\n",
            "```\n"
          ]
        },
        {
          "output_type": "stream",
          "name": "stderr",
          "text": [
            "WARNING:tornado.access:429 POST /v1beta/models/gemini-2.0-flash:generateContent?%24alt=json%3Benum-encoding%3Dint (127.0.0.1) 837.24ms\n"
          ]
        },
        {
          "output_type": "stream",
          "name": "stdout",
          "text": [
            "⏳ Rate limit hit for Regeneration in Romans. Attempt 1/5. Waiting 60 seconds...\n",
            "\n",
            "📜 Gemini event response for Regeneration in Romans:\n",
            "```json\n",
            "{\n",
            "  \"events\": [\n",
            "    \"Justification by faith\",\n",
            "    \"Union with Christ in His death and resurrection\",\n",
            "    \"The indwelling of the Holy Spirit\",\n",
            "    \"Newness of life\"\n",
            "  ]\n",
            "}\n",
            "```\n",
            "\n",
            "📜 Gemini event response for Regeneration in 1 John:\n",
            "```json\n",
            "{\n",
            "  \"events\": [\n",
            "    \"Confessing that Jesus is the Christ.\",\n",
            "    \"Loving one another.\",\n",
            "    \"Keeping God's commandments.\",\n",
            "    \"Overcoming the world.\"\n",
            "  ]\n",
            "}\n",
            "```\n"
          ]
        },
        {
          "output_type": "stream",
          "name": "stderr",
          "text": [
            "\r9it [07:45, 59.96s/it]"
          ]
        },
        {
          "output_type": "stream",
          "name": "stdout",
          "text": [
            "✅ Updated connections for: Regeneration\n",
            "   📚 Processed 10 books with book-specific events\n",
            "\n",
            "📜 Gemini event response for Justification in Romans:\n",
            "```json\n",
            "{\n",
            "  \"events\": [\n",
            "    \"Abraham's Faith Credited as Righteousness\",\n",
            "    \"Christ's Death and Resurrection\",\n",
            "    \"Jew and Gentile Alike Under Sin\",\n",
            "    \"Faith in Jesus's Blood as Atonement\"\n",
            "  ]\n",
            "}\n",
            "```\n",
            "\n",
            "📜 Gemini event response for Justification in Luke:\n",
            "```json\n",
            "{\n",
            "  \"events\": [\n",
            "    \"The forgiveness of the paralytic's sins (Luke 5:20)\",\n",
            "    \"Zacchaeus' repentance and salvation (Luke 19:9)\",\n",
            "    \"Jesus' parable of the Pharisee and the tax collector (Luke 18:14)\",\n",
            "    \"Jesus' words to the sinful woman who anoints his feet (Luke 7:50)\"\n",
            "  ]\n",
            "}\n",
            "```\n",
            "\n",
            "📜 Gemini event response for Justification in Acts:\n",
            "```json\n",
            "{\n",
            "  \"events\": [\n",
            "    \"Peter's Sermon at Pentecost\",\n",
            "    \"The Conversion of Cornelius\",\n",
            "    \"Paul's preaching in the synagogues\",\n",
            "    \"Paul's defense before Agrippa\"\n",
            "  ]\n",
            "}\n",
            "```\n",
            "\n",
            "📜 Gemini event response for Justification in 2 Corinthians:\n",
            "```json\n",
            "{\n",
            "  \"events\": [\n",
            "    \"Paul's defense against accusations of self-seeking.\",\n",
            "    \"Paul's emphasis on reconciliation with God through Christ.\",\n",
            "    \"Paul's description of believers as a 'new creation' in Christ.\",\n",
            "    \"Paul's discussion of godly sorrow leading to repentance.\"\n",
            "  ]\n",
            "}\n",
            "```\n",
            "\n",
            "📜 Gemini event response for Justification in Isaiah:\n",
            "```json\n",
            "{\n",
            "  \"events\": [\n",
            "    \"The Suffering Servant's Atonement\",\n",
            "    \"The call to repentance and seeking the Lord\",\n",
            "    \"The promise of forgiveness and cleansing of sins\"\n",
            "  ]\n",
            "}\n",
            "```\n",
            "\n",
            "📜 Gemini event response for Justification in 1 Corinthians:\n",
            "```json\n",
            "{\n",
            "  \"events\": [\n",
            "    \"Paul's appeal for unity among believers divided by allegiances to different leaders (Apollos, Cephas, Paul)\",\n",
            "    \"Paul's condemnation of sexual immorality and call for purity\",\n",
            "    \"Paul's teaching on marriage and singleness within the context of consecrated living\",\n",
            "    \"Paul's instruction regarding the Lord's Supper and remembrance of Christ's sacrifice\"\n",
            "  ]\n",
            "}\n",
            "```\n",
            "\n",
            "📜 Gemini event response for Justification in Philippians:\n",
            "```json\n",
            "{\n",
            "  \"events\": [\n",
            "    \"Paul's Imprisonment\",\n",
            "    \"Philippians' Partnership in the Gospel\",\n",
            "    \"Exhortation to Humility and Christ-like Mindset\"\n",
            "  ]\n",
            "}\n",
            "```\n",
            "\n",
            "📜 Gemini event response for Justification in Colossians:\n",
            "```json\n",
            "{\n",
            "  \"events\": [\n",
            "    \"Christ's reconciliation through his death on the cross\",\n",
            "    \"Forgiveness of sins\",\n",
            "    \"Redemption through Christ\",\n",
            "    \"Being made alive with Christ\"\n",
            "  ]\n",
            "}\n",
            "```\n",
            "\n",
            "📜 Gemini event response for Justification in 1 Peter:\n",
            "```json\n",
            "{\n",
            "  \"events\": [\n",
            "    \"Chosen by God\",\n",
            "    \"Precious blood of Christ\",\n",
            "    \"Bearing sins on the tree\",\n",
            "    \"Heals by his wounds\"\n",
            "  ]\n",
            "}\n",
            "```\n"
          ]
        },
        {
          "output_type": "stream",
          "name": "stderr",
          "text": [
            "\r10it [08:02, 46.88s/it]"
          ]
        },
        {
          "output_type": "stream",
          "name": "stdout",
          "text": [
            "✅ Updated connections for: Justification\n",
            "   📚 Processed 9 books with book-specific events\n",
            "\n",
            "📜 Gemini event response for Sanctification in Acts:\n",
            "```json\n",
            "{\n",
            "  \"events\": [\n",
            "    \"The Day of Pentecost\",\n",
            "    \"The Conversion of Saul/Paul\",\n",
            "    \"Peter's Vision and Visit to Cornelius\",\n",
            "    \"Paul's Ministry in Ephesus\"\n",
            "  ]\n",
            "}\n",
            "```\n",
            "\n",
            "📜 Gemini event response for Sanctification in 1 Corinthians:\n",
            "```json\n",
            "{\n",
            "  \"events\": [\n",
            "    \"Addressing Divisions and Factions Within the Church\",\n",
            "    \"Confronting Sexual Immorality\",\n",
            "    \"Instructions on Marriage\",\n",
            "    \"Guidance on Spiritual Gifts\"\n",
            "  ]\n",
            "}\n",
            "```\n",
            "\n",
            "📜 Gemini event response for Sanctification in 2 Thessalonians:\n",
            "```json\n",
            "{\n",
            "  \"events\": [\n",
            "    \"God choosing the Thessalonians for salvation\",\n",
            "    \"God sending strong delusion to those who reject the truth\",\n",
            "    \"The believers standing firm in the faith and holding to the traditions they were taught.\",\n",
            "    \"The prayer for the Thessalonians' hearts to be directed into the love of God and patience of Christ\"\n",
            "  ]\n",
            "}\n",
            "```\n",
            "\n",
            "📜 Gemini event response for Sanctification in Hebrews:\n",
            "```json\n",
            "{\n",
            "  \"events\": [\n",
            "    \"Jesus's Offering of Himself as a Perfect Sacrifice\",\n",
            "    \"Entering God's Rest\",\n",
            "    \"The Example of Christ's Suffering Outside the Gate\"\n",
            "  ]\n",
            "}\n",
            "```\n",
            "\n",
            "📜 Gemini event response for Sanctification in 1 Peter:\n",
            "```json\n",
            "{\n",
            "  \"events\": [\n",
            "    \"Chosen according to the foreknowledge of God the Father, through the sanctifying work of the Spirit, for obedience to Jesus Christ and sprinkling by his blood\",\n",
            "    \"As obedient children, do not conform to the evil desires you had when you lived in ignorance. But just as he who called you is holy, so be holy in all you do; for it is written: 'Be holy, because I am holy.'\",\n",
            "    \"Live such good lives among the pagans that, though they accuse you of doing wrong, they may see your good deeds and glorify God on the day he visits us.\",\n",
            "    \"If you suffer for doing good and you endure it, this is commendable before God.\"\n",
            "  ]\n",
            "}\n",
            "```\n",
            "\n",
            "📜 Gemini event response for Sanctification in John:\n",
            "```json\n",
            "{\n",
            "  \"events\": [\n",
            "    \"Jesus' prayer for His disciples' sanctification (John 17:17-19)\",\n",
            "    \"Jesus' washing of the disciples' feet (John 13:1-17)\",\n",
            "    \"The giving of the Holy Spirit (John 14:26)\",\n",
            "    \"Jesus' declaration, 'It is finished.' (John 19:30)\"\n",
            "  ]\n",
            "}\n",
            "```\n",
            "\n",
            "📜 Gemini event response for Sanctification in Romans:\n",
            "```json\n",
            "{\n",
            "  \"events\": [\n",
            "    \"Union with Christ in His death and resurrection.\",\n",
            "    \"The offering of our bodies as living sacrifices.\",\n",
            "    \"Putting off the old self and putting on the new self.\"\n",
            "  ]\n",
            "}\n",
            "```\n",
            "\n",
            "📜 Gemini event response for Sanctification in 2 Corinthians:\n",
            "```json\n",
            "{\n",
            "  \"events\": [\n",
            "    \"Paul's defense of his ministry against accusations\",\n",
            "    \"Paul's exhortation to purity and separation from the world\",\n",
            "    \"Paul's concern for the church's repentance after his severe letter\",\n",
            "    \"Paul's discussion of spiritual gifts for edification\"\n",
            "  ]\n",
            "}\n",
            "```\n",
            "\n",
            "📜 Gemini event response for Sanctification in 1 Thessalonians:\n",
            "```json\n",
            "{\n",
            "  \"events\": [\n",
            "    \"Their work of faith and labor of love and steadfastness of hope in our Lord Jesus Christ.\",\n",
            "    \"The Thessalonians becoming imitators of the apostles and of the Lord, receiving the word in much affliction with the joy of the Holy Spirit.\",\n",
            "    \"Exhortation to abstain from sexual immorality; to control one's own body in holiness and honor.\",\n",
            "    \"Prayer for God to sanctify them completely, keeping their whole spirit, soul, and body blameless at the coming of our Lord Jesus Christ.\"\n",
            "  ]\n",
            "}\n",
            "```\n",
            "\n",
            "📜 Gemini event response for Sanctification in Galatians:\n",
            "```json\n",
            "{\n",
            "  \"events\": [\n",
            "    \"Paul's rebuke of Peter for hypocrisy\",\n",
            "    \"The allegory of Hagar and Sarah\",\n",
            "    \"Living by the Spirit versus gratifying the flesh\",\n",
            "    \"Crucifixion of the flesh with its passions and desires\"\n",
            "  ]\n",
            "}\n",
            "```\n",
            "\n",
            "📜 Gemini event response for Sanctification in Philippians:\n",
            "```json\n",
            "{\n",
            "  \"events\": [\n",
            "    \"Paul's prayer for the Philippians' love to abound more and more in knowledge and depth of insight.\",\n",
            "    \"Paul's encouragement to live a life worthy of the gospel.\",\n",
            "    \"Paul's exhortation to work out their salvation with fear and trembling.\",\n",
            "    \"Paul's pressing on toward the goal to win the prize for which God has called him heavenward in Christ Jesus.\"\n",
            "  ]\n",
            "}\n",
            "```\n",
            "\n",
            "📜 Gemini event response for Sanctification in Colossians:\n",
            "```json\n",
            "{\n",
            "  \"events\": [\n",
            "    \"Putting off the old self\",\n",
            "    \"Putting on the new self\",\n",
            "    \"Seeking things that are above\",\n",
            "    \"Mortifying earthly passions\"\n",
            "  ]\n",
            "}\n",
            "```\n",
            "\n",
            "📜 Gemini event response for Sanctification in 1 John:\n",
            "```json\n",
            "{\n",
            "  \"events\": [\n",
            "    \"Confessing Sins and God's Forgiveness\",\n",
            "    \"Walking in the Light\",\n",
            "    \"Keeping God's Commandments\",\n",
            "    \"Anointing of the Holy Spirit\"\n",
            "  ]\n",
            "}\n",
            "```\n"
          ]
        },
        {
          "output_type": "stream",
          "name": "stderr",
          "text": [
            "\r11it [08:28, 40.27s/it]"
          ]
        },
        {
          "output_type": "stream",
          "name": "stdout",
          "text": [
            "✅ Updated connections for: Sanctification\n",
            "   📚 Processed 13 books with book-specific events\n",
            "\n",
            "📜 Gemini event response for Security in John:\n",
            "```json\n",
            "{\n",
            "  \"events\": [\n",
            "    \"Jesus's promise of eternal life to those who believe in Him\",\n",
            "    \"Jesus's declaration that no one can snatch His sheep from His hand\",\n",
            "    \"Jesus's prayer for His disciples' protection\",\n",
            "    \"The Holy Spirit's abiding presence with believers as the Helper\"\n",
            "  ]\n",
            "}\n",
            "```\n",
            "\n",
            "📜 Gemini event response for Security in Romans:\n",
            "```json\n",
            "{\n",
            "  \"events\": [\n",
            "    \"Justification by Faith\",\n",
            "    \"Reconciliation with God through Christ's death\",\n",
            "    \"Union with Christ in His death and resurrection\",\n",
            "    \"God's love demonstrated in Christ\"\n",
            "  ]\n",
            "}\n",
            "```\n",
            "\n",
            "📜 Gemini event response for Security in 1 Corinthians:\n",
            "```json\n",
            "{\n",
            "  \"events\": [\n",
            "    \"God's faithfulness in calling them into fellowship with His Son\",\n",
            "    \"The guarantee of future glorification\",\n",
            "    \"The promise of spiritual gifts until the day of Christ\",\n",
            "    \"Assurance despite imperfections and divisions.\"\n",
            "  ]\n",
            "}\n",
            "```\n",
            "\n",
            "📜 Gemini event response for Security in Ephesians:\n",
            "```json\n",
            "{\n",
            "  \"events\": [\n",
            "    \"Sealing with the Holy Spirit\",\n",
            "    \"Adoption as Sons\",\n",
            "    \"Christ's Ascension and Exaltation\",\n",
            "    \"The Church as Christ's Body\"\n",
            "  ]\n",
            "}\n",
            "```\n"
          ]
        },
        {
          "output_type": "stream",
          "name": "stderr",
          "text": [
            "WARNING:tornado.access:429 POST /v1beta/models/gemini-2.0-flash:generateContent?%24alt=json%3Benum-encoding%3Dint (127.0.0.1) 813.60ms\n"
          ]
        },
        {
          "output_type": "stream",
          "name": "stdout",
          "text": [
            "⏳ Rate limit hit for Security in Hebrews. Attempt 1/5. Waiting 60 seconds...\n",
            "\n",
            "📜 Gemini event response for Security in Hebrews:\n",
            "```json\n",
            "{\n",
            "  \"events\": [\n",
            "    \"Jesus's superior sacrifice\",\n",
            "    \"Jesus's eternal high priesthood\",\n",
            "    \"God's oath guaranteeing the promise\"\n",
            "  ]\n",
            "}\n",
            "```\n",
            "\n",
            "📜 Gemini event response for Security in 1 Peter:\n",
            "```json\n",
            "{\n",
            "  \"events\": [\n",
            "    \"Inheritance kept in heaven\",\n",
            "    \"Protected by God's power through faith\",\n",
            "    \"A living hope through the resurrection of Jesus Christ\"\n",
            "  ]\n",
            "}\n",
            "```\n",
            "\n",
            "📜 Gemini event response for Security in Jude:\n",
            "```json\n",
            "{\n",
            "  \"events\": [\n",
            "    \"Mercy, peace, and love being multiplied to those who are called, beloved in God the Father, and kept for Jesus Christ\",\n",
            "    \"Preservation from stumbling\",\n",
            "    \"Presentation faultless before the presence of His glory with exceeding joy\"\n",
            "  ]\n",
            "}\n",
            "```\n",
            "\n",
            "📜 Gemini event response for Security in Galatians:\n",
            "```json\n",
            "{\n",
            "  \"events\": [\n",
            "    \"Justification by faith, not works of the Law.\",\n",
            "    \"Freedom from the Law's condemnation.\",\n",
            "    \"The indwelling of the Spirit as a guarantee.\",\n",
            "    \"Living by the Spirit, not fulfilling the desires of the flesh.\"\n",
            "  ]\n",
            "}\n",
            "```\n",
            "\n",
            "📜 Gemini event response for Security in Titus:\n",
            "```json\n",
            "{\n",
            "  \"events\": [\n",
            "    \"Appointing Elders in Every Town\",\n",
            "    \"Sound Doctrine as a Safeguard Against False Teaching\",\n",
            "    \"Living Self-Controlled Lives\",\n",
            "    \"Looking forward to the blessed hope\"\n",
            "  ]\n",
            "}\n",
            "```\n"
          ]
        },
        {
          "output_type": "stream",
          "name": "stderr",
          "text": [
            "\r12it [09:49, 52.75s/it]"
          ]
        },
        {
          "output_type": "stream",
          "name": "stdout",
          "text": [
            "✅ Updated connections for: Security\n",
            "   📚 Processed 9 books with book-specific events\n",
            "\n",
            "📜 Gemini event response for Separation in 2 Corinthians:\n",
            "```json\n",
            "{\n",
            "  \"events\": [\n",
            "    \"Warning against being yoked together with unbelievers\",\n",
            "    \"Exhortation to cleanse ourselves from everything that contaminates body and spirit\",\n",
            "    \"Paul's defense against false apostles and their teachings\"\n",
            "  ]\n",
            "}\n",
            "```\n",
            "\n",
            "📜 Gemini event response for Separation in 2 Timothy:\n",
            "```json\n",
            "{\n",
            "  \"events\": [\n",
            "    \"Warning against false teachers and their doctrines\",\n",
            "    \"Exhortation to avoid worldly passions and pursue righteousness\",\n",
            "    \"Instruction to turn away from those who have a form of godliness but deny its power\",\n",
            "    \"Admonition to hold to sound teaching and guard the good deposit\"\n",
            "  ]\n",
            "}\n",
            "```\n",
            "\n",
            "📜 Gemini event response for Separation in Romans:\n",
            "```json\n",
            "{\n",
            "  \"events\": [\n",
            "    \"Rejection of the world's standards and conforming to God's will (Romans 12:2)\",\n",
            "    \"Presenting bodies as living sacrifices, holy and acceptable to God (Romans 12:1)\",\n",
            "    \"Love being without hypocrisy, abhorring what is evil, clinging to what is good (Romans 12:9)\",\n",
            "    \"Not being conformed to the pattern of this world (Romans 12:2)\"\n",
            "  ]\n",
            "}\n",
            "```\n",
            "\n",
            "📜 Gemini event response for Separation in 1 Corinthians:\n",
            "```json\n",
            "{\n",
            "  \"events\": [\n",
            "    \"Dealing with sexual immorality in the church.\",\n",
            "    \"Addressing lawsuits among believers.\",\n",
            "    \"Guidance on marriage and singleness.\",\n",
            "    \"Instructions regarding food sacrificed to idols.\"\n",
            "  ]\n",
            "}\n",
            "```\n",
            "\n",
            "📜 Gemini event response for Separation in 1 John:\n",
            "```json\n",
            "{\n",
            "  \"events\": [\n",
            "    \"Do not love the world or the things in the world.\",\n",
            "    \"If we say we have fellowship with him while we walk in darkness, we lie.\",\n",
            "    \"Little children, keep yourselves from idols.\",\n",
            "    \"Everyone who makes a practice of sinning also practices lawlessness\"\n",
            "  ]\n",
            "}\n",
            "```\n",
            "\n",
            "📜 Gemini event response for Separation in 2 John:\n",
            "```json\n",
            "{\n",
            "  \"events\": [\n",
            "    \"Warning against showing hospitality to deceivers\",\n",
            "    \"Exhortation to abide in the doctrine of Christ\"\n",
            "  ]\n",
            "}\n",
            "```\n",
            "\n",
            "📜 Gemini event response for Separation in 2 Thessalonians:\n",
            "```json\n",
            "{\n",
            "  \"events\": [\n",
            "    \"The Thessalonians' faith spreading despite persecution.\",\n",
            "    \"Paul's exhortation to avoid idleness and work diligently.\",\n",
            "    \"Warning against associating with those who are disobedient.\"\n",
            "  ]\n",
            "}\n",
            "```\n",
            "\n",
            "📜 Gemini event response for Separation in Hebrews:\n",
            "```json\n",
            "{\n",
            "  \"events\": [\n",
            "    \"Exhortation to not harden hearts as in the rebellion during the Exodus.\",\n",
            "    \"The superiority of Christ's sacrifice over the Levitical sacrifices.\",\n",
            "    \"Warning against neglecting such a great salvation.\",\n",
            "    \"Endurance through suffering and persecution as distinct from the world.\"\n",
            "  ]\n",
            "}\n",
            "```\n",
            "\n",
            "📜 Gemini event response for Separation in Matthew:\n",
            "```json\n",
            "{\n",
            "  \"events\": [\n",
            "    \"The temptation of Jesus in the wilderness.\",\n",
            "    \"Jesus' call to 'Come, follow me' requiring leaving their former lives.\",\n",
            "    \"Jesus cleansing the temple.\",\n",
            "    \"Jesus warns against false prophets.\"\n",
            "  ]\n",
            "}\n",
            "```\n",
            "\n",
            "📜 Gemini event response for Separation in Titus:\n",
            "```json\n",
            "{\n",
            "  \"events\": [\n",
            "    \"Rejection of false teachings and myths\",\n",
            "    \"Living self-controlled, upright, and godly lives\",\n",
            "    \"Purifying a people for his own possession\"\n",
            "  ]\n",
            "}\n",
            "```\n"
          ]
        },
        {
          "output_type": "stream",
          "name": "stderr",
          "text": [
            "\r13it [10:10, 43.13s/it]"
          ]
        },
        {
          "output_type": "stream",
          "name": "stdout",
          "text": [
            "✅ Updated connections for: Separation\n",
            "   📚 Processed 10 books with book-specific events\n",
            "\n",
            "📜 Gemini event response for The Church in 1 Corinthians:\n",
            "```json\n",
            "{\n",
            "  \"events\": [\n",
            "    \"Addressing Divisions and Factions\",\n",
            "    \"Instructions Concerning Spiritual Gifts\",\n",
            "    \"Guidance on the Lord's Supper\",\n",
            "    \"The Importance of Unity in the Body of Christ\"\n",
            "  ]\n",
            "}\n",
            "```\n",
            "\n",
            "📜 Gemini event response for The Church in 2 Corinthians:\n",
            "```json\n",
            "{\n",
            "  \"events\": [\n",
            "    \"Paul's Defense of His Ministry\",\n",
            "    \"Concern for the Church's Purity\",\n",
            "    \"Collection for the Saints in Jerusalem\"\n",
            "  ]\n",
            "}\n",
            "```\n",
            "\n",
            "📜 Gemini event response for The Church in Ephesians:\n",
            "```json\n",
            "{\n",
            "  \"events\": [\n",
            "    \"God's Purpose to Unite All Things in Christ\",\n",
            "    \"The Mystery of the Church Revealed to Paul\",\n",
            "    \"The Building Up of the Body of Christ through Spiritual Gifts\",\n",
            "    \"Husbands Loving Their Wives as Christ Loves the Church\"\n",
            "  ]\n",
            "}\n",
            "```\n",
            "\n",
            "📜 Gemini event response for The Church in Revelation:\n",
            "```json\n",
            "{\n",
            "  \"events\": [\n",
            "    \"The messages to the seven churches\",\n",
            "    \"The Marriage Supper of the Lamb\",\n",
            "    \"The New Jerusalem\"\n",
            "  ]\n",
            "}\n",
            "```\n",
            "\n",
            "📜 Gemini event response for The Church in Acts:\n",
            "```json\n",
            "{\n",
            "  \"events\": [\n",
            "    \"The Day of Pentecost\",\n",
            "    \"The Fellowship of Believers\",\n",
            "    \"The Selection of the Seven\",\n",
            "    \"Paul's Missionary Journeys Establishing Churches\"\n",
            "  ]\n",
            "}\n",
            "```\n",
            "\n",
            "📜 Gemini event response for The Church in 1 Thessalonians:\n",
            "```json\n",
            "{\n",
            "  \"events\": [\n",
            "    \"Paul's Ministry in Thessalonica\",\n",
            "    \"The Thessalonians' Reception of the Gospel\",\n",
            "    \"The Thessalonians Imitating Other Churches\",\n",
            "    \"Paul's Instructions on Brotherly Love\"\n",
            "  ]\n",
            "}\n",
            "```\n",
            "\n",
            "📜 Gemini event response for The Church in Romans:\n",
            "```json\n",
            "{\n",
            "  \"events\": [\n",
            "    \"The righteous live by faith.\",\n",
            "    \"Justification by faith.\",\n",
            "    \"The body of Christ with many members using their gifts.\",\n",
            "    \"Love fulfilling the law.\"\n",
            "  ]\n",
            "}\n",
            "```\n",
            "\n",
            "📜 Gemini event response for The Church in Galatians:\n",
            "```json\n",
            "{\n",
            "  \"events\": [\n",
            "    \"Paul's initial preaching in Galatia\",\n",
            "    \"The Galatians receiving the Spirit through faith\",\n",
            "    \"The conflict over circumcision\",\n",
            "    \"Paul confronting Peter at Antioch\"\n",
            "  ]\n",
            "}\n",
            "```\n",
            "\n",
            "📜 Gemini event response for The Church in Philippians:\n",
            "```json\n",
            "{\n",
            "  \"events\": [\n",
            "    \"Paul's thanksgiving and prayer for the Philippian believers (Philippians 1:3-11)\",\n",
            "    \"Paul's encouragement to unity and humility among believers (Philippians 2:1-11)\",\n",
            "    \"Paul's exhortation to stand firm in one spirit, striving together for the faith (Philippians 1:27)\",\n",
            "    \"The Philippians' partnership in the gospel ministry (Philippians 1:5)\"\n",
            "  ]\n",
            "}\n",
            "```\n",
            "\n",
            "📜 Gemini event response for The Church in 2 Thessalonians:\n",
            "```json\n",
            "{\n",
            "  \"events\": [\n",
            "    \"Paul's instruction to remain steadfast.\",\n",
            "    \"Exhortation to withdraw from those who are disobedient.\",\n",
            "    \"Warning against idleness.\"\n",
            "  ]\n",
            "}\n",
            "```\n",
            "\n",
            "📜 Gemini event response for The Church in Hebrews:\n",
            "```json\n",
            "{\n",
            "  \"events\": [\n",
            "    \"Exhortation to hold fast to our confession (Hebrews 4:14)\",\n",
            "    \"Exhortation to draw near to God with a true heart in full assurance of faith (Hebrews 10:22)\",\n",
            "    \"Exhortation to consider one another in order to stir up love and good works (Hebrews 10:24)\",\n",
            "    \"Exhortation not to forsake the assembling of ourselves together (Hebrews 10:25)\"\n",
            "  ]\n",
            "}\n",
            "```\n",
            "\n",
            "📜 Gemini event response for The Church in 1 Timothy:\n",
            "```json\n",
            "{\n",
            "  \"events\": [\n",
            "    \"Instructions concerning qualifications for overseers (bishops/elders)\",\n",
            "    \"Instructions concerning qualifications for deacons\",\n",
            "    \"Instructions on caring for widows who are truly in need\",\n",
            "    \"Warning against false teachers and their doctrines\"\n",
            "  ]\n",
            "}\n",
            "```\n",
            "\n",
            "📜 Gemini event response for The Church in Titus:\n",
            "```json\n",
            "{\n",
            "  \"events\": [\n",
            "    \"Paul's instructions to Titus to appoint elders in every town.\",\n",
            "    \"The qualification requirements for elders.\",\n",
            "    \"The need to rebuke false teachers.\",\n",
            "    \"Instruction to believers to be subject to rulers and authorities and to be ready for every good work.\"\n",
            "  ]\n",
            "}\n",
            "```\n",
            "\n",
            "📜 Gemini event response for The Church in 1 Peter:\n",
            "```json\n",
            "{\n",
            "  \"events\": [\n",
            "    \"Living Stones Being Built Into a Spiritual House\",\n",
            "    \"Suffering for Christ and Rejoicing in Hope\",\n",
            "    \"Shepherding the Flock of God Willingly\",\n",
            "    \"Exercising Gifts in Service to Others\"\n",
            "  ]\n",
            "}\n",
            "```\n",
            "\n",
            "📜 Gemini event response for The Church in Matthew:\n",
            "```json\n",
            "{\n",
            "  \"events\": [\n",
            "    \"The Great Commission\",\n",
            "    \"Peter Walking on Water\",\n",
            "    \"Jesus establishing the Lord's Supper\",\n",
            "    \"The teachings about binding and loosing\"\n",
            "  ]\n",
            "}\n",
            "```\n"
          ]
        },
        {
          "output_type": "stream",
          "name": "stderr",
          "text": [
            "WARNING:tornado.access:429 POST /v1beta/models/gemini-2.0-flash:generateContent?%24alt=json%3Benum-encoding%3Dint (127.0.0.1) 2055.83ms\n"
          ]
        },
        {
          "output_type": "stream",
          "name": "stdout",
          "text": [
            "⏳ Rate limit hit for The Church in 2 Timothy. Attempt 1/5. Waiting 60 seconds...\n",
            "\n",
            "📜 Gemini event response for The Church in 2 Timothy:\n",
            "```json\n",
            "{\n",
            "  \"events\": [\n",
            "    \"Paul's Charge to Timothy to Guard the Deposit of Faith\",\n",
            "    \"Timothy's Appointment as a Leader\",\n",
            "    \"Enduring Hardship for the Gospel\",\n",
            "    \"The Importance of Sound Doctrine and Avoiding False Teaching\"\n",
            "  ]\n",
            "}\n",
            "```\n",
            "\n",
            "📜 Gemini event response for The Church in Luke:\n",
            "```json\n",
            "{\n",
            "  \"events\": [\n",
            "    \"Jesus' selection of the twelve apostles.\",\n",
            "    \"The appointment of the seventy-two.\",\n",
            "    \"Jesus celebrating the Last Supper with His disciples.\",\n",
            "    \"Jesus' instructions to His disciples to wait in Jerusalem\"\n",
            "  ]\n",
            "}\n",
            "```\n",
            "\n",
            "📜 Gemini event response for The Church in 1 John:\n",
            "```json\n",
            "{\n",
            "  \"events\": [\n",
            "    \"Exhortation to love one another.\",\n",
            "    \"Warning against false teachers/antichrists within the community.\",\n",
            "    \"Confession of sins within the fellowship.\"\n",
            "  ]\n",
            "}\n",
            "```\n",
            "\n",
            "📜 Gemini event response for The Church in John:\n",
            "```json\n",
            "{\n",
            "  \"events\": [\n",
            "    \"The Calling of the First Disciples\",\n",
            "    \"Jesus Washing the Disciples' Feet\",\n",
            "    \"The Promise of the Holy Spirit as the Paraclete\",\n",
            "    \"Jesus' Prayer for Future Believers (John 17)\"\n",
            "  ]\n",
            "}\n",
            "```\n",
            "\n",
            "📜 Gemini event response for The Church in James:\n",
            "```json\n",
            "{\n",
            "  \"events\": [\n",
            "    \"Trials and temptations faced by believers\",\n",
            "    \"The importance of prayer for the sick\",\n",
            "    \"The warning against showing favoritism\",\n",
            "    \"The call to be doers of the word, not hearers only\"\n",
            "  ]\n",
            "}\n",
            "```\n"
          ]
        },
        {
          "output_type": "stream",
          "name": "stderr",
          "text": [
            "\r14it [12:05, 64.88s/it]"
          ]
        },
        {
          "output_type": "stream",
          "name": "stdout",
          "text": [
            "✅ Updated connections for: The Church\n",
            "   📚 Processed 20 books with book-specific events\n",
            "⚠️ Skipping Holy Angels due to missing data.\n",
            "\n",
            "📜 Gemini event response for Fallen Angels in Isaiah:\n",
            "```json\n",
            "{\n",
            "  \"events\": [\n",
            "    \"The Fall of Lucifer (Day Star)\",\n",
            "    \"Babylon's King as a Type of Lucifer\",\n",
            "    \"Future Punishment\"\n",
            "  ]\n",
            "}\n",
            "```\n",
            "\n",
            "📜 Gemini event response for Fallen Angels in Ezekiel:\n",
            "```json\n",
            "{\n",
            "  \"events\": [\n",
            "    \"Lament over Tyre\",\n",
            "    \"Lament over the King of Tyre\"\n",
            "  ]\n",
            "}\n",
            "```\n",
            "\n",
            "📜 Gemini event response for Fallen Angels in Matthew:\n",
            "```json\n",
            "{\n",
            "  \"events\": [\n",
            "    \"The Temptation of Jesus\",\n",
            "    \"Jesus Casting Out Demons\",\n",
            "    \"Parable of the Weeds\",\n",
            "    \"The eternal fire prepared for the devil and his angels\"\n",
            "  ]\n",
            "}\n",
            "```\n",
            "\n",
            "📜 Gemini event response for Fallen Angels in Revelation:\n",
            "```json\n",
            "{\n",
            "  \"events\": [\n",
            "    \"War in Heaven and the casting down of Satan\",\n",
            "    \"The Dragon persecuting the woman who gave birth to the male child\",\n",
            "    \"The Dragon making war with the rest of her offspring, who keep God's commandments\",\n",
            "    \"The binding of Satan for a thousand years\"\n",
            "  ]\n",
            "}\n",
            "```\n",
            "\n",
            "📜 Gemini event response for Fallen Angels in Genesis:\n",
            "```json\n",
            "{\n",
            "  \"events\": [\n",
            "    \"The Serpent's Temptation of Eve\",\n",
            "    \"The introduction of sin into the world\",\n",
            "    \"The Curse upon the Serpent\"\n",
            "  ]\n",
            "}\n",
            "```\n",
            "\n",
            "📜 Gemini event response for Fallen Angels in Romans:\n",
            "```json\n",
            "{\n",
            "  \"events\": [\n",
            "    \"Humanity's subjugation to futility\",\n",
            "    \"The reign of death through Adam's sin\",\n",
            "    \"The opposition to God's will in believers\",\n",
            "    \"The crushing of Satan under believers' feet\"\n",
            "  ]\n",
            "}\n",
            "```\n"
          ]
        },
        {
          "output_type": "stream",
          "name": "stderr",
          "text": [
            "\r16it [12:17, 37.61s/it]"
          ]
        },
        {
          "output_type": "stream",
          "name": "stdout",
          "text": [
            "✅ Updated connections for: Fallen Angels\n",
            "   📚 Processed 6 books with book-specific events\n",
            "\n",
            "📜 Gemini event response for Death in Revelation:\n",
            "```json\n",
            "{\n",
            "  \"events\": [\n",
            "    \"Souls Under the Altar (Revelation 6:9-11)\",\n",
            "    \"The Second Death (Revelation 20:14)\",\n",
            "    \"Resurrection of the Dead (Revelation 20:12-13)\",\n",
            "    \"The Great White Throne Judgment (Revelation 20:11-15)\"\n",
            "  ]\n",
            "}\n",
            "```\n",
            "\n",
            "📜 Gemini event response for Death in James:\n",
            "```json\n",
            "{\n",
            "  \"events\": [\n",
            "    \"Faith without works is dead (James 2:26)\",\n",
            "    \"The tongue as a deadly poison (James 3:8)\",\n",
            "    \"Warning against worldliness, which leads to spiritual death (James 4:4)\",\n",
            "    \"Condemnation of the rich who oppress the poor, leading to their judgment (James 5:1-6)\"\n",
            "  ]\n",
            "}\n",
            "```\n",
            "\n",
            "📜 Gemini event response for Death in Luke:\n",
            "```json\n",
            "{\n",
            "  \"events\": [\n",
            "    \"John the Baptist's Martyrdom\",\n",
            "    \"The Death of Lazarus\",\n",
            "    \"The Crucifixion of Jesus\",\n",
            "    \"The Death of the Rich Man\"\n",
            "  ]\n",
            "}\n",
            "```\n",
            "\n",
            "📜 Gemini event response for Death in 2 Corinthians:\n",
            "```json\n",
            "{\n",
            "  \"events\": [\n",
            "    \"Paul's thorn in the flesh\",\n",
            "    \"Paul's discussion of being absent from the body and present with the Lord\",\n",
            "    \"Paul's reflection on trials that nearly led to death\"\n",
            "  ]\n",
            "}\n",
            "```\n",
            "\n",
            "📜 Gemini event response for Death in Philippians:\n",
            "```json\n",
            "{\n",
            "  \"events\": [\n",
            "    \"Paul's Desire to Depart and Be with Christ\",\n",
            "    \"The Potential Death of Epaphroditus\",\n",
            "    \"The Danger of Death for Sharing the Gospel\"\n",
            "  ]\n",
            "}\n",
            "```\n",
            "\n",
            "📜 Gemini event response for Death in 1 Thessalonians:\n",
            "```json\n",
            "{\n",
            "  \"events\": [\n",
            "    \"Grief over those who have died\",\n",
            "    \"Hope in Christ's return\",\n",
            "    \"Resurrection of believers\",\n",
            "    \"Meeting the Lord in the air\"\n",
            "  ]\n",
            "}\n",
            "```\n",
            "\n",
            "📜 Gemini event response for Death in 1 Corinthians:\n",
            "```json\n",
            "{\n",
            "  \"events\": [\n",
            "    \"Christ died for our sins\",\n",
            "    \"Resurrection of Christ\",\n",
            "    \"Resurrection of believers\",\n",
            "    \"Judgment of the unsaved\"\n",
            "  ]\n",
            "}\n",
            "```\n",
            "\n",
            "📜 Gemini event response for Death in John:\n",
            "```json\n",
            "{\n",
            "  \"events\": [\n",
            "    \"The raising of Lazarus\",\n",
            "    \"Jesus' death on the cross\",\n",
            "    \"Jesus' resurrection\",\n",
            "    \"Jesus' promise of eternal life to believers\"\n",
            "  ]\n",
            "}\n",
            "```\n",
            "\n",
            "📜 Gemini event response for Death in Romans:\n",
            "```json\n",
            "{\n",
            "  \"events\": [\n",
            "    \"Death as the result of Adam's sin\",\n",
            "    \"Death's reign from Adam to Moses\",\n",
            "    \"Justification resulting in life\",\n",
            "    \"Resurrection of Christ\"\n",
            "  ]\n",
            "}\n",
            "```\n",
            "\n",
            "📜 Gemini event response for Death in Daniel:\n",
            "```json\n",
            "{\n",
            "  \"events\": [\n",
            "    \"Daniel's visions of future kingdoms and the resurrection.\",\n",
            "    \"The deliverance of Shadrach, Meshach, and Abednego from the fiery furnace.\",\n",
            "    \"Belshazzar's death during the fall of Babylon.\"\n",
            "  ]\n",
            "}\n",
            "```\n"
          ]
        },
        {
          "output_type": "stream",
          "name": "stderr",
          "text": [
            "WARNING:tornado.access:429 POST /v1beta/models/gemini-2.0-flash:generateContent?%24alt=json%3Benum-encoding%3Dint (127.0.0.1) 686.61ms\n"
          ]
        },
        {
          "output_type": "stream",
          "name": "stdout",
          "text": [
            "⏳ Rate limit hit for Death in Matthew. Attempt 1/5. Waiting 60 seconds...\n",
            "\n",
            "📜 Gemini event response for Death in Matthew:\n",
            "```json\n",
            "{\n",
            "  \"events\": [\n",
            "    \"Herod's Massacre of the Infants\",\n",
            "    \"The Death of John the Baptist\",\n",
            "    \"The Crucifixion of Jesus\",\n",
            "    \"The Resurrection of Jesus\"\n",
            "  ]\n",
            "}\n",
            "```\n",
            "\n",
            "📜 Gemini event response for Death in 2 Thessalonians:\n",
            "```json\n",
            "{\n",
            "  \"events\": [\n",
            "    \"Punishment of those who do not obey the gospel\",\n",
            "    \"Everlasting destruction away from the presence of the Lord\",\n",
            "    \"The coming of the Lord Jesus with His mighty angels in flaming fire\"\n",
            "  ]\n",
            "}\n",
            "```\n"
          ]
        },
        {
          "output_type": "stream",
          "name": "stderr",
          "text": [
            "\r17it [13:47, 50.52s/it]"
          ]
        },
        {
          "output_type": "stream",
          "name": "stdout",
          "text": [
            "✅ Updated connections for: Death\n",
            "   📚 Processed 12 books with book-specific events\n",
            "\n",
            "📜 Gemini event response for The Rapture of the Church in 1 Thessalonians:\n",
            "```json\n",
            "{\n",
            "  \"events\": [\n",
            "    \"The dead in Christ rising first\",\n",
            "    \"Those who are alive and remain being caught up together with them in the clouds\",\n",
            "    \"Meeting the Lord in the air\",\n",
            "    \"Always being with the Lord\"\n",
            "  ]\n",
            "}\n",
            "```\n",
            "\n",
            "📜 Gemini event response for The Rapture of the Church in Titus:\n",
            "```json\n",
            "{\n",
            "  \"events\": [\n",
            "    \"Looking for the blessed hope\",\n",
            "    \"Appearance of the glory of our great God and Savior, Jesus Christ\"\n",
            "  ]\n",
            "}\n",
            "```\n",
            "\n",
            "📜 Gemini event response for The Rapture of the Church in John:\n",
            "```json\n",
            "{\n",
            "  \"events\": [\n",
            "    \"Jesus' promise to prepare a place for his followers and return to take them to Himself.\",\n",
            "    \"Jesus' declaration that He is the way to the Father, implying a future gathering in His Father's house.\",\n",
            "    \"Jesus' prayer for his disciples to be with Him where He is, to see His glory.\",\n",
            "    \"Jesus' resurrection as a demonstration of overcoming death and a promise of future resurrection for believers.\"\n",
            "  ]\n",
            "}\n",
            "```\n",
            "\n",
            "📜 Gemini event response for The Rapture of the Church in 1 Corinthians:\n",
            "```json\n",
            "{\n",
            "  \"events\": [\n",
            "    \"Resurrection of Christ\",\n",
            "    \"Spiritual Gifts\",\n",
            "    \"Judgment of Works\"\n",
            "  ]\n",
            "}\n",
            "```\n",
            "\n",
            "📜 Gemini event response for The Rapture of the Church in 2 Corinthians:\n",
            "```json\n",
            "{\n",
            "  \"events\": [\n",
            "    \"The Judgment Seat of Christ\",\n",
            "    \"Present with the Lord\",\n",
            "    \"Putting on Immortality\"\n",
            "  ]\n",
            "}\n",
            "```\n"
          ]
        },
        {
          "output_type": "stream",
          "name": "stderr",
          "text": [
            "\r18it [14:03, 41.52s/it]"
          ]
        },
        {
          "output_type": "stream",
          "name": "stdout",
          "text": [
            "✅ Updated connections for: The Rapture of the Church\n",
            "   📚 Processed 5 books with book-specific events\n",
            "\n",
            "📜 Gemini event response for The Tribulation Period in Jeremiah:\n",
            "```json\n",
            "{\n",
            "  \"events\": [\n",
            "    \"The destruction of Jerusalem and the Temple\",\n",
            "    \"The Babylonian Exile\",\n",
            "    \"The Famine in Jerusalem\",\n",
            "    \"Jeremiah's prophecies of judgment against the nations\"\n",
            "  ]\n",
            "}\n",
            "```\n",
            "\n",
            "📜 Gemini event response for The Tribulation Period in Daniel:\n",
            "```json\n",
            "{\n",
            "  \"events\": [\n",
            "    \"Decree to restore and rebuild Jerusalem\",\n",
            "    \"Anointing of the most holy\",\n",
            "    \"Abomination that causes desolation\",\n",
            "    \"Michael arising\"\n",
            "  ]\n",
            "}\n",
            "```\n",
            "\n",
            "📜 Gemini event response for The Tribulation Period in Matthew:\n",
            "```json\n",
            "{\n",
            "  \"events\": [\n",
            "    \"Abomination of Desolation\",\n",
            "    \"Great Tribulation\",\n",
            "    \"The Coming of the Son of Man\",\n",
            "    \"The Sheep and Goats Judgment\"\n",
            "  ]\n",
            "}\n",
            "```\n",
            "\n",
            "📜 Gemini event response for The Tribulation Period in Revelation:\n",
            "```json\n",
            "{\n",
            "  \"events\": [\n",
            "    \"The opening of the seven seals\",\n",
            "    \"The sounding of the seven trumpets\",\n",
            "    \"The pouring out of the seven bowls of wrath\",\n",
            "    \"The reign of the Beast and False Prophet\"\n",
            "  ]\n",
            "}\n",
            "```\n"
          ]
        },
        {
          "output_type": "stream",
          "name": "stderr",
          "text": [
            "\r19it [14:10, 32.15s/it]"
          ]
        },
        {
          "output_type": "stream",
          "name": "stdout",
          "text": [
            "✅ Updated connections for: The Tribulation Period\n",
            "   📚 Processed 4 books with book-specific events\n",
            "\n",
            "📜 Gemini event response for The Second Coming and the Millennial Reign in Matthew:\n",
            "```json\n",
            "{\n",
            "  \"events\": [\n",
            "    \"The Triumphal Entry into Jerusalem\",\n",
            "    \"The Parable of the Sheep and the Goats\",\n",
            "    \"Jesus' promise to sit on his glorious throne with the twelve disciples judging the twelve tribes of Israel.\"\n",
            "  ]\n",
            "}\n",
            "```\n",
            "\n",
            "📜 Gemini event response for The Second Coming and the Millennial Reign in Luke:\n",
            "```json\n",
            "{\n",
            "  \"events\": [\n",
            "    \"The Annunciation to Mary (Luke 1:32-33)\",\n",
            "    \"Jesus' Declaration of Kingdom Authority (Luke 4:16-21)\",\n",
            "    \"Jesus' Entry into Jerusalem (Luke 19:28-44)\"\n",
            "  ]\n",
            "}\n",
            "```\n",
            "\n",
            "📜 Gemini event response for The Second Coming and the Millennial Reign in Acts:\n",
            "```json\n",
            "{\n",
            "  \"events\": [\n",
            "    \"The Ascension of Jesus\",\n",
            "    \"The Promise of Jesus' Return by the Angels\",\n",
            "    \"David's Throne Reference\"\n",
            "  ]\n",
            "}\n",
            "```\n",
            "\n",
            "📜 Gemini event response for The Second Coming and the Millennial Reign in Revelation:\n",
            "```json\n",
            "{\n",
            "  \"events\": [\n",
            "    \"The Binding of Satan for a Thousand Years\",\n",
            "    \"The Reign of Christ and the Saints for a Thousand Years\",\n",
            "    \"Satan's Release and Final Defeat\"\n",
            "  ]\n",
            "}\n",
            "```\n",
            "\n",
            "📜 Gemini event response for The Second Coming and the Millennial Reign in Ezekiel:\n",
            "```json\n",
            "{\n",
            "  \"events\": [\n",
            "    \"The Regathering of Israel to the Land\",\n",
            "    \"The Cleansing and Renewal of the Land\",\n",
            "    \"The New Temple\"\n",
            "  ]\n",
            "}\n",
            "```\n",
            "\n",
            "📜 Gemini event response for The Second Coming and the Millennial Reign in Daniel:\n",
            "```json\n",
            "{\n",
            "  \"events\": [\n",
            "    \"The Vision of the Four Beasts (Daniel 7)\",\n",
            "    \"The Vision of the Ram and the Goat (Daniel 8)\",\n",
            "    \"Gabriel's Interpretation of the Seventy Weeks Prophecy (Daniel 9)\",\n",
            "    \"Michael's Stand Against Evil (Daniel 12)\"\n",
            "  ]\n",
            "}\n",
            "```\n",
            "\n",
            "📜 Gemini event response for The Second Coming and the Millennial Reign in Isaiah:\n",
            "```json\n",
            "{\n",
            "  \"events\": [\n",
            "    \"The New Heavens and a New Earth (Isaiah 65:17)\",\n",
            "    \"The Wolf and the Lamb Living Together (Isaiah 11:6)\",\n",
            "    \"The Redeemed Returning to Zion with Singing (Isaiah 35:10)\",\n",
            "    \"No More Death or Crying (Isaiah 65:19)\"\n",
            "  ]\n",
            "}\n",
            "```\n",
            "\n",
            "📜 Gemini event response for The Second Coming and the Millennial Reign in Zechariah:\n",
            "```json\n",
            "{\n",
            "  \"events\": [\n",
            "    \"The Lord will dwell in the midst of Jerusalem\",\n",
            "    \"Nations flocking to Jerusalem to seek the Lord\",\n",
            "    \"The Lord reigning as king over all the earth\",\n",
            "    \"Living waters going out from Jerusalem\"\n",
            "  ]\n",
            "}\n",
            "```\n",
            "\n",
            "📜 Gemini event response for The Second Coming and the Millennial Reign in Deuteronomy:\n",
            "```json\n",
            "{\n",
            "  \"events\": [\n",
            "    \"The Blessings for Obedience\",\n",
            "    \"The Curses for Disobedience\",\n",
            "    \"The Promise of Restoration After Exile\",\n",
            "    \"Moses' Song of Testimony\"\n",
            "  ]\n",
            "}\n",
            "```\n",
            "\n",
            "📜 Gemini event response for The Second Coming and the Millennial Reign in Romans:\n",
            "```json\n",
            "{\n",
            "  \"events\": [\n",
            "    \"Israel's temporary setting aside\",\n",
            "    \"Israel's future restoration\",\n",
            "    \"The fullness of the Gentiles\"\n",
            "  ]\n",
            "}\n",
            "```\n",
            "\n",
            "📜 Gemini event response for The Second Coming and the Millennial Reign in Jeremiah:\n",
            "```json\n",
            "{\n",
            "  \"events\": [\n",
            "    \"The New Covenant\",\n",
            "    \"Restoration of Israel to the Land\",\n",
            "    \"The Reign of the Branch of Righteousness\"\n",
            "  ]\n",
            "}\n",
            "```\n"
          ]
        },
        {
          "output_type": "stream",
          "name": "stderr",
          "text": [
            "\r20it [14:29, 28.40s/it]"
          ]
        },
        {
          "output_type": "stream",
          "name": "stdout",
          "text": [
            "✅ Updated connections for: The Second Coming and the Millennial Reign\n",
            "   📚 Processed 11 books with book-specific events\n",
            "\n",
            "📜 Gemini event response for The Judgment of the Lost in Revelation:\n",
            "```json\n",
            "{\n",
            "  \"events\": [\n",
            "    \"Satan's Release and Gathering of Nations\",\n",
            "    \"The Defeat of Satan's Army by Fire from Heaven\",\n",
            "    \"Satan Cast into the Lake of Fire\",\n",
            "    \"The Great White Throne Judgment\"\n",
            "  ]\n",
            "}\n",
            "```\n",
            "\n",
            "📜 Gemini event response for The Judgment of the Lost in Matthew:\n",
            "```json\n",
            "{\n",
            "  \"events\": [\n",
            "    \"The Parable of the Weeds\",\n",
            "    \"The Parable of the Net\",\n",
            "    \"The Sheep and the Goats\",\n",
            "    \"The condemnation of Gehenna\"\n",
            "  ]\n",
            "}\n",
            "```\n"
          ]
        },
        {
          "output_type": "stream",
          "name": "stderr",
          "text": [
            "WARNING:tornado.access:429 POST /v1beta/models/gemini-2.0-flash:generateContent?%24alt=json%3Benum-encoding%3Dint (127.0.0.1) 658.77ms\n"
          ]
        },
        {
          "output_type": "stream",
          "name": "stdout",
          "text": [
            "⏳ Rate limit hit for The Judgment of the Lost in John. Attempt 1/5. Waiting 60 seconds...\n",
            "\n",
            "📜 Gemini event response for The Judgment of the Lost in John:\n",
            "```json\n",
            "{\n",
            "  \"events\": [\n",
            "    \"Jesus' pronouncements about judgment and eternal life (John 5:28-29)\",\n",
            "    \"Jesus' statement about being the judge (John 5:22)\",\n",
            "    \"The condemnation of those who do not believe in Jesus (John 3:18)\",\n",
            "    \"Jesus' warning about those who hate him hating the Father (John 15:23-24)\"\n",
            "  ]\n",
            "}\n",
            "```\n"
          ]
        },
        {
          "output_type": "stream",
          "name": "stderr",
          "text": [
            "\r21it [15:38, 39.94s/it]"
          ]
        },
        {
          "output_type": "stream",
          "name": "stdout",
          "text": [
            "✅ Updated connections for: The Judgment of the Lost\n",
            "   📚 Processed 3 books with book-specific events\n",
            "\n",
            "📜 Gemini event response for Eternity in 2 Thessalonians:\n",
            "```json\n",
            "{\n",
            "  \"events\": [\n",
            "    \"Punishment of eternal destruction away from the presence of the Lord\",\n",
            "    \"Revelation of the Lord Jesus from heaven with his powerful angels\",\n",
            "    \"Eternal comfort and good hope through grace\"\n",
            "  ]\n",
            "}\n",
            "```\n",
            "\n",
            "📜 Gemini event response for Eternity in Revelation:\n",
            "```json\n",
            "{\n",
            "  \"events\": [\n",
            "    \"The thousand-year reign of Christ\",\n",
            "    \"The Great White Throne Judgment\",\n",
            "    \"The New Heaven and New Earth\",\n",
            "    \"The New Jerusalem\"\n",
            "  ]\n",
            "}\n",
            "```\n",
            "\n",
            "📜 Gemini event response for Eternity in 2 Peter:\n",
            "```json\n",
            "{\n",
            "  \"events\": [\n",
            "    \"Believers obtaining a faith of equal standing with the apostles through the righteousness of God and Savior Jesus Christ\",\n",
            "    \"God's divine power granting everything needed for life and godliness through the knowledge of Christ.\",\n",
            "    \"The promise of participating in the divine nature and escaping the corruption in the world caused by evil desires.\",\n",
            "    \"The coming day of God, which will bring about the destruction of the heavens by fire, and the dissolving of the elements in the heat.\"\n",
            "  ]\n",
            "}\n",
            "```\n",
            "\n",
            "📜 Gemini event response for Eternity in Ephesians:\n",
            "```json\n",
            "{\n",
            "  \"events\": [\n",
            "    \"Predestination of believers before the foundation of the world\",\n",
            "    \"The sealing of believers with the Holy Spirit as a guarantee of their inheritance\",\n",
            "    \"The Church as Christ's body, the fullness of him who fills all in all.\",\n",
            "    \"The inheritance incorruptible for the saints\"\n",
            "  ]\n",
            "}\n",
            "```\n",
            "\n",
            "📜 Gemini event response for Eternity in John:\n",
            "```json\n",
            "{\n",
            "  \"events\": [\n",
            "    \"Jesus' declaration “I am the Alpha and the Omega, the beginning and the end”\",\n",
            "    \"Jesus’ promise of eternal life to those who believe in Him\",\n",
            "    \"Jesus' High Priestly Prayer for the eternal unity of believers with the Father and the Son\",\n",
            "    \"The resurrection of Lazarus as a foreshadowing of eternal life\"\n",
            "  ]\n",
            "}\n",
            "```\n",
            "\n",
            "📜 Gemini event response for Eternity in 1 Corinthians:\n",
            "```json\n",
            "{\n",
            "  \"events\": [\n",
            "    \"Resurrection of Christ\",\n",
            "    \"Christ's reign until He puts all enemies under his feet\",\n",
            "    \"The destruction of the last enemy, death\",\n",
            "    \"Christ delivering the kingdom to God the Father\"\n",
            "  ]\n",
            "}\n",
            "```\n"
          ]
        },
        {
          "output_type": "stream",
          "name": "stderr",
          "text": [
            "22it [15:56, 43.47s/it]"
          ]
        },
        {
          "output_type": "stream",
          "name": "stdout",
          "text": [
            "✅ Updated connections for: Eternity\n",
            "   📚 Processed 6 books with book-specific events\n"
          ]
        },
        {
          "output_type": "stream",
          "name": "stderr",
          "text": [
            "\n"
          ]
        }
      ]
    },
    {
      "cell_type": "code",
      "source": [
        "\n",
        "theology_collection = db[\"theology\"]\n",
        "\n",
        "\n",
        "# Google AI Configuration\n",
        "EMBEDDING_MODEL = \"models/text-embedding-004\"  # The model for generating embeddings\n",
        "\n",
        "def generate_embedding(text):\n",
        "    \"\"\"Generates an embedding for the given text using Google AI.\"\"\"\n",
        "    try:\n",
        "        # The 'task_type' is crucial for retrieval/semantic search tasks\n",
        "        result = genai.embed_content(\n",
        "            model=EMBEDDING_MODEL,\n",
        "            content=text,\n",
        "            task_type=\"RETRIEVAL_DOCUMENT\"\n",
        "        )\n",
        "        return result['embedding']\n",
        "    except Exception as e:\n",
        "        print(f\"An error occurred during embedding generation: {e}\")\n",
        "        return None\n",
        "\n",
        "# ========== PROMPT FOR STANDARDIZING REFERENCES ==========\n",
        "STANDARDIZE_PROMPT = \"\"\"\n",
        "You are a biblical scholar and editor rooted in strong commitment to biblical authority and scriptures central role. Your task is to standardize biblical references in theological summaries by converting specific verse citations to general book references.\n",
        "\n",
        "Convert detailed verse references like \"(Gen 2:7, 15–25; James 3:9)\" to simplified book references like \"as seen in Genesis and James.\"\n",
        "\n",
        "Original Summary:\n",
        "\\\"\\\"\\\"\n",
        "{summary}\n",
        "\\\"\\\"\\\"\n",
        "\n",
        "Please return the standardized summary with verse references converted to book references. Keep all other content exactly the same.\n",
        "\n",
        "Return your response in this JSON format:\n",
        "{{\n",
        "  \"standardized_summary\": \"...\"\n",
        "}}\n",
        "\"\"\"\n",
        "\n",
        "# ========== ENHANCED JSON PARSER ==========\n",
        "def parse_gemini_json(raw_text: str):\n",
        "    \"\"\"\n",
        "    Extracts, cleans, and parses a JSON object from a raw string from a model.\n",
        "    Handles responses wrapped in markdown backticks and other common LLM artifacts.\n",
        "    \"\"\"\n",
        "    # 1. Extract JSON block from markdown ```json ... ``` or ``` ... ```\n",
        "    match = re.search(r\"```(?:json)?\\s*([\\s\\S]*?)\\s*```\", raw_text, re.DOTALL)\n",
        "\n",
        "    if match:\n",
        "        cleaned_text = match.group(1).strip()\n",
        "    else:\n",
        "        # 2. If no backticks, find the first '{' to the last '}'\n",
        "        # This handles cases where the model returns a raw JSON object without markdown.\n",
        "        start_index = raw_text.find('{')\n",
        "        end_index = raw_text.rfind('}')\n",
        "        if start_index == -1 or end_index == -1:\n",
        "            raise ValueError(\"🛑 No valid JSON object found in the response.\")\n",
        "        cleaned_text = raw_text[start_index : end_index + 1]\n",
        "\n",
        "    # 3. Clean up common formatting issues\n",
        "    # Replace slanted or \"smart\" quotes with standard double quotes\n",
        "    cleaned_text = cleaned_text.replace(\"\"\", '\"').replace(\"\"\", '\"')\n",
        "    # This replacement is left out as it can corrupt apostrophes (e.g., God's)\n",
        "    # cleaned_text = cleaned_text.replace(\"'\", \"'\").replace(\"'\", \"'\")\n",
        "\n",
        "    # Remove trailing commas from lists (e.g., [1, 2, ]) and objects (e.g., {a:1,})\n",
        "    cleaned_text = re.sub(r\",\\s*\\]\", \"]\", cleaned_text)\n",
        "    cleaned_text = re.sub(r\",\\s*}\", \"}\", cleaned_text)\n",
        "\n",
        "    # 4. Attempt to parse the cleaned JSON\n",
        "    try:\n",
        "        return json.loads(cleaned_text)\n",
        "    except json.JSONDecodeError as e:\n",
        "        # If parsing fails, raise a detailed error for easier debugging\n",
        "        error_message = f\"🛑 JSON parsing failed after cleanup: {e}\"\n",
        "        # For debugging, you can uncomment the next line to see the failed text\n",
        "        # print(f\"--- Failed Text ---\\n{cleaned_text}\\n---------------------\")\n",
        "        raise ValueError(error_message) from e\n",
        "\n",
        "# ========== MAIN PROCESS ==========\n",
        "for doc in tqdm(theology_collection.find()):\n",
        "    concept = doc.get(\"concept\", \"\").strip()\n",
        "    summary = doc.get(\"summary\", \"\").strip()\n",
        "\n",
        "    # Skip if no concept or summary\n",
        "    if not concept or not summary:\n",
        "        print(f\"⚠️ Skipping {concept or 'unnamed'} due to missing concept or summary.\")\n",
        "        continue\n",
        "\n",
        "    # Skip if embedding already exists\n",
        "    if \"embedding\" in doc:\n",
        "        print(f\"⏩ Skipping {concept}: Embedding already exists.\")\n",
        "        continue\n",
        "\n",
        "    try:\n",
        "        # === 1. Standardize Biblical References ===\n",
        "        print(f\"\\n🔄 Processing {concept}...\")\n",
        "\n",
        "        prompt = STANDARDIZE_PROMPT.format(summary=summary)\n",
        "        response = model.generate_content(prompt)\n",
        "\n",
        "        print(f\"📜 Standardization response for {concept}:\\n{response.text.strip()}\\n\")\n",
        "\n",
        "        parsed = parse_gemini_json(response.text)\n",
        "        standardized_summary = parsed.get(\"standardized_summary\", summary)\n",
        "\n",
        "        # === 2. Generate Embedding ===\n",
        "        print(f\"🧠 Generating embedding for {concept}...\")\n",
        "        embedding = generate_embedding(standardized_summary)\n",
        "\n",
        "        if embedding is None:\n",
        "            print(f\"❌ Failed to generate embedding for {concept}\")\n",
        "            continue\n",
        "\n",
        "        # === 3. Update Document ===\n",
        "        theology_collection.update_one(\n",
        "            {\"_id\": doc[\"_id\"]},\n",
        "            {\"$set\": {\n",
        "                \"standardized_summary\": standardized_summary,\n",
        "                \"embedding\": embedding\n",
        "            }}\n",
        "        )\n",
        "\n",
        "        print(f\"✅ Updated {concept} with standardized summary and embedding\")\n",
        "\n",
        "    except Exception as e:\n",
        "        print(f\"❌ Error processing {concept}: {e}\")\n",
        "        continue\n",
        "\n",
        "print(\"\\n🎉 Finished processing all theology documents!\")"
      ],
      "metadata": {
        "colab": {
          "base_uri": "https://localhost:8080/",
          "height": 1000
        },
        "id": "_bJOqJSPHC9v",
        "outputId": "707e0bb1-67fc-4f97-e257-95a3e0e9f41d"
      },
      "execution_count": null,
      "outputs": [
        {
          "output_type": "stream",
          "name": "stderr",
          "text": [
            "\r0it [00:00, ?it/s]"
          ]
        },
        {
          "output_type": "stream",
          "name": "stdout",
          "text": [
            "\n",
            "🔄 Processing The Holy Scriptures...\n",
            "📜 Standardization response for The Holy Scriptures:\n",
            "```json\n",
            "{\n",
            "  \"standardized_summary\": \"We teach that the Bible is God’s written revelation to man, and thus the 66 books of the Bible given to us by the Holy Spirit constitute the plenary (inspired equally in all parts) word of God (as seen in 1 Corinthians and 2 Peter). We teach that the word of God is an objective, propositional revelation (as seen in 1 Corinthians and 1 Thessalonians), verbally inspired in every word (as seen in 2 Timothy), absolutely inerrant in the original documents, infallible, and God-breathed. We teach the literal, grammatical-historical interpretation of Scripture, which affirms the belief that the opening chapters of Genesis present creation in six literal days (as seen in Genesis and Exodus). We teach that the Bible constitutes the only infallible rule of faith and practice (as seen in Matthew, John, 1 Corinthians, 2 Timothy, Hebrews, and 2 Peter). We teach that God spoke in his written word by a process of dual authorship. The Holy Spirit so superintended the human authors that, through their individual personalities and different styles of writing, they composed and recorded God’s word to man (as seen in 2 Peter) without error in the whole or in the part (as seen in Matthew and 2 Timothy). We teach that, whereas there may be several applications of any given passage of Scripture, there is but one true interpretation. The meaning of Scripture is to be found as one diligently applies the literal, grammatical-historical method of interpretation under the enlightenment of the Holy Spirit (as seen in John, 1 Corinthians, and 1 John). It is the responsibility of believers to ascertain carefully the true intent and meaning of Scripture, recognizing that proper application is binding on all generations. Yet the truth of Scripture stands in judgment of men; never do men stand in judgment of it.\"\n",
            "}\n",
            "```\n",
            "\n",
            "🧠 Generating embedding for The Holy Scriptures...\n"
          ]
        },
        {
          "output_type": "stream",
          "name": "stderr",
          "text": [
            "\r1it [00:07,  7.64s/it]"
          ]
        },
        {
          "output_type": "stream",
          "name": "stdout",
          "text": [
            "✅ Updated The Holy Scriptures with standardized summary and embedding\n",
            "\n",
            "🔄 Processing God...\n",
            "📜 Standardization response for God:\n",
            "```json\n",
            "{\n",
            "  \"standardized_summary\": \"We teach that there is but one living and true God (as seen in Deuteronomy, Isaiah, and 1 Corinthians), an infinite, all-knowing Spirit (John), perfect in all his attributes, one in essence, eternally existing in three Persons—Father, Son, and Holy Spirit (Matthew and 2 Corinthians)—each equally deserving worship and obedience.\"\n",
            "}\n",
            "```\n",
            "\n",
            "🧠 Generating embedding for God...\n"
          ]
        },
        {
          "output_type": "stream",
          "name": "stderr",
          "text": [
            "\r2it [00:10,  4.65s/it]"
          ]
        },
        {
          "output_type": "stream",
          "name": "stdout",
          "text": [
            "✅ Updated God with standardized summary and embedding\n",
            "\n",
            "🔄 Processing God The Father...\n",
            "📜 Standardization response for God The Father:\n",
            "```json\n",
            "{\n",
            "  \"standardized_summary\": \"We teach that God the Father, the first person of the Trinity, orders and disposes all things according to his own purpose and grace (as seen in Psalms and 1 Corinthians). He is the Creator of all things (as seen in Genesis and Ephesians). As the only absolute and omnipotent ruler in the universe, he is sovereign in creation, providence, and redemption (as seen in Psalms and Romans). His fatherhood involves both his designation within the Trinity and his relationship with mankind. As Creator he is Father to all men (as seen in Ephesians), but he is Spiritual Father only to believers (as seen in Romans and 2 Corinthians). He has decreed for his own glory all things that come to pass (as seen in Ephesians). He continually upholds, directs, and governs all creatures and events (as seen in 1 Chronicles). In his sovereignty he is neither author nor approver of sin (as seen in Habakkuk), nor does he abridge the accountability of moral, intelligent creatures (as seen in 1 Peter). He has graciously chosen from eternity past those whom he would have as his own (as seen in Ephesians); he saves from sin all those who come to him through Jesus Christ; he adopts as his own all those who come to him; and he becomes, upon adoption, Father to his own (as seen in John, Romans, Galatians and Hebrews).\"\n",
            "}\n",
            "```\n",
            "\n",
            "🧠 Generating embedding for God The Father...\n"
          ]
        },
        {
          "output_type": "stream",
          "name": "stderr",
          "text": [
            "\r3it [00:13,  4.13s/it]"
          ]
        },
        {
          "output_type": "stream",
          "name": "stdout",
          "text": [
            "✅ Updated God The Father with standardized summary and embedding\n",
            "\n",
            "🔄 Processing God The Son...\n",
            "📜 Standardization response for God The Son:\n",
            "```json\n",
            "{\n",
            "  \"standardized_summary\": \"We teach that Jesus Christ, the second person of the Trinity, possesses all the  divine excellencies, and in these he is coequal, consubstantial, and coeternal with  the Father (as seen in John).  We teach that God the Father created “the heavens and the earth and all that is in  them” according to his own will, through his Son, Jesus Christ, by whom all  things continue in existence and in operations (as seen in John, Colossians and Hebrews).  We teach that in the incarnation (God becoming man) Christ surrendered only  the prerogatives of deity but nothing of the divine essence, either in degree or  kind. In his incarnation, the eternally existing second person of the Trinity  accepted all the essential characteristics of humanity and so became the God-  man (as seen in Philippians and Colossians).  We teach that Jesus Christ represents humanity and deity in indivisible oneness  (as seen in Micah, John and Colossians).  We teach that our Lord Jesus Christ was virgin born (as seen in Isaiah, Matthew and Luke); that he was God incarnate (as seen in John); and that the purpose of  the incarnation was to reveal God, redeem men, and rule over God’s kingdom  (as seen in Psalm, Isaiah, John, Philippians, Hebrews and 1 Peter).  We teach that, in the incarnation, the second person of the Trinity laid aside his  right to the full prerogatives of coexistence with God, assumed the place of a  Son, and took on an existence appropriate to a servant while never divesting  himself of his divine attributes (as seen in Philippians).  We teach that our Lord Jesus Christ accomplished our redemption through the  shedding of his blood and sacrificial death on the cross and that his death was  voluntary, vicarious, substitutionary, propitiatory, and redemptive (as seen in John, Romans and 1 Peter).  We teach that on the basis of the efficacy of the death of our Lord Jesus Christ,  the believing sinner is freed from the punishment, the penalty, the power, and  one day the very presence of sin; and that he is declared righteous, given eternal  life, and adopted into the family of God (as seen in Romans, 2 Corinthians and 1 Peter).  We teach that our justification is made sure by his literal, physical resurrection  from the dead and that he is now ascended to the right hand of the Father, where  he now mediates as our Advocate and High Priest (as seen in Matthew, Luke, Acts, Romans, Hebrews and 1 John).  We teach that in the resurrection of Jesus Christ from the grave, God confirmed  the deity of his Son and gave proof that God has accepted the atoning work of  Christ on the cross. Jesus’ bodily resurrection is also the guarantee of a future  resurrection life for all believers (as seen in John, Romans and 1 Corinthians).  We teach that Jesus Christ will return to receive the church, which is his body,  unto himself at the rapture and, returning with his church in glory, will establish  his millennial kingdom on earth (as seen in Acts, 1 Thessalonians and Revelation).  We teach that the Lord Jesus Christ is the one through whom God will judge all mankind (as seen in John):  I. Believers (as seen in 1 Corinthians and 2 Corinthians);  II. Living inhabitants of the earth at his glorious return (as seen in Matthew);  and  III. Unbelieving dead at the great white throne (as seen in Revelation).  As the mediator between God and man (as seen in 1 Timothy), the head of his body the  church (as seen in Ephesians and Colossians), and the coming universal King who will  reign on the throne of David (as seen in Isaiah, Ezekiel and Luke), he is  the final judge of all who fail to place their trust in him as Lord and Savior  (as seen in Matthew and Acts).\"\n",
            "}\n",
            "```\n",
            "\n",
            "🧠 Generating embedding for God The Son...\n"
          ]
        },
        {
          "output_type": "stream",
          "name": "stderr",
          "text": [
            "\r4it [00:20,  5.09s/it]"
          ]
        },
        {
          "output_type": "stream",
          "name": "stdout",
          "text": [
            "✅ Updated God The Son with standardized summary and embedding\n",
            "\n",
            "🔄 Processing God the Holy Spirit...\n",
            "📜 Standardization response for God the Holy Spirit:\n",
            "```json\n",
            "{\n",
            "  \"standardized_summary\": \"We teach that the Holy Spirit is a divine person, eternal, underived, possessing  all the attributes of personality and deity, including intellect (as seen in 1 Corinthians),  emotions (as seen in Ephesians), will (as seen in 1 Corinthians), eternality (as seen in Hebrews), omnipresence  (as seen in Psalms), omniscience (as seen in Isaiah), omnipotence (as seen in Romans), and  truthfulness (as seen in John). In all the divine attributes he is coequal and  consubstantial with the Father and the Son (as seen in Matthew, Acts, 1 Corinthians, 2 Corinthians, Jeremiah, and Hebrews).  We teach that it is the work of the Holy Spirit to execute the divine will with  relation to all mankind. We recognize his sovereign activity in the creation (as seen in Genesis), the incarnation (as seen in Matthew), the written revelation (as seen in 2 Peter), and the  work of salvation (as seen in John).  We teach that a unique work of the Holy Spirit in this age began at Pentecost  when he came from the Father as promised by Christ (as seen in John) to  initiate and complete the building of the body of Christ. His activity includes  convicting the world of sin, of righteousness, and of judgment; glorifying the  Lord Jesus Christ and transforming believers into the image of Christ (as seen in John, Acts, Romans, 2 Corinthians and Ephesians).  We teach that the Holy Spirit is the supernatural and sovereign agent in  regeneration, baptizing all believers into the body of Christ (as seen in 1 Corinthians). The  Holy Spirit also indwells, sanctifies, instructs, empowers them for service, and  seals them unto the day of redemption (as seen in Romans, 2 Corinthians and Ephesians).  We teach that the Holy Spirit is the divine teacher who guided the apostles and  prophets into all truth as they committed to writing God’s revelation, the Bible (as seen in 2 Peter). Every believer possesses the indwelling presence of the Holy  Spirit from the moment of salvation, and it is the duty of all those born of the  Spirit to be filled with (controlled by) the Spirit (as seen in Romans, Ephesians, and 1 John).  We teach that the Holy Spirit administers spiritual gifts to the church. The Holy  Spirit glorifies neither himself nor his gifts by ostentatious displays, but he does  glorify Christ by implementing his work of redeeming the lost and building up  believers in the most holy faith (as seen in John, Acts, 1 Corinthians and 2 Corinthians).  We teach, in this respect, that God the Holy Spirit is sovereign in the bestowing  of all his gifts for the perfecting of the saints today and that speaking in tongues  and the working of sign miracles in the beginning days of the church were for  the purpose of pointing to and authenticating the apostles as revealers of divine  truth, and were never intended to be characteristic of the lives of believers (as seen in 1 Corinthians, 2 Corinthians, Ephesians, and Hebrews).\"\n",
            "}\n",
            "```\n",
            "\n",
            "🧠 Generating embedding for God the Holy Spirit...\n"
          ]
        },
        {
          "output_type": "stream",
          "name": "stderr",
          "text": [
            "\r5it [00:25,  5.13s/it]"
          ]
        },
        {
          "output_type": "stream",
          "name": "stdout",
          "text": [
            "✅ Updated God the Holy Spirit with standardized summary and embedding\n",
            "\n",
            "🔄 Processing Man...\n",
            "📜 Standardization response for Man:\n",
            "```json\n",
            "{\n",
            "  \"standardized_summary\": \"We teach that man was directly and immediately created by God in his image  and likeness. Man was created free of sin with a rational nature, intelligence,  volition, self-determination, and moral responsibility to God (as seen in Genesis and James).  We teach that God’s intention in the creation of man was that man should glorify  God, enjoy God’s fellowship, live his life in the will of God, and by this  accomplish God’s purpose for man in the world (as seen in Isaiah, Colossians, and Revelation).  We teach that in Adam’s sin of disobedience to the revealed will and word of  God, man lost his innocence; incurred the penalty of spiritual and physical death;  became subject to the wrath of God; and became inherently corrupt and utterly  incapable of choosing or doing that which is acceptable to God apart from divine  grace. With no recuperative powers to enable him to recover himself, man is  hopelessly lost. Man’s salvation is thereby wholly of God’s grace through the  redemptive work of our Lord Jesus Christ (as seen in Genesis, John, Romans, 1 Corinthians, Ephesians, 1 Timothy, and 1 John).  We teach that because all men were in Adam, a nature corrupted by Adam’s sin  has been transmitted to all men of all ages, Jesus Christ being the only exception.  All men are thus sinners by nature, by choice, and by divine declaration (as seen in Psalms, Jeremiah, and Romans).\"\n",
            "}\n",
            "```\n",
            "\n",
            "🧠 Generating embedding for Man...\n"
          ]
        },
        {
          "output_type": "stream",
          "name": "stderr",
          "text": [
            "\r6it [00:29,  4.61s/it]"
          ]
        },
        {
          "output_type": "stream",
          "name": "stdout",
          "text": [
            "✅ Updated Man with standardized summary and embedding\n",
            "\n",
            "🔄 Processing Salvation...\n",
            "📜 Standardization response for Salvation:\n",
            "```json\n",
            "{\n",
            "  \"standardized_summary\": \"We teach that salvation is wholly of God by grace on the basis of the redemption  of Jesus Christ, the merit of his shed blood, and not on the basis of human merit  or works (as seen in John, Ephesians, and 1 Peter).\"\n",
            "}\n",
            "```\n",
            "\n",
            "🧠 Generating embedding for Salvation...\n"
          ]
        },
        {
          "output_type": "stream",
          "name": "stderr",
          "text": [
            "\r7it [00:31,  3.95s/it]"
          ]
        },
        {
          "output_type": "stream",
          "name": "stdout",
          "text": [
            "✅ Updated Salvation with standardized summary and embedding\n",
            "\n",
            "🔄 Processing Election...\n",
            "📜 Standardization response for Election:\n",
            "```json\n",
            "{\n",
            "  \"standardized_summary\": \"We teach that election is the act of God by which, before the foundation of the  world, he chose in Christ those whom he graciously regenerates, saves, and  sanctifies (as seen in Romans, Ephesians, 2 Thessalonians, 2 Timothy, and 1 Peter).  We teach that sovereign election does not contradict or negate the responsibility  of man to repent and trust Christ as Savior and Lord (as seen in Ezekiel, John, 2 Thessalonians, and Revelation). Nevertheless, since  sovereign grace includes the means of receiving the gift of salvation as well as  the gift itself, sovereign election will result in what God determines. All whom  the Father calls to himself will come in faith and all who come in faith the Father  will receive (as seen in John, Acts, and James).  We teach that the unmerited favor that God grants to totally depraved sinners is  not related to any initiative of their own part nor to God’s anticipation of what  they might do by their own will, but is solely of his sovereign grace and mercy  (as seen in Ephesians, Titus, and 1 Peter).  We teach that election should not be looked upon as based merely on abstract  sovereignty. God is truly sovereign but he exercises this sovereignty in harmony  with his other attributes, especially his omniscience, justice, holiness, wisdom,  grace, and love (as seen in Romans). This sovereignty will always exalt the will of  God in a manner totally consistent with his character as revealed in the life of  our Lord Jesus Christ (as seen in Matthew and 2 Timothy).\"\n",
            "}\n",
            "```\n",
            "\n",
            "🧠 Generating embedding for Election...\n"
          ]
        },
        {
          "output_type": "stream",
          "name": "stderr",
          "text": [
            "\r8it [00:35,  3.93s/it]"
          ]
        },
        {
          "output_type": "stream",
          "name": "stdout",
          "text": [
            "✅ Updated Election with standardized summary and embedding\n",
            "\n",
            "🔄 Processing Regeneration...\n",
            "📜 Standardization response for Regeneration:\n",
            "```json\n",
            "{\n",
            "  \"standardized_summary\": \"We teach that regeneration is a supernatural work of the Holy Spirit by which the  divine nature and divine life are given (as seen in John and Titus). It is instantaneous  and is accomplished solely by the power of the Holy Spirit through the  instrumentality of the word of God (as seen in John), when the repentant sinner, as  enabled by the Holy Spirit, responds in faith to the divine provision of salvation.  Genuine regeneration is manifested by fruits worthy of repentance as  demonstrated in righteous attitudes and conduct. Good works will be its proper  evidence and fruit (as seen in 1 Corinthians, Ephesians, Philippians, Colossians, and 2 Peter). This obedience causes the believer to be increasingly conformed to  the image of our Lord Jesus Christ (as seen in 2 Corinthians). Such a conformity is climaxed  in the believer’s glorification at Christ’s coming (as seen in Romans, 2 Peter, and 1 John).\"\n",
            "}\n",
            "```\n",
            "\n",
            "🧠 Generating embedding for Regeneration...\n"
          ]
        },
        {
          "output_type": "stream",
          "name": "stderr",
          "text": [
            "\r9it [00:38,  3.66s/it]"
          ]
        },
        {
          "output_type": "stream",
          "name": "stdout",
          "text": [
            "✅ Updated Regeneration with standardized summary and embedding\n",
            "\n",
            "🔄 Processing Justification...\n",
            "📜 Standardization response for Justification:\n",
            "```json\n",
            "{\n",
            "  \"standardized_summary\": \"We teach that justification before God is an act of God (as seen in Romans) by which  he declares righteous those who, through faith in Christ, repent of their sins  (as seen in Luke, Acts, Romans, 2 Corinthians and Isaiah) and  confess him as sovereign Lord (as seen in Romans, 1 Corinthians, 2 Corinthians, and Philippians). This righteousness is apart from any virtue or work of man (as seen in Romans) and involves the placing of our sins on Christ (as seen in Colossians and 1 Peter) and  the imputation of Christ’s righteousness to us (as seen in 1 Corinthians and 2 Corinthians).  By this means God is enabled to “be just and the justifier of the one who has  faith in Jesus” (as seen in Romans).\"\n",
            "}\n",
            "```\n",
            "\n",
            "🧠 Generating embedding for Justification...\n"
          ]
        },
        {
          "output_type": "stream",
          "name": "stderr",
          "text": [
            "\r10it [00:41,  3.50s/it]"
          ]
        },
        {
          "output_type": "stream",
          "name": "stdout",
          "text": [
            "✅ Updated Justification with standardized summary and embedding\n",
            "\n",
            "🔄 Processing Sanctification...\n",
            "📜 Standardization response for Sanctification:\n",
            "```json\n",
            "{\n",
            "  \"standardized_summary\": \"We teach that every believer is sanctified (set apart) unto God by justification  and is therefore declared to be holy and is therefore identified as a saint. This  sanctification is positional and instantaneous and should not be confused with  progressive sanctification. This sanctification has to do with the believer’s  standing, not his present walk or condition (as seen in Acts, 1 Corinthians, 2 Thessalonians, Hebrews, and 1 Peter).  We teach that there is also by the work of the Holy Spirit a progressive  sanctification by which the state of the believer is brought closer to the likeness  of Christ through obedience to the word of God and the empowering of the Holy  Spirit. The believer is able to live a life of increasing holiness in conformity to  the will of God, becoming more and more like our Lord Jesus Christ (as seen in John, Romans, 2 Corinthians, and 1 Thessalonians).  In this respect, we teach that every saved person is involved in a daily conflict—  the new creation in Christ doing battle against the flesh—but adequate provision  is made for victory through the power of the indwelling Holy Spirit. The struggle  nevertheless stays with the believer all through this earthly life and is never  completely ended. All claims to the eradication of sin in this life are unscriptural.  Eradication of sin is not possible, but the Holy Spirit does provide for victory  over sin (as seen in Galatians, Philippians, Colossians, 1 Peter, and 1 John).\"\n",
            "}\n",
            "```\n",
            "\n",
            "🧠 Generating embedding for Sanctification...\n"
          ]
        },
        {
          "output_type": "stream",
          "name": "stderr",
          "text": [
            "\r11it [00:45,  3.61s/it]"
          ]
        },
        {
          "output_type": "stream",
          "name": "stdout",
          "text": [
            "✅ Updated Sanctification with standardized summary and embedding\n",
            "\n",
            "🔄 Processing Security...\n",
            "📜 Standardization response for Security:\n",
            "```json\n",
            "{\n",
            "  \"standardized_summary\": \"We teach that all the redeemed once saved are kept by God’s power and are thus  secure in Christ forever (as seen in John, Romans, 1 Corinthians, Ephesians, Hebrews, 1 Peter and Jude).  We teach that it is the privilege of believers to rejoice in the assurance of their  salvation through the testimony of God’s word, which however, clearly forbids  the use of Christian liberty as an excuse for sinful living and carnality (as seen in Romans, Galatians, and Titus).\"\n",
            "}\n",
            "```\n",
            "\n",
            "🧠 Generating embedding for Security...\n"
          ]
        },
        {
          "output_type": "stream",
          "name": "stderr",
          "text": [
            "\r12it [00:48,  3.33s/it]"
          ]
        },
        {
          "output_type": "stream",
          "name": "stdout",
          "text": [
            "✅ Updated Security with standardized summary and embedding\n",
            "\n",
            "🔄 Processing Separation...\n",
            "📜 Standardization response for Separation:\n",
            "```json\n",
            "{\n",
            "  \"standardized_summary\": \"We teach that separation from sin is clearly called for throughout the Old and  New Testaments, and that the Scriptures clearly indicate that in the last days  apostasy and worldliness shall increase (as seen in 2 Corinthians and 2 Timothy).  We teach that out of deep gratitude for the undeserved grace of God granted to  us and because our glorious God is so worthy of our total consecration, all the  saved should live in such a manner as to demonstrate our adoring love to God  and so as not to bring reproach upon our Lord and Savior. We also teach the  separation from any association with religious apostasy, and worldly and sinful  practices is commanded of us by God (as seen in Romans, 1 Corinthians, 2 Corinthians, 1 John, and 2 John).  We teach that believers should be separated unto our Lord Jesus Christ (as seen in 2 Thessalonians and Hebrews) and affirm that the Christian life is a life of obedient  righteousness demonstrated by a beatitude attitude (as seen in Matthew) and a  continual pursuit of holiness (as seen in Romans, 2 Corinthians, Hebrews, Titus, and 1 John).\"\n",
            "}\n",
            "```\n",
            "\n",
            "🧠 Generating embedding for Separation...\n"
          ]
        },
        {
          "output_type": "stream",
          "name": "stderr",
          "text": [
            "\r13it [00:51,  3.31s/it]"
          ]
        },
        {
          "output_type": "stream",
          "name": "stdout",
          "text": [
            "✅ Updated Separation with standardized summary and embedding\n",
            "\n",
            "🔄 Processing The Church...\n",
            "📜 Standardization response for The Church:\n",
            "```json\n",
            "{\n",
            "  \"standardized_summary\": \"We teach that all who place their faith in Jesus Christ are immediately placed by  the Holy Spirit into one united spiritual body, the church, as seen in 1 Corinthians, the  bride of Christ, as seen in 2 Corinthians, Ephesians, and Revelation, of which Christ is the  head, as seen in Ephesians and Colossians.  We teach that the formation of the church, the body of Christ, began on the day  of Pentecost, as seen in Acts and will be completed at the coming of Christ  for his own at the rapture, as seen in 1 Corinthians and 1 Thessalonians.  We teach that the church is thus a unique spiritual organism designed by Christ,  made up of all born-again believers in this present age, as seen in Ephesians. The  church is distinct from Israel, as seen in 1 Corinthians, a mystery not revealed until this age, as seen in Ephesians.  We teach that the establishment and continuity of local churches is clearly taught  and defined in the New Testament Scriptures, as seen in Acts, Galatians, Philippians, and Thessalonians and that the members of the one  spiritual body are directed to associate themselves together in local assemblies, as seen in 1 Corinthians and Hebrews.  We teach that the one supreme authority for the church is Christ, as seen in Ephesians and Colossians and that church leadership, gifts, order, discipline, and worship are all  appointed through his sovereignty as found in the Scriptures. The biblically  designated officers serving under Christ and over the assembly are elders (males,  who are also called bishops, pastors, and pastor-teachers), as seen in Acts and Ephesians and deacons, both of whom must meet biblical qualifications, as seen in 1 Timothy, Titus, and 1 Peter.  We teach that these leaders lead or rule as servants of Christ, as seen in 1 Timothy and have his authority in directing the church. The congregation is to submit to  their leadership, as seen in Hebrews.  We teach the importance of discipleship, as seen in Matthew and 2 Timothy, mutual  accountability of all believers to each other, as seen in Matthew, as well as the need  for discipline for sinning members of the congregation in accord with the standards of Scripture, as seen in Matthew, Acts, 1 Corinthians, 2 Thessalonians, 1 Timothy, and Titus.  We teach the autonomy of the local church, free from any external authority or  control, with the right of self-government and freedom from the interference of  any hierarchy of individuals or organizations, as seen in Titus. We teach that it is  scriptural for true churches to cooperate with each other for the presentation and  propagation of the faith. Local churches, however, through their pastors and their  interpretation and application of Scripture, should be the sole judges of the  measure and method of their cooperation, as seen in Acts, 1 Corinthians, and 1 Peter.  We teach that the purpose of the church is to glorify God, as seen in Ephesians by building  itself up in the faith, as seen in Ephesians, by instruction of the word, as seen in 2 Timothy, by fellowship, as seen in Acts and 1 John, by keeping the ordinances, as seen in Luke and Acts and by advancing and communicating the gospel to  the entire world, as seen in Matthew and Acts.  We teach the calling of all saints to the work of service, as seen in 1 Corinthians, Ephesians, and Revelation.  We teach the need of the church to cooperate with God as he accomplishes his  purpose in the world. To that end, he gives the church spiritual gifts. First, he  gives men chosen for the purpose of equipping the saints for the work of the  ministry, as seen in Ephesians and he also gives unique and special spiritual abilities to  each member of the body of Christ, as seen in Romans, 1 Corinthians, and 1 Peter.  We teach that there were two kinds of gifts given the early church: miraculous  gifts of divine revelation and healing, given temporarily in the apostolic era for  the purpose of confirming the authenticity of the apostles’ message, as seen in Hebrews and 2 Corinthians; and ministering gifts, given to equip believers for edifying one  another. With the New Testament revelation now complete, Scripture becomes  the sole test of the authenticity of a man’s message, and confirming gifts of a  miraculous nature are no longer necessary to validate a man or his message, as seen in 1 Corinthians. Miraculous gifts can even be counterfeited by Satan so as to  deceive even believers, as seen in Matthew. The only gifts in operation today are those  non-revelatory equipping gifts given for edification, as seen in Romans.  We teach that no one possesses the gift of healing today but that God does hear  and answer the prayer of faith and will answer in accordance with his own  perfect will for the sick, suffering, and afflicted, as seen in Luke, John, 2 Corinthians, James, and 1 John.  We teach that two ordinances have been committed to the local church: baptism  and the Lord’s Supper, as seen in Acts. Christian baptism by immersion, as seen in Acts, is the solemn and beautiful testimony of a believer showing forth his  faith in the crucified, buried, and risen Savior, and his union with him in death to  sin and resurrection to a new life, as seen in Romans. It is also a sign of fellowship  and identification with the visible body of Christ, as seen in Acts.  We teach that the Lord’s Supper is the commemoration and proclamation of his  death until he comes, and should be always preceded by solemn self-  examination, as seen in 1 Corinthians. We also teach that whereas the elements of  communion are only representative of the flesh and blood of Christ, the Lord’s  Supper is nevertheless an actual Communion with the risen Christ who is present  in a unique way, fellowshiping with his people, as seen in 1 Corinthians.\"\n",
            "}\n",
            "```\n",
            "\n",
            "🧠 Generating embedding for The Church...\n"
          ]
        },
        {
          "output_type": "stream",
          "name": "stderr",
          "text": [
            "\r14it [00:59,  4.82s/it]"
          ]
        },
        {
          "output_type": "stream",
          "name": "stdout",
          "text": [
            "✅ Updated The Church with standardized summary and embedding\n",
            "\n",
            "🔄 Processing Holy Angels...\n",
            "📜 Standardization response for Holy Angels:\n",
            "```json\n",
            "{\n",
            "  \"standardized_summary\": \"We teach that angels are created beings and are therefore not to be worshiped.  Although they are a higher order of creation than man, they are created to serve  God and to worship him (as seen in Luke, Hebrews, and Revelation).\"\n",
            "}\n",
            "```\n",
            "\n",
            "🧠 Generating embedding for Holy Angels...\n"
          ]
        },
        {
          "output_type": "stream",
          "name": "stderr",
          "text": [
            "\r15it [01:02,  4.14s/it]"
          ]
        },
        {
          "output_type": "stream",
          "name": "stdout",
          "text": [
            "✅ Updated Holy Angels with standardized summary and embedding\n",
            "\n",
            "🔄 Processing Fallen Angels...\n",
            "📜 Standardization response for Fallen Angels:\n",
            "```json\n",
            "{\n",
            "  \"standardized_summary\": \"We teach that Satan is a created angel and the author of sin. He incurred the  judgment of God by rebelling against his Creator (as seen in Isaiah and Ezekiel), by taking numerous angels with him in his fall (as seen in Matthew and Revelation), and by introducing sin into the human race by his temptation of Eve (as seen in Genesis).  We teach that Satan is the open and declared enemy of God and man (as seen in Isaiah, Matthew, and Revelation), the prince of this world who has been defeated  through the death and resurrection of Jesus Christ (as seen in Romans) and that he shall  be eternally punished in the lake of fire (as seen in Isaiah, Ezekiel, Matthew, and Revelation).\"\n",
            "}\n",
            "```\n",
            "\n",
            "🧠 Generating embedding for Fallen Angels...\n"
          ]
        },
        {
          "output_type": "stream",
          "name": "stderr",
          "text": [
            "\r16it [01:05,  3.80s/it]"
          ]
        },
        {
          "output_type": "stream",
          "name": "stdout",
          "text": [
            "✅ Updated Fallen Angels with standardized summary and embedding\n",
            "\n",
            "🔄 Processing Death...\n",
            "📜 Standardization response for Death:\n",
            "```json\n",
            "{\n",
            "  \"standardized_summary\": \"We teach that physical death involves no loss of our immaterial consciousness (as seen in Revelation), that there is a separation of soul and body (as seen in James), that the soul of the redeemed passes immediately into the presence of Christ (as seen in Luke, 2 Corinthians and Philippians), and that, for the redeemed, such separation will continue until the rapture (as seen in 1 Thessalonians) which initiates the first resurrection (as seen in Revelation), when our soul and body will be reunited to be glorified forever with our Lord (as seen in 1 Corinthians and Philippians). Until that time, the souls of the redeemed in Christ remain in joyful fellowship with our Lord Jesus Christ (as seen in 2 Corinthians).  We teach the bodily resurrection of all men, the saved to eternal life (as seen in John, Romans and 2 Corinthians), and the unsaved to judgment and everlasting punishment (as seen in Daniel, John and Revelation).  We teach that the souls of the unsaved at death are kept under punishment until the final resurrection (as seen in Luke and Revelation), when the soul and the resurrection body will be united (as seen in John). They shall then appear at the great white throne judgment (as seen in Revelation) and shall be cast into hell, the lake of fire (as seen in Matthew), cut off from the life of God forever (as seen in Daniel, Matthew, and 2 Thessalonians).\"\n",
            "}\n",
            "```\n",
            "\n",
            "🧠 Generating embedding for Death...\n"
          ]
        },
        {
          "output_type": "stream",
          "name": "stderr",
          "text": [
            "\r17it [01:08,  3.69s/it]"
          ]
        },
        {
          "output_type": "stream",
          "name": "stdout",
          "text": [
            "✅ Updated Death with standardized summary and embedding\n",
            "\n",
            "🔄 Processing The Rapture of the Church...\n",
            "📜 Standardization response for The Rapture of the Church:\n",
            "```json\n",
            "{\n",
            "  \"standardized_summary\": \"We teach the personal, bodily return of our Lord Jesus Christ before the seven-  year tribulation (as seen in 1 Thessalonians and Titus) to translate his church from this earth  (as seen in John and 1 Corinthians and 1 Thessalonians) and, between this event and  his glorious return with his saints, to reward believers according to their works  (as seen in 1 Corinthians and 2 Corinthians).\"\n",
            "}\n",
            "```\n",
            "\n",
            "🧠 Generating embedding for The Rapture of the Church...\n"
          ]
        },
        {
          "output_type": "stream",
          "name": "stderr",
          "text": [
            "\r18it [01:11,  3.35s/it]"
          ]
        },
        {
          "output_type": "stream",
          "name": "stdout",
          "text": [
            "✅ Updated The Rapture of the Church with standardized summary and embedding\n",
            "\n",
            "🔄 Processing The Tribulation Period...\n",
            "📜 Standardization response for The Tribulation Period:\n",
            "```json\n",
            "{\n",
            "  \"standardized_summary\": \"We teach that immediately following the removal of the church from the earth, as seen in John and 1 Thessalonians, the righteous judgments of God will be poured out upon an unbelieving world, as seen in Jeremiah, Daniel, 2 Thessalonians and Revelation, and that these judgments will be climaxed by the return of Christ in glory to the earth, as seen in Matthew and 2 Thessalonians. At that time the Old Testament and tribulation saints will be raised and the living will be judged, as seen in Daniel and Revelation. This period includes the seventieth week of Daniel’s prophecy, as seen in Daniel and Matthew.\"\n",
            "}\n",
            "```\n",
            "\n",
            "🧠 Generating embedding for The Tribulation Period...\n"
          ]
        },
        {
          "output_type": "stream",
          "name": "stderr",
          "text": [
            "\r19it [01:14,  3.21s/it]"
          ]
        },
        {
          "output_type": "stream",
          "name": "stdout",
          "text": [
            "✅ Updated The Tribulation Period with standardized summary and embedding\n",
            "\n",
            "🔄 Processing The Second Coming and the Millennial Reign...\n",
            "📜 Standardization response for The Second Coming and the Millennial Reign:\n",
            "```json\n",
            "{\n",
            "  \"standardized_summary\": \"We teach that after the tribulation period, Christ will come to earth to occupy the  throne of David (as seen in Matthew, Luke, and Acts) and  establish his messianic kingdom for a thousand years on the earth (as seen in Revelation).  During this time the resurrected saints will reign with him over Israel and all the  nations of the earth (as seen in Ezekiel, Daniel, and Revelation). This reign  will be preceded by the overthrow of the Antichrist and the False Prophet, and  by the removal of Satan from the world (as seen in Daniel and Revelation).  We teach that the kingdom itself will be the fulfillment of God’s promise to  Israel (as seen in Isaiah, Ezekiel, and Zechariah) to restore them to the land  which they forfeited through their disobedience (as seen in Deuteronomy). The result of  their disobedience was that Israel was temporarily set aside (as seen in Matthew and Romans) but will again be awakened through repentance to enter into the land of  blessing (as seen in Jeremiah, Ezekiel, and Romans).  We teach that this time of our Lord’s reign will be characterized by harmony,  justice, peace, righteousness, and long life (as seen in Isaiah and Ezekiel),  and will be brought to an end with the release of Satan (as seen in Revelation).\"\n",
            "}\n",
            "```\n",
            "\n",
            "🧠 Generating embedding for The Second Coming and the Millennial Reign...\n"
          ]
        },
        {
          "output_type": "stream",
          "name": "stderr",
          "text": [
            "\r20it [01:17,  3.28s/it]"
          ]
        },
        {
          "output_type": "stream",
          "name": "stdout",
          "text": [
            "✅ Updated The Second Coming and the Millennial Reign with standardized summary and embedding\n",
            "\n",
            "🔄 Processing The Judgment of the Lost...\n",
            "📜 Standardization response for The Judgment of the Lost:\n",
            "```json\n",
            "{\n",
            "  \"standardized_summary\": \"We teach that following the release of Satan after the thousand-year reign of Christ (as seen in Revelation), Satan will deceive the nations of the earth and gather them to battle against the saints and the beloved city, at which time Satan and his army will be devoured by fire from heaven (as seen in Revelation). Following this, Satan will be thrown into the lake of fire and brimstone (as seen in Matthew and Revelation) whereupon Christ, who is the judge of all men (as seen in John), will resurrect and judge the great and small at the great white throne judgment.We teach that this resurrection of the unsaved dead to judgment will be a physical resurrection, whereupon receiving their judgment (as seen in John), they will be committed to an eternal conscious punishment in the lake of fire (as seen in Matthew and Revelation).\"\n",
            "}\n",
            "```\n",
            "\n",
            "🧠 Generating embedding for The Judgment of the Lost...\n"
          ]
        },
        {
          "output_type": "stream",
          "name": "stderr",
          "text": [
            "\r21it [01:20,  3.25s/it]"
          ]
        },
        {
          "output_type": "stream",
          "name": "stdout",
          "text": [
            "✅ Updated The Judgment of the Lost with standardized summary and embedding\n",
            "\n",
            "🔄 Processing Eternity...\n",
            "📜 Standardization response for Eternity:\n",
            "```json\n",
            "{\n",
            "  \"standardized_summary\": \"We teach that after the closing of the Millennium, the temporary release of  Satan, and the judgment of unbelievers (as seen in 2 Thessalonians and Revelation), the saved  will enter the eternal state of glory with God, after which the elements of this  earth are to be dissolved (as seen in 2 Peter) and replaced with a new earth wherein  only righteousness dwells (as seen in Ephesians and Revelation). Following this, the  heavenly city will come down out of heaven (as seen in Revelation) and will be the dwelling  place of the saints, where they will enjoy forever fellowship with God and one  another (as seen in John and Revelation). Our Lord Jesus Christ, having fulfilled his  redemptive mission, will then deliver up the kingdom to God the Father (as seen in 1 Corinthians) that in all spheres the triune God may reign forever and ever (as seen in 1 Corinthians).\"\n",
            "}\n",
            "```\n",
            "\n",
            "🧠 Generating embedding for Eternity...\n"
          ]
        },
        {
          "output_type": "stream",
          "name": "stderr",
          "text": [
            "22it [01:24,  3.83s/it]"
          ]
        },
        {
          "output_type": "stream",
          "name": "stdout",
          "text": [
            "✅ Updated Eternity with standardized summary and embedding\n",
            "\n",
            "🎉 Finished processing all theology documents!\n"
          ]
        },
        {
          "output_type": "stream",
          "name": "stderr",
          "text": [
            "\n"
          ]
        }
      ]
    }
  ],
  "metadata": {
    "colab": {
      "provenance": [],
      "authorship_tag": "ABX9TyNgTezgAoAkGKdV+/Ol6j2E",
      "include_colab_link": true
    },
    "kernelspec": {
      "display_name": "Python 3",
      "name": "python3"
    },
    "language_info": {
      "name": "python"
    }
  },
  "nbformat": 4,
  "nbformat_minor": 0
}